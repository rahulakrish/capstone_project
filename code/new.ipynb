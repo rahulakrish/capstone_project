{
  "cells": [
    {
      "cell_type": "markdown",
      "metadata": {
        "toc": true,
        "id": "BfO8sW8t_zKN"
      },
      "source": [
        "<h1>Table of Contents<span class=\"tocSkip\"></span></h1>\n",
        "<div class=\"toc\"><ul class=\"toc-item\"><li><span><a href=\"#Business-Objective\" data-toc-modified-id=\"Business-Objective-1\"><span class=\"toc-item-num\">1&nbsp;&nbsp;</span>Business Objective</a></span></li><li><span><a href=\"#Methodology\" data-toc-modified-id=\"Methodology-2\"><span class=\"toc-item-num\">2&nbsp;&nbsp;</span>Methodology</a></span></li><li><span><a href=\"#EDA\" data-toc-modified-id=\"EDA-3\"><span class=\"toc-item-num\">3&nbsp;&nbsp;</span>EDA</a></span><ul class=\"toc-item\"><li><span><a href=\"#Stock-performance\" data-toc-modified-id=\"Stock-performance-3.1\"><span class=\"toc-item-num\">3.1&nbsp;&nbsp;</span>Stock performance</a></span></li><li><span><a href=\"#Stock-Returns\" data-toc-modified-id=\"Stock-Returns-3.2\"><span class=\"toc-item-num\">3.2&nbsp;&nbsp;</span>Stock Returns</a></span></li><li><span><a href=\"#Beta-value\" data-toc-modified-id=\"Beta-value-3.3\"><span class=\"toc-item-num\">3.3&nbsp;&nbsp;</span>Beta value</a></span></li><li><span><a href=\"#P/E-ratio\" data-toc-modified-id=\"P/E-ratio-3.4\"><span class=\"toc-item-num\">3.4&nbsp;&nbsp;</span>P/E ratio</a></span></li><li><span><a href=\"#Dividend-History\" data-toc-modified-id=\"Dividend-History-3.5\"><span class=\"toc-item-num\">3.5&nbsp;&nbsp;</span>Dividend History</a></span></li></ul></li><li><span><a href=\"#Summing-up-performance...\" data-toc-modified-id=\"Summing-up-performance...-4\"><span class=\"toc-item-num\">4&nbsp;&nbsp;</span>Summing up performance...</a></span></li><li><span><a href=\"#Time-Series-Modelling\" data-toc-modified-id=\"Time-Series-Modelling-5\"><span class=\"toc-item-num\">5&nbsp;&nbsp;</span>Time Series Modelling</a></span><ul class=\"toc-item\"><li><span><a href=\"#Stationarity-Check\" data-toc-modified-id=\"Stationarity-Check-5.1\"><span class=\"toc-item-num\">5.1&nbsp;&nbsp;</span>Stationarity Check</a></span></li><li><span><a href=\"#Convert-non-stationary-to-stationary\" data-toc-modified-id=\"Convert-non-stationary-to-stationary-5.2\"><span class=\"toc-item-num\">5.2&nbsp;&nbsp;</span>Convert non-stationary to stationary</a></span></li><li><span><a href=\"#ACF-and-PACF\" data-toc-modified-id=\"ACF-and-PACF-5.3\"><span class=\"toc-item-num\">5.3&nbsp;&nbsp;</span>ACF and PACF</a></span></li><li><span><a href=\"#ARIMA-model\" data-toc-modified-id=\"ARIMA-model-5.4\"><span class=\"toc-item-num\">5.4&nbsp;&nbsp;</span>ARIMA model</a></span></li><li><span><a href=\"#SARIMA-model\" data-toc-modified-id=\"SARIMA-model-5.5\"><span class=\"toc-item-num\">5.5&nbsp;&nbsp;</span>SARIMA model</a></span></li><li><span><a href=\"#Facebook-Prophet\" data-toc-modified-id=\"Facebook-Prophet-5.6\"><span class=\"toc-item-num\">5.6&nbsp;&nbsp;</span>Facebook Prophet</a></span><ul class=\"toc-item\"><li><span><a href=\"#Prophet-with-differencing---comparing-with-test\" data-toc-modified-id=\"Prophet-with-differencing---comparing-with-test-5.6.1\"><span class=\"toc-item-num\">5.6.1&nbsp;&nbsp;</span>Prophet with differencing - comparing with test</a></span></li><li><span><a href=\"#regularization-on-differenced-data\" data-toc-modified-id=\"regularization-on-differenced-data-5.6.2\"><span class=\"toc-item-num\">5.6.2&nbsp;&nbsp;</span>regularization on differenced data</a></span></li></ul></li><li><span><a href=\"#Model-performance-comparisions\" data-toc-modified-id=\"Model-performance-comparisions-5.7\"><span class=\"toc-item-num\">5.7&nbsp;&nbsp;</span>Model performance comparisions</a></span></li><li><span><a href=\"#Using-Prophet-to-get-forecast-of-'AAPL'-for-the-next-year\" data-toc-modified-id=\"Using-Prophet-to-get-forecast-of-'AAPL'-for-the-next-year-5.8\"><span class=\"toc-item-num\">5.8&nbsp;&nbsp;</span>Using Prophet to get forecast of 'AAPL' for the next year</a></span></li></ul></li><li><span><a href=\"#Building-Portfolio\" data-toc-modified-id=\"Building-Portfolio-6\"><span class=\"toc-item-num\">6&nbsp;&nbsp;</span>Building Portfolio</a></span><ul class=\"toc-item\"><li><span><a href=\"#Predictions-of-chosen-stock\" data-toc-modified-id=\"Predictions-of-chosen-stock-6.1\"><span class=\"toc-item-num\">6.1&nbsp;&nbsp;</span>Predictions of chosen stock</a></span></li></ul></li><li><span><a href=\"#Conclusions\" data-toc-modified-id=\"Conclusions-7\"><span class=\"toc-item-num\">7&nbsp;&nbsp;</span>Conclusions</a></span><ul class=\"toc-item\"><li><span><a href=\"#Limitations\" data-toc-modified-id=\"Limitations-7.1\"><span class=\"toc-item-num\">7.1&nbsp;&nbsp;</span>Limitations</a></span></li><li><span><a href=\"#Recommendations\" data-toc-modified-id=\"Recommendations-7.2\"><span class=\"toc-item-num\">7.2&nbsp;&nbsp;</span>Recommendations</a></span></li></ul></li><li><span><a href=\"#Portfolio-Analysis\" data-toc-modified-id=\"Portfolio-Analysis-8\"><span class=\"toc-item-num\">8&nbsp;&nbsp;</span>Portfolio Analysis</a></span><ul class=\"toc-item\"><li><span><a href=\"#performace-using-mean-daily-returns\" data-toc-modified-id=\"performace-using-mean-daily-returns-8.1\"><span class=\"toc-item-num\">8.1&nbsp;&nbsp;</span>performace using mean daily returns</a></span></li><li><span><a href=\"#cumulative-returns\" data-toc-modified-id=\"cumulative-returns-8.2\"><span class=\"toc-item-num\">8.2&nbsp;&nbsp;</span>cumulative returns</a></span></li><li><span><a href=\"#portfolio-risk\" data-toc-modified-id=\"portfolio-risk-8.3\"><span class=\"toc-item-num\">8.3&nbsp;&nbsp;</span>portfolio risk</a></span></li></ul></li></ul></div>"
      ]
    },
    {
      "cell_type": "markdown",
      "metadata": {
        "id": "FjvV3Ipr_zKR"
      },
      "source": [
        "# Business Objective"
      ]
    },
    {
      "cell_type": "markdown",
      "metadata": {
        "id": "NuwBfAw5_zKS"
      },
      "source": [
        "To help the average investor build a portfolio of stock and ensure maximum returns."
      ]
    },
    {
      "cell_type": "markdown",
      "metadata": {
        "id": "n1DZXVI__zKS"
      },
      "source": [
        "The assumption here is that the investor already has an idea companies they want to invest in. The aim here is to  provide the investor an overview of the company performance and make predictions on future thereby helping them decide it it's worth their investment. Since the model is purely mathematical and cannot take into account black swan events, the onus still lies on the investor to look at a company holistically before taking the plunge."
      ]
    },
    {
      "cell_type": "markdown",
      "metadata": {
        "id": "Epj2p9Im_zKT"
      },
      "source": [
        "I will also focus on diversification, a core tenet of a good investment strategy i.e by investing in companies across different sectors, the investor can minimize their risk and maximize returns."
      ]
    },
    {
      "cell_type": "markdown",
      "metadata": {
        "id": "tbwdoAv5_zKT"
      },
      "source": [
        "# Methodology"
      ]
    },
    {
      "cell_type": "markdown",
      "metadata": {
        "id": "f862zL8F_zKT"
      },
      "source": [
        "1. Data of the chosen stock from 2017-2022 will be scraped from [Yahoo Finance](https://finance.yahoo.com/)  using python's  `yfinance`(documentation can be found [here](https://aroussi.com/post/python-yahoo-finance)) and `YahooFinancials` (documentation can be found [here](https://pypi.org/project/yahoofinancials/)).\n",
        "\n",
        "2. Using the data, 4 commonly used metrics to evaluate a stock will be plotted: ***returns, beta ratio, p/e ratio and dividend***\n",
        "\n",
        "3. Different machine learning models will then be built to predict future stock price. Their errors will be compared and the model with the least error will be used gage future stock performance.\n",
        "\n",
        "4. Combined with stock performance and forecast information, then by feeding the chosen stock into the portfolio builder, the investor can look at combined returns and decide which portfolio is best-aligned with his/her goals.\n",
        "\n"
      ]
    },
    {
      "cell_type": "markdown",
      "metadata": {
        "id": "D1AV_0D9_zKT"
      },
      "source": [
        "# EDA"
      ]
    },
    {
      "cell_type": "code",
      "execution_count": 1,
      "metadata": {
        "scrolled": true,
        "id": "LWjUdtia_zKT"
      },
      "outputs": [],
      "source": [
        "#importing libraries\n",
        "\n",
        "import yfinance as yf\n",
        "# from yahoofinancials import YahooFinancials\n",
        "import matplotlib.pyplot as plt\n",
        "import seaborn as sns\n",
        "sns.set_style('darkgrid')\n",
        "%matplotlib inline\n",
        "import numpy as np\n",
        "import pandas as pd\n",
        "import itertools\n",
        "import datetime\n",
        "from datetime import date\n",
        "from dateutil import relativedelta\n",
        "from sklearn.metrics import mean_squared_error\n",
        "from sklearn.linear_model import LinearRegression\n",
        "from sklearn.model_selection import train_test_split\n",
        "from sklearn.model_selection import TimeSeriesSplit\n",
        "from statsmodels.tsa.stattools import adfuller\n",
        "from scipy.signal._signaltools import _centered\n",
        "from statsmodels.tsa.seasonal import seasonal_decompose\n",
        "from statsmodels.graphics.tsaplots import plot_acf, plot_pacf\n",
        "from statsmodels.tsa.arima.model import ARIMA\n",
        "from statsmodels.tsa.statespace.sarimax import SARIMAX\n",
        "from prophet import Prophet\n",
        "import warnings\n",
        "warnings.filterwarnings('ignore')\n",
        "import logging\n",
        "logging.basicConfig(level='INFO')\n",
        "mlogger = logging.getLogger('matplotlib')\n",
        "mlogger.setLevel(logging.WARNING)\n",
        "logging.getLogger(\"cmdstanpy\").setLevel(logging.DEBUG)"
      ]
    },
    {
      "cell_type": "markdown",
      "metadata": {
        "id": "z7p8gv6O_zKV"
      },
      "source": [
        "## Stock performance"
      ]
    },
    {
      "cell_type": "markdown",
      "metadata": {
        "id": "Cj80Co8b_zKV"
      },
      "source": [
        "Following is a function that will plot stock prices of a chosen stock from 2017 till date:"
      ]
    },
    {
      "cell_type": "code",
      "execution_count": 2,
      "metadata": {
        "id": "BsIMxa1h_zKV"
      },
      "outputs": [],
      "source": [
        "#function to get stock data of a company\n",
        "start_date = '2019-01-01'\n",
        "end_date = date.today()\n",
        "\n",
        "def stock_info(ticker):\n",
        "    #get stock prices for the specified date ranges\n",
        "    df = yf.download(ticker,start=start_date,end=end_date)\n",
        "    #plot the stock price over the years\n",
        "    fig,ax = plt.subplots(figsize=(10,5))\n",
        "    ax.plot(df['Adj Close']);\n",
        "    ax.set_title(f'Stock Price of {ticker} from 2019 till date')"
      ]
    },
    {
      "cell_type": "markdown",
      "metadata": {
        "id": "SRIEyfMY_zKW"
      },
      "source": [
        "## Stock Returns"
      ]
    },
    {
      "cell_type": "code",
      "execution_count": 3,
      "metadata": {
        "id": "7GY0MMFA_zKW"
      },
      "outputs": [],
      "source": [
        "#function to calculate stock return\n",
        "\n",
        "def stock_return(ticker):\n",
        "    #get stock prices for the specified date ranges\n",
        "    df = yf.download(ticker,start=start_date,end=end_date)\n",
        "    df_return = df[['Adj Close']]\n",
        "    df_return['pct_change'] = df_return['Adj Close'].pct_change(14) # use pct change to calculate the diff\n",
        "\n",
        "    #plot the returns over 5 years\n",
        "    fig,ax = plt.subplots(figsize=(10,5))\n",
        "    ax.plot(df_return['pct_change'],label= 'AAPL');\n",
        "    ax.legend(loc='best');\n",
        "    ax.set_title('14 day percent change')\n"
      ]
    },
    {
      "cell_type": "markdown",
      "metadata": {
        "id": "Hev7G6dl_zKW"
      },
      "source": [
        "## Beta value"
      ]
    },
    {
      "cell_type": "markdown",
      "metadata": {
        "id": "FOh2cfGr_zKW"
      },
      "source": [
        "Beta value of a stock is used to signify risk i.e. if a stock is risky or not. By comparing the stock movement\n",
        "relative to the overall market such as the S&P 500, the stock can be classified as risky or not. By definition, the market\n",
        "has a beta value of 1.0. If the beta value of the stock is greater than 1.0, then it is classified as risky and less so if the\n",
        "value is less than 1.0."
      ]
    },
    {
      "cell_type": "code",
      "execution_count": 4,
      "metadata": {
        "id": "Jphth6Xd_zKW"
      },
      "outputs": [],
      "source": [
        "#function to calculate beta value of stock\n",
        "\n",
        "def calculate_beta(ticker):\n",
        "\n",
        "    #get data for ticker and SPY whih serves as the market index\n",
        "    symbols = [ticker,'SPY']\n",
        "    data = yf.download(symbols, start = start_date,end = end_date)['Adj Close']\n",
        "    price_change = data.pct_change()\n",
        "    price_change.drop(price_change.index[0],inplace=True)\n",
        "\n",
        "    #reshape for linear regression\n",
        "    X = np.array(price_change[ticker]).reshape((-1,1))\n",
        "    y = np.array(price_change['SPY'])\n",
        "\n",
        "    #create splits\n",
        "    X_train,X_test,y_train,y_test = train_test_split(X,y)\n",
        "    lr = LinearRegression()\n",
        "    lr.fit(X_train,y_train)\n",
        "\n",
        "    #predictions\n",
        "    y_preds = lr.predict(X_test)\n",
        "\n",
        "    #plot\n",
        "    fig,ax = plt.subplots(figsize=(5,5));\n",
        "    ax.plot(X_test,y_preds,linestyle=':',color='orange')\n",
        "    ax.scatter(y_test,y_preds,alpha=0.5)\n",
        "    ax.set_title(f' Beta value {lr.coef_}')\n",
        "    ax.set_xlabel('Market Index:SPY')\n",
        "    ax.set_ylabel(f'{ticker} value')"
      ]
    },
    {
      "cell_type": "markdown",
      "metadata": {
        "id": "OV-hxDop_zKX"
      },
      "source": [
        "## P/E ratio"
      ]
    },
    {
      "cell_type": "markdown",
      "metadata": {
        "id": "R0X0FwJH_zKX"
      },
      "source": [
        "Price-to-Earnings(P/E) ratio is a metric that compares a company's share price to it's earnings per share. It helps an investor\n",
        "determine whether a stock is undervalued or overvalued. Hence, if a stock is overvalued, then the investor is paying more for the stock and betting on future growth and vice-versa."
      ]
    },
    {
      "cell_type": "code",
      "execution_count": 5,
      "metadata": {
        "id": "bx3ZEjpD_zKX"
      },
      "outputs": [],
      "source": [
        "#function to get historical PE ratios\n",
        "\n",
        "def get_pe_ratio(ticker):\n",
        "\n",
        "    #get financial statement of ticker using yahoofinancials\n",
        "    financials = YahooFinancials(ticker)\n",
        "    statement = financials.get_financial_stmts('annual', 'income', reformat=True)\n",
        "\n",
        "    #create a dict of the income statement alone\n",
        "    dicts ={}\n",
        "    for i in statement['incomeStatementHistory'][ticker]:\n",
        "        dicts.update(i)\n",
        "\n",
        "    #create a dataframe for easy use\n",
        "    df = pd.DataFrame(dicts)\n",
        "    df = df.T\n",
        "    df['dilutedAverageShares'].fillna(df['dilutedAverageShares'].median(),inplace=True)\n",
        "\n",
        "    #calculate pe ratio\n",
        "    eps = df['netIncomeContinuousOperations']/df['dilutedAverageShares'] #calc earnings per share\n",
        "    eps_df = pd.DataFrame(eps,index=df.index,columns=['EPS'])\n",
        "    eps_df['PE ratio'] = financials.get_current_price()/eps_df['EPS']#get current price and calc pe ratio\n",
        "\n",
        "    #plot result\n",
        "    fig,ax=plt.subplots(figsize=(5,5));\n",
        "    ax.plot(eps_df['PE ratio'],marker = '*', markerfacecolor = 'black')\n",
        "    ax.set_title(f'Historical PE ratio: {ticker}')\n",
        "    ax.set_ylabel('PE ratio')"
      ]
    },
    {
      "cell_type": "markdown",
      "metadata": {
        "id": "VW8JVnuZ_zKX"
      },
      "source": [
        "## Dividend History"
      ]
    },
    {
      "cell_type": "markdown",
      "metadata": {
        "id": "rfIn6BV-_zKX"
      },
      "source": [
        "A Dividend is the distirbution's of the company's profit to it's shareholders. Not every company pays dividends. Companies can also choose to re-invest their profits for future growth than reward shareholders. For an investor, investing in a company that pays dividends is an easy way to earn extra income on top of their initial investment."
      ]
    },
    {
      "cell_type": "code",
      "execution_count": 6,
      "metadata": {
        "id": "frrjYmtB_zKX"
      },
      "outputs": [],
      "source": [
        "#function to get historical dividend data\n",
        "\n",
        "def get_dividend(ticker):\n",
        "\n",
        "    #get dividend data\n",
        "    financials = YahooFinancials(ticker)\n",
        "    div = financials.get_daily_dividend_data(start_date=start_date,end_date='2022-12-31')\n",
        "\n",
        "    #check if the company pays dividends\n",
        "    if div[ticker] == None:\n",
        "        fig,ax = plt.subplots(figsize=(5,5))\n",
        "        ax.annotate(f'Sorry, {ticker} does not offer dividends',xy=(0.3,0.5),fontsize=20);\n",
        "        ax.axis('off')\n",
        "        return fig,ax\n",
        "\n",
        "    else:#if company does pay dividends,then convert to a df and create a plot\n",
        "        df = pd.DataFrame(div[ticker])\n",
        "        df.drop('date',axis=1,inplace=True)\n",
        "        df.rename(columns={'formatted_date':'date'},inplace=True)\n",
        "        df['date'] = pd.to_datetime(df['date'])\n",
        "        df.set_index('date',inplace=True)\n",
        "        fig,ax=plt.subplots(figsize=(8,8))\n",
        "        ax.plot(df['amount']);\n",
        "        ax.set_title(f'Dividend rate: {ticker}');"
      ]
    },
    {
      "cell_type": "markdown",
      "metadata": {
        "id": "tsMi1bLl_zKX"
      },
      "source": [
        "# Summing up performance..."
      ]
    },
    {
      "cell_type": "markdown",
      "metadata": {
        "id": "f3ZUMsRV_zKX"
      },
      "source": [
        "By combining all of the above into one function called `summary_info`, the investor can get a cohesive view of the performance his/her chosen stock. Below is an example of stock perfromance of **AAPL(tickr:'AAPL')**"
      ]
    },
    {
      "cell_type": "code",
      "execution_count": 7,
      "metadata": {
        "id": "aS1AFgEy_zKX"
      },
      "outputs": [],
      "source": [
        "# def summary_info(ticker):\n",
        "#     return stock_info(ticker),stock_return(ticker),calculate_beta(ticker),get_dividend(ticker)"
      ]
    },
    {
      "cell_type": "code",
      "execution_count": 8,
      "metadata": {
        "scrolled": false,
        "id": "RUooPD78_zKY"
      },
      "outputs": [],
      "source": [
        "# summary_info('AAPL')"
      ]
    },
    {
      "cell_type": "markdown",
      "metadata": {
        "id": "j5RwD4ez_zKY"
      },
      "source": [
        "1. Stock Performance: Stock is generally on an upward trend.\n",
        "2. Beta Value : Less than 1.0 signifying that it is low-risk.\n",
        "3. P/E ratio : Around 30 highlighting that it is over valued. Perhaps it would be better to wait for the p/e to come down.\n",
        "4. Dividend: Like the stock price, is on an upward trend. A nice boost to the shareholders for investing in the company."
      ]
    },
    {
      "cell_type": "markdown",
      "metadata": {
        "id": "SmzurPpG_zKY"
      },
      "source": [
        "# Time Series Modelling"
      ]
    },
    {
      "cell_type": "markdown",
      "metadata": {
        "id": "QBLcpBGg_zKY"
      },
      "source": [
        "Again, we will  use data of **Apple** as an example."
      ]
    },
    {
      "cell_type": "markdown",
      "metadata": {
        "id": "Fcq_2HSx_zKZ"
      },
      "source": [
        "## Stationarity Check"
      ]
    },
    {
      "cell_type": "markdown",
      "metadata": {
        "id": "t2r_hdpk_zKZ"
      },
      "source": [
        "Time series models are usually built on the premise that models are stationary i.e there are patters to the data and by analyzing these patterns, future performance can be predicted with a degree of certainity. However, this rarely happens in real life. There is always some trend or seasonality or a combination of both in the data.Hence the first step is to check for stationarity."
      ]
    },
    {
      "cell_type": "markdown",
      "metadata": {
        "id": "NQ8ypXtI_zKZ"
      },
      "source": [
        "The function below plots rolling-statistics and the ouptut of the Dickey-Fuller test"
      ]
    },
    {
      "cell_type": "code",
      "execution_count": 9,
      "metadata": {
        "id": "YbhkS5nA_zKZ"
      },
      "outputs": [],
      "source": [
        "# def plot_trends(ticker):\n",
        "#     df = yf.download(ticker,start=start_date,end=end_date)\n",
        "#     close = df.loc[:,['Adj Close']]\n",
        "\n",
        "# #compute rolling mean and std to see if they are constant\n",
        "#     roll_mean = close.rolling(window=30,center=False).mean()\n",
        "#     roll_std = close.rolling(window=30,center=False).std()\n",
        "\n",
        "# #plot the data\n",
        "#     fig,ax=plt.subplots(figsize=(15,5))\n",
        "#     ax.plot(close,color='blue',label='Original')\n",
        "#     ax.plot(roll_mean,color='red',label='Rolling Mean')\n",
        "#     ax.plot(roll_std,color='green',label='Rolling StdDev')\n",
        "#     ax.legend(loc='best')\n",
        "#     ax.set_title(f'Rolling Statistics of {ticker}');\n",
        "\n",
        "# #dickey Fuller Test\n",
        "#     dftest = adfuller(close['Adj Close'])\n",
        "#     dfoutput = pd.DataFrame(dftest[0:4], index=['Test Statistic', 'p-value', '#Lags Used', 'Number of Observations Used'],columns=['Values'])\n",
        "\n",
        "#     return dfoutput"
      ]
    },
    {
      "cell_type": "code",
      "execution_count": 10,
      "metadata": {
        "scrolled": true,
        "id": "RN37--Mu_zKZ"
      },
      "outputs": [],
      "source": [
        "# plot_trends('AAPL')"
      ]
    },
    {
      "cell_type": "markdown",
      "metadata": {
        "id": "4AUxj1Fd_zKZ"
      },
      "source": [
        "By computing the rolling mean we can see that there is an upward trend in the data. Since, the rolling stddev is fairly straight, we can conclude that there is not much seasonality in the data. Also shown is the results of the **Dickey-Fuller** test, a statistical method to check for stationarity. The large p-value points to a non-stationary dataset"
      ]
    },
    {
      "cell_type": "markdown",
      "metadata": {
        "id": "sjClplyR_zKZ"
      },
      "source": [
        "## Convert non-stationary to stationary"
      ]
    },
    {
      "cell_type": "code",
      "execution_count": 11,
      "metadata": {
        "id": "s2M3d0hK_zKZ"
      },
      "outputs": [],
      "source": [
        "# def differencing(ticker):\n",
        "#     df = yf.download(ticker,start=start_date,end=end_date)\n",
        "#     df_return = df[['Adj Close']]\n",
        "#     df_diff =df_return.diff(periods=1)\n",
        "#     df_diff.dropna(inplace=True)\n",
        "\n",
        "#     #plot the results\n",
        "#     fig,ax = plt.subplots(figsize = (12,5));\n",
        "#     ax.plot(df_diff, label = 'Differenced');\n",
        "#     ax.plot(df_diff.rolling(30).mean(),label = 'Rolling Mean')\n",
        "#     ax.plot(df_diff.rolling(30).std(),label = 'Rolling StdDev')\n",
        "#     ax.set_title(f'Differenced plot of {ticker}')\n",
        "#     ax.legend(loc=2);\n",
        "\n",
        "#     #dickey fuller test\n",
        "#     dftest = adfuller(df_diff['Adj Close'])\n",
        "#     dfoutput = pd.DataFrame(dftest[0:4], index=['Test Statistic', 'p-value', '#Lags Used', 'Number of Observations Used'],columns=['Values'])\n",
        "\n",
        "#     return dfoutput"
      ]
    },
    {
      "cell_type": "code",
      "execution_count": 12,
      "metadata": {
        "id": "EbO6bTsD_zKZ"
      },
      "outputs": [],
      "source": [
        "# differencing('AAPL')"
      ]
    },
    {
      "cell_type": "markdown",
      "metadata": {
        "id": "Syju1BVl_zKa"
      },
      "source": [
        "We can from the above plot that the mean though not perfectly flat is fairly linear signifying that we have removed the trend.\n",
        "The miniscule p-value from the Dicley-Fuller test also points towards a stationary dataset"
      ]
    },
    {
      "cell_type": "markdown",
      "metadata": {
        "id": "UHk7COaE_zKa"
      },
      "source": [
        "##  ACF and PACF"
      ]
    },
    {
      "cell_type": "markdown",
      "metadata": {
        "id": "r1Z8N1BX_zKa"
      },
      "source": [
        "Since the ARIMA and SARIMA modelss are linear regression models, we need to decide on how many regression terms we will use for the model. The Auto-Correlation and Partial Auto Correlation plot(for the AR and MA models respectively) will show the number of lag terms that have the most effect on future price."
      ]
    },
    {
      "cell_type": "code",
      "execution_count": 13,
      "metadata": {
        "scrolled": false,
        "id": "kivXH1v9_zKa"
      },
      "outputs": [],
      "source": [
        "# #get stock data\n",
        "# df = yf.download('AAPL',start=start_date,end=end_date)\n",
        "# df_close = df[['Adj Close']]\n",
        "# df_diff =df_close.diff(periods=1)\n",
        "# df_diff.dropna(inplace=True)\n",
        "\n",
        "# #plot ACF and PACF values\n",
        "# fig,(ax1,ax2)=plt.subplots(nrows=2,figsize=(12,8))\n",
        "# acf = plot_acf(df_diff,ax=ax1)\n",
        "# pacf = plot_pacf(df_diff,ax=ax2)"
      ]
    },
    {
      "cell_type": "markdown",
      "metadata": {
        "id": "TWN4wbnK_zKa"
      },
      "source": [
        "From both the plots, we can see that the 1st lag term i.e the previous day's stock price, will have the most effect on the next day's price. There are other terms that have an effect as well, but for the sake of simplicity we will use only one term for the model."
      ]
    },
    {
      "cell_type": "markdown",
      "metadata": {
        "id": "am_Qh0nB_zKb"
      },
      "source": [
        "## ARIMA model"
      ]
    },
    {
      "cell_type": "markdown",
      "metadata": {
        "id": "lA8xp0fG_zKb"
      },
      "source": [
        "We will first build and integrated AR and MA model known as ARIMA."
      ]
    },
    {
      "cell_type": "code",
      "execution_count": 14,
      "metadata": {
        "id": "t4PAanI2_zKb"
      },
      "outputs": [],
      "source": [
        "# #defining train and test sets\n",
        "# cutoff= int(df_close.shape[0]*0.75)\n",
        "# train = df_close[:cutoff]\n",
        "# test = df_close[cutoff:]"
      ]
    },
    {
      "cell_type": "markdown",
      "metadata": {
        "id": "IMi7HjuQ_zKb"
      },
      "source": [
        "Parameters for the model: **(p,d,q)=(1,1,1)** for the model based on the plots\n",
        "1. p = number of terms for the AR model\n",
        "2. d = order of differencing\n",
        "3. q = numer of the terms for the MA model"
      ]
    },
    {
      "cell_type": "code",
      "execution_count": 15,
      "metadata": {
        "scrolled": false,
        "id": "7MOIwgSq_zKb"
      },
      "outputs": [],
      "source": [
        "# # (1,1,1) ARIMA(p,d,q) based on ACF and PACF plots\n",
        "# #instantiate\n",
        "# model = ARIMA(train,\n",
        "#               order=(1,1,1))\n",
        "\n",
        "# #fit\n",
        "# model_fit = model.fit()\n",
        "# # print(model_fit.summary())\n",
        "\n",
        "# #getting predictions using get_prediction method\n",
        "# arima_predictions = model_fit.get_prediction(start = len(train)+1 , end = len(df_close),dynamic=True)\n",
        "# #predicted_mean gives lists the values\n",
        "# arima_pred_price=arima_predictions.predicted_mean\n",
        "# #converting into a df\n",
        "# arima_pred_price_df = pd.DataFrame(data=arima_pred_price)\n",
        "# #seetting the index to the test dates\n",
        "# arima_pred_price_df.index= test.index\n",
        "\n",
        "# # arima_pred_price_df.head()\n",
        "\n",
        "# #confidence intervals of predictions\n",
        "# arima_conf_int = arima_predictions.conf_int()\n",
        "# arima_conf_int.set_index(test.index,inplace=True)\n",
        "\n",
        "# # arima_conf_int.head()\n",
        "\n",
        "# #plotting predictions with confidence intervals\n",
        "# fig,ax =plt.subplots(figsize=(12,8))\n",
        "# # ax.plot(train,label='Train');\n",
        "# ax.plot(test,label='Test');\n",
        "# ax.plot(arima_pred_price_df,label='Predictions');\n",
        "# # ax.plot(arima_conf_int,label='Confidence Intervals')\n",
        "# ax.fill_between(arima_conf_int.index,arima_conf_int.iloc[:,0],arima_conf_int.iloc[:,1],color='k',alpha=0.1);\n",
        "# ax.legend(loc=2);"
      ]
    },
    {
      "cell_type": "code",
      "execution_count": 16,
      "metadata": {
        "scrolled": true,
        "id": "2Ph9UfSJ_zKb"
      },
      "outputs": [],
      "source": [
        "# #RMSE and AIC\n",
        "# error_arima = round(np.sqrt(mean_squared_error(test,arima_pred_price_df)),2)\n",
        "# aic_arima = round(model_fit.aic,2)\n",
        "# print(f'AIC score of the ARIMA model is {aic_arima}')\n",
        "# print(f'RMSE of the model is ${error_arima}')\n"
      ]
    },
    {
      "cell_type": "markdown",
      "metadata": {
        "id": "5wpTFOrY_zKb"
      },
      "source": [
        "As we can tell, the model does not perform very well when compared to the test values"
      ]
    },
    {
      "cell_type": "markdown",
      "metadata": {
        "id": "9QoTzJQS_zKb"
      },
      "source": [
        "## SARIMA model"
      ]
    },
    {
      "cell_type": "markdown",
      "metadata": {
        "id": "IZFFhw7m_zKb"
      },
      "source": [
        "Next, we will build a SARIMA model. Like the ARIMA models, SARIMA model also depends on past values but has an extra seasonality component to take into account any seasonality patterns"
      ]
    },
    {
      "cell_type": "markdown",
      "metadata": {
        "id": "B-nHKUr9_zKb"
      },
      "source": [
        "the the p,d,q values from the ARIMA models as a guide, we can run different combinations to check for the most optimal paramenters. The model that outputs the lowest AIC score , will be used as our model"
      ]
    },
    {
      "cell_type": "code",
      "execution_count": 17,
      "metadata": {
        "id": "qNjoSxVn_zKb"
      },
      "outputs": [],
      "source": [
        "# #defining a range for the p,d,q values\n",
        "# p=d=q=range(0,2)\n",
        "# pdq = list(itertools.product(p,d,q))\n",
        "# pdqs = [(x[0], x[1], x[2], 12) for x in list(itertools.product(p, d, q))]"
      ]
    },
    {
      "cell_type": "code",
      "execution_count": 18,
      "metadata": {
        "scrolled": false,
        "id": "PfaWCobO_zKb"
      },
      "outputs": [],
      "source": [
        "# # Run a grid with pdq and seasonal pdq parameters calculated above and get the best AIC value\n",
        "# ans = []\n",
        "# for comb in pdq:\n",
        "#     for combs in pdqs:\n",
        "#         try:\n",
        "#             mod = SARIMAX(train,\n",
        "#                           order=comb,\n",
        "#                           seasonal_order=combs,\n",
        "#                           enforce_stationarity=False,\n",
        "#                           enforce_invertibility=False)\n",
        "\n",
        "#             output = mod.fit()\n",
        "#             ans.append([comb, combs, output.aic])\n",
        "#             print('SARIMA {} x {}: AIC Calculated={}'.format(comb, combs, output.aic))\n",
        "#         except:\n",
        "#             continue"
      ]
    },
    {
      "cell_type": "code",
      "execution_count": 19,
      "metadata": {
        "scrolled": true,
        "id": "ZXifoX3n_zKb"
      },
      "outputs": [],
      "source": [
        "# sari_df = pd.DataFrame(ans,columns=['(p,d,q)','seasonal_combo', 'AIC'])\n",
        "# sari_df"
      ]
    },
    {
      "cell_type": "code",
      "execution_count": 20,
      "metadata": {
        "scrolled": false,
        "id": "F81fbbPo_zKc"
      },
      "outputs": [],
      "source": [
        "# # Plug the optimal parameter values into a new SARIMAX model\n",
        "# sarimax = SARIMAX(train,\n",
        "#                   order=(0,1,1),\n",
        "#                   seasonal_order=(0,1,1,12),\n",
        "#                   enforce_stationarity=False,\n",
        "#                   enforce_invertibility=False)\n",
        "\n",
        "# # Fit the model and print results\n",
        "# output = sarimax.fit()\n",
        "\n",
        "# #get predictions\n",
        "# sarimax_predictions = output.get_prediction(start=len(train)+1,end=len(df_close),dynamic=True)\n",
        "# sarimax_price=sarimax_predictions.predicted_mean\n",
        "# sarimax_predictions_df = pd.DataFrame(data=sarimax_price)\n",
        "# sarimax_predictions_df.index= test.index\n",
        "\n",
        "# #get confidence intervals\n",
        "# sarimax_conf_int = sarimax_predictions.conf_int()\n",
        "# sarimax_conf_int.set_index(test.index,inplace=True)\n",
        "\n",
        "# #plot results\n",
        "# fig,ax =plt.subplots(figsize=(20,8))\n",
        "# # ax.plot(train,label='Train');\n",
        "# ax.plot(test,label='Test');\n",
        "# ax.plot(sarimax_predictions_df,label='Predictions');\n",
        "# # ax.plot(sarimax_conf_int,label='Confidence Intervals')\n",
        "# ax.fill_between(sarimax_conf_int.index,sarimax_conf_int.iloc[:,0],sarimax_conf_int.iloc[:,1],color='g',alpha=0.1);\n",
        "# ax.legend(loc=2);"
      ]
    },
    {
      "cell_type": "code",
      "execution_count": 21,
      "metadata": {
        "scrolled": true,
        "id": "TYstXW03_zKc"
      },
      "outputs": [],
      "source": [
        "# #RMSE\n",
        "# error_sarima = round(np.sqrt(mean_squared_error(test,sarimax_predictions_df)),2)\n",
        "# print(f'RMSE of the model is ${error_sarima}')"
      ]
    },
    {
      "cell_type": "markdown",
      "metadata": {
        "id": "3IPWHbIj_zKc"
      },
      "source": [
        "Compared to the ARIMA model, the SARIMA model performance is much worse."
      ]
    },
    {
      "cell_type": "markdown",
      "metadata": {
        "id": "Qu-tBtxl_zKc"
      },
      "source": [
        "## Facebook Prophet"
      ]
    },
    {
      "cell_type": "markdown",
      "metadata": {
        "id": "sAZVLoea_zKc"
      },
      "source": [
        "The Prophet model is an additive model for time series predicting that was open sourced by Meta. in 2017.According to the official documentation, it works best with time series that have strong seasonal effects and several seasons of historical data  Prophet is robust to missing data and shifts in the trend and typically handles outliers well."
      ]
    },
    {
      "cell_type": "markdown",
      "metadata": {
        "id": "HtcjFtXH_zKc"
      },
      "source": [
        "First, we will use the default parameters and the undifferenced data to to build and evaluate the model:"
      ]
    },
    {
      "cell_type": "code",
      "execution_count": 22,
      "metadata": {
        "scrolled": true,
        "id": "iIhz6AJM_zKc"
      },
      "outputs": [],
      "source": [
        "# #get stock data\n",
        "# df = yf.download('AAPL',start=start_date,end=end_date)\n",
        "# df_close = df[['Adj Close']]\n",
        "\n",
        "# #resmapling by weekly\n",
        "# df_weekly = df_close.resample('W').mean()\n",
        "\n",
        "# #setting up df to be able to run Prophet\n",
        "\n",
        "# #reset index\n",
        "# df_weekly.reset_index(inplace=True)\n",
        "\n",
        "# #rename columns per prophet conventions\n",
        "# df_weekly.rename(columns={'Adj Close': 'y',\n",
        "#                          'Date':'ds'},inplace=True)\n",
        "\n",
        "# #set the date as the index\n",
        "# # df_close.set_index('ds',inplace=True)\n",
        "# # df_weekly.head()\n",
        "\n",
        "# #defining train and test sets\n",
        "# cutoff= int(df_weekly.shape[0]*0.75)\n",
        "# train = df_weekly[:cutoff]\n",
        "# test = df_weekly[cutoff:]\n",
        "\n",
        "# #instantiate\n",
        "# m = Prophet(seasonality_mode='multiplicative',\n",
        "#             weekly_seasonality=True,\n",
        "#             daily_seasonality = True,\n",
        "#             yearly_seasonality = True,\n",
        "#             interval_width=0.90,\n",
        "#            )\n",
        "\n",
        "# #fit\n",
        "# m.fit(train)\n",
        "\n",
        "# #forecasts - creating future dates using in built make_future_dataframe method\n",
        "# future = m.make_future_dataframe(periods=len(test),freq='W',include_history=False)\n",
        "\n",
        "# #predicting yhat\n",
        "# forecast = m.predict(future)\n",
        "\n",
        "# #creating a df of predicted values\n",
        "# forecast_values = forecast[['ds', 'yhat', 'yhat_lower', 'yhat_upper']]\n",
        "\n",
        "# #set the index for the plots\n",
        "# forecast_values.set_index('ds',inplace=True)\n",
        "# test.set_index('ds',inplace=True)\n",
        "\n",
        "# #plotting results\n",
        "# fig,ax=plt.subplots(figsize=(12,8))\n",
        "# # ax.plot(train,label='Train')\n",
        "# ax.plot(test,label='Test')\n",
        "# # ax.plot(df_weekly,label='Current Price')\n",
        "# ax.plot(forecast_values['yhat'],label='Forecast')\n",
        "# # ax.fill_between(test.index,forecast_values['yhat_lower'],forecast_values['yhat_upper'],color='g',alpha=0.1);\n",
        "# ax.legend();\n",
        "\n"
      ]
    },
    {
      "cell_type": "code",
      "execution_count": 23,
      "metadata": {
        "id": "1oJ9hAIV_zKc"
      },
      "outputs": [],
      "source": [
        "# #RMSE\n",
        "# error_fb = round(np.sqrt(mean_squared_error(test,forecast_values['yhat'])),2)\n",
        "# print(f'RMSE of the model is ${error_fb}')"
      ]
    },
    {
      "cell_type": "markdown",
      "metadata": {
        "id": "0E_QzRZM_zKc"
      },
      "source": [
        "We can try to optimize the model by running a loop for the seasonality and changepoint values. These are deciding how much to penalize seasonality and changepoints changes in the data i.e if the values are small for the seasonality changes, then the effect of seasonal changes in the data is dampened and vice versa."
      ]
    },
    {
      "cell_type": "code",
      "execution_count": 24,
      "metadata": {
        "scrolled": false,
        "id": "9duQE3dL_zKc"
      },
      "outputs": [],
      "source": [
        "# #run a loop for different regularization values\n",
        "\n",
        "# seasonality_scale = [0.1, 0.2, 0.3, 0.4, 0.5]\n",
        "# changepoint_scale = [0.1, 0.2, 0.3, 0.4, 0.5]\n",
        "# errors = []\n",
        "# new_error_fb = None\n",
        "\n",
        "# for season in seasonality_scale:\n",
        "#     for changepoint in changepoint_scale:\n",
        "#         #instantiate\n",
        "#         m = Prophet(seasonality_mode='multiplicative',\n",
        "#                 weekly_seasonality=True,\n",
        "#                 daily_seasonality = True,\n",
        "#                 yearly_seasonality = True,\n",
        "#                 interval_width=0.90,\n",
        "#                 seasonality_prior_scale=season,\n",
        "#                 changepoint_prior_scale=changepoint\n",
        "#                )\n",
        "\n",
        "#         #fit\n",
        "#         m.fit(train)\n",
        "\n",
        "#         #forecasts - creating future dates using in built make_future_dataframe method\n",
        "#         future = m.make_future_dataframe(periods=len(test),freq='W',include_history=False)\n",
        "\n",
        "#         #predicting yhat\n",
        "#         forecast = m.predict(future)\n",
        "\n",
        "#         #getting only yhat values\n",
        "#         forecast_values = forecast[['ds', 'yhat']]\n",
        "\n",
        "#         #setting the index\n",
        "#         forecast_values.set_index('ds',inplace=True)\n",
        "\n",
        "#         #rmse values\n",
        "#         rmse = round(np.sqrt(mean_squared_error(test,forecast_values['yhat'])),3)\n",
        "#         errors.append(rmse)\n",
        "#         new_error_fb = min(errors)\n",
        "# #         print(f'seasonality_scale:{season}, changepoint_scale:{changepoint}, rmse:{rmse}')\n",
        "\n",
        "# print('----------------------------------------------')\n",
        "# print(f'Smallest RMSE after looping is ${new_error_fb}')\n",
        "# print(f'Original RMSE is ${error_fb}')"
      ]
    },
    {
      "cell_type": "markdown",
      "metadata": {
        "id": "ETua1zrw_zKc"
      },
      "source": [
        "We can see a decent jump in performance. Let's see if we can improve further"
      ]
    },
    {
      "cell_type": "markdown",
      "metadata": {
        "id": "DoO6NzFt_zKc"
      },
      "source": [
        "### Prophet with differencing - comparing with test"
      ]
    },
    {
      "cell_type": "markdown",
      "metadata": {
        "id": "6hKqHmNN_zKc"
      },
      "source": [
        "Like the other models, we can try and run the prophet model on stationary data to see if there is an improvement. We accomplish this by diffenreceing the data by an order of 1."
      ]
    },
    {
      "cell_type": "code",
      "execution_count": 25,
      "metadata": {
        "scrolled": false,
        "id": "M1neD4YN_zKc",
        "outputId": "e8f246a0-086d-4df7-e0ca-3713ecc25970",
        "colab": {
          "base_uri": "https://localhost:8080/",
          "height": 881
        }
      },
      "outputs": [
        {
          "output_type": "stream",
          "name": "stdout",
          "text": [
            "\r[*********************100%%**********************]  1 of 1 completed\n"
          ]
        },
        {
          "output_type": "stream",
          "name": "stderr",
          "text": [
            "DEBUG:cmdstanpy:input tempfile: /tmp/tmp2a3wdkta/a1ucc6xe.json\n",
            "DEBUG:cmdstanpy:input tempfile: /tmp/tmp2a3wdkta/__hhl7hq.json\n",
            "DEBUG:cmdstanpy:idx 0\n",
            "DEBUG:cmdstanpy:running CmdStan, num_threads: None\n",
            "DEBUG:cmdstanpy:CmdStan args: ['/usr/local/lib/python3.10/dist-packages/prophet/stan_model/prophet_model.bin', 'random', 'seed=15593', 'data', 'file=/tmp/tmp2a3wdkta/a1ucc6xe.json', 'init=/tmp/tmp2a3wdkta/__hhl7hq.json', 'output', 'file=/tmp/tmp2a3wdkta/prophet_modelayyjf92r/prophet_model-20231025132713.csv', 'method=optimize', 'algorithm=lbfgs', 'iter=10000']\n",
            "13:27:13 - cmdstanpy - INFO - Chain [1] start processing\n",
            "INFO:cmdstanpy:Chain [1] start processing\n",
            "13:27:13 - cmdstanpy - INFO - Chain [1] done processing\n",
            "INFO:cmdstanpy:Chain [1] done processing\n"
          ]
        },
        {
          "output_type": "display_data",
          "data": {
            "text/plain": [
              "<Figure size 1200x800 with 1 Axes>"
            ],
            "image/png": "[encoded data removed]"
          },
          "metadata": {}
        }
      ],
      "source": [
        "#get stock data\n",
        "df = yf.download('AAPL',start=start_date,end=end_date)\n",
        "df_close = df[['Adj Close']]\n",
        "\n",
        "#resmapling by weekly\n",
        "df_weekly = df_close.resample('W').mean()\n",
        "\n",
        "df_weekly = df_weekly.diff(periods=1)\n",
        "df_weekly.dropna(inplace=True)\n",
        "\n",
        "#setting up df to be able to run Prophet\n",
        "#reset index\n",
        "df_weekly.reset_index(inplace=True)\n",
        "#rename columns per prophet conventions\n",
        "df_weekly.rename(columns={'Adj Close': 'y',\n",
        "                         'Date':'ds'},inplace=True)\n",
        "\n",
        "#defining train and test sets\n",
        "cutoff= int(df_weekly.shape[0]*0.75)\n",
        "train = df_weekly[:cutoff]\n",
        "test = df_weekly[cutoff:]\n",
        "\n",
        "#instantiate\n",
        "m = Prophet(seasonality_mode='multiplicative',\n",
        "            weekly_seasonality=True,\n",
        "            daily_seasonality = True,\n",
        "            yearly_seasonality = True,\n",
        "            interval_width=0.90,\n",
        "           )\n",
        "\n",
        "#fit\n",
        "m.fit(train)\n",
        "\n",
        "#forecasts - creating future dates using in built make_future_dataframe method\n",
        "future = m.make_future_dataframe(periods=len(test),freq='W',include_history=False)\n",
        "\n",
        "#predicting yhat\n",
        "forecast = m.predict(future)\n",
        "\n",
        "#creating a df of predicted values\n",
        "forecast_values = forecast[['ds', 'yhat']]\n",
        "\n",
        "#set the index for the plots\n",
        "forecast_values.set_index('ds',inplace=True)\n",
        "test.set_index('ds',inplace=True)\n",
        "\n",
        "#plotting results\n",
        "fig,ax=plt.subplots(figsize=(12,8))\n",
        "# ax.plot(train,label='Train')\n",
        "ax.plot(test,label='Test')\n",
        "# ax.plot(df_weekly,label='Current Price')\n",
        "ax.plot(forecast_values['yhat'],label='Forecast')\n",
        "# ax.fill_between(test.index,forecast_values['yhat_lower'],forecast_values['yhat_upper'],color='g',alpha=0.1);\n",
        "ax.legend();\n"
      ]
    },
    {
      "cell_type": "code",
      "execution_count": 26,
      "metadata": {
        "id": "l7s9OR5h_zKd"
      },
      "outputs": [],
      "source": [
        "# #RMSE\n",
        "# error_fb_diff = round(np.sqrt(mean_squared_error(test,forecast_values['yhat'])),2)\n",
        "# print(f'RMSE of the model is ${error_fb_diff}')"
      ]
    },
    {
      "cell_type": "markdown",
      "metadata": {
        "id": "p6_Zwt9l_zKd"
      },
      "source": [
        "Here, we can see a vast improvement in model performance compared to before."
      ]
    },
    {
      "cell_type": "markdown",
      "metadata": {
        "id": "ATmztxNb_zKd"
      },
      "source": [
        "### regularization on differenced data"
      ]
    },
    {
      "cell_type": "markdown",
      "metadata": {
        "id": "xZuBaDmZ_zKd"
      },
      "source": [
        "We will same optimization loop as earlier for the differenced data to see if it impacts performance."
      ]
    },
    {
      "cell_type": "code",
      "execution_count": 27,
      "metadata": {
        "scrolled": false,
        "id": "i3TqCFme_zKd"
      },
      "outputs": [],
      "source": [
        "# #run a loop for different regularization values\n",
        "# seasonality_scale = [0.1, 0.2, 0.3, 0.4, 0.5]\n",
        "# changepoint_scale = [0.1, 0.2, 0.3, 0.4, 0.5]\n",
        "# errors = []\n",
        "# new_error_fb_diff = None\n",
        "\n",
        "# for season in seasonality_scale:\n",
        "#     for changepoint in changepoint_scale:\n",
        "#         #instantiate\n",
        "#         m = Prophet(seasonality_mode='multiplicative',\n",
        "#                 weekly_seasonality=True,\n",
        "#                 daily_seasonality = True,\n",
        "#                 yearly_seasonality = True,\n",
        "#                 interval_width=0.90,\n",
        "#                 seasonality_prior_scale=season,\n",
        "#                 changepoint_prior_scale=changepoint\n",
        "#                )\n",
        "\n",
        "#         #fit\n",
        "#         m.fit(train)\n",
        "\n",
        "#         #forecasts - creating future dates using in built make_future_dataframe method\n",
        "#         future = m.make_future_dataframe(periods=len(test),freq='W',include_history=False)\n",
        "\n",
        "#         #predicting yhat\n",
        "#         forecast = m.predict(future)\n",
        "\n",
        "#         #getting only yhat values\n",
        "#         forecast_values = forecast[['ds', 'yhat']]\n",
        "\n",
        "#         #setting the index\n",
        "#         forecast_values.set_index('ds',inplace=True)\n",
        "\n",
        "#         #rmse values\n",
        "#         rmse = round(np.sqrt(mean_squared_error(test,forecast_values['yhat'])),3)\n",
        "#         errors.append(rmse)\n",
        "#         new_error_fb_diff = min(errors)\n",
        "# #         print(f'seasonality_scale:{season}, changepoint_scale:{changepoint}, rmse:{rmse}')\n",
        "\n",
        "# print('----------------------------------------------')\n",
        "# print(f'Smallest RMSE after looping is {new_error_fb_diff}')\n",
        "# # print(f'Original RMSE is {error_fb_diff}')"
      ]
    },
    {
      "cell_type": "markdown",
      "metadata": {
        "id": "exj5C_WU_zKd"
      },
      "source": [
        "This time, the improvement is only slight."
      ]
    },
    {
      "cell_type": "markdown",
      "metadata": {
        "id": "2HyLWe4G_zKd"
      },
      "source": [
        "## Model performance comparisions"
      ]
    },
    {
      "cell_type": "code",
      "execution_count": 28,
      "metadata": {
        "scrolled": false,
        "id": "GgUbu1u5_zKd"
      },
      "outputs": [],
      "source": [
        "# fig,ax =plt.subplots(figsize=(10,7))\n",
        "# ax.bar(x=['ARIMA', 'SARIMAX', 'PROPHET','PROPHET_diff'],height=[error_arima,error_sarima,new_error_fb,new_error_fb_diff]);\n",
        "# ax.set_title('RMSE score comparision');\n"
      ]
    },
    {
      "cell_type": "markdown",
      "metadata": {
        "id": "bUkfNPta_zKd"
      },
      "source": [
        "From the plot, we can see the prohet model on the differenced data performs best. Hence, we will use that for making predictions for our chose stock."
      ]
    },
    {
      "cell_type": "markdown",
      "metadata": {
        "id": "ATCU8c8K_zKd"
      },
      "source": [
        "## Using Prophet to get forecast of 'AAPL' for the next year"
      ]
    },
    {
      "cell_type": "markdown",
      "metadata": {
        "id": "Y5L-zCmx_zKd"
      },
      "source": [
        "Now that we have a model, we can make predictions of the next year:"
      ]
    },
    {
      "cell_type": "code",
      "execution_count": 29,
      "metadata": {
        "scrolled": false,
        "id": "5no5jkzg_zKd"
      },
      "outputs": [],
      "source": [
        "# #get stock data\n",
        "# df = yf.download('AAPL',start=start_date,end=end_date)\n",
        "# df_close = df[['Adj Close']]\n",
        "\n",
        "# #resmapling by weekly\n",
        "# df_weekly = df_close.resample('W').mean()\n",
        "\n",
        "# df_weekly_diff = df_weekly.diff(periods=1)\n",
        "# df_weekly_diff.dropna(inplace=True)\n",
        "\n",
        "\n",
        "# #setting up df to be able to run Prophet\n",
        "\n",
        "# #reset index\n",
        "# df_weekly_diff.reset_index(inplace=True)\n",
        "\n",
        "# #rename columns per prophet conventions\n",
        "# df_weekly_diff.rename(columns={'Adj Close': 'y',\n",
        "#                          'Date':'ds'},inplace=True)\n",
        "\n",
        "\n",
        "# #instantiate\n",
        "# m = Prophet(seasonality_mode='multiplicative',\n",
        "#             weekly_seasonality=True,\n",
        "#             daily_seasonality = True,\n",
        "#             yearly_seasonality = True,\n",
        "#             interval_width=0.90,\n",
        "#             seasonality_prior_scale = 0.4,\n",
        "#             changepoint_prior_scale = 0.3\n",
        "#            )\n",
        "\n",
        "# #fit\n",
        "# m.fit(df_weekly_diff)\n",
        "\n",
        "# #forecasts - creating future dates using in built make_future_dataframe method\n",
        "# future = m.make_future_dataframe(periods=52,freq='W',include_history=False)\n",
        "\n",
        "# #predicting yhat\n",
        "# forecast = m.predict(future)\n",
        "\n",
        "# #creating a df of predicted values\n",
        "# forecast_values = forecast[['ds', 'yhat']]\n",
        "\n",
        "# #set the index for the plots\n",
        "# forecast_values.set_index('ds',inplace=True)\n",
        "# df_weekly_diff.set_index('ds',inplace=True)\n",
        "\n",
        "\n",
        "# #taking the inverse difference of the predicted values to get the original values\n",
        "# # the inverse diff is the cumsum of the first value of the org series & the first differences series\n",
        "# forecast_values.rename(columns={'yhat':'y'},inplace=True)\n",
        "# invdiff = np.r_[df_weekly['Adj Close'].iloc[-1],forecast_values['y'][1:]].cumsum()\n",
        "# invdiff_df = pd.DataFrame(data=invdiff,index = forecast_values.index,columns=['y'])\n",
        "\n",
        "# #plotting results\n",
        "# fig,ax=plt.subplots(figsize=(12,8))\n",
        "# ax.plot(df_weekly,label='Current Price')\n",
        "# ax.plot(invdiff_df['y'],label='Forecast')\n",
        "# ax.set_title('Predicted performance of AAPL')\n",
        "# ax.legend();"
      ]
    },
    {
      "cell_type": "markdown",
      "metadata": {
        "id": "MxkZjLac_zKd"
      },
      "source": [
        "The model predicts 'AAPL' to be to close to `$200`, 52 weeks from now, from it's current value of approx. `$165`"
      ]
    },
    {
      "cell_type": "markdown",
      "metadata": {
        "id": "JJ3jxM9G_zKe"
      },
      "source": [
        "# Building Portfolio"
      ]
    },
    {
      "cell_type": "markdown",
      "metadata": {
        "id": "u49DLNoR_zKe"
      },
      "source": [
        "## Predictions of chosen stock"
      ]
    },
    {
      "cell_type": "markdown",
      "metadata": {
        "id": "hrC_MCPy_zKe"
      },
      "source": [
        "Now that the investor has looked at some metrics and future performance of his/her chosen stock, he/she can now look\n",
        "at building a portfolio for the future. Following are some functions that will be used in the portfolio builder"
      ]
    },
    {
      "cell_type": "markdown",
      "metadata": {
        "id": "UoWG5MmA_zKe"
      },
      "source": [
        "Following function is used to plot past and forecast prices of a stock:"
      ]
    },
    {
      "cell_type": "code",
      "execution_count": 30,
      "metadata": {
        "id": "l07_tc-p_zKe"
      },
      "outputs": [],
      "source": [
        "# def plot_forecast_price(ticker):\n",
        "#     #get stock data\n",
        "#     df = yf.download(ticker,start=start_date,end=end_date)\n",
        "#     df_close = df[['Adj Close']]\n",
        "\n",
        "#     #resmapling by weekly\n",
        "#     df_weekly = df_close.resample('W').mean()\n",
        "#     df_weekly_diff = df_weekly.diff(periods=1)\n",
        "#     df_weekly_diff.dropna(inplace=True)\n",
        "\n",
        "\n",
        "#     #setting up df to be able to run Prophet\n",
        "#     #reset index\n",
        "#     df_weekly_diff.reset_index(inplace=True)\n",
        "#     #rename columns per prophet conventions\n",
        "#     df_weekly_diff.rename(columns={'Adj Close': 'y',\n",
        "#                              'Date':'ds'},inplace=True)\n",
        "\n",
        "\n",
        "#     #instantiate\n",
        "#     m = Prophet(seasonality_mode='multiplicative',\n",
        "#                 weekly_seasonality=True,\n",
        "#                 daily_seasonality = True,\n",
        "#                 yearly_seasonality = True,\n",
        "#                 interval_width=0.90,\n",
        "#                 seasonality_prior_scale = 0.4,\n",
        "#                 changepoint_prior_scale = 0.3\n",
        "#                )\n",
        "\n",
        "#     #fit\n",
        "#     m.fit(df_weekly_diff)\n",
        "\n",
        "#     #forecasts - creating future dates using in built make_future_dataframe method\n",
        "#     future = m.make_future_dataframe(periods=52,freq='W',include_history=False)\n",
        "\n",
        "#     #predicting yhat\n",
        "#     forecast = m.predict(future)\n",
        "\n",
        "#     #creating a df of predicted values\n",
        "#     forecast_values = forecast[['ds', 'yhat']]\n",
        "\n",
        "#     #set the index for the plots\n",
        "#     forecast_values.set_index('ds',inplace=True)\n",
        "#     df_weekly_diff.set_index('ds',inplace=True)\n",
        "\n",
        "\n",
        "#     #taking the inverse difference of the predicted values to get the original values\n",
        "#     # the inverse diff is the cumsum of the first value of the org series & the first differences series\n",
        "#     forecast_values.rename(columns={'yhat':'y'},inplace=True)\n",
        "#     invdiff = np.r_[df_weekly['Adj Close'].iloc[-1],forecast_values['y'][1:]].cumsum()\n",
        "#     invdiff_df = pd.DataFrame(data=invdiff,index = forecast_values.index,columns=['y'])\n",
        "\n",
        "#     #plotting results\n",
        "#     fig,ax=plt.subplots(figsize=(12,8))\n",
        "#     ax.plot(df_weekly,label='Current Price')\n",
        "#     ax.plot(invdiff_df['y'],label='Forecast')\n",
        "#     ax.set_title(f'Predicted values of {ticker}')\n",
        "#     ax.legend();"
      ]
    },
    {
      "cell_type": "code",
      "execution_count": 31,
      "metadata": {
        "id": "FRlL_o3p_zKe"
      },
      "outputs": [],
      "source": [
        "# plot_forecast_price('AMZN')"
      ]
    },
    {
      "cell_type": "markdown",
      "metadata": {
        "id": "ppGQWrJU_zKe"
      },
      "source": [
        "Following functions is to get the current price of a stock:"
      ]
    },
    {
      "cell_type": "code",
      "execution_count": 32,
      "metadata": {
        "id": "TgvesFUl_zKe"
      },
      "outputs": [],
      "source": [
        "# def get_current_price(ticker):\n",
        "#     df = yf.download(ticker,start=start_date)\n",
        "#     ticker_df = df[['Adj Close']]\n",
        "#     current_price = round(float(ticker_df.iloc[0]),2)\n",
        "\n",
        "#     return current_price"
      ]
    },
    {
      "cell_type": "markdown",
      "metadata": {
        "id": "i_ELUBAB_zKe"
      },
      "source": [
        "Following function is to get the last forecasted price of the stock:"
      ]
    },
    {
      "cell_type": "code",
      "execution_count": 33,
      "metadata": {
        "id": "aKcsJQ7u_zKe"
      },
      "outputs": [],
      "source": [
        "# Previous_Date = datetime.datetime.today() - datetime.timedelta(days=1)\n",
        "# print (Previous_Date)"
      ]
    },
    {
      "cell_type": "code",
      "execution_count": 34,
      "metadata": {
        "id": "37i3-E4D_zKe"
      },
      "outputs": [],
      "source": [
        "# def get_future_price(ticker):\n",
        "#      #get stock data\n",
        "#     df = yf.download(ticker,start=start_date,end=end_date-datetime.timedelta(days=1))\n",
        "#     df_close = df[['Adj Close']]\n",
        "\n",
        "#     #resmapling by weekly\n",
        "#     df_weekly = df_close.resample('W').mean()\n",
        "#     df_weekly_diff = df_weekly.diff(periods=1)\n",
        "#     df_weekly_diff.dropna(inplace=True)\n",
        "\n",
        "\n",
        "#     #setting up df to be able to run Prophet\n",
        "#     #reset index\n",
        "#     df_weekly_diff.reset_index(inplace=True)\n",
        "#     #rename columns per prophet conventions\n",
        "#     df_weekly_diff.rename(columns={'Adj Close': 'y',\n",
        "#                              'Date':'ds'},inplace=True)\n",
        "\n",
        "\n",
        "#     #instantiate\n",
        "#     m = Prophet(seasonality_mode='multiplicative',\n",
        "#                 weekly_seasonality=True,\n",
        "#                 daily_seasonality = True,\n",
        "#                 yearly_seasonality = True,\n",
        "#                 interval_width=0.90,\n",
        "#                 seasonality_prior_scale = 0.4,\n",
        "#                 changepoint_prior_scale = 0.3\n",
        "#                )\n",
        "\n",
        "#     #fit\n",
        "#     m.fit(df_weekly_diff)\n",
        "\n",
        "#     #forecasts - creating future dates using in built make_future_dataframe method\n",
        "#     future = m.make_future_dataframe(periods=52,freq='W',include_history=False)\n",
        "\n",
        "#     #predicting yhat\n",
        "#     forecast = m.predict(future)\n",
        "\n",
        "#     #creating a df of predicted values\n",
        "#     forecast_values = forecast[['ds', 'yhat']]\n",
        "\n",
        "#     #set the index for the plots\n",
        "#     forecast_values.set_index('ds',inplace=True)\n",
        "#     df_weekly_diff.set_index('ds',inplace=True)\n",
        "\n",
        "#     #taking the inverse difference of the predicted values to get the original values\n",
        "#     # the inverse diff is the cumsum of the first value of the org series & the first differences series\n",
        "#     forecast_values.rename(columns={'yhat':'y'},inplace=True)\n",
        "#     invdiff = np.r_[df_weekly['Adj Close'].iloc[-1],forecast_values['y'][1:]].cumsum()\n",
        "#     invdiff_df = pd.DataFrame(data=invdiff,index = forecast_values.index,columns=['y'])\n",
        "\n",
        "#     #get the last value\n",
        "#     last_price = round(float(invdiff_df.iloc[-1]),2)\n",
        "\n",
        "#     return last_price"
      ]
    },
    {
      "cell_type": "markdown",
      "metadata": {
        "id": "o5jZ2pSS_zKe"
      },
      "source": [
        "The `portfolio` function combines all of the above and outputs the total returns"
      ]
    },
    {
      "cell_type": "code",
      "execution_count": 35,
      "metadata": {
        "id": "sSDbuvPv_zKe"
      },
      "outputs": [],
      "source": [
        "# #putting it all together\n",
        "\n",
        "# def portfolio(amount,stocks):\n",
        "#     amount = amount\n",
        "#     stocks = stocks\n",
        "#     break_up = round(amount/len(stocks),2)\n",
        "#     current_prices = []\n",
        "#     future_prices = np.array([])\n",
        "#     n_shares = np.array([])\n",
        "#     return_pct = np.array([])\n",
        "\n",
        "#     for st in stocks:\n",
        "\n",
        "#         cp = get_current_price(st)\n",
        "#         fp = get_future_price(st)\n",
        "#         current_prices.append(cp)\n",
        "#         future_prices = np.append(future_prices,fp)\n",
        "\n",
        "#         print(f'Current price of {st} is {cp}')\n",
        "#         print(f'Forecast price of {st} is {fp}')\n",
        "\n",
        "#         def check():\n",
        "#             for i in current_prices:\n",
        "#                 if i < break_up:\n",
        "#                        continue # there is nothing below continue to ignore. so nothing happens and continue moves the loop forward\n",
        "#                 else: # once the outer loop reaches the value of nflx and the condition is true, what is below is executed\n",
        "#                     return ('Invest amount per stock is too low. Please adjust')\n",
        "#                     break #breaks the inner loop\n",
        "#                 break #this break is to ignore the outer loop as well as there is no point in moving forward\n",
        "\n",
        "#     check()\n",
        "\n",
        "#     if check() == None:\n",
        "#         for i in current_prices:\n",
        "#             share_buy = round(break_up/i)\n",
        "#             n_shares = np.append(n_shares,share_buy)\n",
        "#         sell_amounts = n_shares*future_prices\n",
        "#         returns = sell_amounts/break_up - 1\n",
        "#         invest_amt = round(break_up/amount,2)\n",
        "#         return_pct = np.append(return_pct,returns*invest_amt)\n",
        "#         cum_returns = round(np.sum(return_pct) * 100,2)\n",
        "#         print('\\n')\n",
        "#         print(f'Amount invested in each stock: ${break_up}')\n",
        "#         print(f'Cumulative returns: {cum_returns}%')\n",
        "\n",
        "#     else:\n",
        "#         print('\\n')\n",
        "#         print(f'Amount invested in each stock: ${break_up}')\n",
        "#         print('Investment is too low')\n",
        "#         print('Please pick a different stock or increase investment')"
      ]
    },
    {
      "cell_type": "markdown",
      "metadata": {
        "id": "dxbjR4F3_zKe"
      },
      "source": [
        "As outlined earlier, following is an example of how diversification works"
      ]
    },
    {
      "cell_type": "markdown",
      "metadata": {
        "id": "t7D37z5M_zKf"
      },
      "source": [
        "If an investor is chooses to invest only in the automotive companies, here's what that would look like:"
      ]
    },
    {
      "cell_type": "code",
      "execution_count": 36,
      "metadata": {
        "scrolled": true,
        "id": "Bse8CIlb_zKf"
      },
      "outputs": [],
      "source": [
        "# # Tesla,General Motors and Ford\n",
        "# portfolio(1000,['TSLA','GM','F'])"
      ]
    },
    {
      "cell_type": "markdown",
      "metadata": {
        "id": "boxYgaYI_zKf"
      },
      "source": [
        "The investor can expect to lose money if he/she were to invest $1000 in Tesla,GM and Ford in the next year."
      ]
    },
    {
      "cell_type": "markdown",
      "metadata": {
        "id": "nb8VuT2M_zKf"
      },
      "source": [
        "Now, let's diversify and choose companies from different sectors:automotive,tech and health care"
      ]
    },
    {
      "cell_type": "code",
      "execution_count": 37,
      "metadata": {
        "scrolled": true,
        "id": "TeeiC0qP_zKf"
      },
      "outputs": [],
      "source": [
        "# #General Motors, Apple, Pfizer\n",
        "# portfolio(1000,['GM','AAPL','PFE'])"
      ]
    },
    {
      "cell_type": "markdown",
      "metadata": {
        "id": "BnJpr90g_zKf"
      },
      "source": [
        "From the above examples, it is quiet clear to see the benefit of diversifying."
      ]
    },
    {
      "cell_type": "code",
      "execution_count": 38,
      "metadata": {
        "scrolled": false,
        "id": "nmkK0Wvj_zKf"
      },
      "outputs": [],
      "source": [
        "# # very little investment\n",
        "# portfolio(50,['GM','AAPL','PFE'])"
      ]
    },
    {
      "cell_type": "markdown",
      "metadata": {
        "id": "gSnmyFzE_zKf"
      },
      "source": [
        "# Conclusions"
      ]
    },
    {
      "cell_type": "markdown",
      "metadata": {
        "id": "hOmAzw2b_zKf"
      },
      "source": [
        "## Limitations"
      ]
    },
    {
      "cell_type": "markdown",
      "metadata": {
        "id": "WYklOvmU_zKf"
      },
      "source": [
        "1. All the models are purely mathematical models and cannot take into account black swan events.\n",
        "2. More sophisticated models using Deep Learning can be built to get more accurate forecasts.\n",
        "3. Dividend data is not incorporated while calculating overall returns.\n",
        "4. Currently, the invested amount is distributed equally amongst all the stocks.\n",
        "   The amounts can be tuned based on the investor's appetite for risk."
      ]
    },
    {
      "cell_type": "markdown",
      "metadata": {
        "id": "y9HwbUB7_zKf"
      },
      "source": [
        "## Recommendations"
      ]
    },
    {
      "cell_type": "markdown",
      "metadata": {
        "id": "qoIt_IaH_zKf"
      },
      "source": [
        "1. By plugging in amounts and companies in the model, the investor can play around and maximize his/her returns.\n",
        "\n",
        "2. Looking at the stock market in general, there was a drastic spike around 2020.\n",
        "   There has not been a decline to pre-2020 levels and hence, it might be prudent to collect past data only\n",
        "   from 2020 onwards rather than from all the way back to 2017.\n"
      ]
    },
    {
      "cell_type": "markdown",
      "metadata": {
        "id": "ob5HRhZ0_zKf"
      },
      "source": [
        "# Portfolio Analysis"
      ]
    },
    {
      "cell_type": "markdown",
      "source": [
        "![returns.PNG](data:image/png;base64,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)"
      ],
      "metadata": {
        "id": "yDuzLlvPbTGD"
      }
    },
    {
      "cell_type": "markdown",
      "metadata": {
        "id": "fD1DEmlO_zKf"
      },
      "source": [
        "## average returns"
      ]
    },
    {
      "cell_type": "markdown",
      "source": [
        "this just gives you a snapshot of the returns at a given moment in time.\n"
      ],
      "metadata": {
        "id": "NOaQlMk0TU9v"
      }
    },
    {
      "cell_type": "markdown",
      "metadata": {
        "id": "5D2r0qAa_zKf"
      },
      "source": [
        "The average return is the simple mathematical average of a series of returns generated over a specified period of time. An average return is calculated the same way that a simple average is calculated for any set of numbers."
      ]
    },
    {
      "cell_type": "markdown",
      "source": [
        "so, you just take the mean of the pct change. that's all. that is your average return"
      ],
      "metadata": {
        "id": "Bwx788SWTowj"
      }
    },
    {
      "cell_type": "code",
      "execution_count": 39,
      "metadata": {
        "id": "gYkZWfVY_zKf",
        "outputId": "63abebe4-f52f-4e60-cde9-a1fd35fe2bbb",
        "colab": {
          "base_uri": "https://localhost:8080/",
          "height": 36
        }
      },
      "outputs": [
        {
          "output_type": "execute_result",
          "data": {
            "text/plain": [
              "'2019-01-01'"
            ],
            "application/vnd.google.colaboratory.intrinsic+json": {
              "type": "string"
            }
          },
          "metadata": {},
          "execution_count": 39
        }
      ],
      "source": [
        "start_date"
      ]
    },
    {
      "cell_type": "code",
      "execution_count": 40,
      "metadata": {
        "id": "mdpSiuLZ_zKg",
        "outputId": "0d65ff0d-2621-4aa4-aa51-9f918d142be9",
        "colab": {
          "base_uri": "https://localhost:8080/"
        }
      },
      "outputs": [
        {
          "output_type": "execute_result",
          "data": {
            "text/plain": [
              "datetime.date(2023, 10, 25)"
            ]
          },
          "metadata": {},
          "execution_count": 40
        }
      ],
      "source": [
        "end_date"
      ]
    },
    {
      "cell_type": "code",
      "execution_count": 63,
      "metadata": {
        "scrolled": true,
        "id": "bFiREUA-_zKg",
        "outputId": "27c15c41-5503-4cc0-fa47-31e1d1187a03",
        "colab": {
          "base_uri": "https://localhost:8080/",
          "height": 287
        }
      },
      "outputs": [
        {
          "output_type": "stream",
          "name": "stdout",
          "text": [
            "[*********************100%%**********************]  3 of 3 completed\n"
          ]
        },
        {
          "output_type": "execute_result",
          "data": {
            "text/plain": [
              "            Adj Close                           Close                   \\\n",
              "                 AAPL         F       NVDA       AAPL     F       NVDA   \n",
              "Date                                                                     \n",
              "2019-01-02  37.943253  6.451035  33.793442  39.480000  7.90  34.055000   \n",
              "2019-01-03  34.163826  6.353045  31.751745  35.547501  7.78  31.997499   \n",
              "2019-01-04  35.622261  6.598022  33.786003  37.064999  8.08  34.047501   \n",
              "2019-01-07  35.542973  6.769505  35.574657  36.982498  8.29  35.849998   \n",
              "2019-01-08  36.220531  6.834831  34.689014  37.687500  8.37  34.957500   \n",
              "\n",
              "                 High                         Low                        Open  \\\n",
              "                 AAPL     F       NVDA       AAPL     F       NVDA       AAPL   \n",
              "Date                                                                            \n",
              "2019-01-02  39.712502  8.02  34.619999  38.557499  7.48  32.512501  38.722500   \n",
              "2019-01-03  36.430000  7.99  33.790001  35.500000  7.78  31.922501  35.994999   \n",
              "2019-01-04  37.137501  8.12  34.432499  35.950001  7.85  32.424999  36.132500   \n",
              "2019-01-07  37.207500  8.37  36.222500  36.474998  8.03  34.107498  37.174999   \n",
              "2019-01-08  37.955002  8.54  36.695000  37.130001  8.35  34.224998  37.389999   \n",
              "\n",
              "                                Volume                      \n",
              "               F       NVDA       AAPL         F      NVDA  \n",
              "Date                                                        \n",
              "2019-01-02  7.53  32.660000  148158800  47494400  50875200  \n",
              "2019-01-03  7.97  33.447498  365248800  39172400  70555200  \n",
              "2019-01-04  7.91  32.735001  234428400  43039800  58562000  \n",
              "2019-01-07  8.11  34.625000  219111200  40729400  70916000  \n",
              "2019-01-08  8.42  36.672501  164101200  45644000  78601600  "
            ],
            "text/html": [
              "\n",
              "  <div id=\"df-585b0abd-0d75-4dc5-ac7f-f58c670d49aa\" class=\"colab-df-container\">\n",
              "    <div>\n",
              "<style scoped>\n",
              "    .dataframe tbody tr th:only-of-type {\n",
              "        vertical-align: middle;\n",
              "    }\n",
              "\n",
              "    .dataframe tbody tr th {\n",
              "        vertical-align: top;\n",
              "    }\n",
              "\n",
              "    .dataframe thead tr th {\n",
              "        text-align: left;\n",
              "    }\n",
              "\n",
              "    .dataframe thead tr:last-of-type th {\n",
              "        text-align: right;\n",
              "    }\n",
              "</style>\n",
              "<table border=\"1\" class=\"dataframe\">\n",
              "  <thead>\n",
              "    <tr>\n",
              "      <th></th>\n",
              "      <th colspan=\"3\" halign=\"left\">Adj Close</th>\n",
              "      <th colspan=\"3\" halign=\"left\">Close</th>\n",
              "      <th colspan=\"3\" halign=\"left\">High</th>\n",
              "      <th colspan=\"3\" halign=\"left\">Low</th>\n",
              "      <th colspan=\"3\" halign=\"left\">Open</th>\n",
              "      <th colspan=\"3\" halign=\"left\">Volume</th>\n",
              "    </tr>\n",
              "    <tr>\n",
              "      <th></th>\n",
              "      <th>AAPL</th>\n",
              "      <th>F</th>\n",
              "      <th>NVDA</th>\n",
              "      <th>AAPL</th>\n",
              "      <th>F</th>\n",
              "      <th>NVDA</th>\n",
              "      <th>AAPL</th>\n",
              "      <th>F</th>\n",
              "      <th>NVDA</th>\n",
              "      <th>AAPL</th>\n",
              "      <th>F</th>\n",
              "      <th>NVDA</th>\n",
              "      <th>AAPL</th>\n",
              "      <th>F</th>\n",
              "      <th>NVDA</th>\n",
              "      <th>AAPL</th>\n",
              "      <th>F</th>\n",
              "      <th>NVDA</th>\n",
              "    </tr>\n",
              "    <tr>\n",
              "      <th>Date</th>\n",
              "      <th></th>\n",
              "      <th></th>\n",
              "      <th></th>\n",
              "      <th></th>\n",
              "      <th></th>\n",
              "      <th></th>\n",
              "      <th></th>\n",
              "      <th></th>\n",
              "      <th></th>\n",
              "      <th></th>\n",
              "      <th></th>\n",
              "      <th></th>\n",
              "      <th></th>\n",
              "      <th></th>\n",
              "      <th></th>\n",
              "      <th></th>\n",
              "      <th></th>\n",
              "      <th></th>\n",
              "    </tr>\n",
              "  </thead>\n",
              "  <tbody>\n",
              "    <tr>\n",
              "      <th>2019-01-02</th>\n",
              "      <td>37.943253</td>\n",
              "      <td>6.451035</td>\n",
              "      <td>33.793442</td>\n",
              "      <td>39.480000</td>\n",
              "      <td>7.90</td>\n",
              "      <td>34.055000</td>\n",
              "      <td>39.712502</td>\n",
              "      <td>8.02</td>\n",
              "      <td>34.619999</td>\n",
              "      <td>38.557499</td>\n",
              "      <td>7.48</td>\n",
              "      <td>32.512501</td>\n",
              "      <td>38.722500</td>\n",
              "      <td>7.53</td>\n",
              "      <td>32.660000</td>\n",
              "      <td>148158800</td>\n",
              "      <td>47494400</td>\n",
              "      <td>50875200</td>\n",
              "    </tr>\n",
              "    <tr>\n",
              "      <th>2019-01-03</th>\n",
              "      <td>34.163826</td>\n",
              "      <td>6.353045</td>\n",
              "      <td>31.751745</td>\n",
              "      <td>35.547501</td>\n",
              "      <td>7.78</td>\n",
              "      <td>31.997499</td>\n",
              "      <td>36.430000</td>\n",
              "      <td>7.99</td>\n",
              "      <td>33.790001</td>\n",
              "      <td>35.500000</td>\n",
              "      <td>7.78</td>\n",
              "      <td>31.922501</td>\n",
              "      <td>35.994999</td>\n",
              "      <td>7.97</td>\n",
              "      <td>33.447498</td>\n",
              "      <td>365248800</td>\n",
              "      <td>39172400</td>\n",
              "      <td>70555200</td>\n",
              "    </tr>\n",
              "    <tr>\n",
              "      <th>2019-01-04</th>\n",
              "      <td>35.622261</td>\n",
              "      <td>6.598022</td>\n",
              "      <td>33.786003</td>\n",
              "      <td>37.064999</td>\n",
              "      <td>8.08</td>\n",
              "      <td>34.047501</td>\n",
              "      <td>37.137501</td>\n",
              "      <td>8.12</td>\n",
              "      <td>34.432499</td>\n",
              "      <td>35.950001</td>\n",
              "      <td>7.85</td>\n",
              "      <td>32.424999</td>\n",
              "      <td>36.132500</td>\n",
              "      <td>7.91</td>\n",
              "      <td>32.735001</td>\n",
              "      <td>234428400</td>\n",
              "      <td>43039800</td>\n",
              "      <td>58562000</td>\n",
              "    </tr>\n",
              "    <tr>\n",
              "      <th>2019-01-07</th>\n",
              "      <td>35.542973</td>\n",
              "      <td>6.769505</td>\n",
              "      <td>35.574657</td>\n",
              "      <td>36.982498</td>\n",
              "      <td>8.29</td>\n",
              "      <td>35.849998</td>\n",
              "      <td>37.207500</td>\n",
              "      <td>8.37</td>\n",
              "      <td>36.222500</td>\n",
              "      <td>36.474998</td>\n",
              "      <td>8.03</td>\n",
              "      <td>34.107498</td>\n",
              "      <td>37.174999</td>\n",
              "      <td>8.11</td>\n",
              "      <td>34.625000</td>\n",
              "      <td>219111200</td>\n",
              "      <td>40729400</td>\n",
              "      <td>70916000</td>\n",
              "    </tr>\n",
              "    <tr>\n",
              "      <th>2019-01-08</th>\n",
              "      <td>36.220531</td>\n",
              "      <td>6.834831</td>\n",
              "      <td>34.689014</td>\n",
              "      <td>37.687500</td>\n",
              "      <td>8.37</td>\n",
              "      <td>34.957500</td>\n",
              "      <td>37.955002</td>\n",
              "      <td>8.54</td>\n",
              "      <td>36.695000</td>\n",
              "      <td>37.130001</td>\n",
              "      <td>8.35</td>\n",
              "      <td>34.224998</td>\n",
              "      <td>37.389999</td>\n",
              "      <td>8.42</td>\n",
              "      <td>36.672501</td>\n",
              "      <td>164101200</td>\n",
              "      <td>45644000</td>\n",
              "      <td>78601600</td>\n",
              "    </tr>\n",
              "  </tbody>\n",
              "</table>\n",
              "</div>\n",
              "    <div class=\"colab-df-buttons\">\n",
              "\n",
              "  <div class=\"colab-df-container\">\n",
              "    <button class=\"colab-df-convert\" onclick=\"convertToInteractive('df-585b0abd-0d75-4dc5-ac7f-f58c670d49aa')\"\n",
              "            title=\"Convert this dataframe to an interactive table.\"\n",
              "            style=\"display:none;\">\n",
              "\n",
              "  <svg xmlns=\"http://www.w3.org/2000/svg\" height=\"24px\" viewBox=\"0 -960 960 960\">\n",
              "    <path d=\"M120-120v-720h720v720H120Zm60-500h600v-160H180v160Zm220 220h160v-160H400v160Zm0 220h160v-160H400v160ZM180-400h160v-160H180v160Zm440 0h160v-160H620v160ZM180-180h160v-160H180v160Zm440 0h160v-160H620v160Z\"/>\n",
              "  </svg>\n",
              "    </button>\n",
              "\n",
              "  <style>\n",
              "    .colab-df-container {\n",
              "      display:flex;\n",
              "      gap: 12px;\n",
              "    }\n",
              "\n",
              "    .colab-df-convert {\n",
              "      background-color: #E8F0FE;\n",
              "      border: none;\n",
              "      border-radius: 50%;\n",
              "      cursor: pointer;\n",
              "      display: none;\n",
              "      fill: #1967D2;\n",
              "      height: 32px;\n",
              "      padding: 0 0 0 0;\n",
              "      width: 32px;\n",
              "    }\n",
              "\n",
              "    .colab-df-convert:hover {\n",
              "      background-color: #E2EBFA;\n",
              "      box-shadow: 0px 1px 2px rgba(60, 64, 67, 0.3), 0px 1px 3px 1px rgba(60, 64, 67, 0.15);\n",
              "      fill: #174EA6;\n",
              "    }\n",
              "\n",
              "    .colab-df-buttons div {\n",
              "      margin-bottom: 4px;\n",
              "    }\n",
              "\n",
              "    [theme=dark] .colab-df-convert {\n",
              "      background-color: #3B4455;\n",
              "      fill: #D2E3FC;\n",
              "    }\n",
              "\n",
              "    [theme=dark] .colab-df-convert:hover {\n",
              "      background-color: #434B5C;\n",
              "      box-shadow: 0px 1px 3px 1px rgba(0, 0, 0, 0.15);\n",
              "      filter: drop-shadow(0px 1px 2px rgba(0, 0, 0, 0.3));\n",
              "      fill: #FFFFFF;\n",
              "    }\n",
              "  </style>\n",
              "\n",
              "    <script>\n",
              "      const buttonEl =\n",
              "        document.querySelector('#df-585b0abd-0d75-4dc5-ac7f-f58c670d49aa button.colab-df-convert');\n",
              "      buttonEl.style.display =\n",
              "        google.colab.kernel.accessAllowed ? 'block' : 'none';\n",
              "\n",
              "      async function convertToInteractive(key) {\n",
              "        const element = document.querySelector('#df-585b0abd-0d75-4dc5-ac7f-f58c670d49aa');\n",
              "        const dataTable =\n",
              "          await google.colab.kernel.invokeFunction('convertToInteractive',\n",
              "                                                    [key], {});\n",
              "        if (!dataTable) return;\n",
              "\n",
              "        const docLinkHtml = 'Like what you see? Visit the ' +\n",
              "          '<a target=\"_blank\" href=https://colab.research.google.com/notebooks/data_table.ipynb>data table notebook</a>'\n",
              "          + ' to learn more about interactive tables.';\n",
              "        element.innerHTML = '';\n",
              "        dataTable['output_type'] = 'display_data';\n",
              "        await google.colab.output.renderOutput(dataTable, element);\n",
              "        const docLink = document.createElement('div');\n",
              "        docLink.innerHTML = docLinkHtml;\n",
              "        element.appendChild(docLink);\n",
              "      }\n",
              "    </script>\n",
              "  </div>\n",
              "\n",
              "\n",
              "<div id=\"df-25ace5c9-a72b-4b46-b636-fb7e02df01b8\">\n",
              "  <button class=\"colab-df-quickchart\" onclick=\"quickchart('df-25ace5c9-a72b-4b46-b636-fb7e02df01b8')\"\n",
              "            title=\"Suggest charts.\"\n",
              "            style=\"display:none;\">\n",
              "\n",
              "<svg xmlns=\"http://www.w3.org/2000/svg\" height=\"24px\"viewBox=\"0 0 24 24\"\n",
              "     width=\"24px\">\n",
              "    <g>\n",
              "        <path d=\"M19 3H5c-1.1 0-2 .9-2 2v14c0 1.1.9 2 2 2h14c1.1 0 2-.9 2-2V5c0-1.1-.9-2-2-2zM9 17H7v-7h2v7zm4 0h-2V7h2v10zm4 0h-2v-4h2v4z\"/>\n",
              "    </g>\n",
              "</svg>\n",
              "  </button>\n",
              "\n",
              "<style>\n",
              "  .colab-df-quickchart {\n",
              "      --bg-color: #E8F0FE;\n",
              "      --fill-color: #1967D2;\n",
              "      --hover-bg-color: #E2EBFA;\n",
              "      --hover-fill-color: #174EA6;\n",
              "      --disabled-fill-color: #AAA;\n",
              "      --disabled-bg-color: #DDD;\n",
              "  }\n",
              "\n",
              "  [theme=dark] .colab-df-quickchart {\n",
              "      --bg-color: #3B4455;\n",
              "      --fill-color: #D2E3FC;\n",
              "      --hover-bg-color: #434B5C;\n",
              "      --hover-fill-color: #FFFFFF;\n",
              "      --disabled-bg-color: #3B4455;\n",
              "      --disabled-fill-color: #666;\n",
              "  }\n",
              "\n",
              "  .colab-df-quickchart {\n",
              "    background-color: var(--bg-color);\n",
              "    border: none;\n",
              "    border-radius: 50%;\n",
              "    cursor: pointer;\n",
              "    display: none;\n",
              "    fill: var(--fill-color);\n",
              "    height: 32px;\n",
              "    padding: 0;\n",
              "    width: 32px;\n",
              "  }\n",
              "\n",
              "  .colab-df-quickchart:hover {\n",
              "    background-color: var(--hover-bg-color);\n",
              "    box-shadow: 0 1px 2px rgba(60, 64, 67, 0.3), 0 1px 3px 1px rgba(60, 64, 67, 0.15);\n",
              "    fill: var(--button-hover-fill-color);\n",
              "  }\n",
              "\n",
              "  .colab-df-quickchart-complete:disabled,\n",
              "  .colab-df-quickchart-complete:disabled:hover {\n",
              "    background-color: var(--disabled-bg-color);\n",
              "    fill: var(--disabled-fill-color);\n",
              "    box-shadow: none;\n",
              "  }\n",
              "\n",
              "  .colab-df-spinner {\n",
              "    border: 2px solid var(--fill-color);\n",
              "    border-color: transparent;\n",
              "    border-bottom-color: var(--fill-color);\n",
              "    animation:\n",
              "      spin 1s steps(1) infinite;\n",
              "  }\n",
              "\n",
              "  @keyframes spin {\n",
              "    0% {\n",
              "      border-color: transparent;\n",
              "      border-bottom-color: var(--fill-color);\n",
              "      border-left-color: var(--fill-color);\n",
              "    }\n",
              "    20% {\n",
              "      border-color: transparent;\n",
              "      border-left-color: var(--fill-color);\n",
              "      border-top-color: var(--fill-color);\n",
              "    }\n",
              "    30% {\n",
              "      border-color: transparent;\n",
              "      border-left-color: var(--fill-color);\n",
              "      border-top-color: var(--fill-color);\n",
              "      border-right-color: var(--fill-color);\n",
              "    }\n",
              "    40% {\n",
              "      border-color: transparent;\n",
              "      border-right-color: var(--fill-color);\n",
              "      border-top-color: var(--fill-color);\n",
              "    }\n",
              "    60% {\n",
              "      border-color: transparent;\n",
              "      border-right-color: var(--fill-color);\n",
              "    }\n",
              "    80% {\n",
              "      border-color: transparent;\n",
              "      border-right-color: var(--fill-color);\n",
              "      border-bottom-color: var(--fill-color);\n",
              "    }\n",
              "    90% {\n",
              "      border-color: transparent;\n",
              "      border-bottom-color: var(--fill-color);\n",
              "    }\n",
              "  }\n",
              "</style>\n",
              "\n",
              "  <script>\n",
              "    async function quickchart(key) {\n",
              "      const quickchartButtonEl =\n",
              "        document.querySelector('#' + key + ' button');\n",
              "      quickchartButtonEl.disabled = true;  // To prevent multiple clicks.\n",
              "      quickchartButtonEl.classList.add('colab-df-spinner');\n",
              "      try {\n",
              "        const charts = await google.colab.kernel.invokeFunction(\n",
              "            'suggestCharts', [key], {});\n",
              "      } catch (error) {\n",
              "        console.error('Error during call to suggestCharts:', error);\n",
              "      }\n",
              "      quickchartButtonEl.classList.remove('colab-df-spinner');\n",
              "      quickchartButtonEl.classList.add('colab-df-quickchart-complete');\n",
              "    }\n",
              "    (() => {\n",
              "      let quickchartButtonEl =\n",
              "        document.querySelector('#df-25ace5c9-a72b-4b46-b636-fb7e02df01b8 button');\n",
              "      quickchartButtonEl.style.display =\n",
              "        google.colab.kernel.accessAllowed ? 'block' : 'none';\n",
              "    })();\n",
              "  </script>\n",
              "</div>\n",
              "    </div>\n",
              "  </div>\n"
            ]
          },
          "metadata": {},
          "execution_count": 63
        }
      ],
      "source": [
        "#quite wonderful. you can dload a bunch of tickrs using yfinance\n",
        "\n",
        "portfolio = ['AAPL', 'NVDA', 'F']\n",
        "df = yf.download(portfolio,start=start_date,end=end_date)\n",
        "df.head()"
      ]
    },
    {
      "cell_type": "code",
      "execution_count": 64,
      "metadata": {
        "id": "7HzZ8wOS_zKg",
        "outputId": "a7b9451c-eb8b-4162-9c06-993f5bccc0a2",
        "colab": {
          "base_uri": "https://localhost:8080/",
          "height": 300
        }
      },
      "outputs": [
        {
          "output_type": "execute_result",
          "data": {
            "text/plain": [
              "              AAPL            F         NVDA\n",
              "count  1212.000000  1212.000000  1212.000000\n",
              "mean    119.215719    10.416289   166.125562\n",
              "std      45.886324     3.473011   112.833299\n",
              "min      34.163826     3.551299    31.751745\n",
              "25%      73.007898     7.744057    66.240503\n",
              "50%     131.345299    10.791164   141.435562\n",
              "75%     154.439846    12.536525   221.742970\n",
              "max     196.185074    22.420858   493.509338"
            ],
            "text/html": [
              "\n",
              "  <div id=\"df-42287a99-4eac-4ff5-853d-4ca74f171429\" class=\"colab-df-container\">\n",
              "    <div>\n",
              "<style scoped>\n",
              "    .dataframe tbody tr th:only-of-type {\n",
              "        vertical-align: middle;\n",
              "    }\n",
              "\n",
              "    .dataframe tbody tr th {\n",
              "        vertical-align: top;\n",
              "    }\n",
              "\n",
              "    .dataframe thead th {\n",
              "        text-align: right;\n",
              "    }\n",
              "</style>\n",
              "<table border=\"1\" class=\"dataframe\">\n",
              "  <thead>\n",
              "    <tr style=\"text-align: right;\">\n",
              "      <th></th>\n",
              "      <th>AAPL</th>\n",
              "      <th>F</th>\n",
              "      <th>NVDA</th>\n",
              "    </tr>\n",
              "  </thead>\n",
              "  <tbody>\n",
              "    <tr>\n",
              "      <th>count</th>\n",
              "      <td>1212.000000</td>\n",
              "      <td>1212.000000</td>\n",
              "      <td>1212.000000</td>\n",
              "    </tr>\n",
              "    <tr>\n",
              "      <th>mean</th>\n",
              "      <td>119.215719</td>\n",
              "      <td>10.416289</td>\n",
              "      <td>166.125562</td>\n",
              "    </tr>\n",
              "    <tr>\n",
              "      <th>std</th>\n",
              "      <td>45.886324</td>\n",
              "      <td>3.473011</td>\n",
              "      <td>112.833299</td>\n",
              "    </tr>\n",
              "    <tr>\n",
              "      <th>min</th>\n",
              "      <td>34.163826</td>\n",
              "      <td>3.551299</td>\n",
              "      <td>31.751745</td>\n",
              "    </tr>\n",
              "    <tr>\n",
              "      <th>25%</th>\n",
              "      <td>73.007898</td>\n",
              "      <td>7.744057</td>\n",
              "      <td>66.240503</td>\n",
              "    </tr>\n",
              "    <tr>\n",
              "      <th>50%</th>\n",
              "      <td>131.345299</td>\n",
              "      <td>10.791164</td>\n",
              "      <td>141.435562</td>\n",
              "    </tr>\n",
              "    <tr>\n",
              "      <th>75%</th>\n",
              "      <td>154.439846</td>\n",
              "      <td>12.536525</td>\n",
              "      <td>221.742970</td>\n",
              "    </tr>\n",
              "    <tr>\n",
              "      <th>max</th>\n",
              "      <td>196.185074</td>\n",
              "      <td>22.420858</td>\n",
              "      <td>493.509338</td>\n",
              "    </tr>\n",
              "  </tbody>\n",
              "</table>\n",
              "</div>\n",
              "    <div class=\"colab-df-buttons\">\n",
              "\n",
              "  <div class=\"colab-df-container\">\n",
              "    <button class=\"colab-df-convert\" onclick=\"convertToInteractive('df-42287a99-4eac-4ff5-853d-4ca74f171429')\"\n",
              "            title=\"Convert this dataframe to an interactive table.\"\n",
              "            style=\"display:none;\">\n",
              "\n",
              "  <svg xmlns=\"http://www.w3.org/2000/svg\" height=\"24px\" viewBox=\"0 -960 960 960\">\n",
              "    <path d=\"M120-120v-720h720v720H120Zm60-500h600v-160H180v160Zm220 220h160v-160H400v160Zm0 220h160v-160H400v160ZM180-400h160v-160H180v160Zm440 0h160v-160H620v160ZM180-180h160v-160H180v160Zm440 0h160v-160H620v160Z\"/>\n",
              "  </svg>\n",
              "    </button>\n",
              "\n",
              "  <style>\n",
              "    .colab-df-container {\n",
              "      display:flex;\n",
              "      gap: 12px;\n",
              "    }\n",
              "\n",
              "    .colab-df-convert {\n",
              "      background-color: #E8F0FE;\n",
              "      border: none;\n",
              "      border-radius: 50%;\n",
              "      cursor: pointer;\n",
              "      display: none;\n",
              "      fill: #1967D2;\n",
              "      height: 32px;\n",
              "      padding: 0 0 0 0;\n",
              "      width: 32px;\n",
              "    }\n",
              "\n",
              "    .colab-df-convert:hover {\n",
              "      background-color: #E2EBFA;\n",
              "      box-shadow: 0px 1px 2px rgba(60, 64, 67, 0.3), 0px 1px 3px 1px rgba(60, 64, 67, 0.15);\n",
              "      fill: #174EA6;\n",
              "    }\n",
              "\n",
              "    .colab-df-buttons div {\n",
              "      margin-bottom: 4px;\n",
              "    }\n",
              "\n",
              "    [theme=dark] .colab-df-convert {\n",
              "      background-color: #3B4455;\n",
              "      fill: #D2E3FC;\n",
              "    }\n",
              "\n",
              "    [theme=dark] .colab-df-convert:hover {\n",
              "      background-color: #434B5C;\n",
              "      box-shadow: 0px 1px 3px 1px rgba(0, 0, 0, 0.15);\n",
              "      filter: drop-shadow(0px 1px 2px rgba(0, 0, 0, 0.3));\n",
              "      fill: #FFFFFF;\n",
              "    }\n",
              "  </style>\n",
              "\n",
              "    <script>\n",
              "      const buttonEl =\n",
              "        document.querySelector('#df-42287a99-4eac-4ff5-853d-4ca74f171429 button.colab-df-convert');\n",
              "      buttonEl.style.display =\n",
              "        google.colab.kernel.accessAllowed ? 'block' : 'none';\n",
              "\n",
              "      async function convertToInteractive(key) {\n",
              "        const element = document.querySelector('#df-42287a99-4eac-4ff5-853d-4ca74f171429');\n",
              "        const dataTable =\n",
              "          await google.colab.kernel.invokeFunction('convertToInteractive',\n",
              "                                                    [key], {});\n",
              "        if (!dataTable) return;\n",
              "\n",
              "        const docLinkHtml = 'Like what you see? Visit the ' +\n",
              "          '<a target=\"_blank\" href=https://colab.research.google.com/notebooks/data_table.ipynb>data table notebook</a>'\n",
              "          + ' to learn more about interactive tables.';\n",
              "        element.innerHTML = '';\n",
              "        dataTable['output_type'] = 'display_data';\n",
              "        await google.colab.output.renderOutput(dataTable, element);\n",
              "        const docLink = document.createElement('div');\n",
              "        docLink.innerHTML = docLinkHtml;\n",
              "        element.appendChild(docLink);\n",
              "      }\n",
              "    </script>\n",
              "  </div>\n",
              "\n",
              "\n",
              "<div id=\"df-84472758-99d5-49b1-87fd-def8e112b655\">\n",
              "  <button class=\"colab-df-quickchart\" onclick=\"quickchart('df-84472758-99d5-49b1-87fd-def8e112b655')\"\n",
              "            title=\"Suggest charts.\"\n",
              "            style=\"display:none;\">\n",
              "\n",
              "<svg xmlns=\"http://www.w3.org/2000/svg\" height=\"24px\"viewBox=\"0 0 24 24\"\n",
              "     width=\"24px\">\n",
              "    <g>\n",
              "        <path d=\"M19 3H5c-1.1 0-2 .9-2 2v14c0 1.1.9 2 2 2h14c1.1 0 2-.9 2-2V5c0-1.1-.9-2-2-2zM9 17H7v-7h2v7zm4 0h-2V7h2v10zm4 0h-2v-4h2v4z\"/>\n",
              "    </g>\n",
              "</svg>\n",
              "  </button>\n",
              "\n",
              "<style>\n",
              "  .colab-df-quickchart {\n",
              "      --bg-color: #E8F0FE;\n",
              "      --fill-color: #1967D2;\n",
              "      --hover-bg-color: #E2EBFA;\n",
              "      --hover-fill-color: #174EA6;\n",
              "      --disabled-fill-color: #AAA;\n",
              "      --disabled-bg-color: #DDD;\n",
              "  }\n",
              "\n",
              "  [theme=dark] .colab-df-quickchart {\n",
              "      --bg-color: #3B4455;\n",
              "      --fill-color: #D2E3FC;\n",
              "      --hover-bg-color: #434B5C;\n",
              "      --hover-fill-color: #FFFFFF;\n",
              "      --disabled-bg-color: #3B4455;\n",
              "      --disabled-fill-color: #666;\n",
              "  }\n",
              "\n",
              "  .colab-df-quickchart {\n",
              "    background-color: var(--bg-color);\n",
              "    border: none;\n",
              "    border-radius: 50%;\n",
              "    cursor: pointer;\n",
              "    display: none;\n",
              "    fill: var(--fill-color);\n",
              "    height: 32px;\n",
              "    padding: 0;\n",
              "    width: 32px;\n",
              "  }\n",
              "\n",
              "  .colab-df-quickchart:hover {\n",
              "    background-color: var(--hover-bg-color);\n",
              "    box-shadow: 0 1px 2px rgba(60, 64, 67, 0.3), 0 1px 3px 1px rgba(60, 64, 67, 0.15);\n",
              "    fill: var(--button-hover-fill-color);\n",
              "  }\n",
              "\n",
              "  .colab-df-quickchart-complete:disabled,\n",
              "  .colab-df-quickchart-complete:disabled:hover {\n",
              "    background-color: var(--disabled-bg-color);\n",
              "    fill: var(--disabled-fill-color);\n",
              "    box-shadow: none;\n",
              "  }\n",
              "\n",
              "  .colab-df-spinner {\n",
              "    border: 2px solid var(--fill-color);\n",
              "    border-color: transparent;\n",
              "    border-bottom-color: var(--fill-color);\n",
              "    animation:\n",
              "      spin 1s steps(1) infinite;\n",
              "  }\n",
              "\n",
              "  @keyframes spin {\n",
              "    0% {\n",
              "      border-color: transparent;\n",
              "      border-bottom-color: var(--fill-color);\n",
              "      border-left-color: var(--fill-color);\n",
              "    }\n",
              "    20% {\n",
              "      border-color: transparent;\n",
              "      border-left-color: var(--fill-color);\n",
              "      border-top-color: var(--fill-color);\n",
              "    }\n",
              "    30% {\n",
              "      border-color: transparent;\n",
              "      border-left-color: var(--fill-color);\n",
              "      border-top-color: var(--fill-color);\n",
              "      border-right-color: var(--fill-color);\n",
              "    }\n",
              "    40% {\n",
              "      border-color: transparent;\n",
              "      border-right-color: var(--fill-color);\n",
              "      border-top-color: var(--fill-color);\n",
              "    }\n",
              "    60% {\n",
              "      border-color: transparent;\n",
              "      border-right-color: var(--fill-color);\n",
              "    }\n",
              "    80% {\n",
              "      border-color: transparent;\n",
              "      border-right-color: var(--fill-color);\n",
              "      border-bottom-color: var(--fill-color);\n",
              "    }\n",
              "    90% {\n",
              "      border-color: transparent;\n",
              "      border-bottom-color: var(--fill-color);\n",
              "    }\n",
              "  }\n",
              "</style>\n",
              "\n",
              "  <script>\n",
              "    async function quickchart(key) {\n",
              "      const quickchartButtonEl =\n",
              "        document.querySelector('#' + key + ' button');\n",
              "      quickchartButtonEl.disabled = true;  // To prevent multiple clicks.\n",
              "      quickchartButtonEl.classList.add('colab-df-spinner');\n",
              "      try {\n",
              "        const charts = await google.colab.kernel.invokeFunction(\n",
              "            'suggestCharts', [key], {});\n",
              "      } catch (error) {\n",
              "        console.error('Error during call to suggestCharts:', error);\n",
              "      }\n",
              "      quickchartButtonEl.classList.remove('colab-df-spinner');\n",
              "      quickchartButtonEl.classList.add('colab-df-quickchart-complete');\n",
              "    }\n",
              "    (() => {\n",
              "      let quickchartButtonEl =\n",
              "        document.querySelector('#df-84472758-99d5-49b1-87fd-def8e112b655 button');\n",
              "      quickchartButtonEl.style.display =\n",
              "        google.colab.kernel.accessAllowed ? 'block' : 'none';\n",
              "    })();\n",
              "  </script>\n",
              "</div>\n",
              "    </div>\n",
              "  </div>\n"
            ]
          },
          "metadata": {},
          "execution_count": 64
        }
      ],
      "source": [
        "df['Adj Close'].describe()"
      ]
    },
    {
      "cell_type": "code",
      "execution_count": 65,
      "metadata": {
        "id": "PhIskpaW_zKg",
        "outputId": "6954936f-9843-4ce7-b456-4e013c947958",
        "colab": {
          "base_uri": "https://localhost:8080/",
          "height": 269
        }
      },
      "outputs": [
        {
          "output_type": "execute_result",
          "data": {
            "text/plain": [
              "            Adj Close                     \n",
              "                 AAPL         F       NVDA\n",
              "Date                                      \n",
              "2019-01-02  37.943253  6.451035  33.793442\n",
              "2019-01-03  34.163826  6.353045  31.751745\n",
              "2019-01-04  35.622261  6.598022  33.786003\n",
              "2019-01-07  35.542973  6.769505  35.574657\n",
              "2019-01-08  36.220531  6.834831  34.689014"
            ],
            "text/html": [
              "\n",
              "  <div id=\"df-8b01147d-e046-4f48-9a23-96b6b42be714\" class=\"colab-df-container\">\n",
              "    <div>\n",
              "<style scoped>\n",
              "    .dataframe tbody tr th:only-of-type {\n",
              "        vertical-align: middle;\n",
              "    }\n",
              "\n",
              "    .dataframe tbody tr th {\n",
              "        vertical-align: top;\n",
              "    }\n",
              "\n",
              "    .dataframe thead tr th {\n",
              "        text-align: left;\n",
              "    }\n",
              "\n",
              "    .dataframe thead tr:last-of-type th {\n",
              "        text-align: right;\n",
              "    }\n",
              "</style>\n",
              "<table border=\"1\" class=\"dataframe\">\n",
              "  <thead>\n",
              "    <tr>\n",
              "      <th></th>\n",
              "      <th colspan=\"3\" halign=\"left\">Adj Close</th>\n",
              "    </tr>\n",
              "    <tr>\n",
              "      <th></th>\n",
              "      <th>AAPL</th>\n",
              "      <th>F</th>\n",
              "      <th>NVDA</th>\n",
              "    </tr>\n",
              "    <tr>\n",
              "      <th>Date</th>\n",
              "      <th></th>\n",
              "      <th></th>\n",
              "      <th></th>\n",
              "    </tr>\n",
              "  </thead>\n",
              "  <tbody>\n",
              "    <tr>\n",
              "      <th>2019-01-02</th>\n",
              "      <td>37.943253</td>\n",
              "      <td>6.451035</td>\n",
              "      <td>33.793442</td>\n",
              "    </tr>\n",
              "    <tr>\n",
              "      <th>2019-01-03</th>\n",
              "      <td>34.163826</td>\n",
              "      <td>6.353045</td>\n",
              "      <td>31.751745</td>\n",
              "    </tr>\n",
              "    <tr>\n",
              "      <th>2019-01-04</th>\n",
              "      <td>35.622261</td>\n",
              "      <td>6.598022</td>\n",
              "      <td>33.786003</td>\n",
              "    </tr>\n",
              "    <tr>\n",
              "      <th>2019-01-07</th>\n",
              "      <td>35.542973</td>\n",
              "      <td>6.769505</td>\n",
              "      <td>35.574657</td>\n",
              "    </tr>\n",
              "    <tr>\n",
              "      <th>2019-01-08</th>\n",
              "      <td>36.220531</td>\n",
              "      <td>6.834831</td>\n",
              "      <td>34.689014</td>\n",
              "    </tr>\n",
              "  </tbody>\n",
              "</table>\n",
              "</div>\n",
              "    <div class=\"colab-df-buttons\">\n",
              "\n",
              "  <div class=\"colab-df-container\">\n",
              "    <button class=\"colab-df-convert\" onclick=\"convertToInteractive('df-8b01147d-e046-4f48-9a23-96b6b42be714')\"\n",
              "            title=\"Convert this dataframe to an interactive table.\"\n",
              "            style=\"display:none;\">\n",
              "\n",
              "  <svg xmlns=\"http://www.w3.org/2000/svg\" height=\"24px\" viewBox=\"0 -960 960 960\">\n",
              "    <path d=\"M120-120v-720h720v720H120Zm60-500h600v-160H180v160Zm220 220h160v-160H400v160Zm0 220h160v-160H400v160ZM180-400h160v-160H180v160Zm440 0h160v-160H620v160ZM180-180h160v-160H180v160Zm440 0h160v-160H620v160Z\"/>\n",
              "  </svg>\n",
              "    </button>\n",
              "\n",
              "  <style>\n",
              "    .colab-df-container {\n",
              "      display:flex;\n",
              "      gap: 12px;\n",
              "    }\n",
              "\n",
              "    .colab-df-convert {\n",
              "      background-color: #E8F0FE;\n",
              "      border: none;\n",
              "      border-radius: 50%;\n",
              "      cursor: pointer;\n",
              "      display: none;\n",
              "      fill: #1967D2;\n",
              "      height: 32px;\n",
              "      padding: 0 0 0 0;\n",
              "      width: 32px;\n",
              "    }\n",
              "\n",
              "    .colab-df-convert:hover {\n",
              "      background-color: #E2EBFA;\n",
              "      box-shadow: 0px 1px 2px rgba(60, 64, 67, 0.3), 0px 1px 3px 1px rgba(60, 64, 67, 0.15);\n",
              "      fill: #174EA6;\n",
              "    }\n",
              "\n",
              "    .colab-df-buttons div {\n",
              "      margin-bottom: 4px;\n",
              "    }\n",
              "\n",
              "    [theme=dark] .colab-df-convert {\n",
              "      background-color: #3B4455;\n",
              "      fill: #D2E3FC;\n",
              "    }\n",
              "\n",
              "    [theme=dark] .colab-df-convert:hover {\n",
              "      background-color: #434B5C;\n",
              "      box-shadow: 0px 1px 3px 1px rgba(0, 0, 0, 0.15);\n",
              "      filter: drop-shadow(0px 1px 2px rgba(0, 0, 0, 0.3));\n",
              "      fill: #FFFFFF;\n",
              "    }\n",
              "  </style>\n",
              "\n",
              "    <script>\n",
              "      const buttonEl =\n",
              "        document.querySelector('#df-8b01147d-e046-4f48-9a23-96b6b42be714 button.colab-df-convert');\n",
              "      buttonEl.style.display =\n",
              "        google.colab.kernel.accessAllowed ? 'block' : 'none';\n",
              "\n",
              "      async function convertToInteractive(key) {\n",
              "        const element = document.querySelector('#df-8b01147d-e046-4f48-9a23-96b6b42be714');\n",
              "        const dataTable =\n",
              "          await google.colab.kernel.invokeFunction('convertToInteractive',\n",
              "                                                    [key], {});\n",
              "        if (!dataTable) return;\n",
              "\n",
              "        const docLinkHtml = 'Like what you see? Visit the ' +\n",
              "          '<a target=\"_blank\" href=https://colab.research.google.com/notebooks/data_table.ipynb>data table notebook</a>'\n",
              "          + ' to learn more about interactive tables.';\n",
              "        element.innerHTML = '';\n",
              "        dataTable['output_type'] = 'display_data';\n",
              "        await google.colab.output.renderOutput(dataTable, element);\n",
              "        const docLink = document.createElement('div');\n",
              "        docLink.innerHTML = docLinkHtml;\n",
              "        element.appendChild(docLink);\n",
              "      }\n",
              "    </script>\n",
              "  </div>\n",
              "\n",
              "\n",
              "<div id=\"df-317d67af-ab98-4df4-b5b2-3d1ebaeb69f2\">\n",
              "  <button class=\"colab-df-quickchart\" onclick=\"quickchart('df-317d67af-ab98-4df4-b5b2-3d1ebaeb69f2')\"\n",
              "            title=\"Suggest charts.\"\n",
              "            style=\"display:none;\">\n",
              "\n",
              "<svg xmlns=\"http://www.w3.org/2000/svg\" height=\"24px\"viewBox=\"0 0 24 24\"\n",
              "     width=\"24px\">\n",
              "    <g>\n",
              "        <path d=\"M19 3H5c-1.1 0-2 .9-2 2v14c0 1.1.9 2 2 2h14c1.1 0 2-.9 2-2V5c0-1.1-.9-2-2-2zM9 17H7v-7h2v7zm4 0h-2V7h2v10zm4 0h-2v-4h2v4z\"/>\n",
              "    </g>\n",
              "</svg>\n",
              "  </button>\n",
              "\n",
              "<style>\n",
              "  .colab-df-quickchart {\n",
              "      --bg-color: #E8F0FE;\n",
              "      --fill-color: #1967D2;\n",
              "      --hover-bg-color: #E2EBFA;\n",
              "      --hover-fill-color: #174EA6;\n",
              "      --disabled-fill-color: #AAA;\n",
              "      --disabled-bg-color: #DDD;\n",
              "  }\n",
              "\n",
              "  [theme=dark] .colab-df-quickchart {\n",
              "      --bg-color: #3B4455;\n",
              "      --fill-color: #D2E3FC;\n",
              "      --hover-bg-color: #434B5C;\n",
              "      --hover-fill-color: #FFFFFF;\n",
              "      --disabled-bg-color: #3B4455;\n",
              "      --disabled-fill-color: #666;\n",
              "  }\n",
              "\n",
              "  .colab-df-quickchart {\n",
              "    background-color: var(--bg-color);\n",
              "    border: none;\n",
              "    border-radius: 50%;\n",
              "    cursor: pointer;\n",
              "    display: none;\n",
              "    fill: var(--fill-color);\n",
              "    height: 32px;\n",
              "    padding: 0;\n",
              "    width: 32px;\n",
              "  }\n",
              "\n",
              "  .colab-df-quickchart:hover {\n",
              "    background-color: var(--hover-bg-color);\n",
              "    box-shadow: 0 1px 2px rgba(60, 64, 67, 0.3), 0 1px 3px 1px rgba(60, 64, 67, 0.15);\n",
              "    fill: var(--button-hover-fill-color);\n",
              "  }\n",
              "\n",
              "  .colab-df-quickchart-complete:disabled,\n",
              "  .colab-df-quickchart-complete:disabled:hover {\n",
              "    background-color: var(--disabled-bg-color);\n",
              "    fill: var(--disabled-fill-color);\n",
              "    box-shadow: none;\n",
              "  }\n",
              "\n",
              "  .colab-df-spinner {\n",
              "    border: 2px solid var(--fill-color);\n",
              "    border-color: transparent;\n",
              "    border-bottom-color: var(--fill-color);\n",
              "    animation:\n",
              "      spin 1s steps(1) infinite;\n",
              "  }\n",
              "\n",
              "  @keyframes spin {\n",
              "    0% {\n",
              "      border-color: transparent;\n",
              "      border-bottom-color: var(--fill-color);\n",
              "      border-left-color: var(--fill-color);\n",
              "    }\n",
              "    20% {\n",
              "      border-color: transparent;\n",
              "      border-left-color: var(--fill-color);\n",
              "      border-top-color: var(--fill-color);\n",
              "    }\n",
              "    30% {\n",
              "      border-color: transparent;\n",
              "      border-left-color: var(--fill-color);\n",
              "      border-top-color: var(--fill-color);\n",
              "      border-right-color: var(--fill-color);\n",
              "    }\n",
              "    40% {\n",
              "      border-color: transparent;\n",
              "      border-right-color: var(--fill-color);\n",
              "      border-top-color: var(--fill-color);\n",
              "    }\n",
              "    60% {\n",
              "      border-color: transparent;\n",
              "      border-right-color: var(--fill-color);\n",
              "    }\n",
              "    80% {\n",
              "      border-color: transparent;\n",
              "      border-right-color: var(--fill-color);\n",
              "      border-bottom-color: var(--fill-color);\n",
              "    }\n",
              "    90% {\n",
              "      border-color: transparent;\n",
              "      border-bottom-color: var(--fill-color);\n",
              "    }\n",
              "  }\n",
              "</style>\n",
              "\n",
              "  <script>\n",
              "    async function quickchart(key) {\n",
              "      const quickchartButtonEl =\n",
              "        document.querySelector('#' + key + ' button');\n",
              "      quickchartButtonEl.disabled = true;  // To prevent multiple clicks.\n",
              "      quickchartButtonEl.classList.add('colab-df-spinner');\n",
              "      try {\n",
              "        const charts = await google.colab.kernel.invokeFunction(\n",
              "            'suggestCharts', [key], {});\n",
              "      } catch (error) {\n",
              "        console.error('Error during call to suggestCharts:', error);\n",
              "      }\n",
              "      quickchartButtonEl.classList.remove('colab-df-spinner');\n",
              "      quickchartButtonEl.classList.add('colab-df-quickchart-complete');\n",
              "    }\n",
              "    (() => {\n",
              "      let quickchartButtonEl =\n",
              "        document.querySelector('#df-317d67af-ab98-4df4-b5b2-3d1ebaeb69f2 button');\n",
              "      quickchartButtonEl.style.display =\n",
              "        google.colab.kernel.accessAllowed ? 'block' : 'none';\n",
              "    })();\n",
              "  </script>\n",
              "</div>\n",
              "    </div>\n",
              "  </div>\n"
            ]
          },
          "metadata": {},
          "execution_count": 65
        }
      ],
      "source": [
        "#using only adj close\n",
        "df = df[['Adj Close']]\n",
        "df.head()"
      ]
    },
    {
      "cell_type": "code",
      "execution_count": 66,
      "metadata": {
        "scrolled": true,
        "id": "CPZurxmQ_zKg",
        "outputId": "80bb7549-30cc-4ea9-fd85-7f2fb06e3c68",
        "colab": {
          "base_uri": "https://localhost:8080/",
          "height": 269
        }
      },
      "outputs": [
        {
          "output_type": "execute_result",
          "data": {
            "text/plain": [
              "           Adj Close                    \n",
              "                AAPL         F      NVDA\n",
              "Date                                    \n",
              "2019-01-02       NaN       NaN       NaN\n",
              "2019-01-03 -0.099607 -0.015190 -0.060417\n",
              "2019-01-04  0.042689  0.038561  0.064068\n",
              "2019-01-07 -0.002226  0.025990  0.052941\n",
              "2019-01-08  0.019063  0.009650 -0.024895"
            ],
            "text/html": [
              "\n",
              "  <div id=\"df-57fc8afa-b84e-4977-aa79-5701679bc76c\" class=\"colab-df-container\">\n",
              "    <div>\n",
              "<style scoped>\n",
              "    .dataframe tbody tr th:only-of-type {\n",
              "        vertical-align: middle;\n",
              "    }\n",
              "\n",
              "    .dataframe tbody tr th {\n",
              "        vertical-align: top;\n",
              "    }\n",
              "\n",
              "    .dataframe thead tr th {\n",
              "        text-align: left;\n",
              "    }\n",
              "\n",
              "    .dataframe thead tr:last-of-type th {\n",
              "        text-align: right;\n",
              "    }\n",
              "</style>\n",
              "<table border=\"1\" class=\"dataframe\">\n",
              "  <thead>\n",
              "    <tr>\n",
              "      <th></th>\n",
              "      <th colspan=\"3\" halign=\"left\">Adj Close</th>\n",
              "    </tr>\n",
              "    <tr>\n",
              "      <th></th>\n",
              "      <th>AAPL</th>\n",
              "      <th>F</th>\n",
              "      <th>NVDA</th>\n",
              "    </tr>\n",
              "    <tr>\n",
              "      <th>Date</th>\n",
              "      <th></th>\n",
              "      <th></th>\n",
              "      <th></th>\n",
              "    </tr>\n",
              "  </thead>\n",
              "  <tbody>\n",
              "    <tr>\n",
              "      <th>2019-01-02</th>\n",
              "      <td>NaN</td>\n",
              "      <td>NaN</td>\n",
              "      <td>NaN</td>\n",
              "    </tr>\n",
              "    <tr>\n",
              "      <th>2019-01-03</th>\n",
              "      <td>-0.099607</td>\n",
              "      <td>-0.015190</td>\n",
              "      <td>-0.060417</td>\n",
              "    </tr>\n",
              "    <tr>\n",
              "      <th>2019-01-04</th>\n",
              "      <td>0.042689</td>\n",
              "      <td>0.038561</td>\n",
              "      <td>0.064068</td>\n",
              "    </tr>\n",
              "    <tr>\n",
              "      <th>2019-01-07</th>\n",
              "      <td>-0.002226</td>\n",
              "      <td>0.025990</td>\n",
              "      <td>0.052941</td>\n",
              "    </tr>\n",
              "    <tr>\n",
              "      <th>2019-01-08</th>\n",
              "      <td>0.019063</td>\n",
              "      <td>0.009650</td>\n",
              "      <td>-0.024895</td>\n",
              "    </tr>\n",
              "  </tbody>\n",
              "</table>\n",
              "</div>\n",
              "    <div class=\"colab-df-buttons\">\n",
              "\n",
              "  <div class=\"colab-df-container\">\n",
              "    <button class=\"colab-df-convert\" onclick=\"convertToInteractive('df-57fc8afa-b84e-4977-aa79-5701679bc76c')\"\n",
              "            title=\"Convert this dataframe to an interactive table.\"\n",
              "            style=\"display:none;\">\n",
              "\n",
              "  <svg xmlns=\"http://www.w3.org/2000/svg\" height=\"24px\" viewBox=\"0 -960 960 960\">\n",
              "    <path d=\"M120-120v-720h720v720H120Zm60-500h600v-160H180v160Zm220 220h160v-160H400v160Zm0 220h160v-160H400v160ZM180-400h160v-160H180v160Zm440 0h160v-160H620v160ZM180-180h160v-160H180v160Zm440 0h160v-160H620v160Z\"/>\n",
              "  </svg>\n",
              "    </button>\n",
              "\n",
              "  <style>\n",
              "    .colab-df-container {\n",
              "      display:flex;\n",
              "      gap: 12px;\n",
              "    }\n",
              "\n",
              "    .colab-df-convert {\n",
              "      background-color: #E8F0FE;\n",
              "      border: none;\n",
              "      border-radius: 50%;\n",
              "      cursor: pointer;\n",
              "      display: none;\n",
              "      fill: #1967D2;\n",
              "      height: 32px;\n",
              "      padding: 0 0 0 0;\n",
              "      width: 32px;\n",
              "    }\n",
              "\n",
              "    .colab-df-convert:hover {\n",
              "      background-color: #E2EBFA;\n",
              "      box-shadow: 0px 1px 2px rgba(60, 64, 67, 0.3), 0px 1px 3px 1px rgba(60, 64, 67, 0.15);\n",
              "      fill: #174EA6;\n",
              "    }\n",
              "\n",
              "    .colab-df-buttons div {\n",
              "      margin-bottom: 4px;\n",
              "    }\n",
              "\n",
              "    [theme=dark] .colab-df-convert {\n",
              "      background-color: #3B4455;\n",
              "      fill: #D2E3FC;\n",
              "    }\n",
              "\n",
              "    [theme=dark] .colab-df-convert:hover {\n",
              "      background-color: #434B5C;\n",
              "      box-shadow: 0px 1px 3px 1px rgba(0, 0, 0, 0.15);\n",
              "      filter: drop-shadow(0px 1px 2px rgba(0, 0, 0, 0.3));\n",
              "      fill: #FFFFFF;\n",
              "    }\n",
              "  </style>\n",
              "\n",
              "    <script>\n",
              "      const buttonEl =\n",
              "        document.querySelector('#df-57fc8afa-b84e-4977-aa79-5701679bc76c button.colab-df-convert');\n",
              "      buttonEl.style.display =\n",
              "        google.colab.kernel.accessAllowed ? 'block' : 'none';\n",
              "\n",
              "      async function convertToInteractive(key) {\n",
              "        const element = document.querySelector('#df-57fc8afa-b84e-4977-aa79-5701679bc76c');\n",
              "        const dataTable =\n",
              "          await google.colab.kernel.invokeFunction('convertToInteractive',\n",
              "                                                    [key], {});\n",
              "        if (!dataTable) return;\n",
              "\n",
              "        const docLinkHtml = 'Like what you see? Visit the ' +\n",
              "          '<a target=\"_blank\" href=https://colab.research.google.com/notebooks/data_table.ipynb>data table notebook</a>'\n",
              "          + ' to learn more about interactive tables.';\n",
              "        element.innerHTML = '';\n",
              "        dataTable['output_type'] = 'display_data';\n",
              "        await google.colab.output.renderOutput(dataTable, element);\n",
              "        const docLink = document.createElement('div');\n",
              "        docLink.innerHTML = docLinkHtml;\n",
              "        element.appendChild(docLink);\n",
              "      }\n",
              "    </script>\n",
              "  </div>\n",
              "\n",
              "\n",
              "<div id=\"df-26bc631a-9f9b-4ad4-b396-3dedcf10171c\">\n",
              "  <button class=\"colab-df-quickchart\" onclick=\"quickchart('df-26bc631a-9f9b-4ad4-b396-3dedcf10171c')\"\n",
              "            title=\"Suggest charts.\"\n",
              "            style=\"display:none;\">\n",
              "\n",
              "<svg xmlns=\"http://www.w3.org/2000/svg\" height=\"24px\"viewBox=\"0 0 24 24\"\n",
              "     width=\"24px\">\n",
              "    <g>\n",
              "        <path d=\"M19 3H5c-1.1 0-2 .9-2 2v14c0 1.1.9 2 2 2h14c1.1 0 2-.9 2-2V5c0-1.1-.9-2-2-2zM9 17H7v-7h2v7zm4 0h-2V7h2v10zm4 0h-2v-4h2v4z\"/>\n",
              "    </g>\n",
              "</svg>\n",
              "  </button>\n",
              "\n",
              "<style>\n",
              "  .colab-df-quickchart {\n",
              "      --bg-color: #E8F0FE;\n",
              "      --fill-color: #1967D2;\n",
              "      --hover-bg-color: #E2EBFA;\n",
              "      --hover-fill-color: #174EA6;\n",
              "      --disabled-fill-color: #AAA;\n",
              "      --disabled-bg-color: #DDD;\n",
              "  }\n",
              "\n",
              "  [theme=dark] .colab-df-quickchart {\n",
              "      --bg-color: #3B4455;\n",
              "      --fill-color: #D2E3FC;\n",
              "      --hover-bg-color: #434B5C;\n",
              "      --hover-fill-color: #FFFFFF;\n",
              "      --disabled-bg-color: #3B4455;\n",
              "      --disabled-fill-color: #666;\n",
              "  }\n",
              "\n",
              "  .colab-df-quickchart {\n",
              "    background-color: var(--bg-color);\n",
              "    border: none;\n",
              "    border-radius: 50%;\n",
              "    cursor: pointer;\n",
              "    display: none;\n",
              "    fill: var(--fill-color);\n",
              "    height: 32px;\n",
              "    padding: 0;\n",
              "    width: 32px;\n",
              "  }\n",
              "\n",
              "  .colab-df-quickchart:hover {\n",
              "    background-color: var(--hover-bg-color);\n",
              "    box-shadow: 0 1px 2px rgba(60, 64, 67, 0.3), 0 1px 3px 1px rgba(60, 64, 67, 0.15);\n",
              "    fill: var(--button-hover-fill-color);\n",
              "  }\n",
              "\n",
              "  .colab-df-quickchart-complete:disabled,\n",
              "  .colab-df-quickchart-complete:disabled:hover {\n",
              "    background-color: var(--disabled-bg-color);\n",
              "    fill: var(--disabled-fill-color);\n",
              "    box-shadow: none;\n",
              "  }\n",
              "\n",
              "  .colab-df-spinner {\n",
              "    border: 2px solid var(--fill-color);\n",
              "    border-color: transparent;\n",
              "    border-bottom-color: var(--fill-color);\n",
              "    animation:\n",
              "      spin 1s steps(1) infinite;\n",
              "  }\n",
              "\n",
              "  @keyframes spin {\n",
              "    0% {\n",
              "      border-color: transparent;\n",
              "      border-bottom-color: var(--fill-color);\n",
              "      border-left-color: var(--fill-color);\n",
              "    }\n",
              "    20% {\n",
              "      border-color: transparent;\n",
              "      border-left-color: var(--fill-color);\n",
              "      border-top-color: var(--fill-color);\n",
              "    }\n",
              "    30% {\n",
              "      border-color: transparent;\n",
              "      border-left-color: var(--fill-color);\n",
              "      border-top-color: var(--fill-color);\n",
              "      border-right-color: var(--fill-color);\n",
              "    }\n",
              "    40% {\n",
              "      border-color: transparent;\n",
              "      border-right-color: var(--fill-color);\n",
              "      border-top-color: var(--fill-color);\n",
              "    }\n",
              "    60% {\n",
              "      border-color: transparent;\n",
              "      border-right-color: var(--fill-color);\n",
              "    }\n",
              "    80% {\n",
              "      border-color: transparent;\n",
              "      border-right-color: var(--fill-color);\n",
              "      border-bottom-color: var(--fill-color);\n",
              "    }\n",
              "    90% {\n",
              "      border-color: transparent;\n",
              "      border-bottom-color: var(--fill-color);\n",
              "    }\n",
              "  }\n",
              "</style>\n",
              "\n",
              "  <script>\n",
              "    async function quickchart(key) {\n",
              "      const quickchartButtonEl =\n",
              "        document.querySelector('#' + key + ' button');\n",
              "      quickchartButtonEl.disabled = true;  // To prevent multiple clicks.\n",
              "      quickchartButtonEl.classList.add('colab-df-spinner');\n",
              "      try {\n",
              "        const charts = await google.colab.kernel.invokeFunction(\n",
              "            'suggestCharts', [key], {});\n",
              "      } catch (error) {\n",
              "        console.error('Error during call to suggestCharts:', error);\n",
              "      }\n",
              "      quickchartButtonEl.classList.remove('colab-df-spinner');\n",
              "      quickchartButtonEl.classList.add('colab-df-quickchart-complete');\n",
              "    }\n",
              "    (() => {\n",
              "      let quickchartButtonEl =\n",
              "        document.querySelector('#df-26bc631a-9f9b-4ad4-b396-3dedcf10171c button');\n",
              "      quickchartButtonEl.style.display =\n",
              "        google.colab.kernel.accessAllowed ? 'block' : 'none';\n",
              "    })();\n",
              "  </script>\n",
              "</div>\n",
              "    </div>\n",
              "  </div>\n"
            ]
          },
          "metadata": {},
          "execution_count": 66
        }
      ],
      "source": [
        "#getting the  retuns using pct_change\n",
        "returns = df.pct_change()\n",
        "returns.head()"
      ]
    },
    {
      "cell_type": "markdown",
      "source": [
        "calaulating the average return:"
      ],
      "metadata": {
        "id": "19OmDMD1T5BP"
      }
    },
    {
      "cell_type": "code",
      "execution_count": 67,
      "metadata": {
        "id": "uJNM86Lf_zKg",
        "outputId": "b75672e7-6368-4b1c-c541-ec4a41251483",
        "colab": {
          "base_uri": "https://localhost:8080/"
        }
      },
      "outputs": [
        {
          "output_type": "execute_result",
          "data": {
            "text/plain": [
              "Adj Close  AAPL    0.001468\n",
              "           F       0.000836\n",
              "           NVDA    0.002656\n",
              "dtype: float64"
            ]
          },
          "metadata": {},
          "execution_count": 67
        }
      ],
      "source": [
        "#mean of the daily returns\n",
        "meanDailyReturns=returns.mean()\n",
        "meanDailyReturns"
      ]
    },
    {
      "cell_type": "markdown",
      "source": [
        "X'ing the mean of the pct_change by the weights to get the average return of the portfolio"
      ],
      "metadata": {
        "id": "SYiqSfAnT9HH"
      }
    },
    {
      "cell_type": "code",
      "execution_count": 68,
      "metadata": {
        "id": "6c4c40_K_zKg",
        "outputId": "aa7e62c8-5500-4cac-8ec4-b307442c64a0",
        "colab": {
          "base_uri": "https://localhost:8080/"
        }
      },
      "outputs": [
        {
          "output_type": "execute_result",
          "data": {
            "text/plain": [
              "0.0019039605409300882"
            ]
          },
          "metadata": {},
          "execution_count": 68
        }
      ],
      "source": [
        "#assuming for 1000 you invest, you divvy them up in the following pctages among the 3 companies\n",
        "weights = np.array([0.25,0.25,0.5])\n",
        "\n",
        "portReturn = np.sum(meanDailyReturns*weights)\n",
        "portReturn"
      ]
    },
    {
      "cell_type": "markdown",
      "metadata": {
        "id": "Bt6hafR6_zKh"
      },
      "source": [
        "## cumulative returns"
      ]
    },
    {
      "cell_type": "markdown",
      "metadata": {
        "id": "xZOjC0lH_zKh"
      },
      "source": [
        "allows you to track portfolio performance over time"
      ]
    },
    {
      "cell_type": "code",
      "execution_count": 69,
      "metadata": {
        "scrolled": true,
        "id": "40ftkr6T_zKh",
        "outputId": "aefaedd1-731b-4279-e675-80779421c088",
        "colab": {
          "base_uri": "https://localhost:8080/",
          "height": 269
        }
      },
      "outputs": [
        {
          "output_type": "execute_result",
          "data": {
            "text/plain": [
              "           Adj Close                     portfolio\n",
              "                AAPL         F      NVDA          \n",
              "Date                                              \n",
              "2019-01-02       NaN       NaN       NaN       NaN\n",
              "2019-01-03 -0.099607 -0.015190 -0.060417 -0.058908\n",
              "2019-01-04  0.042689  0.038561  0.064068  0.052346\n",
              "2019-01-07 -0.002226  0.025990  0.052941  0.032411\n",
              "2019-01-08  0.019063  0.009650 -0.024895 -0.005269"
            ],
            "text/html": [
              "\n",
              "  <div id=\"df-de9c2633-ba1d-4820-9ccb-025ea8732fec\" class=\"colab-df-container\">\n",
              "    <div>\n",
              "<style scoped>\n",
              "    .dataframe tbody tr th:only-of-type {\n",
              "        vertical-align: middle;\n",
              "    }\n",
              "\n",
              "    .dataframe tbody tr th {\n",
              "        vertical-align: top;\n",
              "    }\n",
              "\n",
              "    .dataframe thead tr th {\n",
              "        text-align: left;\n",
              "    }\n",
              "\n",
              "    .dataframe thead tr:last-of-type th {\n",
              "        text-align: right;\n",
              "    }\n",
              "</style>\n",
              "<table border=\"1\" class=\"dataframe\">\n",
              "  <thead>\n",
              "    <tr>\n",
              "      <th></th>\n",
              "      <th colspan=\"3\" halign=\"left\">Adj Close</th>\n",
              "      <th>portfolio</th>\n",
              "    </tr>\n",
              "    <tr>\n",
              "      <th></th>\n",
              "      <th>AAPL</th>\n",
              "      <th>F</th>\n",
              "      <th>NVDA</th>\n",
              "      <th></th>\n",
              "    </tr>\n",
              "    <tr>\n",
              "      <th>Date</th>\n",
              "      <th></th>\n",
              "      <th></th>\n",
              "      <th></th>\n",
              "      <th></th>\n",
              "    </tr>\n",
              "  </thead>\n",
              "  <tbody>\n",
              "    <tr>\n",
              "      <th>2019-01-02</th>\n",
              "      <td>NaN</td>\n",
              "      <td>NaN</td>\n",
              "      <td>NaN</td>\n",
              "      <td>NaN</td>\n",
              "    </tr>\n",
              "    <tr>\n",
              "      <th>2019-01-03</th>\n",
              "      <td>-0.099607</td>\n",
              "      <td>-0.015190</td>\n",
              "      <td>-0.060417</td>\n",
              "      <td>-0.058908</td>\n",
              "    </tr>\n",
              "    <tr>\n",
              "      <th>2019-01-04</th>\n",
              "      <td>0.042689</td>\n",
              "      <td>0.038561</td>\n",
              "      <td>0.064068</td>\n",
              "      <td>0.052346</td>\n",
              "    </tr>\n",
              "    <tr>\n",
              "      <th>2019-01-07</th>\n",
              "      <td>-0.002226</td>\n",
              "      <td>0.025990</td>\n",
              "      <td>0.052941</td>\n",
              "      <td>0.032411</td>\n",
              "    </tr>\n",
              "    <tr>\n",
              "      <th>2019-01-08</th>\n",
              "      <td>0.019063</td>\n",
              "      <td>0.009650</td>\n",
              "      <td>-0.024895</td>\n",
              "      <td>-0.005269</td>\n",
              "    </tr>\n",
              "  </tbody>\n",
              "</table>\n",
              "</div>\n",
              "    <div class=\"colab-df-buttons\">\n",
              "\n",
              "  <div class=\"colab-df-container\">\n",
              "    <button class=\"colab-df-convert\" onclick=\"convertToInteractive('df-de9c2633-ba1d-4820-9ccb-025ea8732fec')\"\n",
              "            title=\"Convert this dataframe to an interactive table.\"\n",
              "            style=\"display:none;\">\n",
              "\n",
              "  <svg xmlns=\"http://www.w3.org/2000/svg\" height=\"24px\" viewBox=\"0 -960 960 960\">\n",
              "    <path d=\"M120-120v-720h720v720H120Zm60-500h600v-160H180v160Zm220 220h160v-160H400v160Zm0 220h160v-160H400v160ZM180-400h160v-160H180v160Zm440 0h160v-160H620v160ZM180-180h160v-160H180v160Zm440 0h160v-160H620v160Z\"/>\n",
              "  </svg>\n",
              "    </button>\n",
              "\n",
              "  <style>\n",
              "    .colab-df-container {\n",
              "      display:flex;\n",
              "      gap: 12px;\n",
              "    }\n",
              "\n",
              "    .colab-df-convert {\n",
              "      background-color: #E8F0FE;\n",
              "      border: none;\n",
              "      border-radius: 50%;\n",
              "      cursor: pointer;\n",
              "      display: none;\n",
              "      fill: #1967D2;\n",
              "      height: 32px;\n",
              "      padding: 0 0 0 0;\n",
              "      width: 32px;\n",
              "    }\n",
              "\n",
              "    .colab-df-convert:hover {\n",
              "      background-color: #E2EBFA;\n",
              "      box-shadow: 0px 1px 2px rgba(60, 64, 67, 0.3), 0px 1px 3px 1px rgba(60, 64, 67, 0.15);\n",
              "      fill: #174EA6;\n",
              "    }\n",
              "\n",
              "    .colab-df-buttons div {\n",
              "      margin-bottom: 4px;\n",
              "    }\n",
              "\n",
              "    [theme=dark] .colab-df-convert {\n",
              "      background-color: #3B4455;\n",
              "      fill: #D2E3FC;\n",
              "    }\n",
              "\n",
              "    [theme=dark] .colab-df-convert:hover {\n",
              "      background-color: #434B5C;\n",
              "      box-shadow: 0px 1px 3px 1px rgba(0, 0, 0, 0.15);\n",
              "      filter: drop-shadow(0px 1px 2px rgba(0, 0, 0, 0.3));\n",
              "      fill: #FFFFFF;\n",
              "    }\n",
              "  </style>\n",
              "\n",
              "    <script>\n",
              "      const buttonEl =\n",
              "        document.querySelector('#df-de9c2633-ba1d-4820-9ccb-025ea8732fec button.colab-df-convert');\n",
              "      buttonEl.style.display =\n",
              "        google.colab.kernel.accessAllowed ? 'block' : 'none';\n",
              "\n",
              "      async function convertToInteractive(key) {\n",
              "        const element = document.querySelector('#df-de9c2633-ba1d-4820-9ccb-025ea8732fec');\n",
              "        const dataTable =\n",
              "          await google.colab.kernel.invokeFunction('convertToInteractive',\n",
              "                                                    [key], {});\n",
              "        if (!dataTable) return;\n",
              "\n",
              "        const docLinkHtml = 'Like what you see? Visit the ' +\n",
              "          '<a target=\"_blank\" href=https://colab.research.google.com/notebooks/data_table.ipynb>data table notebook</a>'\n",
              "          + ' to learn more about interactive tables.';\n",
              "        element.innerHTML = '';\n",
              "        dataTable['output_type'] = 'display_data';\n",
              "        await google.colab.output.renderOutput(dataTable, element);\n",
              "        const docLink = document.createElement('div');\n",
              "        docLink.innerHTML = docLinkHtml;\n",
              "        element.appendChild(docLink);\n",
              "      }\n",
              "    </script>\n",
              "  </div>\n",
              "\n",
              "\n",
              "<div id=\"df-4a5d29e9-79f5-4598-909e-1d628224e3ca\">\n",
              "  <button class=\"colab-df-quickchart\" onclick=\"quickchart('df-4a5d29e9-79f5-4598-909e-1d628224e3ca')\"\n",
              "            title=\"Suggest charts.\"\n",
              "            style=\"display:none;\">\n",
              "\n",
              "<svg xmlns=\"http://www.w3.org/2000/svg\" height=\"24px\"viewBox=\"0 0 24 24\"\n",
              "     width=\"24px\">\n",
              "    <g>\n",
              "        <path d=\"M19 3H5c-1.1 0-2 .9-2 2v14c0 1.1.9 2 2 2h14c1.1 0 2-.9 2-2V5c0-1.1-.9-2-2-2zM9 17H7v-7h2v7zm4 0h-2V7h2v10zm4 0h-2v-4h2v4z\"/>\n",
              "    </g>\n",
              "</svg>\n",
              "  </button>\n",
              "\n",
              "<style>\n",
              "  .colab-df-quickchart {\n",
              "      --bg-color: #E8F0FE;\n",
              "      --fill-color: #1967D2;\n",
              "      --hover-bg-color: #E2EBFA;\n",
              "      --hover-fill-color: #174EA6;\n",
              "      --disabled-fill-color: #AAA;\n",
              "      --disabled-bg-color: #DDD;\n",
              "  }\n",
              "\n",
              "  [theme=dark] .colab-df-quickchart {\n",
              "      --bg-color: #3B4455;\n",
              "      --fill-color: #D2E3FC;\n",
              "      --hover-bg-color: #434B5C;\n",
              "      --hover-fill-color: #FFFFFF;\n",
              "      --disabled-bg-color: #3B4455;\n",
              "      --disabled-fill-color: #666;\n",
              "  }\n",
              "\n",
              "  .colab-df-quickchart {\n",
              "    background-color: var(--bg-color);\n",
              "    border: none;\n",
              "    border-radius: 50%;\n",
              "    cursor: pointer;\n",
              "    display: none;\n",
              "    fill: var(--fill-color);\n",
              "    height: 32px;\n",
              "    padding: 0;\n",
              "    width: 32px;\n",
              "  }\n",
              "\n",
              "  .colab-df-quickchart:hover {\n",
              "    background-color: var(--hover-bg-color);\n",
              "    box-shadow: 0 1px 2px rgba(60, 64, 67, 0.3), 0 1px 3px 1px rgba(60, 64, 67, 0.15);\n",
              "    fill: var(--button-hover-fill-color);\n",
              "  }\n",
              "\n",
              "  .colab-df-quickchart-complete:disabled,\n",
              "  .colab-df-quickchart-complete:disabled:hover {\n",
              "    background-color: var(--disabled-bg-color);\n",
              "    fill: var(--disabled-fill-color);\n",
              "    box-shadow: none;\n",
              "  }\n",
              "\n",
              "  .colab-df-spinner {\n",
              "    border: 2px solid var(--fill-color);\n",
              "    border-color: transparent;\n",
              "    border-bottom-color: var(--fill-color);\n",
              "    animation:\n",
              "      spin 1s steps(1) infinite;\n",
              "  }\n",
              "\n",
              "  @keyframes spin {\n",
              "    0% {\n",
              "      border-color: transparent;\n",
              "      border-bottom-color: var(--fill-color);\n",
              "      border-left-color: var(--fill-color);\n",
              "    }\n",
              "    20% {\n",
              "      border-color: transparent;\n",
              "      border-left-color: var(--fill-color);\n",
              "      border-top-color: var(--fill-color);\n",
              "    }\n",
              "    30% {\n",
              "      border-color: transparent;\n",
              "      border-left-color: var(--fill-color);\n",
              "      border-top-color: var(--fill-color);\n",
              "      border-right-color: var(--fill-color);\n",
              "    }\n",
              "    40% {\n",
              "      border-color: transparent;\n",
              "      border-right-color: var(--fill-color);\n",
              "      border-top-color: var(--fill-color);\n",
              "    }\n",
              "    60% {\n",
              "      border-color: transparent;\n",
              "      border-right-color: var(--fill-color);\n",
              "    }\n",
              "    80% {\n",
              "      border-color: transparent;\n",
              "      border-right-color: var(--fill-color);\n",
              "      border-bottom-color: var(--fill-color);\n",
              "    }\n",
              "    90% {\n",
              "      border-color: transparent;\n",
              "      border-bottom-color: var(--fill-color);\n",
              "    }\n",
              "  }\n",
              "</style>\n",
              "\n",
              "  <script>\n",
              "    async function quickchart(key) {\n",
              "      const quickchartButtonEl =\n",
              "        document.querySelector('#' + key + ' button');\n",
              "      quickchartButtonEl.disabled = true;  // To prevent multiple clicks.\n",
              "      quickchartButtonEl.classList.add('colab-df-spinner');\n",
              "      try {\n",
              "        const charts = await google.colab.kernel.invokeFunction(\n",
              "            'suggestCharts', [key], {});\n",
              "      } catch (error) {\n",
              "        console.error('Error during call to suggestCharts:', error);\n",
              "      }\n",
              "      quickchartButtonEl.classList.remove('colab-df-spinner');\n",
              "      quickchartButtonEl.classList.add('colab-df-quickchart-complete');\n",
              "    }\n",
              "    (() => {\n",
              "      let quickchartButtonEl =\n",
              "        document.querySelector('#df-4a5d29e9-79f5-4598-909e-1d628224e3ca button');\n",
              "      quickchartButtonEl.style.display =\n",
              "        google.colab.kernel.accessAllowed ? 'block' : 'none';\n",
              "    })();\n",
              "  </script>\n",
              "</div>\n",
              "    </div>\n",
              "  </div>\n"
            ]
          },
          "metadata": {},
          "execution_count": 69
        }
      ],
      "source": [
        "returns['portfolio'] = returns.dot(weights)\n",
        "returns.head()"
      ]
    },
    {
      "cell_type": "code",
      "execution_count": 49,
      "metadata": {
        "id": "DHH5wB5T_zKh"
      },
      "outputs": [],
      "source": [
        "# return.dot(weights)\n",
        "# for eg: first row: (0.099*0.25) + (0.01519*0.25) + (-0.041*0.5) = -0.0493\n",
        "#this way you calulate daily cumulative return"
      ]
    },
    {
      "cell_type": "code",
      "execution_count": 70,
      "metadata": {
        "scrolled": true,
        "id": "BleVp08E_zKi",
        "outputId": "96bb8660-5259-414a-9e09-3057de613543",
        "colab": {
          "base_uri": "https://localhost:8080/",
          "height": 486
        }
      },
      "outputs": [
        {
          "output_type": "execute_result",
          "data": {
            "text/plain": [
              "           Adj Close                      portfolio\n",
              "                AAPL         F       NVDA          \n",
              "Date                                               \n",
              "2019-01-02       NaN       NaN        NaN       NaN\n",
              "2019-01-03  0.900393  0.984810   0.939583  0.941092\n",
              "2019-01-04  0.938830  1.022785   0.999780  0.990355\n",
              "2019-01-07  0.936740  1.049367   1.052709  1.022454\n",
              "2019-01-08  0.954597  1.059494   1.026501  1.017066\n",
              "...              ...       ...        ...       ...\n",
              "2023-10-18  4.634289  1.821413  12.486446  7.030783\n",
              "2023-10-19  4.624274  1.787310  12.458335  6.986161\n",
              "2023-10-20  4.556278  1.804362  12.247051  6.917902\n",
              "2023-10-23  4.559440  1.779559  12.716965  7.028048\n",
              "2023-10-24  4.571037  1.765608  12.920554  7.074999\n",
              "\n",
              "[1212 rows x 4 columns]"
            ],
            "text/html": [
              "\n",
              "  <div id=\"df-f4a075e7-8e16-4b8e-bb5b-bd1862972b5c\" class=\"colab-df-container\">\n",
              "    <div>\n",
              "<style scoped>\n",
              "    .dataframe tbody tr th:only-of-type {\n",
              "        vertical-align: middle;\n",
              "    }\n",
              "\n",
              "    .dataframe tbody tr th {\n",
              "        vertical-align: top;\n",
              "    }\n",
              "\n",
              "    .dataframe thead tr th {\n",
              "        text-align: left;\n",
              "    }\n",
              "\n",
              "    .dataframe thead tr:last-of-type th {\n",
              "        text-align: right;\n",
              "    }\n",
              "</style>\n",
              "<table border=\"1\" class=\"dataframe\">\n",
              "  <thead>\n",
              "    <tr>\n",
              "      <th></th>\n",
              "      <th colspan=\"3\" halign=\"left\">Adj Close</th>\n",
              "      <th>portfolio</th>\n",
              "    </tr>\n",
              "    <tr>\n",
              "      <th></th>\n",
              "      <th>AAPL</th>\n",
              "      <th>F</th>\n",
              "      <th>NVDA</th>\n",
              "      <th></th>\n",
              "    </tr>\n",
              "    <tr>\n",
              "      <th>Date</th>\n",
              "      <th></th>\n",
              "      <th></th>\n",
              "      <th></th>\n",
              "      <th></th>\n",
              "    </tr>\n",
              "  </thead>\n",
              "  <tbody>\n",
              "    <tr>\n",
              "      <th>2019-01-02</th>\n",
              "      <td>NaN</td>\n",
              "      <td>NaN</td>\n",
              "      <td>NaN</td>\n",
              "      <td>NaN</td>\n",
              "    </tr>\n",
              "    <tr>\n",
              "      <th>2019-01-03</th>\n",
              "      <td>0.900393</td>\n",
              "      <td>0.984810</td>\n",
              "      <td>0.939583</td>\n",
              "      <td>0.941092</td>\n",
              "    </tr>\n",
              "    <tr>\n",
              "      <th>2019-01-04</th>\n",
              "      <td>0.938830</td>\n",
              "      <td>1.022785</td>\n",
              "      <td>0.999780</td>\n",
              "      <td>0.990355</td>\n",
              "    </tr>\n",
              "    <tr>\n",
              "      <th>2019-01-07</th>\n",
              "      <td>0.936740</td>\n",
              "      <td>1.049367</td>\n",
              "      <td>1.052709</td>\n",
              "      <td>1.022454</td>\n",
              "    </tr>\n",
              "    <tr>\n",
              "      <th>2019-01-08</th>\n",
              "      <td>0.954597</td>\n",
              "      <td>1.059494</td>\n",
              "      <td>1.026501</td>\n",
              "      <td>1.017066</td>\n",
              "    </tr>\n",
              "    <tr>\n",
              "      <th>...</th>\n",
              "      <td>...</td>\n",
              "      <td>...</td>\n",
              "      <td>...</td>\n",
              "      <td>...</td>\n",
              "    </tr>\n",
              "    <tr>\n",
              "      <th>2023-10-18</th>\n",
              "      <td>4.634289</td>\n",
              "      <td>1.821413</td>\n",
              "      <td>12.486446</td>\n",
              "      <td>7.030783</td>\n",
              "    </tr>\n",
              "    <tr>\n",
              "      <th>2023-10-19</th>\n",
              "      <td>4.624274</td>\n",
              "      <td>1.787310</td>\n",
              "      <td>12.458335</td>\n",
              "      <td>6.986161</td>\n",
              "    </tr>\n",
              "    <tr>\n",
              "      <th>2023-10-20</th>\n",
              "      <td>4.556278</td>\n",
              "      <td>1.804362</td>\n",
              "      <td>12.247051</td>\n",
              "      <td>6.917902</td>\n",
              "    </tr>\n",
              "    <tr>\n",
              "      <th>2023-10-23</th>\n",
              "      <td>4.559440</td>\n",
              "      <td>1.779559</td>\n",
              "      <td>12.716965</td>\n",
              "      <td>7.028048</td>\n",
              "    </tr>\n",
              "    <tr>\n",
              "      <th>2023-10-24</th>\n",
              "      <td>4.571037</td>\n",
              "      <td>1.765608</td>\n",
              "      <td>12.920554</td>\n",
              "      <td>7.074999</td>\n",
              "    </tr>\n",
              "  </tbody>\n",
              "</table>\n",
              "<p>1212 rows × 4 columns</p>\n",
              "</div>\n",
              "    <div class=\"colab-df-buttons\">\n",
              "\n",
              "  <div class=\"colab-df-container\">\n",
              "    <button class=\"colab-df-convert\" onclick=\"convertToInteractive('df-f4a075e7-8e16-4b8e-bb5b-bd1862972b5c')\"\n",
              "            title=\"Convert this dataframe to an interactive table.\"\n",
              "            style=\"display:none;\">\n",
              "\n",
              "  <svg xmlns=\"http://www.w3.org/2000/svg\" height=\"24px\" viewBox=\"0 -960 960 960\">\n",
              "    <path d=\"M120-120v-720h720v720H120Zm60-500h600v-160H180v160Zm220 220h160v-160H400v160Zm0 220h160v-160H400v160ZM180-400h160v-160H180v160Zm440 0h160v-160H620v160ZM180-180h160v-160H180v160Zm440 0h160v-160H620v160Z\"/>\n",
              "  </svg>\n",
              "    </button>\n",
              "\n",
              "  <style>\n",
              "    .colab-df-container {\n",
              "      display:flex;\n",
              "      gap: 12px;\n",
              "    }\n",
              "\n",
              "    .colab-df-convert {\n",
              "      background-color: #E8F0FE;\n",
              "      border: none;\n",
              "      border-radius: 50%;\n",
              "      cursor: pointer;\n",
              "      display: none;\n",
              "      fill: #1967D2;\n",
              "      height: 32px;\n",
              "      padding: 0 0 0 0;\n",
              "      width: 32px;\n",
              "    }\n",
              "\n",
              "    .colab-df-convert:hover {\n",
              "      background-color: #E2EBFA;\n",
              "      box-shadow: 0px 1px 2px rgba(60, 64, 67, 0.3), 0px 1px 3px 1px rgba(60, 64, 67, 0.15);\n",
              "      fill: #174EA6;\n",
              "    }\n",
              "\n",
              "    .colab-df-buttons div {\n",
              "      margin-bottom: 4px;\n",
              "    }\n",
              "\n",
              "    [theme=dark] .colab-df-convert {\n",
              "      background-color: #3B4455;\n",
              "      fill: #D2E3FC;\n",
              "    }\n",
              "\n",
              "    [theme=dark] .colab-df-convert:hover {\n",
              "      background-color: #434B5C;\n",
              "      box-shadow: 0px 1px 3px 1px rgba(0, 0, 0, 0.15);\n",
              "      filter: drop-shadow(0px 1px 2px rgba(0, 0, 0, 0.3));\n",
              "      fill: #FFFFFF;\n",
              "    }\n",
              "  </style>\n",
              "\n",
              "    <script>\n",
              "      const buttonEl =\n",
              "        document.querySelector('#df-f4a075e7-8e16-4b8e-bb5b-bd1862972b5c button.colab-df-convert');\n",
              "      buttonEl.style.display =\n",
              "        google.colab.kernel.accessAllowed ? 'block' : 'none';\n",
              "\n",
              "      async function convertToInteractive(key) {\n",
              "        const element = document.querySelector('#df-f4a075e7-8e16-4b8e-bb5b-bd1862972b5c');\n",
              "        const dataTable =\n",
              "          await google.colab.kernel.invokeFunction('convertToInteractive',\n",
              "                                                    [key], {});\n",
              "        if (!dataTable) return;\n",
              "\n",
              "        const docLinkHtml = 'Like what you see? Visit the ' +\n",
              "          '<a target=\"_blank\" href=https://colab.research.google.com/notebooks/data_table.ipynb>data table notebook</a>'\n",
              "          + ' to learn more about interactive tables.';\n",
              "        element.innerHTML = '';\n",
              "        dataTable['output_type'] = 'display_data';\n",
              "        await google.colab.output.renderOutput(dataTable, element);\n",
              "        const docLink = document.createElement('div');\n",
              "        docLink.innerHTML = docLinkHtml;\n",
              "        element.appendChild(docLink);\n",
              "      }\n",
              "    </script>\n",
              "  </div>\n",
              "\n",
              "\n",
              "<div id=\"df-388ba4fa-c7e0-49f1-9f97-cc25720c9d1b\">\n",
              "  <button class=\"colab-df-quickchart\" onclick=\"quickchart('df-388ba4fa-c7e0-49f1-9f97-cc25720c9d1b')\"\n",
              "            title=\"Suggest charts.\"\n",
              "            style=\"display:none;\">\n",
              "\n",
              "<svg xmlns=\"http://www.w3.org/2000/svg\" height=\"24px\"viewBox=\"0 0 24 24\"\n",
              "     width=\"24px\">\n",
              "    <g>\n",
              "        <path d=\"M19 3H5c-1.1 0-2 .9-2 2v14c0 1.1.9 2 2 2h14c1.1 0 2-.9 2-2V5c0-1.1-.9-2-2-2zM9 17H7v-7h2v7zm4 0h-2V7h2v10zm4 0h-2v-4h2v4z\"/>\n",
              "    </g>\n",
              "</svg>\n",
              "  </button>\n",
              "\n",
              "<style>\n",
              "  .colab-df-quickchart {\n",
              "      --bg-color: #E8F0FE;\n",
              "      --fill-color: #1967D2;\n",
              "      --hover-bg-color: #E2EBFA;\n",
              "      --hover-fill-color: #174EA6;\n",
              "      --disabled-fill-color: #AAA;\n",
              "      --disabled-bg-color: #DDD;\n",
              "  }\n",
              "\n",
              "  [theme=dark] .colab-df-quickchart {\n",
              "      --bg-color: #3B4455;\n",
              "      --fill-color: #D2E3FC;\n",
              "      --hover-bg-color: #434B5C;\n",
              "      --hover-fill-color: #FFFFFF;\n",
              "      --disabled-bg-color: #3B4455;\n",
              "      --disabled-fill-color: #666;\n",
              "  }\n",
              "\n",
              "  .colab-df-quickchart {\n",
              "    background-color: var(--bg-color);\n",
              "    border: none;\n",
              "    border-radius: 50%;\n",
              "    cursor: pointer;\n",
              "    display: none;\n",
              "    fill: var(--fill-color);\n",
              "    height: 32px;\n",
              "    padding: 0;\n",
              "    width: 32px;\n",
              "  }\n",
              "\n",
              "  .colab-df-quickchart:hover {\n",
              "    background-color: var(--hover-bg-color);\n",
              "    box-shadow: 0 1px 2px rgba(60, 64, 67, 0.3), 0 1px 3px 1px rgba(60, 64, 67, 0.15);\n",
              "    fill: var(--button-hover-fill-color);\n",
              "  }\n",
              "\n",
              "  .colab-df-quickchart-complete:disabled,\n",
              "  .colab-df-quickchart-complete:disabled:hover {\n",
              "    background-color: var(--disabled-bg-color);\n",
              "    fill: var(--disabled-fill-color);\n",
              "    box-shadow: none;\n",
              "  }\n",
              "\n",
              "  .colab-df-spinner {\n",
              "    border: 2px solid var(--fill-color);\n",
              "    border-color: transparent;\n",
              "    border-bottom-color: var(--fill-color);\n",
              "    animation:\n",
              "      spin 1s steps(1) infinite;\n",
              "  }\n",
              "\n",
              "  @keyframes spin {\n",
              "    0% {\n",
              "      border-color: transparent;\n",
              "      border-bottom-color: var(--fill-color);\n",
              "      border-left-color: var(--fill-color);\n",
              "    }\n",
              "    20% {\n",
              "      border-color: transparent;\n",
              "      border-left-color: var(--fill-color);\n",
              "      border-top-color: var(--fill-color);\n",
              "    }\n",
              "    30% {\n",
              "      border-color: transparent;\n",
              "      border-left-color: var(--fill-color);\n",
              "      border-top-color: var(--fill-color);\n",
              "      border-right-color: var(--fill-color);\n",
              "    }\n",
              "    40% {\n",
              "      border-color: transparent;\n",
              "      border-right-color: var(--fill-color);\n",
              "      border-top-color: var(--fill-color);\n",
              "    }\n",
              "    60% {\n",
              "      border-color: transparent;\n",
              "      border-right-color: var(--fill-color);\n",
              "    }\n",
              "    80% {\n",
              "      border-color: transparent;\n",
              "      border-right-color: var(--fill-color);\n",
              "      border-bottom-color: var(--fill-color);\n",
              "    }\n",
              "    90% {\n",
              "      border-color: transparent;\n",
              "      border-bottom-color: var(--fill-color);\n",
              "    }\n",
              "  }\n",
              "</style>\n",
              "\n",
              "  <script>\n",
              "    async function quickchart(key) {\n",
              "      const quickchartButtonEl =\n",
              "        document.querySelector('#' + key + ' button');\n",
              "      quickchartButtonEl.disabled = true;  // To prevent multiple clicks.\n",
              "      quickchartButtonEl.classList.add('colab-df-spinner');\n",
              "      try {\n",
              "        const charts = await google.colab.kernel.invokeFunction(\n",
              "            'suggestCharts', [key], {});\n",
              "      } catch (error) {\n",
              "        console.error('Error during call to suggestCharts:', error);\n",
              "      }\n",
              "      quickchartButtonEl.classList.remove('colab-df-spinner');\n",
              "      quickchartButtonEl.classList.add('colab-df-quickchart-complete');\n",
              "    }\n",
              "    (() => {\n",
              "      let quickchartButtonEl =\n",
              "        document.querySelector('#df-388ba4fa-c7e0-49f1-9f97-cc25720c9d1b button');\n",
              "      quickchartButtonEl.style.display =\n",
              "        google.colab.kernel.accessAllowed ? 'block' : 'none';\n",
              "    })();\n",
              "  </script>\n",
              "</div>\n",
              "    </div>\n",
              "  </div>\n"
            ]
          },
          "metadata": {},
          "execution_count": 70
        }
      ],
      "source": [
        "# from the daily cumulative returns, you calculate total cumulative return\n",
        "daily_cum_ret=(1+returns).cumprod()\n",
        "#this is the formula. don't know how it works, but let's move on\n",
        "daily_cum_ret"
      ]
    },
    {
      "cell_type": "markdown",
      "source": [
        "7.07% is the cumulative return of the portfolio"
      ],
      "metadata": {
        "id": "hCqCQbQbVB8C"
      }
    },
    {
      "cell_type": "code",
      "execution_count": 71,
      "metadata": {
        "id": "gmepKSN4_zKi",
        "outputId": "cb57509b-10e9-489b-ee6a-2ddc551ec16e",
        "colab": {
          "base_uri": "https://localhost:8080/"
        }
      },
      "outputs": [
        {
          "output_type": "stream",
          "name": "stdout",
          "text": [
            "\r[*********************100%%**********************]  1 of 1 completed\n"
          ]
        }
      ],
      "source": [
        "#comparing portfolio performace with overall market performance\n",
        "#using SPY to capture the S&P 500 and calculating cumulative returns similarly\n",
        "spy = yf.download('SPY',start=start_date,end=end_date)\n",
        "spy = spy[['Adj Close']]\n",
        "\n",
        "spy['daily_returns'] = spy['Adj Close'].pct_change()\n",
        "spy.head()\n",
        "spy['cum_returns'] = (1+spy['daily_returns']).cumprod()"
      ]
    },
    {
      "cell_type": "code",
      "execution_count": 72,
      "metadata": {
        "scrolled": false,
        "id": "ByDs-m5J_zKi",
        "outputId": "aa98aa7c-6796-4bdd-8f9c-8635a8ce3973",
        "colab": {
          "base_uri": "https://localhost:8080/",
          "height": 452
        }
      },
      "outputs": [
        {
          "output_type": "display_data",
          "data": {
            "text/plain": [
              "<Figure size 640x480 with 1 Axes>"
            ],
            "image/png": "[encoded data removed]"
          },
          "metadata": {}
        }
      ],
      "source": [
        "#plotting returns\n",
        "fig,ax = plt.subplots()\n",
        "ax.plot(daily_cum_ret.index, daily_cum_ret.portfolio,label='portfolio')\n",
        "ax.plot(spy.index,spy['cum_returns'], label = 'SPY')\n",
        "ax.set_title('Portfolio Performance vs S&P 500');\n",
        "ax.legend();\n"
      ]
    },
    {
      "cell_type": "markdown",
      "source": [
        "## Annualized return"
      ],
      "metadata": {
        "id": "lwYzD8zfXDuU"
      }
    },
    {
      "cell_type": "markdown",
      "source": [
        "An annualized total return is the geometric mean of money earned by an investment each year over a given time period.\n",
        "\n"
      ],
      "metadata": {
        "id": "fQhmLlEMXHmi"
      }
    },
    {
      "cell_type": "markdown",
      "source": [
        "![image.png](data:image/png;base64,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)"
      ],
      "metadata": {
        "id": "VEkUxdmFb51w"
      }
    },
    {
      "cell_type": "code",
      "source": [
        "df.head"
      ],
      "metadata": {
        "id": "1R38HFPSOF8H",
        "outputId": "5e2ba6ac-d4ca-433e-d89f-2343d6b3af8b",
        "colab": {
          "base_uri": "https://localhost:8080/"
        }
      },
      "execution_count": 120,
      "outputs": [
        {
          "output_type": "execute_result",
          "data": {
            "text/plain": [
              "<bound method NDFrame.head of              Adj Close                       \n",
              "                  AAPL          F        NVDA\n",
              "Date                                         \n",
              "2019-01-02   37.943253   6.451035   33.793442\n",
              "2019-01-03   34.163826   6.353045   31.751745\n",
              "2019-01-04   35.622261   6.598022   33.786003\n",
              "2019-01-07   35.542973   6.769505   35.574657\n",
              "2019-01-08   36.220531   6.834831   34.689014\n",
              "...                ...        ...         ...\n",
              "2023-10-18  175.839996  11.750000  421.959991\n",
              "2023-10-19  175.460007  11.530000  421.010010\n",
              "2023-10-20  172.880005  11.640000  413.869995\n",
              "2023-10-23  173.000000  11.480000  429.750000\n",
              "2023-10-24  173.440002  11.390000  436.630005\n",
              "\n",
              "[1212 rows x 3 columns]>"
            ]
          },
          "metadata": {},
          "execution_count": 120
        }
      ]
    },
    {
      "cell_type": "code",
      "source": [
        "#calculate total returns\n",
        "total_returns = (df.iloc[-1] - df.iloc[0]) / df.iloc[0]\n"
      ],
      "metadata": {
        "id": "XiMMichxajy4"
      },
      "execution_count": 77,
      "outputs": []
    },
    {
      "cell_type": "code",
      "source": [
        "total_returns"
      ],
      "metadata": {
        "id": "qazoX2pKcXEq",
        "outputId": "5c1e94f6-c0e8-49f2-d0e9-48c24a4b78f6",
        "colab": {
          "base_uri": "https://localhost:8080/"
        }
      },
      "execution_count": 78,
      "outputs": [
        {
          "output_type": "execute_result",
          "data": {
            "text/plain": [
              "Adj Close  AAPL     3.571037\n",
              "           F        0.765608\n",
              "           NVDA    11.920554\n",
              "dtype: float64"
            ]
          },
          "metadata": {},
          "execution_count": 78
        }
      ]
    },
    {
      "cell_type": "code",
      "source": [
        "#calculate the number of months\n",
        "#relativedelta to works accepts only datetime\n",
        "#getting the delta between the start date and the current date\n",
        "delta=relativedelta.relativedelta(date.today(),datetime.strptime(start_date,\"%Y-%M-%d\"))\n",
        "\n",
        "#getting the number of months\n",
        "months = (delta.years*12) + delta.months"
      ],
      "metadata": {
        "id": "Bxim1pzIo9zT"
      },
      "execution_count": 117,
      "outputs": []
    },
    {
      "cell_type": "code",
      "source": [
        "annualized_return = ((1 + total_returns)**(12/months))-1\n",
        "print (annualized_return)"
      ],
      "metadata": {
        "id": "yUr-DqN8tcNy",
        "outputId": "68e87200-b45a-43fe-fd86-0758da05b307",
        "colab": {
          "base_uri": "https://localhost:8080/"
        }
      },
      "execution_count": 119,
      "outputs": [
        {
          "output_type": "stream",
          "name": "stdout",
          "text": [
            "Adj Close  AAPL    0.377052\n",
            "           F       0.127140\n",
            "           NVDA    0.713775\n",
            "dtype: float64\n"
          ]
        }
      ]
    },
    {
      "cell_type": "markdown",
      "source": [
        "### Difference between arithmetic mean (average) and geometric mean (annulaized)\n",
        "\n",
        "\n",
        "\n",
        "The arithmetic mean is calculated by adding all the numbers and dividing by the count of that series of numbers.\n",
        "\n",
        "The geometric mean is calculated by taking the product of these numbers and raising it to the inverse series length of the series.\n",
        "\n",
        "For example, if x and y are two numbers, the arithmetic mean is (x+y)/2 and the geometric mean is (xy)^(1/2).\n",
        "\n",
        "The geometric mean is used when you're interested in:\n",
        "- One investment over many years\n",
        "- Multi-period returns, with compounding\n",
        "\n",
        "The arithmetic mean is used when you're interested in:\n",
        "- Many investments over one year\n",
        "- Single period forecasts"
      ],
      "metadata": {
        "id": "u9CFRts8ZM_I"
      }
    },
    {
      "cell_type": "markdown",
      "metadata": {
        "id": "OU1jz3We_zKi"
      },
      "source": [
        "## portfolio risk"
      ]
    },
    {
      "cell_type": "markdown",
      "metadata": {
        "id": "iidbypSD_zKi"
      },
      "source": [
        "calculate portfolio risk using covariance matrix"
      ]
    },
    {
      "cell_type": "markdown",
      "metadata": {
        "id": "nzyC3trn_zKi"
      },
      "source": [
        "risk of a portfolio is not simply the weighted variance of the individual assets. Since the stocks are correlated,\n",
        "it becomes more complicated. The risk calculated should also account for the correlation"
      ]
    },
    {
      "cell_type": "markdown",
      "metadata": {
        "id": "M-sTTNGS_zKi"
      },
      "source": [
        "The correlation between assets tell us how they move related to each other"
      ]
    },
    {
      "cell_type": "markdown",
      "metadata": {
        "id": "3sWLcIdT_zKi"
      },
      "source": [
        "Portfolio variance takes into account individual variance, weights and their correlation"
      ]
    },
    {
      "cell_type": "code",
      "execution_count": 73,
      "metadata": {
        "id": "qJ4SwrUD_zKj"
      },
      "outputs": [],
      "source": [
        "#get daily_returns\n",
        "daily_returns = df.pct_change()\n",
        "\n",
        "#use predefined weights\n",
        "\n",
        "#annulaize volatility by x'ing it with 250 which is the number of trading days in a year\n",
        "cov_matrix = daily_returns.cov() * 250\n"
      ]
    },
    {
      "cell_type": "markdown",
      "metadata": {
        "id": "BYxhAt9c_zKj"
      },
      "source": [
        "1. need to undestand the r'ship between correlation and covariance.\n",
        "2. how covariance matrix is calculated"
      ]
    },
    {
      "cell_type": "code",
      "execution_count": 74,
      "metadata": {
        "id": "o_PtPavQ_zKj",
        "outputId": "d014f815-e5f3-4f0a-b621-827362b11f19",
        "colab": {
          "base_uri": "https://localhost:8080/",
          "height": 175
        }
      },
      "outputs": [
        {
          "output_type": "execute_result",
          "data": {
            "text/plain": [
              "               Adj Close                    \n",
              "                    AAPL         F      NVDA\n",
              "Adj Close AAPL  0.106017  0.055771  0.111814\n",
              "          F     0.055771  0.184691  0.089927\n",
              "          NVDA  0.111814  0.089927  0.272444"
            ],
            "text/html": [
              "\n",
              "  <div id=\"df-850c5b26-5c40-4163-aeca-716fa785bfde\" class=\"colab-df-container\">\n",
              "    <div>\n",
              "<style scoped>\n",
              "    .dataframe tbody tr th:only-of-type {\n",
              "        vertical-align: middle;\n",
              "    }\n",
              "\n",
              "    .dataframe tbody tr th {\n",
              "        vertical-align: top;\n",
              "    }\n",
              "\n",
              "    .dataframe thead tr th {\n",
              "        text-align: left;\n",
              "    }\n",
              "</style>\n",
              "<table border=\"1\" class=\"dataframe\">\n",
              "  <thead>\n",
              "    <tr>\n",
              "      <th></th>\n",
              "      <th></th>\n",
              "      <th colspan=\"3\" halign=\"left\">Adj Close</th>\n",
              "    </tr>\n",
              "    <tr>\n",
              "      <th></th>\n",
              "      <th></th>\n",
              "      <th>AAPL</th>\n",
              "      <th>F</th>\n",
              "      <th>NVDA</th>\n",
              "    </tr>\n",
              "  </thead>\n",
              "  <tbody>\n",
              "    <tr>\n",
              "      <th rowspan=\"3\" valign=\"top\">Adj Close</th>\n",
              "      <th>AAPL</th>\n",
              "      <td>0.106017</td>\n",
              "      <td>0.055771</td>\n",
              "      <td>0.111814</td>\n",
              "    </tr>\n",
              "    <tr>\n",
              "      <th>F</th>\n",
              "      <td>0.055771</td>\n",
              "      <td>0.184691</td>\n",
              "      <td>0.089927</td>\n",
              "    </tr>\n",
              "    <tr>\n",
              "      <th>NVDA</th>\n",
              "      <td>0.111814</td>\n",
              "      <td>0.089927</td>\n",
              "      <td>0.272444</td>\n",
              "    </tr>\n",
              "  </tbody>\n",
              "</table>\n",
              "</div>\n",
              "    <div class=\"colab-df-buttons\">\n",
              "\n",
              "  <div class=\"colab-df-container\">\n",
              "    <button class=\"colab-df-convert\" onclick=\"convertToInteractive('df-850c5b26-5c40-4163-aeca-716fa785bfde')\"\n",
              "            title=\"Convert this dataframe to an interactive table.\"\n",
              "            style=\"display:none;\">\n",
              "\n",
              "  <svg xmlns=\"http://www.w3.org/2000/svg\" height=\"24px\" viewBox=\"0 -960 960 960\">\n",
              "    <path d=\"M120-120v-720h720v720H120Zm60-500h600v-160H180v160Zm220 220h160v-160H400v160Zm0 220h160v-160H400v160ZM180-400h160v-160H180v160Zm440 0h160v-160H620v160ZM180-180h160v-160H180v160Zm440 0h160v-160H620v160Z\"/>\n",
              "  </svg>\n",
              "    </button>\n",
              "\n",
              "  <style>\n",
              "    .colab-df-container {\n",
              "      display:flex;\n",
              "      gap: 12px;\n",
              "    }\n",
              "\n",
              "    .colab-df-convert {\n",
              "      background-color: #E8F0FE;\n",
              "      border: none;\n",
              "      border-radius: 50%;\n",
              "      cursor: pointer;\n",
              "      display: none;\n",
              "      fill: #1967D2;\n",
              "      height: 32px;\n",
              "      padding: 0 0 0 0;\n",
              "      width: 32px;\n",
              "    }\n",
              "\n",
              "    .colab-df-convert:hover {\n",
              "      background-color: #E2EBFA;\n",
              "      box-shadow: 0px 1px 2px rgba(60, 64, 67, 0.3), 0px 1px 3px 1px rgba(60, 64, 67, 0.15);\n",
              "      fill: #174EA6;\n",
              "    }\n",
              "\n",
              "    .colab-df-buttons div {\n",
              "      margin-bottom: 4px;\n",
              "    }\n",
              "\n",
              "    [theme=dark] .colab-df-convert {\n",
              "      background-color: #3B4455;\n",
              "      fill: #D2E3FC;\n",
              "    }\n",
              "\n",
              "    [theme=dark] .colab-df-convert:hover {\n",
              "      background-color: #434B5C;\n",
              "      box-shadow: 0px 1px 3px 1px rgba(0, 0, 0, 0.15);\n",
              "      filter: drop-shadow(0px 1px 2px rgba(0, 0, 0, 0.3));\n",
              "      fill: #FFFFFF;\n",
              "    }\n",
              "  </style>\n",
              "\n",
              "    <script>\n",
              "      const buttonEl =\n",
              "        document.querySelector('#df-850c5b26-5c40-4163-aeca-716fa785bfde button.colab-df-convert');\n",
              "      buttonEl.style.display =\n",
              "        google.colab.kernel.accessAllowed ? 'block' : 'none';\n",
              "\n",
              "      async function convertToInteractive(key) {\n",
              "        const element = document.querySelector('#df-850c5b26-5c40-4163-aeca-716fa785bfde');\n",
              "        const dataTable =\n",
              "          await google.colab.kernel.invokeFunction('convertToInteractive',\n",
              "                                                    [key], {});\n",
              "        if (!dataTable) return;\n",
              "\n",
              "        const docLinkHtml = 'Like what you see? Visit the ' +\n",
              "          '<a target=\"_blank\" href=https://colab.research.google.com/notebooks/data_table.ipynb>data table notebook</a>'\n",
              "          + ' to learn more about interactive tables.';\n",
              "        element.innerHTML = '';\n",
              "        dataTable['output_type'] = 'display_data';\n",
              "        await google.colab.output.renderOutput(dataTable, element);\n",
              "        const docLink = document.createElement('div');\n",
              "        docLink.innerHTML = docLinkHtml;\n",
              "        element.appendChild(docLink);\n",
              "      }\n",
              "    </script>\n",
              "  </div>\n",
              "\n",
              "\n",
              "<div id=\"df-ca55e98b-599c-4a51-b9dc-0b5f7e7482ef\">\n",
              "  <button class=\"colab-df-quickchart\" onclick=\"quickchart('df-ca55e98b-599c-4a51-b9dc-0b5f7e7482ef')\"\n",
              "            title=\"Suggest charts.\"\n",
              "            style=\"display:none;\">\n",
              "\n",
              "<svg xmlns=\"http://www.w3.org/2000/svg\" height=\"24px\"viewBox=\"0 0 24 24\"\n",
              "     width=\"24px\">\n",
              "    <g>\n",
              "        <path d=\"M19 3H5c-1.1 0-2 .9-2 2v14c0 1.1.9 2 2 2h14c1.1 0 2-.9 2-2V5c0-1.1-.9-2-2-2zM9 17H7v-7h2v7zm4 0h-2V7h2v10zm4 0h-2v-4h2v4z\"/>\n",
              "    </g>\n",
              "</svg>\n",
              "  </button>\n",
              "\n",
              "<style>\n",
              "  .colab-df-quickchart {\n",
              "      --bg-color: #E8F0FE;\n",
              "      --fill-color: #1967D2;\n",
              "      --hover-bg-color: #E2EBFA;\n",
              "      --hover-fill-color: #174EA6;\n",
              "      --disabled-fill-color: #AAA;\n",
              "      --disabled-bg-color: #DDD;\n",
              "  }\n",
              "\n",
              "  [theme=dark] .colab-df-quickchart {\n",
              "      --bg-color: #3B4455;\n",
              "      --fill-color: #D2E3FC;\n",
              "      --hover-bg-color: #434B5C;\n",
              "      --hover-fill-color: #FFFFFF;\n",
              "      --disabled-bg-color: #3B4455;\n",
              "      --disabled-fill-color: #666;\n",
              "  }\n",
              "\n",
              "  .colab-df-quickchart {\n",
              "    background-color: var(--bg-color);\n",
              "    border: none;\n",
              "    border-radius: 50%;\n",
              "    cursor: pointer;\n",
              "    display: none;\n",
              "    fill: var(--fill-color);\n",
              "    height: 32px;\n",
              "    padding: 0;\n",
              "    width: 32px;\n",
              "  }\n",
              "\n",
              "  .colab-df-quickchart:hover {\n",
              "    background-color: var(--hover-bg-color);\n",
              "    box-shadow: 0 1px 2px rgba(60, 64, 67, 0.3), 0 1px 3px 1px rgba(60, 64, 67, 0.15);\n",
              "    fill: var(--button-hover-fill-color);\n",
              "  }\n",
              "\n",
              "  .colab-df-quickchart-complete:disabled,\n",
              "  .colab-df-quickchart-complete:disabled:hover {\n",
              "    background-color: var(--disabled-bg-color);\n",
              "    fill: var(--disabled-fill-color);\n",
              "    box-shadow: none;\n",
              "  }\n",
              "\n",
              "  .colab-df-spinner {\n",
              "    border: 2px solid var(--fill-color);\n",
              "    border-color: transparent;\n",
              "    border-bottom-color: var(--fill-color);\n",
              "    animation:\n",
              "      spin 1s steps(1) infinite;\n",
              "  }\n",
              "\n",
              "  @keyframes spin {\n",
              "    0% {\n",
              "      border-color: transparent;\n",
              "      border-bottom-color: var(--fill-color);\n",
              "      border-left-color: var(--fill-color);\n",
              "    }\n",
              "    20% {\n",
              "      border-color: transparent;\n",
              "      border-left-color: var(--fill-color);\n",
              "      border-top-color: var(--fill-color);\n",
              "    }\n",
              "    30% {\n",
              "      border-color: transparent;\n",
              "      border-left-color: var(--fill-color);\n",
              "      border-top-color: var(--fill-color);\n",
              "      border-right-color: var(--fill-color);\n",
              "    }\n",
              "    40% {\n",
              "      border-color: transparent;\n",
              "      border-right-color: var(--fill-color);\n",
              "      border-top-color: var(--fill-color);\n",
              "    }\n",
              "    60% {\n",
              "      border-color: transparent;\n",
              "      border-right-color: var(--fill-color);\n",
              "    }\n",
              "    80% {\n",
              "      border-color: transparent;\n",
              "      border-right-color: var(--fill-color);\n",
              "      border-bottom-color: var(--fill-color);\n",
              "    }\n",
              "    90% {\n",
              "      border-color: transparent;\n",
              "      border-bottom-color: var(--fill-color);\n",
              "    }\n",
              "  }\n",
              "</style>\n",
              "\n",
              "  <script>\n",
              "    async function quickchart(key) {\n",
              "      const quickchartButtonEl =\n",
              "        document.querySelector('#' + key + ' button');\n",
              "      quickchartButtonEl.disabled = true;  // To prevent multiple clicks.\n",
              "      quickchartButtonEl.classList.add('colab-df-spinner');\n",
              "      try {\n",
              "        const charts = await google.colab.kernel.invokeFunction(\n",
              "            'suggestCharts', [key], {});\n",
              "      } catch (error) {\n",
              "        console.error('Error during call to suggestCharts:', error);\n",
              "      }\n",
              "      quickchartButtonEl.classList.remove('colab-df-spinner');\n",
              "      quickchartButtonEl.classList.add('colab-df-quickchart-complete');\n",
              "    }\n",
              "    (() => {\n",
              "      let quickchartButtonEl =\n",
              "        document.querySelector('#df-ca55e98b-599c-4a51-b9dc-0b5f7e7482ef button');\n",
              "      quickchartButtonEl.style.display =\n",
              "        google.colab.kernel.accessAllowed ? 'block' : 'none';\n",
              "    })();\n",
              "  </script>\n",
              "</div>\n",
              "    </div>\n",
              "  </div>\n"
            ]
          },
          "metadata": {},
          "execution_count": 74
        }
      ],
      "source": [
        "cov_matrix\n",
        "# variance for each asset is the diagonal term\n",
        "# correaltion cocfts are the off-diagonal terms"
      ]
    },
    {
      "cell_type": "code",
      "execution_count": 75,
      "metadata": {
        "id": "ub7-uByj_zKj",
        "outputId": "127bd06b-e66e-490d-d049-cf083265cdcf",
        "colab": {
          "base_uri": "https://localhost:8080/"
        }
      },
      "outputs": [
        {
          "output_type": "stream",
          "name": "stdout",
          "text": [
            "14.37%\n"
          ]
        }
      ],
      "source": [
        "port_variance = np.dot(weights.T, np.dot(cov_matrix, weights))\n",
        "print(str(round(port_variance,4) *100) +\"%\")"
      ]
    },
    {
      "cell_type": "markdown",
      "metadata": {
        "id": "sev94NGL_zKj"
      },
      "source": [
        "n the variance calculation we square the weights and the variances. Because of this squaring, the variance is no longer in the same unit of measurement as the original data. Taking the root of the variance means the standard deviation is restored to the original unit of measure and therefore much easier to interpret."
      ]
    },
    {
      "cell_type": "code",
      "execution_count": 76,
      "metadata": {
        "id": "bbWL2Nlp_zKj",
        "outputId": "5e18ac27-0855-46df-c10a-1d91c7ed8acb",
        "colab": {
          "base_uri": "https://localhost:8080/"
        }
      },
      "outputs": [
        {
          "output_type": "stream",
          "name": "stdout",
          "text": [
            "37.91%\n"
          ]
        }
      ],
      "source": [
        "port_stdev = np.sqrt(np.dot(weights.T, np.dot(cov_matrix, weights)))\n",
        "print(str(round(port_stdev,4) *100) +\"%\")"
      ]
    },
    {
      "cell_type": "code",
      "source": [],
      "metadata": {
        "id": "cEEIeMojaSTK"
      },
      "execution_count": null,
      "outputs": []
    }
  ],
  "metadata": {
    "kernelspec": {
      "display_name": "Python 3 (ipykernel)",
      "language": "python",
      "name": "python3"
    },
    "language_info": {
      "codemirror_mode": {
        "name": "ipython",
        "version": 3
      },
      "file_extension": ".py",
      "mimetype": "text/x-python",
      "name": "python",
      "nbconvert_exporter": "python",
      "pygments_lexer": "ipython3",
      "version": "3.10.9"
    },
    "toc": {
      "base_numbering": 1,
      "nav_menu": {
        "height": "348px",
        "width": "369px"
      },
      "number_sections": true,
      "sideBar": true,
      "skip_h1_title": false,
      "title_cell": "Table of Contents",
      "title_sidebar": "Contents",
      "toc_cell": true,
      "toc_position": {
        "height": "1011px",
        "left": "0px",
        "top": "111.125px",
        "width": "227.854px"
      },
      "toc_section_display": true,
      "toc_window_display": true
    },
    "varInspector": {
      "cols": {
        "lenName": 16,
        "lenType": 16,
        "lenVar": 40
      },
      "kernels_config": {
        "python": {
          "delete_cmd_postfix": "",
          "delete_cmd_prefix": "del ",
          "library": "var_list.py",
          "varRefreshCmd": "print(var_dic_list())"
        },
        "r": {
          "delete_cmd_postfix": ") ",
          "delete_cmd_prefix": "rm(",
          "library": "var_list.r",
          "varRefreshCmd": "cat(var_dic_list()) "
        }
      },
      "types_to_exclude": [
        "module",
        "function",
        "builtin_function_or_method",
        "instance",
        "_Feature"
      ],
      "window_display": false
    },
    "colab": {
      "provenance": [],
      "toc_visible": true
    }
  },
  "nbformat": 4,
  "nbformat_minor": 0
}