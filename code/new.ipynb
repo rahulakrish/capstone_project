{
 "cells": [
  {
   "cell_type": "markdown",
   "metadata": {
    "toc": true
   },
   "source": [
    "<h1>Table of Contents<span class=\"tocSkip\"></span></h1>\n",
    "<div class=\"toc\"><ul class=\"toc-item\"><li><span><a href=\"#Business-Objective\" data-toc-modified-id=\"Business-Objective-1\"><span class=\"toc-item-num\">1&nbsp;&nbsp;</span>Business Objective</a></span></li><li><span><a href=\"#Methodology\" data-toc-modified-id=\"Methodology-2\"><span class=\"toc-item-num\">2&nbsp;&nbsp;</span>Methodology</a></span></li><li><span><a href=\"#EDA\" data-toc-modified-id=\"EDA-3\"><span class=\"toc-item-num\">3&nbsp;&nbsp;</span>EDA</a></span><ul class=\"toc-item\"><li><span><a href=\"#Stock-performance\" data-toc-modified-id=\"Stock-performance-3.1\"><span class=\"toc-item-num\">3.1&nbsp;&nbsp;</span>Stock performance</a></span></li><li><span><a href=\"#Stock-Returns\" data-toc-modified-id=\"Stock-Returns-3.2\"><span class=\"toc-item-num\">3.2&nbsp;&nbsp;</span>Stock Returns</a></span></li><li><span><a href=\"#Beta-value\" data-toc-modified-id=\"Beta-value-3.3\"><span class=\"toc-item-num\">3.3&nbsp;&nbsp;</span>Beta value</a></span></li><li><span><a href=\"#P/E-ratio\" data-toc-modified-id=\"P/E-ratio-3.4\"><span class=\"toc-item-num\">3.4&nbsp;&nbsp;</span>P/E ratio</a></span></li><li><span><a href=\"#Dividend-History\" data-toc-modified-id=\"Dividend-History-3.5\"><span class=\"toc-item-num\">3.5&nbsp;&nbsp;</span>Dividend History</a></span></li></ul></li><li><span><a href=\"#Summing-up-performance...\" data-toc-modified-id=\"Summing-up-performance...-4\"><span class=\"toc-item-num\">4&nbsp;&nbsp;</span>Summing up performance...</a></span></li><li><span><a href=\"#Time-Series-Modelling\" data-toc-modified-id=\"Time-Series-Modelling-5\"><span class=\"toc-item-num\">5&nbsp;&nbsp;</span>Time Series Modelling</a></span><ul class=\"toc-item\"><li><span><a href=\"#Stationarity-Check\" data-toc-modified-id=\"Stationarity-Check-5.1\"><span class=\"toc-item-num\">5.1&nbsp;&nbsp;</span>Stationarity Check</a></span></li><li><span><a href=\"#Convert-non-stationary-to-stationary\" data-toc-modified-id=\"Convert-non-stationary-to-stationary-5.2\"><span class=\"toc-item-num\">5.2&nbsp;&nbsp;</span>Convert non-stationary to stationary</a></span></li><li><span><a href=\"#ACF-and-PACF\" data-toc-modified-id=\"ACF-and-PACF-5.3\"><span class=\"toc-item-num\">5.3&nbsp;&nbsp;</span>ACF and PACF</a></span></li><li><span><a href=\"#ARIMA-model\" data-toc-modified-id=\"ARIMA-model-5.4\"><span class=\"toc-item-num\">5.4&nbsp;&nbsp;</span>ARIMA model</a></span></li><li><span><a href=\"#SARIMA-model\" data-toc-modified-id=\"SARIMA-model-5.5\"><span class=\"toc-item-num\">5.5&nbsp;&nbsp;</span>SARIMA model</a></span></li><li><span><a href=\"#Facebook-Prophet\" data-toc-modified-id=\"Facebook-Prophet-5.6\"><span class=\"toc-item-num\">5.6&nbsp;&nbsp;</span>Facebook Prophet</a></span><ul class=\"toc-item\"><li><span><a href=\"#Prophet-with-differencing---comparing-with-test\" data-toc-modified-id=\"Prophet-with-differencing---comparing-with-test-5.6.1\"><span class=\"toc-item-num\">5.6.1&nbsp;&nbsp;</span>Prophet with differencing - comparing with test</a></span></li><li><span><a href=\"#regularization-on-differenced-data\" data-toc-modified-id=\"regularization-on-differenced-data-5.6.2\"><span class=\"toc-item-num\">5.6.2&nbsp;&nbsp;</span>regularization on differenced data</a></span></li></ul></li><li><span><a href=\"#Model-performance-comparisions\" data-toc-modified-id=\"Model-performance-comparisions-5.7\"><span class=\"toc-item-num\">5.7&nbsp;&nbsp;</span>Model performance comparisions</a></span></li><li><span><a href=\"#Using-Prophet-to-get-forecast-of-'AAPL'-for-the-next-year\" data-toc-modified-id=\"Using-Prophet-to-get-forecast-of-'AAPL'-for-the-next-year-5.8\"><span class=\"toc-item-num\">5.8&nbsp;&nbsp;</span>Using Prophet to get forecast of 'AAPL' for the next year</a></span></li></ul></li><li><span><a href=\"#Building-Portfolio\" data-toc-modified-id=\"Building-Portfolio-6\"><span class=\"toc-item-num\">6&nbsp;&nbsp;</span>Building Portfolio</a></span><ul class=\"toc-item\"><li><span><a href=\"#Predictions-of-chosen-stock\" data-toc-modified-id=\"Predictions-of-chosen-stock-6.1\"><span class=\"toc-item-num\">6.1&nbsp;&nbsp;</span>Predictions of chosen stock</a></span></li></ul></li><li><span><a href=\"#Conclusions\" data-toc-modified-id=\"Conclusions-7\"><span class=\"toc-item-num\">7&nbsp;&nbsp;</span>Conclusions</a></span><ul class=\"toc-item\"><li><span><a href=\"#Limitations\" data-toc-modified-id=\"Limitations-7.1\"><span class=\"toc-item-num\">7.1&nbsp;&nbsp;</span>Limitations</a></span></li><li><span><a href=\"#Recommendations\" data-toc-modified-id=\"Recommendations-7.2\"><span class=\"toc-item-num\">7.2&nbsp;&nbsp;</span>Recommendations</a></span></li></ul></li><li><span><a href=\"#Portfolio-Analysis\" data-toc-modified-id=\"Portfolio-Analysis-8\"><span class=\"toc-item-num\">8&nbsp;&nbsp;</span>Portfolio Analysis</a></span><ul class=\"toc-item\"><li><span><a href=\"#performace-using-mean-daily-returns\" data-toc-modified-id=\"performace-using-mean-daily-returns-8.1\"><span class=\"toc-item-num\">8.1&nbsp;&nbsp;</span>performace using mean daily returns</a></span></li><li><span><a href=\"#cumulative-returns\" data-toc-modified-id=\"cumulative-returns-8.2\"><span class=\"toc-item-num\">8.2&nbsp;&nbsp;</span>cumulative returns</a></span></li></ul></li></ul></div>"
   ]
  },
  {
   "cell_type": "markdown",
   "metadata": {},
   "source": [
    "# Business Objective"
   ]
  },
  {
   "cell_type": "markdown",
   "metadata": {},
   "source": [
    "To help the average investor build a portfolio of stock and ensure maximum returns."
   ]
  },
  {
   "cell_type": "markdown",
   "metadata": {},
   "source": [
    "The assumption here is that the investor already has an idea companies they want to invest in. The aim here is to  provide the investor an overview of the company performance and make predictions on future thereby helping them decide it it's worth their investment. Since the model is purely mathematical and cannot take into account black swan events, the onus still lies on the investor to look at a company holistically before taking the plunge."
   ]
  },
  {
   "cell_type": "markdown",
   "metadata": {},
   "source": [
    "I will also focus on diversification, a core tenet of a good investment strategy i.e by investing in companies across different sectors, the investor can minimize their risk and maximize returns."
   ]
  },
  {
   "cell_type": "markdown",
   "metadata": {},
   "source": [
    "# Methodology"
   ]
  },
  {
   "cell_type": "markdown",
   "metadata": {},
   "source": [
    "1. Data of the chosen stock from 2017-2022 will be scraped from [Yahoo Finance](https://finance.yahoo.com/)  using python's  `yfinance`(documentation can be found [here](https://aroussi.com/post/python-yahoo-finance)) and `YahooFinancials` (documentation can be found [here](https://pypi.org/project/yahoofinancials/)).\n",
    "\n",
    "2. Using the data, 4 commonly used metrics to evaluate a stock will be plotted: ***returns, beta ratio, p/e ratio and dividend***\n",
    "\n",
    "3. Different machine learning models will then be built to predict future stock price. Their errors will be compared and the model with the least error will be used gage future stock performance. \n",
    "\n",
    "4. Combined with stock performance and forecast information, then by feeding the chosen stock into the portfolio builder, the investor can look at combined returns and decide which portfolio is best-aligned with his/her goals.\n",
    "\n"
   ]
  },
  {
   "cell_type": "markdown",
   "metadata": {},
   "source": [
    "# EDA"
   ]
  },
  {
   "cell_type": "code",
   "execution_count": 1,
   "metadata": {
    "scrolled": true
   },
   "outputs": [],
   "source": [
    "#importing libraries\n",
    "\n",
    "import yfinance as yf \n",
    "from yahoofinancials import YahooFinancials\n",
    "import matplotlib.pyplot as plt\n",
    "import seaborn as sns\n",
    "sns.set_style('darkgrid')\n",
    "%matplotlib inline\n",
    "import numpy as np\n",
    "import pandas as pd\n",
    "import itertools\n",
    "from datetime import date\n",
    "import datetime\n",
    "from sklearn.metrics import mean_squared_error\n",
    "from sklearn.linear_model import LinearRegression\n",
    "from sklearn.model_selection import train_test_split\n",
    "from sklearn.model_selection import TimeSeriesSplit\n",
    "from statsmodels.tsa.stattools import adfuller\n",
    "from scipy.signal._signaltools import _centered\n",
    "from statsmodels.tsa.seasonal import seasonal_decompose\n",
    "from statsmodels.graphics.tsaplots import plot_acf, plot_pacf\n",
    "from statsmodels.tsa.arima.model import ARIMA\n",
    "from statsmodels.tsa.statespace.sarimax import SARIMAX\n",
    "from prophet import Prophet\n",
    "import warnings\n",
    "warnings.filterwarnings('ignore')\n",
    "import logging\n",
    "logging.basicConfig(level='INFO')\n",
    "mlogger = logging.getLogger('matplotlib')\n",
    "mlogger.setLevel(logging.WARNING)\n",
    "logging.getLogger(\"cmdstanpy\").setLevel(logging.DEBUG)"
   ]
  },
  {
   "cell_type": "markdown",
   "metadata": {},
   "source": [
    "## Stock performance"
   ]
  },
  {
   "cell_type": "markdown",
   "metadata": {},
   "source": [
    "Following is a function that will plot stock prices of a chosen stock from 2017 till date:"
   ]
  },
  {
   "cell_type": "code",
   "execution_count": 2,
   "metadata": {},
   "outputs": [],
   "source": [
    "#function to get stock data of a company\n",
    "start_date = '2019-01-01'\n",
    "end_date = date.today()\n",
    "\n",
    "def stock_info(ticker):\n",
    "    #get stock prices for the specified date ranges\n",
    "    df = yf.download(ticker,start=start_date,end=end_date)\n",
    "    #plot the stock price over the years\n",
    "    fig,ax = plt.subplots(figsize=(10,5))\n",
    "    ax.plot(df['Adj Close']);\n",
    "    ax.set_title(f'Stock Price of {ticker} from 2019 till date')"
   ]
  },
  {
   "cell_type": "markdown",
   "metadata": {},
   "source": [
    "## Stock Returns"
   ]
  },
  {
   "cell_type": "code",
   "execution_count": 3,
   "metadata": {},
   "outputs": [],
   "source": [
    "#function to calculate stock return\n",
    "\n",
    "def stock_return(ticker):\n",
    "    #get stock prices for the specified date ranges\n",
    "    df = yf.download(ticker,start=start_date,end=end_date)\n",
    "    df_return = df[['Adj Close']]\n",
    "    df_return['pct_change'] = df_return['Adj Close'].pct_change(14) # use pct change to calculate the diff \n",
    "    \n",
    "    #plot the returns over 5 years\n",
    "    fig,ax = plt.subplots(figsize=(10,5))\n",
    "    ax.plot(df_return['pct_change'],label= 'AAPL');\n",
    "    ax.legend(loc='best');\n",
    "    ax.set_title('14 day percent change')\n"
   ]
  },
  {
   "cell_type": "markdown",
   "metadata": {},
   "source": [
    "## Beta value "
   ]
  },
  {
   "cell_type": "markdown",
   "metadata": {},
   "source": [
    "Beta value of a stock is used to signify risk i.e. if a stock is risky or not. By comparing the stock movement\n",
    "relative to the overall market such as the S&P 500, the stock can be classified as risky or not. By definition, the market \n",
    "has a beta value of 1.0. If the beta value of the stock is greater than 1.0, then it is classified as risky and less so if the \n",
    "value is less than 1.0."
   ]
  },
  {
   "cell_type": "code",
   "execution_count": 4,
   "metadata": {},
   "outputs": [],
   "source": [
    "#function to calculate beta value of stock\n",
    "\n",
    "def calculate_beta(ticker):\n",
    "    \n",
    "    #get data for ticker and SPY whih serves as the market index\n",
    "    symbols = [ticker,'SPY']\n",
    "    data = yf.download(symbols, start = start_date,end = end_date)['Adj Close']\n",
    "    price_change = data.pct_change()\n",
    "    price_change.drop(price_change.index[0],inplace=True)\n",
    "    \n",
    "    #reshape for linear regression\n",
    "    X = np.array(price_change[ticker]).reshape((-1,1))\n",
    "    y = np.array(price_change['SPY'])\n",
    "\n",
    "    #create splits\n",
    "    X_train,X_test,y_train,y_test = train_test_split(X,y)\n",
    "    lr = LinearRegression()\n",
    "    lr.fit(X_train,y_train)\n",
    "\n",
    "    #predictions\n",
    "    y_preds = lr.predict(X_test)\n",
    "\n",
    "    #plot \n",
    "    fig,ax = plt.subplots(figsize=(5,5));\n",
    "    ax.plot(X_test,y_preds,linestyle=':',color='orange')\n",
    "    ax.scatter(y_test,y_preds,alpha=0.5)\n",
    "    ax.set_title(f' Beta value {lr.coef_}')\n",
    "    ax.set_xlabel('Market Index:SPY')\n",
    "    ax.set_ylabel(f'{ticker} value')"
   ]
  },
  {
   "cell_type": "markdown",
   "metadata": {},
   "source": [
    "## P/E ratio"
   ]
  },
  {
   "cell_type": "markdown",
   "metadata": {},
   "source": [
    "Price-to-Earnings(P/E) ratio is a metric that compares a company's share price to it's earnings per share. It helps an investor\n",
    "determine whether a stock is undervalued or overvalued. Hence, if a stock is overvalued, then the investor is paying more for the stock and betting on future growth and vice-versa."
   ]
  },
  {
   "cell_type": "code",
   "execution_count": 5,
   "metadata": {},
   "outputs": [],
   "source": [
    "#function to get historical PE ratios\n",
    "\n",
    "def get_pe_ratio(ticker):\n",
    "    \n",
    "    #get financial statement of ticker using yahoofinancials\n",
    "    financials = YahooFinancials(ticker)\n",
    "    statement = financials.get_financial_stmts('annual', 'income', reformat=True)    \n",
    "    \n",
    "    #create a dict of the income statement alone\n",
    "    dicts ={}\n",
    "    for i in statement['incomeStatementHistory'][ticker]:\n",
    "        dicts.update(i)\n",
    "    \n",
    "    #create a dataframe for easy use\n",
    "    df = pd.DataFrame(dicts)\n",
    "    df = df.T\n",
    "    df['dilutedAverageShares'].fillna(df['dilutedAverageShares'].median(),inplace=True)\n",
    "    \n",
    "    #calculate pe ratio\n",
    "    eps = df['netIncomeContinuousOperations']/df['dilutedAverageShares'] #calc earnings per share\n",
    "    eps_df = pd.DataFrame(eps,index=df.index,columns=['EPS'])\n",
    "    eps_df['PE ratio'] = financials.get_current_price()/eps_df['EPS']#get current price and calc pe ratio\n",
    "    \n",
    "    #plot result\n",
    "    fig,ax=plt.subplots(figsize=(5,5));\n",
    "    ax.plot(eps_df['PE ratio'],marker = '*', markerfacecolor = 'black')\n",
    "    ax.set_title(f'Historical PE ratio: {ticker}')\n",
    "    ax.set_ylabel('PE ratio')"
   ]
  },
  {
   "cell_type": "markdown",
   "metadata": {},
   "source": [
    "## Dividend History"
   ]
  },
  {
   "cell_type": "markdown",
   "metadata": {},
   "source": [
    "A Dividend is the distirbution's of the company's profit to it's shareholders. Not every company pays dividends. Companies can also choose to re-invest their profits for future growth than reward shareholders. For an investor, investing in a company that pays dividends is an easy way to earn extra income on top of their initial investment."
   ]
  },
  {
   "cell_type": "code",
   "execution_count": 6,
   "metadata": {},
   "outputs": [],
   "source": [
    "#function to get historical dividend data\n",
    "\n",
    "def get_dividend(ticker):\n",
    "    \n",
    "    #get dividend data\n",
    "    financials = YahooFinancials(ticker)\n",
    "    div = financials.get_daily_dividend_data(start_date=start_date,end_date='2022-12-31')\n",
    "    \n",
    "    #check if the company pays dividends\n",
    "    if div[ticker] == None:\n",
    "        fig,ax = plt.subplots(figsize=(5,5))\n",
    "        ax.annotate(f'Sorry, {ticker} does not offer dividends',xy=(0.3,0.5),fontsize=20);\n",
    "        ax.axis('off')\n",
    "        return fig,ax\n",
    "    \n",
    "    else:#if company does pay dividends,then convert to a df and create a plot\n",
    "        df = pd.DataFrame(div[ticker])\n",
    "        df.drop('date',axis=1,inplace=True)\n",
    "        df.rename(columns={'formatted_date':'date'},inplace=True)\n",
    "        df['date'] = pd.to_datetime(df['date'])\n",
    "        df.set_index('date',inplace=True)\n",
    "        fig,ax=plt.subplots(figsize=(8,8))\n",
    "        ax.plot(df['amount']);\n",
    "        ax.set_title(f'Dividend rate: {ticker}');"
   ]
  },
  {
   "cell_type": "markdown",
   "metadata": {},
   "source": [
    "# Summing up performance..."
   ]
  },
  {
   "cell_type": "markdown",
   "metadata": {},
   "source": [
    "By combining all of the above into one function called `summary_info`, the investor can get a cohesive view of the performance his/her chosen stock. Below is an example of stock perfromance of **AAPL(tickr:'AAPL')**"
   ]
  },
  {
   "cell_type": "code",
   "execution_count": 7,
   "metadata": {},
   "outputs": [],
   "source": [
    "def summary_info(ticker):\n",
    "    return stock_info(ticker),stock_return(ticker),calculate_beta(ticker),get_dividend(ticker)"
   ]
  },
  {
   "cell_type": "code",
   "execution_count": 8,
   "metadata": {
    "scrolled": false
   },
   "outputs": [
    {
     "name": "stdout",
     "output_type": "stream",
     "text": [
      "[*********************100%***********************]  1 of 1 completed\n",
      "[*********************100%***********************]  1 of 1 completed\n",
      "[*********************100%***********************]  2 of 2 completed\n"
     ]
    },
    {
     "data": {
      "text/plain": [
       "(None, None, None, None)"
      ]
     },
     "execution_count": 8,
     "metadata": {},
     "output_type": "execute_result"
    },
    {
     "data": {
      "image/png": "[encoded data removed]",
      "text/plain": [
       "<Figure size 1000x500 with 1 Axes>"
      ]
     },
     "metadata": {},
     "output_type": "display_data"
    },
    {
     "data": {
      "image/png": "[encoded data removed]",
      "text/plain": [
       "<Figure size 1000x500 with 1 Axes>"
      ]
     },
     "metadata": {},
     "output_type": "display_data"
    },
    {
     "data": {
      "image/png": "[encoded data removed]",
      "text/plain": [
       "<Figure size 500x500 with 1 Axes>"
      ]
     },
     "metadata": {},
     "output_type": "display_data"
    },
    {
     "data": {
      "image/png": "[encoded data removed]",
      "text/plain": [
       "<Figure size 800x800 with 1 Axes>"
      ]
     },
     "metadata": {},
     "output_type": "display_data"
    }
   ],
   "source": [
    "summary_info('AAPL')"
   ]
  },
  {
   "cell_type": "markdown",
   "metadata": {},
   "source": [
    "1. Stock Performance: Stock is generally on an upward trend.\n",
    "2. Beta Value : Less than 1.0 signifying that it is low-risk.\n",
    "3. P/E ratio : Around 30 highlighting that it is over valued. Perhaps it would be better to wait for the p/e to come down.\n",
    "4. Dividend: Like the stock price, is on an upward trend. A nice boost to the shareholders for investing in the company."
   ]
  },
  {
   "cell_type": "markdown",
   "metadata": {},
   "source": [
    "# Time Series Modelling"
   ]
  },
  {
   "cell_type": "markdown",
   "metadata": {},
   "source": [
    "Again, we will  use data of **Apple** as an example. "
   ]
  },
  {
   "cell_type": "markdown",
   "metadata": {},
   "source": [
    "## Stationarity Check"
   ]
  },
  {
   "cell_type": "markdown",
   "metadata": {},
   "source": [
    "Time series models are usually built on the premise that models are stationary i.e there are patters to the data and by analyzing these patterns, future performance can be predicted with a degree of certainity. However, this rarely happens in real life. There is always some trend or seasonality or a combination of both in the data.Hence the first step is to check for stationarity. "
   ]
  },
  {
   "cell_type": "markdown",
   "metadata": {},
   "source": [
    "The function below plots rolling-statistics and the ouptut of the Dickey-Fuller test"
   ]
  },
  {
   "cell_type": "code",
   "execution_count": 9,
   "metadata": {},
   "outputs": [],
   "source": [
    "# def plot_trends(ticker):\n",
    "#     df = yf.download(ticker,start=start_date,end=end_date)\n",
    "#     close = df.loc[:,['Adj Close']]\n",
    "\n",
    "# #compute rolling mean and std to see if they are constant\n",
    "#     roll_mean = close.rolling(window=30,center=False).mean()\n",
    "#     roll_std = close.rolling(window=30,center=False).std()\n",
    "\n",
    "# #plot the data\n",
    "#     fig,ax=plt.subplots(figsize=(15,5))\n",
    "#     ax.plot(close,color='blue',label='Original')\n",
    "#     ax.plot(roll_mean,color='red',label='Rolling Mean')\n",
    "#     ax.plot(roll_std,color='green',label='Rolling StdDev')\n",
    "#     ax.legend(loc='best')\n",
    "#     ax.set_title(f'Rolling Statistics of {ticker}');\n",
    "\n",
    "# #dickey Fuller Test\n",
    "#     dftest = adfuller(close['Adj Close'])\n",
    "#     dfoutput = pd.DataFrame(dftest[0:4], index=['Test Statistic', 'p-value', '#Lags Used', 'Number of Observations Used'],columns=['Values'])\n",
    "    \n",
    "#     return dfoutput"
   ]
  },
  {
   "cell_type": "code",
   "execution_count": 10,
   "metadata": {
    "scrolled": true
   },
   "outputs": [],
   "source": [
    "# plot_trends('AAPL')"
   ]
  },
  {
   "cell_type": "markdown",
   "metadata": {},
   "source": [
    "By computing the rolling mean we can see that there is an upward trend in the data. Since, the rolling stddev is fairly straight, we can conclude that there is not much seasonality in the data. Also shown is the results of the **Dickey-Fuller** test, a statistical method to check for stationarity. The large p-value points to a non-stationary dataset"
   ]
  },
  {
   "cell_type": "markdown",
   "metadata": {},
   "source": [
    "## Convert non-stationary to stationary "
   ]
  },
  {
   "cell_type": "code",
   "execution_count": 11,
   "metadata": {},
   "outputs": [],
   "source": [
    "# def differencing(ticker):\n",
    "#     df = yf.download(ticker,start=start_date,end=end_date)\n",
    "#     df_return = df[['Adj Close']]\n",
    "#     df_diff =df_return.diff(periods=1)\n",
    "#     df_diff.dropna(inplace=True)\n",
    "    \n",
    "#     #plot the results\n",
    "#     fig,ax = plt.subplots(figsize = (12,5));\n",
    "#     ax.plot(df_diff, label = 'Differenced');\n",
    "#     ax.plot(df_diff.rolling(30).mean(),label = 'Rolling Mean')\n",
    "#     ax.plot(df_diff.rolling(30).std(),label = 'Rolling StdDev')\n",
    "#     ax.set_title(f'Differenced plot of {ticker}')\n",
    "#     ax.legend(loc=2);\n",
    "    \n",
    "#     #dickey fuller test\n",
    "#     dftest = adfuller(df_diff['Adj Close'])\n",
    "#     dfoutput = pd.DataFrame(dftest[0:4], index=['Test Statistic', 'p-value', '#Lags Used', 'Number of Observations Used'],columns=['Values'])\n",
    "    \n",
    "#     return dfoutput"
   ]
  },
  {
   "cell_type": "code",
   "execution_count": 12,
   "metadata": {},
   "outputs": [],
   "source": [
    "# differencing('AAPL')"
   ]
  },
  {
   "cell_type": "markdown",
   "metadata": {},
   "source": [
    "We can from the above plot that the mean though not perfectly flat is fairly linear signifying that we have removed the trend.\n",
    "The miniscule p-value from the Dicley-Fuller test also points towards a stationary dataset"
   ]
  },
  {
   "cell_type": "markdown",
   "metadata": {},
   "source": [
    "##  ACF and PACF"
   ]
  },
  {
   "cell_type": "markdown",
   "metadata": {},
   "source": [
    "Since the ARIMA and SARIMA modelss are linear regression models, we need to decide on how many regression terms we will use for the model. The Auto-Correlation and Partial Auto Correlation plot(for the AR and MA models respectively) will show the number of lag terms that have the most effect on future price."
   ]
  },
  {
   "cell_type": "code",
   "execution_count": 13,
   "metadata": {
    "scrolled": false
   },
   "outputs": [],
   "source": [
    "# #get stock data\n",
    "# df = yf.download('AAPL',start=start_date,end=end_date)\n",
    "# df_close = df[['Adj Close']]\n",
    "# df_diff =df_close.diff(periods=1)\n",
    "# df_diff.dropna(inplace=True)\n",
    "\n",
    "# #plot ACF and PACF values\n",
    "# fig,(ax1,ax2)=plt.subplots(nrows=2,figsize=(12,8))\n",
    "# acf = plot_acf(df_diff,ax=ax1)\n",
    "# pacf = plot_pacf(df_diff,ax=ax2)"
   ]
  },
  {
   "cell_type": "markdown",
   "metadata": {},
   "source": [
    "From both the plots, we can see that the 1st lag term i.e the previous day's stock price, will have the most effect on the next day's price. There are other terms that have an effect as well, but for the sake of simplicity we will use only one term for the model."
   ]
  },
  {
   "cell_type": "markdown",
   "metadata": {},
   "source": [
    "## ARIMA model"
   ]
  },
  {
   "cell_type": "markdown",
   "metadata": {},
   "source": [
    "We will first build and integrated AR and MA model known as ARIMA."
   ]
  },
  {
   "cell_type": "code",
   "execution_count": 14,
   "metadata": {},
   "outputs": [],
   "source": [
    "# #defining train and test sets\n",
    "# cutoff= int(df_close.shape[0]*0.75)\n",
    "# train = df_close[:cutoff]\n",
    "# test = df_close[cutoff:]"
   ]
  },
  {
   "cell_type": "markdown",
   "metadata": {},
   "source": [
    "Parameters for the model: **(p,d,q)=(1,1,1)** for the model based on the plots\n",
    "1. p = number of terms for the AR model\n",
    "2. d = order of differencing\n",
    "3. q = numer of the terms for the MA model"
   ]
  },
  {
   "cell_type": "code",
   "execution_count": 15,
   "metadata": {
    "scrolled": false
   },
   "outputs": [],
   "source": [
    "# # (1,1,1) ARIMA(p,d,q) based on ACF and PACF plots\n",
    "# #instantiate\n",
    "# model = ARIMA(train,\n",
    "#               order=(1,1,1))\n",
    "\n",
    "# #fit\n",
    "# model_fit = model.fit()\n",
    "# # print(model_fit.summary())\n",
    "\n",
    "# #getting predictions using get_prediction method\n",
    "# arima_predictions = model_fit.get_prediction(start = len(train)+1 , end = len(df_close),dynamic=True)\n",
    "# #predicted_mean gives lists the values\n",
    "# arima_pred_price=arima_predictions.predicted_mean\n",
    "# #converting into a df\n",
    "# arima_pred_price_df = pd.DataFrame(data=arima_pred_price)\n",
    "# #seetting the index to the test dates\n",
    "# arima_pred_price_df.index= test.index\n",
    "\n",
    "# # arima_pred_price_df.head()\n",
    "\n",
    "# #confidence intervals of predictions\n",
    "# arima_conf_int = arima_predictions.conf_int()\n",
    "# arima_conf_int.set_index(test.index,inplace=True)\n",
    "\n",
    "# # arima_conf_int.head()\n",
    "\n",
    "# #plotting predictions with confidence intervals\n",
    "# fig,ax =plt.subplots(figsize=(12,8))\n",
    "# # ax.plot(train,label='Train');\n",
    "# ax.plot(test,label='Test');\n",
    "# ax.plot(arima_pred_price_df,label='Predictions');\n",
    "# # ax.plot(arima_conf_int,label='Confidence Intervals')\n",
    "# ax.fill_between(arima_conf_int.index,arima_conf_int.iloc[:,0],arima_conf_int.iloc[:,1],color='k',alpha=0.1);\n",
    "# ax.legend(loc=2);"
   ]
  },
  {
   "cell_type": "code",
   "execution_count": 16,
   "metadata": {
    "scrolled": true
   },
   "outputs": [],
   "source": [
    "# #RMSE and AIC\n",
    "# error_arima = round(np.sqrt(mean_squared_error(test,arima_pred_price_df)),2)\n",
    "# aic_arima = round(model_fit.aic,2)\n",
    "# print(f'AIC score of the ARIMA model is {aic_arima}')\n",
    "# print(f'RMSE of the model is ${error_arima}')\n"
   ]
  },
  {
   "cell_type": "markdown",
   "metadata": {},
   "source": [
    "As we can tell, the model does not perform very well when compared to the test values"
   ]
  },
  {
   "cell_type": "markdown",
   "metadata": {},
   "source": [
    "## SARIMA model"
   ]
  },
  {
   "cell_type": "markdown",
   "metadata": {},
   "source": [
    "Next, we will build a SARIMA model. Like the ARIMA models, SARIMA model also depends on past values but has an extra seasonality component to take into account any seasonality patterns"
   ]
  },
  {
   "cell_type": "markdown",
   "metadata": {},
   "source": [
    "the the p,d,q values from the ARIMA models as a guide, we can run different combinations to check for the most optimal paramenters. The model that outputs the lowest AIC score , will be used as our model"
   ]
  },
  {
   "cell_type": "code",
   "execution_count": 17,
   "metadata": {},
   "outputs": [],
   "source": [
    "# #defining a range for the p,d,q values\n",
    "# p=d=q=range(0,2)\n",
    "# pdq = list(itertools.product(p,d,q))\n",
    "# pdqs = [(x[0], x[1], x[2], 12) for x in list(itertools.product(p, d, q))]"
   ]
  },
  {
   "cell_type": "code",
   "execution_count": 18,
   "metadata": {
    "scrolled": false
   },
   "outputs": [],
   "source": [
    "# # Run a grid with pdq and seasonal pdq parameters calculated above and get the best AIC value\n",
    "# ans = []\n",
    "# for comb in pdq:\n",
    "#     for combs in pdqs:\n",
    "#         try:\n",
    "#             mod = SARIMAX(train,\n",
    "#                           order=comb,\n",
    "#                           seasonal_order=combs,\n",
    "#                           enforce_stationarity=False,\n",
    "#                           enforce_invertibility=False)\n",
    "\n",
    "#             output = mod.fit()\n",
    "#             ans.append([comb, combs, output.aic])\n",
    "#             print('SARIMA {} x {}: AIC Calculated={}'.format(comb, combs, output.aic))\n",
    "#         except:\n",
    "#             continue"
   ]
  },
  {
   "cell_type": "code",
   "execution_count": 19,
   "metadata": {
    "scrolled": true
   },
   "outputs": [],
   "source": [
    "# sari_df = pd.DataFrame(ans,columns=['(p,d,q)','seasonal_combo', 'AIC'])\n",
    "# sari_df"
   ]
  },
  {
   "cell_type": "code",
   "execution_count": 20,
   "metadata": {
    "scrolled": false
   },
   "outputs": [],
   "source": [
    "# # Plug the optimal parameter values into a new SARIMAX model\n",
    "# sarimax = SARIMAX(train, \n",
    "#                   order=(0,1,1), \n",
    "#                   seasonal_order=(0,1,1,12), \n",
    "#                   enforce_stationarity=False, \n",
    "#                   enforce_invertibility=False)\n",
    "\n",
    "# # Fit the model and print results\n",
    "# output = sarimax.fit()\n",
    "\n",
    "# #get predictions\n",
    "# sarimax_predictions = output.get_prediction(start=len(train)+1,end=len(df_close),dynamic=True)\n",
    "# sarimax_price=sarimax_predictions.predicted_mean\n",
    "# sarimax_predictions_df = pd.DataFrame(data=sarimax_price)\n",
    "# sarimax_predictions_df.index= test.index\n",
    "\n",
    "# #get confidence intervals\n",
    "# sarimax_conf_int = sarimax_predictions.conf_int()\n",
    "# sarimax_conf_int.set_index(test.index,inplace=True)\n",
    "\n",
    "# #plot results\n",
    "# fig,ax =plt.subplots(figsize=(20,8))\n",
    "# # ax.plot(train,label='Train');\n",
    "# ax.plot(test,label='Test');\n",
    "# ax.plot(sarimax_predictions_df,label='Predictions');\n",
    "# # ax.plot(sarimax_conf_int,label='Confidence Intervals')\n",
    "# ax.fill_between(sarimax_conf_int.index,sarimax_conf_int.iloc[:,0],sarimax_conf_int.iloc[:,1],color='g',alpha=0.1);\n",
    "# ax.legend(loc=2);"
   ]
  },
  {
   "cell_type": "code",
   "execution_count": 21,
   "metadata": {
    "scrolled": true
   },
   "outputs": [],
   "source": [
    "# #RMSE\n",
    "# error_sarima = round(np.sqrt(mean_squared_error(test,sarimax_predictions_df)),2)\n",
    "# print(f'RMSE of the model is ${error_sarima}')"
   ]
  },
  {
   "cell_type": "markdown",
   "metadata": {},
   "source": [
    "Compared to the ARIMA model, the SARIMA model performance is much worse."
   ]
  },
  {
   "cell_type": "markdown",
   "metadata": {},
   "source": [
    "## Facebook Prophet"
   ]
  },
  {
   "cell_type": "markdown",
   "metadata": {},
   "source": [
    "The Prophet model is an additive model for time series predicting that was open sourced by Meta. in 2017.According to the official documentation, it works best with time series that have strong seasonal effects and several seasons of historical data  Prophet is robust to missing data and shifts in the trend and typically handles outliers well. "
   ]
  },
  {
   "cell_type": "markdown",
   "metadata": {},
   "source": [
    "First, we will use the default parameters and the undifferenced data to to build and evaluate the model:"
   ]
  },
  {
   "cell_type": "code",
   "execution_count": 22,
   "metadata": {
    "scrolled": true
   },
   "outputs": [],
   "source": [
    "# #get stock data\n",
    "# df = yf.download('AAPL',start=start_date,end=end_date)\n",
    "# df_close = df[['Adj Close']]\n",
    "\n",
    "# #resmapling by weekly\n",
    "# df_weekly = df_close.resample('W').mean()\n",
    "\n",
    "# #setting up df to be able to run Prophet\n",
    "\n",
    "# #reset index\n",
    "# df_weekly.reset_index(inplace=True)\n",
    "\n",
    "# #rename columns per prophet conventions\n",
    "# df_weekly.rename(columns={'Adj Close': 'y',\n",
    "#                          'Date':'ds'},inplace=True)\n",
    "\n",
    "# #set the date as the index\n",
    "# # df_close.set_index('ds',inplace=True)\n",
    "# # df_weekly.head()\n",
    "\n",
    "# #defining train and test sets\n",
    "# cutoff= int(df_weekly.shape[0]*0.75)\n",
    "# train = df_weekly[:cutoff]\n",
    "# test = df_weekly[cutoff:]\n",
    "\n",
    "# #instantiate\n",
    "# m = Prophet(seasonality_mode='multiplicative',\n",
    "#             weekly_seasonality=True,\n",
    "#             daily_seasonality = True,\n",
    "#             yearly_seasonality = True,\n",
    "#             interval_width=0.90, \n",
    "#            )\n",
    "\n",
    "# #fit\n",
    "# m.fit(train)\n",
    "\n",
    "# #forecasts - creating future dates using in built make_future_dataframe method\n",
    "# future = m.make_future_dataframe(periods=len(test),freq='W',include_history=False)\n",
    "\n",
    "# #predicting yhat \n",
    "# forecast = m.predict(future)\n",
    "\n",
    "# #creating a df of predicted values\n",
    "# forecast_values = forecast[['ds', 'yhat', 'yhat_lower', 'yhat_upper']]\n",
    "\n",
    "# #set the index for the plots\n",
    "# forecast_values.set_index('ds',inplace=True)\n",
    "# test.set_index('ds',inplace=True)\n",
    "\n",
    "# #plotting results\n",
    "# fig,ax=plt.subplots(figsize=(12,8))\n",
    "# # ax.plot(train,label='Train')\n",
    "# ax.plot(test,label='Test')\n",
    "# # ax.plot(df_weekly,label='Current Price')\n",
    "# ax.plot(forecast_values['yhat'],label='Forecast')\n",
    "# # ax.fill_between(test.index,forecast_values['yhat_lower'],forecast_values['yhat_upper'],color='g',alpha=0.1);\n",
    "# ax.legend();\n",
    "\n"
   ]
  },
  {
   "cell_type": "code",
   "execution_count": 23,
   "metadata": {},
   "outputs": [],
   "source": [
    "# #RMSE\n",
    "# error_fb = round(np.sqrt(mean_squared_error(test,forecast_values['yhat'])),2)\n",
    "# print(f'RMSE of the model is ${error_fb}')"
   ]
  },
  {
   "cell_type": "markdown",
   "metadata": {},
   "source": [
    "We can try to optimize the model by running a loop for the seasonality and changepoint values. These are deciding how much to penalize seasonality and changepoints changes in the data i.e if the values are small for the seasonality changes, then the effect of seasonal changes in the data is dampened and vice versa."
   ]
  },
  {
   "cell_type": "code",
   "execution_count": 24,
   "metadata": {
    "scrolled": false
   },
   "outputs": [],
   "source": [
    "# #run a loop for different regularization values\n",
    "\n",
    "# seasonality_scale = [0.1, 0.2, 0.3, 0.4, 0.5]\n",
    "# changepoint_scale = [0.1, 0.2, 0.3, 0.4, 0.5]\n",
    "# errors = []\n",
    "# new_error_fb = None\n",
    "\n",
    "# for season in seasonality_scale:\n",
    "#     for changepoint in changepoint_scale:\n",
    "#         #instantiate\n",
    "#         m = Prophet(seasonality_mode='multiplicative',\n",
    "#                 weekly_seasonality=True,\n",
    "#                 daily_seasonality = True,\n",
    "#                 yearly_seasonality = True,\n",
    "#                 interval_width=0.90,\n",
    "#                 seasonality_prior_scale=season,\n",
    "#                 changepoint_prior_scale=changepoint\n",
    "#                )\n",
    "\n",
    "#         #fit\n",
    "#         m.fit(train)\n",
    "        \n",
    "#         #forecasts - creating future dates using in built make_future_dataframe method\n",
    "#         future = m.make_future_dataframe(periods=len(test),freq='W',include_history=False)\n",
    "\n",
    "#         #predicting yhat \n",
    "#         forecast = m.predict(future)\n",
    "\n",
    "#         #getting only yhat values\n",
    "#         forecast_values = forecast[['ds', 'yhat']]\n",
    "        \n",
    "#         #setting the index\n",
    "#         forecast_values.set_index('ds',inplace=True)\n",
    "\n",
    "#         #rmse values\n",
    "#         rmse = round(np.sqrt(mean_squared_error(test,forecast_values['yhat'])),3)\n",
    "#         errors.append(rmse)\n",
    "#         new_error_fb = min(errors)\n",
    "# #         print(f'seasonality_scale:{season}, changepoint_scale:{changepoint}, rmse:{rmse}')\n",
    "        \n",
    "# print('----------------------------------------------')\n",
    "# print(f'Smallest RMSE after looping is ${new_error_fb}')\n",
    "# print(f'Original RMSE is ${error_fb}')"
   ]
  },
  {
   "cell_type": "markdown",
   "metadata": {},
   "source": [
    "We can see a decent jump in performance. Let's see if we can improve further"
   ]
  },
  {
   "cell_type": "markdown",
   "metadata": {},
   "source": [
    "### Prophet with differencing - comparing with test"
   ]
  },
  {
   "cell_type": "markdown",
   "metadata": {},
   "source": [
    "Like the other models, we can try and run the prophet model on stationary data to see if there is an improvement. We accomplish this by diffenreceing the data by an order of 1."
   ]
  },
  {
   "cell_type": "code",
   "execution_count": 25,
   "metadata": {
    "scrolled": false
   },
   "outputs": [
    {
     "name": "stdout",
     "output_type": "stream",
     "text": [
      "[*********************100%***********************]  1 of 1 completed\n"
     ]
    },
    {
     "name": "stderr",
     "output_type": "stream",
     "text": [
      "DEBUG:cmdstanpy:cmd: where.exe tbb.dll\n",
      "cwd: None\n",
      "DEBUG:cmdstanpy:Adding TBB (C:\\Users\\rahul krishnan\\anaconda3\\lib\\site-packages\\prophet\\stan_model\\cmdstan-2.26.1\\stan\\lib\\stan_math\\lib\\tbb) to PATH\n",
      "DEBUG:cmdstanpy:input tempfile: C:\\Users\\rahul krishnan\\AppData\\Local\\Temp\\tmp4b8jazbb\\raw4fjpt.json\n",
      "DEBUG:cmdstanpy:input tempfile: C:\\Users\\rahul krishnan\\AppData\\Local\\Temp\\tmp4b8jazbb\\qwkmij4_.json\n",
      "DEBUG:cmdstanpy:idx 0\n",
      "DEBUG:cmdstanpy:running CmdStan, num_threads: None\n",
      "DEBUG:cmdstanpy:CmdStan args: ['C:\\\\Users\\\\rahul krishnan\\\\anaconda3\\\\Lib\\\\site-packages\\\\prophet\\\\stan_model\\\\prophet_model.bin', 'random', 'seed=4774', 'data', 'file=C:\\\\Users\\\\rahul krishnan\\\\AppData\\\\Local\\\\Temp\\\\tmp4b8jazbb\\\\raw4fjpt.json', 'init=C:\\\\Users\\\\rahul krishnan\\\\AppData\\\\Local\\\\Temp\\\\tmp4b8jazbb\\\\qwkmij4_.json', 'output', 'file=C:\\\\Users\\\\rahul krishnan\\\\AppData\\\\Local\\\\Temp\\\\tmp4b8jazbb\\\\prophet_modelkbiad7b9\\\\prophet_model-20231022164340.csv', 'method=optimize', 'algorithm=lbfgs', 'iter=10000']\n",
      "16:43:40 - cmdstanpy - INFO - Chain [1] start processing\n",
      "INFO:cmdstanpy:Chain [1] start processing\n",
      "16:43:40 - cmdstanpy - INFO - Chain [1] done processing\n",
      "INFO:cmdstanpy:Chain [1] done processing\n"
     ]
    },
    {
     "data": {
      "image/png": "[encoded data removed]",
      "text/plain": [
       "<Figure size 1200x800 with 1 Axes>"
      ]
     },
     "metadata": {},
     "output_type": "display_data"
    }
   ],
   "source": [
    "#get stock data\n",
    "df = yf.download('AAPL',start=start_date,end=end_date)\n",
    "df_close = df[['Adj Close']]\n",
    "\n",
    "#resmapling by weekly\n",
    "df_weekly = df_close.resample('W').mean()\n",
    "\n",
    "df_weekly = df_weekly.diff(periods=1)\n",
    "df_weekly.dropna(inplace=True)\n",
    "\n",
    "#setting up df to be able to run Prophet\n",
    "#reset index\n",
    "df_weekly.reset_index(inplace=True)\n",
    "#rename columns per prophet conventions\n",
    "df_weekly.rename(columns={'Adj Close': 'y',\n",
    "                         'Date':'ds'},inplace=True)\n",
    "\n",
    "#defining train and test sets\n",
    "cutoff= int(df_weekly.shape[0]*0.75)\n",
    "train = df_weekly[:cutoff]\n",
    "test = df_weekly[cutoff:]\n",
    "\n",
    "#instantiate\n",
    "m = Prophet(seasonality_mode='multiplicative',\n",
    "            weekly_seasonality=True,\n",
    "            daily_seasonality = True,\n",
    "            yearly_seasonality = True,\n",
    "            interval_width=0.90, \n",
    "           )\n",
    "\n",
    "#fit\n",
    "m.fit(train)\n",
    "\n",
    "#forecasts - creating future dates using in built make_future_dataframe method\n",
    "future = m.make_future_dataframe(periods=len(test),freq='W',include_history=False)\n",
    "\n",
    "#predicting yhat \n",
    "forecast = m.predict(future)\n",
    "\n",
    "#creating a df of predicted values\n",
    "forecast_values = forecast[['ds', 'yhat']]\n",
    "\n",
    "#set the index for the plots\n",
    "forecast_values.set_index('ds',inplace=True)\n",
    "test.set_index('ds',inplace=True)\n",
    "\n",
    "#plotting results\n",
    "fig,ax=plt.subplots(figsize=(12,8))\n",
    "# ax.plot(train,label='Train')\n",
    "ax.plot(test,label='Test')\n",
    "# ax.plot(df_weekly,label='Current Price')\n",
    "ax.plot(forecast_values['yhat'],label='Forecast')\n",
    "# ax.fill_between(test.index,forecast_values['yhat_lower'],forecast_values['yhat_upper'],color='g',alpha=0.1);\n",
    "ax.legend();\n"
   ]
  },
  {
   "cell_type": "code",
   "execution_count": 26,
   "metadata": {},
   "outputs": [],
   "source": [
    "# #RMSE\n",
    "# error_fb_diff = round(np.sqrt(mean_squared_error(test,forecast_values['yhat'])),2)\n",
    "# print(f'RMSE of the model is ${error_fb_diff}')"
   ]
  },
  {
   "cell_type": "markdown",
   "metadata": {},
   "source": [
    "Here, we can see a vast improvement in model performance compared to before."
   ]
  },
  {
   "cell_type": "markdown",
   "metadata": {},
   "source": [
    "### regularization on differenced data"
   ]
  },
  {
   "cell_type": "markdown",
   "metadata": {},
   "source": [
    "We will same optimization loop as earlier for the differenced data to see if it impacts performance."
   ]
  },
  {
   "cell_type": "code",
   "execution_count": 28,
   "metadata": {
    "scrolled": false
   },
   "outputs": [
    {
     "name": "stderr",
     "output_type": "stream",
     "text": [
      "DEBUG:cmdstanpy:cmd: where.exe tbb.dll\n",
      "cwd: None\n",
      "DEBUG:cmdstanpy:TBB already found in load path\n",
      "DEBUG:cmdstanpy:input tempfile: C:\\Users\\rahul krishnan\\AppData\\Local\\Temp\\tmp4b8jazbb\\dyi6lm14.json\n",
      "DEBUG:cmdstanpy:input tempfile: C:\\Users\\rahul krishnan\\AppData\\Local\\Temp\\tmp4b8jazbb\\mt9fn2rd.json\n",
      "DEBUG:cmdstanpy:idx 0\n",
      "DEBUG:cmdstanpy:running CmdStan, num_threads: None\n",
      "DEBUG:cmdstanpy:CmdStan args: ['C:\\\\Users\\\\rahul krishnan\\\\anaconda3\\\\Lib\\\\site-packages\\\\prophet\\\\stan_model\\\\prophet_model.bin', 'random', 'seed=52212', 'data', 'file=C:\\\\Users\\\\rahul krishnan\\\\AppData\\\\Local\\\\Temp\\\\tmp4b8jazbb\\\\dyi6lm14.json', 'init=C:\\\\Users\\\\rahul krishnan\\\\AppData\\\\Local\\\\Temp\\\\tmp4b8jazbb\\\\mt9fn2rd.json', 'output', 'file=C:\\\\Users\\\\rahul krishnan\\\\AppData\\\\Local\\\\Temp\\\\tmp4b8jazbb\\\\prophet_modeln3lbw_f4\\\\prophet_model-20231022164854.csv', 'method=optimize', 'algorithm=lbfgs', 'iter=10000']\n",
      "16:48:54 - cmdstanpy - INFO - Chain [1] start processing\n",
      "INFO:cmdstanpy:Chain [1] start processing\n",
      "16:48:54 - cmdstanpy - INFO - Chain [1] done processing\n",
      "INFO:cmdstanpy:Chain [1] done processing\n",
      "DEBUG:cmdstanpy:cmd: where.exe tbb.dll\n",
      "cwd: None\n",
      "DEBUG:cmdstanpy:TBB already found in load path\n",
      "DEBUG:cmdstanpy:input tempfile: C:\\Users\\rahul krishnan\\AppData\\Local\\Temp\\tmp4b8jazbb\\_33puljc.json\n",
      "DEBUG:cmdstanpy:input tempfile: C:\\Users\\rahul krishnan\\AppData\\Local\\Temp\\tmp4b8jazbb\\639yeqo2.json\n",
      "DEBUG:cmdstanpy:idx 0\n",
      "DEBUG:cmdstanpy:running CmdStan, num_threads: None\n",
      "DEBUG:cmdstanpy:CmdStan args: ['C:\\\\Users\\\\rahul krishnan\\\\anaconda3\\\\Lib\\\\site-packages\\\\prophet\\\\stan_model\\\\prophet_model.bin', 'random', 'seed=19300', 'data', 'file=C:\\\\Users\\\\rahul krishnan\\\\AppData\\\\Local\\\\Temp\\\\tmp4b8jazbb\\\\_33puljc.json', 'init=C:\\\\Users\\\\rahul krishnan\\\\AppData\\\\Local\\\\Temp\\\\tmp4b8jazbb\\\\639yeqo2.json', 'output', 'file=C:\\\\Users\\\\rahul krishnan\\\\AppData\\\\Local\\\\Temp\\\\tmp4b8jazbb\\\\prophet_model1htkjyyn\\\\prophet_model-20231022164855.csv', 'method=optimize', 'algorithm=lbfgs', 'iter=10000']\n",
      "16:48:55 - cmdstanpy - INFO - Chain [1] start processing\n",
      "INFO:cmdstanpy:Chain [1] start processing\n",
      "16:48:55 - cmdstanpy - INFO - Chain [1] done processing\n",
      "INFO:cmdstanpy:Chain [1] done processing\n",
      "DEBUG:cmdstanpy:cmd: where.exe tbb.dll\n",
      "cwd: None\n",
      "DEBUG:cmdstanpy:TBB already found in load path\n",
      "DEBUG:cmdstanpy:input tempfile: C:\\Users\\rahul krishnan\\AppData\\Local\\Temp\\tmp4b8jazbb\\rh5ocpgp.json\n",
      "DEBUG:cmdstanpy:input tempfile: C:\\Users\\rahul krishnan\\AppData\\Local\\Temp\\tmp4b8jazbb\\xolcf2vy.json\n",
      "DEBUG:cmdstanpy:idx 0\n",
      "DEBUG:cmdstanpy:running CmdStan, num_threads: None\n",
      "DEBUG:cmdstanpy:CmdStan args: ['C:\\\\Users\\\\rahul krishnan\\\\anaconda3\\\\Lib\\\\site-packages\\\\prophet\\\\stan_model\\\\prophet_model.bin', 'random', 'seed=93377', 'data', 'file=C:\\\\Users\\\\rahul krishnan\\\\AppData\\\\Local\\\\Temp\\\\tmp4b8jazbb\\\\rh5ocpgp.json', 'init=C:\\\\Users\\\\rahul krishnan\\\\AppData\\\\Local\\\\Temp\\\\tmp4b8jazbb\\\\xolcf2vy.json', 'output', 'file=C:\\\\Users\\\\rahul krishnan\\\\AppData\\\\Local\\\\Temp\\\\tmp4b8jazbb\\\\prophet_modelngnmazas\\\\prophet_model-20231022164855.csv', 'method=optimize', 'algorithm=lbfgs', 'iter=10000']\n",
      "16:48:55 - cmdstanpy - INFO - Chain [1] start processing\n",
      "INFO:cmdstanpy:Chain [1] start processing\n",
      "16:48:55 - cmdstanpy - INFO - Chain [1] done processing\n",
      "INFO:cmdstanpy:Chain [1] done processing\n",
      "DEBUG:cmdstanpy:cmd: where.exe tbb.dll\n",
      "cwd: None\n",
      "DEBUG:cmdstanpy:TBB already found in load path\n",
      "DEBUG:cmdstanpy:input tempfile: C:\\Users\\rahul krishnan\\AppData\\Local\\Temp\\tmp4b8jazbb\\b1gn9gas.json\n",
      "DEBUG:cmdstanpy:input tempfile: C:\\Users\\rahul krishnan\\AppData\\Local\\Temp\\tmp4b8jazbb\\pblako9u.json\n",
      "DEBUG:cmdstanpy:idx 0\n",
      "DEBUG:cmdstanpy:running CmdStan, num_threads: None\n",
      "DEBUG:cmdstanpy:CmdStan args: ['C:\\\\Users\\\\rahul krishnan\\\\anaconda3\\\\Lib\\\\site-packages\\\\prophet\\\\stan_model\\\\prophet_model.bin', 'random', 'seed=9351', 'data', 'file=C:\\\\Users\\\\rahul krishnan\\\\AppData\\\\Local\\\\Temp\\\\tmp4b8jazbb\\\\b1gn9gas.json', 'init=C:\\\\Users\\\\rahul krishnan\\\\AppData\\\\Local\\\\Temp\\\\tmp4b8jazbb\\\\pblako9u.json', 'output', 'file=C:\\\\Users\\\\rahul krishnan\\\\AppData\\\\Local\\\\Temp\\\\tmp4b8jazbb\\\\prophet_modelkk4jxl21\\\\prophet_model-20231022164855.csv', 'method=optimize', 'algorithm=lbfgs', 'iter=10000']\n",
      "16:48:55 - cmdstanpy - INFO - Chain [1] start processing\n",
      "INFO:cmdstanpy:Chain [1] start processing\n",
      "16:48:55 - cmdstanpy - INFO - Chain [1] done processing\n",
      "INFO:cmdstanpy:Chain [1] done processing\n",
      "DEBUG:cmdstanpy:cmd: where.exe tbb.dll\n",
      "cwd: None\n",
      "DEBUG:cmdstanpy:TBB already found in load path\n",
      "DEBUG:cmdstanpy:input tempfile: C:\\Users\\rahul krishnan\\AppData\\Local\\Temp\\tmp4b8jazbb\\9czj1l_5.json\n",
      "DEBUG:cmdstanpy:input tempfile: C:\\Users\\rahul krishnan\\AppData\\Local\\Temp\\tmp4b8jazbb\\mfb092po.json\n",
      "DEBUG:cmdstanpy:idx 0\n",
      "DEBUG:cmdstanpy:running CmdStan, num_threads: None\n",
      "DEBUG:cmdstanpy:CmdStan args: ['C:\\\\Users\\\\rahul krishnan\\\\anaconda3\\\\Lib\\\\site-packages\\\\prophet\\\\stan_model\\\\prophet_model.bin', 'random', 'seed=33857', 'data', 'file=C:\\\\Users\\\\rahul krishnan\\\\AppData\\\\Local\\\\Temp\\\\tmp4b8jazbb\\\\9czj1l_5.json', 'init=C:\\\\Users\\\\rahul krishnan\\\\AppData\\\\Local\\\\Temp\\\\tmp4b8jazbb\\\\mfb092po.json', 'output', 'file=C:\\\\Users\\\\rahul krishnan\\\\AppData\\\\Local\\\\Temp\\\\tmp4b8jazbb\\\\prophet_modelvodqyvq4\\\\prophet_model-20231022164855.csv', 'method=optimize', 'algorithm=lbfgs', 'iter=10000']\n",
      "16:48:55 - cmdstanpy - INFO - Chain [1] start processing\n",
      "INFO:cmdstanpy:Chain [1] start processing\n",
      "16:48:56 - cmdstanpy - INFO - Chain [1] done processing\n",
      "INFO:cmdstanpy:Chain [1] done processing\n",
      "DEBUG:cmdstanpy:cmd: where.exe tbb.dll\n",
      "cwd: None\n",
      "DEBUG:cmdstanpy:TBB already found in load path\n",
      "DEBUG:cmdstanpy:input tempfile: C:\\Users\\rahul krishnan\\AppData\\Local\\Temp\\tmp4b8jazbb\\uhsnq1ve.json\n",
      "DEBUG:cmdstanpy:input tempfile: C:\\Users\\rahul krishnan\\AppData\\Local\\Temp\\tmp4b8jazbb\\hc2trynk.json\n",
      "DEBUG:cmdstanpy:idx 0\n",
      "DEBUG:cmdstanpy:running CmdStan, num_threads: None\n",
      "DEBUG:cmdstanpy:CmdStan args: ['C:\\\\Users\\\\rahul krishnan\\\\anaconda3\\\\Lib\\\\site-packages\\\\prophet\\\\stan_model\\\\prophet_model.bin', 'random', 'seed=73439', 'data', 'file=C:\\\\Users\\\\rahul krishnan\\\\AppData\\\\Local\\\\Temp\\\\tmp4b8jazbb\\\\uhsnq1ve.json', 'init=C:\\\\Users\\\\rahul krishnan\\\\AppData\\\\Local\\\\Temp\\\\tmp4b8jazbb\\\\hc2trynk.json', 'output', 'file=C:\\\\Users\\\\rahul krishnan\\\\AppData\\\\Local\\\\Temp\\\\tmp4b8jazbb\\\\prophet_modelplr1last\\\\prophet_model-20231022164856.csv', 'method=optimize', 'algorithm=lbfgs', 'iter=10000']\n",
      "16:48:56 - cmdstanpy - INFO - Chain [1] start processing\n",
      "INFO:cmdstanpy:Chain [1] start processing\n",
      "16:48:56 - cmdstanpy - INFO - Chain [1] done processing\n",
      "INFO:cmdstanpy:Chain [1] done processing\n",
      "DEBUG:cmdstanpy:cmd: where.exe tbb.dll\n",
      "cwd: None\n",
      "DEBUG:cmdstanpy:TBB already found in load path\n",
      "DEBUG:cmdstanpy:input tempfile: C:\\Users\\rahul krishnan\\AppData\\Local\\Temp\\tmp4b8jazbb\\5vjerivn.json\n",
      "DEBUG:cmdstanpy:input tempfile: C:\\Users\\rahul krishnan\\AppData\\Local\\Temp\\tmp4b8jazbb\\kwlqhw2g.json\n",
      "DEBUG:cmdstanpy:idx 0\n",
      "DEBUG:cmdstanpy:running CmdStan, num_threads: None\n",
      "DEBUG:cmdstanpy:CmdStan args: ['C:\\\\Users\\\\rahul krishnan\\\\anaconda3\\\\Lib\\\\site-packages\\\\prophet\\\\stan_model\\\\prophet_model.bin', 'random', 'seed=18093', 'data', 'file=C:\\\\Users\\\\rahul krishnan\\\\AppData\\\\Local\\\\Temp\\\\tmp4b8jazbb\\\\5vjerivn.json', 'init=C:\\\\Users\\\\rahul krishnan\\\\AppData\\\\Local\\\\Temp\\\\tmp4b8jazbb\\\\kwlqhw2g.json', 'output', 'file=C:\\\\Users\\\\rahul krishnan\\\\AppData\\\\Local\\\\Temp\\\\tmp4b8jazbb\\\\prophet_modeldf06aqk2\\\\prophet_model-20231022164856.csv', 'method=optimize', 'algorithm=lbfgs', 'iter=10000']\n",
      "16:48:56 - cmdstanpy - INFO - Chain [1] start processing\n",
      "INFO:cmdstanpy:Chain [1] start processing\n",
      "16:48:56 - cmdstanpy - INFO - Chain [1] done processing\n",
      "INFO:cmdstanpy:Chain [1] done processing\n",
      "DEBUG:cmdstanpy:cmd: where.exe tbb.dll\n",
      "cwd: None\n",
      "DEBUG:cmdstanpy:TBB already found in load path\n",
      "DEBUG:cmdstanpy:input tempfile: C:\\Users\\rahul krishnan\\AppData\\Local\\Temp\\tmp4b8jazbb\\asbtetgt.json\n",
      "DEBUG:cmdstanpy:input tempfile: C:\\Users\\rahul krishnan\\AppData\\Local\\Temp\\tmp4b8jazbb\\e7dpouxp.json\n",
      "DEBUG:cmdstanpy:idx 0\n",
      "DEBUG:cmdstanpy:running CmdStan, num_threads: None\n",
      "DEBUG:cmdstanpy:CmdStan args: ['C:\\\\Users\\\\rahul krishnan\\\\anaconda3\\\\Lib\\\\site-packages\\\\prophet\\\\stan_model\\\\prophet_model.bin', 'random', 'seed=90535', 'data', 'file=C:\\\\Users\\\\rahul krishnan\\\\AppData\\\\Local\\\\Temp\\\\tmp4b8jazbb\\\\asbtetgt.json', 'init=C:\\\\Users\\\\rahul krishnan\\\\AppData\\\\Local\\\\Temp\\\\tmp4b8jazbb\\\\e7dpouxp.json', 'output', 'file=C:\\\\Users\\\\rahul krishnan\\\\AppData\\\\Local\\\\Temp\\\\tmp4b8jazbb\\\\prophet_model9xcvrg99\\\\prophet_model-20231022164856.csv', 'method=optimize', 'algorithm=lbfgs', 'iter=10000']\n"
     ]
    },
    {
     "name": "stderr",
     "output_type": "stream",
     "text": [
      "16:48:56 - cmdstanpy - INFO - Chain [1] start processing\n",
      "INFO:cmdstanpy:Chain [1] start processing\n",
      "16:48:56 - cmdstanpy - INFO - Chain [1] done processing\n",
      "INFO:cmdstanpy:Chain [1] done processing\n",
      "DEBUG:cmdstanpy:cmd: where.exe tbb.dll\n",
      "cwd: None\n",
      "DEBUG:cmdstanpy:TBB already found in load path\n",
      "DEBUG:cmdstanpy:input tempfile: C:\\Users\\rahul krishnan\\AppData\\Local\\Temp\\tmp4b8jazbb\\oxha9i2s.json\n",
      "DEBUG:cmdstanpy:input tempfile: C:\\Users\\rahul krishnan\\AppData\\Local\\Temp\\tmp4b8jazbb\\qyznd9tz.json\n",
      "DEBUG:cmdstanpy:idx 0\n",
      "DEBUG:cmdstanpy:running CmdStan, num_threads: None\n",
      "DEBUG:cmdstanpy:CmdStan args: ['C:\\\\Users\\\\rahul krishnan\\\\anaconda3\\\\Lib\\\\site-packages\\\\prophet\\\\stan_model\\\\prophet_model.bin', 'random', 'seed=91576', 'data', 'file=C:\\\\Users\\\\rahul krishnan\\\\AppData\\\\Local\\\\Temp\\\\tmp4b8jazbb\\\\oxha9i2s.json', 'init=C:\\\\Users\\\\rahul krishnan\\\\AppData\\\\Local\\\\Temp\\\\tmp4b8jazbb\\\\qyznd9tz.json', 'output', 'file=C:\\\\Users\\\\rahul krishnan\\\\AppData\\\\Local\\\\Temp\\\\tmp4b8jazbb\\\\prophet_modelrqdyw7es\\\\prophet_model-20231022164857.csv', 'method=optimize', 'algorithm=lbfgs', 'iter=10000']\n",
      "16:48:57 - cmdstanpy - INFO - Chain [1] start processing\n",
      "INFO:cmdstanpy:Chain [1] start processing\n",
      "16:48:57 - cmdstanpy - INFO - Chain [1] done processing\n",
      "INFO:cmdstanpy:Chain [1] done processing\n",
      "DEBUG:cmdstanpy:cmd: where.exe tbb.dll\n",
      "cwd: None\n",
      "DEBUG:cmdstanpy:TBB already found in load path\n",
      "DEBUG:cmdstanpy:input tempfile: C:\\Users\\rahul krishnan\\AppData\\Local\\Temp\\tmp4b8jazbb\\_4wm78uu.json\n",
      "DEBUG:cmdstanpy:input tempfile: C:\\Users\\rahul krishnan\\AppData\\Local\\Temp\\tmp4b8jazbb\\a0ow02uy.json\n",
      "DEBUG:cmdstanpy:idx 0\n",
      "DEBUG:cmdstanpy:running CmdStan, num_threads: None\n",
      "DEBUG:cmdstanpy:CmdStan args: ['C:\\\\Users\\\\rahul krishnan\\\\anaconda3\\\\Lib\\\\site-packages\\\\prophet\\\\stan_model\\\\prophet_model.bin', 'random', 'seed=38015', 'data', 'file=C:\\\\Users\\\\rahul krishnan\\\\AppData\\\\Local\\\\Temp\\\\tmp4b8jazbb\\\\_4wm78uu.json', 'init=C:\\\\Users\\\\rahul krishnan\\\\AppData\\\\Local\\\\Temp\\\\tmp4b8jazbb\\\\a0ow02uy.json', 'output', 'file=C:\\\\Users\\\\rahul krishnan\\\\AppData\\\\Local\\\\Temp\\\\tmp4b8jazbb\\\\prophet_model391hhxil\\\\prophet_model-20231022164857.csv', 'method=optimize', 'algorithm=lbfgs', 'iter=10000']\n",
      "16:48:57 - cmdstanpy - INFO - Chain [1] start processing\n",
      "INFO:cmdstanpy:Chain [1] start processing\n",
      "16:48:57 - cmdstanpy - INFO - Chain [1] done processing\n",
      "INFO:cmdstanpy:Chain [1] done processing\n",
      "DEBUG:cmdstanpy:cmd: where.exe tbb.dll\n",
      "cwd: None\n",
      "DEBUG:cmdstanpy:TBB already found in load path\n",
      "DEBUG:cmdstanpy:input tempfile: C:\\Users\\rahul krishnan\\AppData\\Local\\Temp\\tmp4b8jazbb\\622uekx0.json\n",
      "DEBUG:cmdstanpy:input tempfile: C:\\Users\\rahul krishnan\\AppData\\Local\\Temp\\tmp4b8jazbb\\sg6rupef.json\n",
      "DEBUG:cmdstanpy:idx 0\n",
      "DEBUG:cmdstanpy:running CmdStan, num_threads: None\n",
      "DEBUG:cmdstanpy:CmdStan args: ['C:\\\\Users\\\\rahul krishnan\\\\anaconda3\\\\Lib\\\\site-packages\\\\prophet\\\\stan_model\\\\prophet_model.bin', 'random', 'seed=54218', 'data', 'file=C:\\\\Users\\\\rahul krishnan\\\\AppData\\\\Local\\\\Temp\\\\tmp4b8jazbb\\\\622uekx0.json', 'init=C:\\\\Users\\\\rahul krishnan\\\\AppData\\\\Local\\\\Temp\\\\tmp4b8jazbb\\\\sg6rupef.json', 'output', 'file=C:\\\\Users\\\\rahul krishnan\\\\AppData\\\\Local\\\\Temp\\\\tmp4b8jazbb\\\\prophet_model_zkxaxvy\\\\prophet_model-20231022164857.csv', 'method=optimize', 'algorithm=lbfgs', 'iter=10000']\n",
      "16:48:57 - cmdstanpy - INFO - Chain [1] start processing\n",
      "INFO:cmdstanpy:Chain [1] start processing\n",
      "16:48:57 - cmdstanpy - INFO - Chain [1] done processing\n",
      "INFO:cmdstanpy:Chain [1] done processing\n",
      "DEBUG:cmdstanpy:cmd: where.exe tbb.dll\n",
      "cwd: None\n",
      "DEBUG:cmdstanpy:TBB already found in load path\n",
      "DEBUG:cmdstanpy:input tempfile: C:\\Users\\rahul krishnan\\AppData\\Local\\Temp\\tmp4b8jazbb\\yq3sxk9_.json\n",
      "DEBUG:cmdstanpy:input tempfile: C:\\Users\\rahul krishnan\\AppData\\Local\\Temp\\tmp4b8jazbb\\h07d0llq.json\n",
      "DEBUG:cmdstanpy:idx 0\n",
      "DEBUG:cmdstanpy:running CmdStan, num_threads: None\n",
      "DEBUG:cmdstanpy:CmdStan args: ['C:\\\\Users\\\\rahul krishnan\\\\anaconda3\\\\Lib\\\\site-packages\\\\prophet\\\\stan_model\\\\prophet_model.bin', 'random', 'seed=93561', 'data', 'file=C:\\\\Users\\\\rahul krishnan\\\\AppData\\\\Local\\\\Temp\\\\tmp4b8jazbb\\\\yq3sxk9_.json', 'init=C:\\\\Users\\\\rahul krishnan\\\\AppData\\\\Local\\\\Temp\\\\tmp4b8jazbb\\\\h07d0llq.json', 'output', 'file=C:\\\\Users\\\\rahul krishnan\\\\AppData\\\\Local\\\\Temp\\\\tmp4b8jazbb\\\\prophet_modelu0pwx_md\\\\prophet_model-20231022164858.csv', 'method=optimize', 'algorithm=lbfgs', 'iter=10000']\n",
      "16:48:58 - cmdstanpy - INFO - Chain [1] start processing\n",
      "INFO:cmdstanpy:Chain [1] start processing\n",
      "16:48:58 - cmdstanpy - INFO - Chain [1] done processing\n",
      "INFO:cmdstanpy:Chain [1] done processing\n",
      "DEBUG:cmdstanpy:cmd: where.exe tbb.dll\n",
      "cwd: None\n",
      "DEBUG:cmdstanpy:TBB already found in load path\n",
      "DEBUG:cmdstanpy:input tempfile: C:\\Users\\rahul krishnan\\AppData\\Local\\Temp\\tmp4b8jazbb\\0eeaupdx.json\n",
      "DEBUG:cmdstanpy:input tempfile: C:\\Users\\rahul krishnan\\AppData\\Local\\Temp\\tmp4b8jazbb\\gx_jrbws.json\n",
      "DEBUG:cmdstanpy:idx 0\n",
      "DEBUG:cmdstanpy:running CmdStan, num_threads: None\n",
      "DEBUG:cmdstanpy:CmdStan args: ['C:\\\\Users\\\\rahul krishnan\\\\anaconda3\\\\Lib\\\\site-packages\\\\prophet\\\\stan_model\\\\prophet_model.bin', 'random', 'seed=97495', 'data', 'file=C:\\\\Users\\\\rahul krishnan\\\\AppData\\\\Local\\\\Temp\\\\tmp4b8jazbb\\\\0eeaupdx.json', 'init=C:\\\\Users\\\\rahul krishnan\\\\AppData\\\\Local\\\\Temp\\\\tmp4b8jazbb\\\\gx_jrbws.json', 'output', 'file=C:\\\\Users\\\\rahul krishnan\\\\AppData\\\\Local\\\\Temp\\\\tmp4b8jazbb\\\\prophet_model3mscq57o\\\\prophet_model-20231022164858.csv', 'method=optimize', 'algorithm=lbfgs', 'iter=10000']\n",
      "16:48:58 - cmdstanpy - INFO - Chain [1] start processing\n",
      "INFO:cmdstanpy:Chain [1] start processing\n",
      "16:48:58 - cmdstanpy - INFO - Chain [1] done processing\n",
      "INFO:cmdstanpy:Chain [1] done processing\n",
      "DEBUG:cmdstanpy:cmd: where.exe tbb.dll\n",
      "cwd: None\n",
      "DEBUG:cmdstanpy:TBB already found in load path\n",
      "DEBUG:cmdstanpy:input tempfile: C:\\Users\\rahul krishnan\\AppData\\Local\\Temp\\tmp4b8jazbb\\53p4shei.json\n",
      "DEBUG:cmdstanpy:input tempfile: C:\\Users\\rahul krishnan\\AppData\\Local\\Temp\\tmp4b8jazbb\\qtoi8if2.json\n",
      "DEBUG:cmdstanpy:idx 0\n",
      "DEBUG:cmdstanpy:running CmdStan, num_threads: None\n",
      "DEBUG:cmdstanpy:CmdStan args: ['C:\\\\Users\\\\rahul krishnan\\\\anaconda3\\\\Lib\\\\site-packages\\\\prophet\\\\stan_model\\\\prophet_model.bin', 'random', 'seed=832', 'data', 'file=C:\\\\Users\\\\rahul krishnan\\\\AppData\\\\Local\\\\Temp\\\\tmp4b8jazbb\\\\53p4shei.json', 'init=C:\\\\Users\\\\rahul krishnan\\\\AppData\\\\Local\\\\Temp\\\\tmp4b8jazbb\\\\qtoi8if2.json', 'output', 'file=C:\\\\Users\\\\rahul krishnan\\\\AppData\\\\Local\\\\Temp\\\\tmp4b8jazbb\\\\prophet_modelu0lvg2ik\\\\prophet_model-20231022164858.csv', 'method=optimize', 'algorithm=lbfgs', 'iter=10000']\n",
      "16:48:58 - cmdstanpy - INFO - Chain [1] start processing\n",
      "INFO:cmdstanpy:Chain [1] start processing\n",
      "16:48:58 - cmdstanpy - INFO - Chain [1] done processing\n",
      "INFO:cmdstanpy:Chain [1] done processing\n",
      "DEBUG:cmdstanpy:cmd: where.exe tbb.dll\n",
      "cwd: None\n",
      "DEBUG:cmdstanpy:TBB already found in load path\n",
      "DEBUG:cmdstanpy:input tempfile: C:\\Users\\rahul krishnan\\AppData\\Local\\Temp\\tmp4b8jazbb\\imvzy3e9.json\n",
      "DEBUG:cmdstanpy:input tempfile: C:\\Users\\rahul krishnan\\AppData\\Local\\Temp\\tmp4b8jazbb\\0y_4p744.json\n",
      "DEBUG:cmdstanpy:idx 0\n",
      "DEBUG:cmdstanpy:running CmdStan, num_threads: None\n",
      "DEBUG:cmdstanpy:CmdStan args: ['C:\\\\Users\\\\rahul krishnan\\\\anaconda3\\\\Lib\\\\site-packages\\\\prophet\\\\stan_model\\\\prophet_model.bin', 'random', 'seed=48493', 'data', 'file=C:\\\\Users\\\\rahul krishnan\\\\AppData\\\\Local\\\\Temp\\\\tmp4b8jazbb\\\\imvzy3e9.json', 'init=C:\\\\Users\\\\rahul krishnan\\\\AppData\\\\Local\\\\Temp\\\\tmp4b8jazbb\\\\0y_4p744.json', 'output', 'file=C:\\\\Users\\\\rahul krishnan\\\\AppData\\\\Local\\\\Temp\\\\tmp4b8jazbb\\\\prophet_modelifrwocwv\\\\prophet_model-20231022164858.csv', 'method=optimize', 'algorithm=lbfgs', 'iter=10000']\n",
      "16:48:58 - cmdstanpy - INFO - Chain [1] start processing\n",
      "INFO:cmdstanpy:Chain [1] start processing\n",
      "16:48:58 - cmdstanpy - INFO - Chain [1] done processing\n",
      "INFO:cmdstanpy:Chain [1] done processing\n",
      "DEBUG:cmdstanpy:cmd: where.exe tbb.dll\n",
      "cwd: None\n",
      "DEBUG:cmdstanpy:TBB already found in load path\n",
      "DEBUG:cmdstanpy:input tempfile: C:\\Users\\rahul krishnan\\AppData\\Local\\Temp\\tmp4b8jazbb\\zg9fwr6q.json\n",
      "DEBUG:cmdstanpy:input tempfile: C:\\Users\\rahul krishnan\\AppData\\Local\\Temp\\tmp4b8jazbb\\sar36jra.json\n",
      "DEBUG:cmdstanpy:idx 0\n",
      "DEBUG:cmdstanpy:running CmdStan, num_threads: None\n",
      "DEBUG:cmdstanpy:CmdStan args: ['C:\\\\Users\\\\rahul krishnan\\\\anaconda3\\\\Lib\\\\site-packages\\\\prophet\\\\stan_model\\\\prophet_model.bin', 'random', 'seed=61259', 'data', 'file=C:\\\\Users\\\\rahul krishnan\\\\AppData\\\\Local\\\\Temp\\\\tmp4b8jazbb\\\\zg9fwr6q.json', 'init=C:\\\\Users\\\\rahul krishnan\\\\AppData\\\\Local\\\\Temp\\\\tmp4b8jazbb\\\\sar36jra.json', 'output', 'file=C:\\\\Users\\\\rahul krishnan\\\\AppData\\\\Local\\\\Temp\\\\tmp4b8jazbb\\\\prophet_modelwipktx9m\\\\prophet_model-20231022164859.csv', 'method=optimize', 'algorithm=lbfgs', 'iter=10000']\n"
     ]
    },
    {
     "name": "stderr",
     "output_type": "stream",
     "text": [
      "16:48:59 - cmdstanpy - INFO - Chain [1] start processing\n",
      "INFO:cmdstanpy:Chain [1] start processing\n",
      "16:48:59 - cmdstanpy - INFO - Chain [1] done processing\n",
      "INFO:cmdstanpy:Chain [1] done processing\n",
      "DEBUG:cmdstanpy:cmd: where.exe tbb.dll\n",
      "cwd: None\n",
      "DEBUG:cmdstanpy:TBB already found in load path\n",
      "DEBUG:cmdstanpy:input tempfile: C:\\Users\\rahul krishnan\\AppData\\Local\\Temp\\tmp4b8jazbb\\9w24ug8d.json\n",
      "DEBUG:cmdstanpy:input tempfile: C:\\Users\\rahul krishnan\\AppData\\Local\\Temp\\tmp4b8jazbb\\c0dvuz08.json\n",
      "DEBUG:cmdstanpy:idx 0\n",
      "DEBUG:cmdstanpy:running CmdStan, num_threads: None\n",
      "DEBUG:cmdstanpy:CmdStan args: ['C:\\\\Users\\\\rahul krishnan\\\\anaconda3\\\\Lib\\\\site-packages\\\\prophet\\\\stan_model\\\\prophet_model.bin', 'random', 'seed=10502', 'data', 'file=C:\\\\Users\\\\rahul krishnan\\\\AppData\\\\Local\\\\Temp\\\\tmp4b8jazbb\\\\9w24ug8d.json', 'init=C:\\\\Users\\\\rahul krishnan\\\\AppData\\\\Local\\\\Temp\\\\tmp4b8jazbb\\\\c0dvuz08.json', 'output', 'file=C:\\\\Users\\\\rahul krishnan\\\\AppData\\\\Local\\\\Temp\\\\tmp4b8jazbb\\\\prophet_modeln_4hkf34\\\\prophet_model-20231022164859.csv', 'method=optimize', 'algorithm=lbfgs', 'iter=10000']\n",
      "16:48:59 - cmdstanpy - INFO - Chain [1] start processing\n",
      "INFO:cmdstanpy:Chain [1] start processing\n",
      "16:48:59 - cmdstanpy - INFO - Chain [1] done processing\n",
      "INFO:cmdstanpy:Chain [1] done processing\n",
      "DEBUG:cmdstanpy:cmd: where.exe tbb.dll\n",
      "cwd: None\n",
      "DEBUG:cmdstanpy:TBB already found in load path\n",
      "DEBUG:cmdstanpy:input tempfile: C:\\Users\\rahul krishnan\\AppData\\Local\\Temp\\tmp4b8jazbb\\zx8a86ft.json\n",
      "DEBUG:cmdstanpy:input tempfile: C:\\Users\\rahul krishnan\\AppData\\Local\\Temp\\tmp4b8jazbb\\pn9rzlpm.json\n",
      "DEBUG:cmdstanpy:idx 0\n",
      "DEBUG:cmdstanpy:running CmdStan, num_threads: None\n",
      "DEBUG:cmdstanpy:CmdStan args: ['C:\\\\Users\\\\rahul krishnan\\\\anaconda3\\\\Lib\\\\site-packages\\\\prophet\\\\stan_model\\\\prophet_model.bin', 'random', 'seed=27468', 'data', 'file=C:\\\\Users\\\\rahul krishnan\\\\AppData\\\\Local\\\\Temp\\\\tmp4b8jazbb\\\\zx8a86ft.json', 'init=C:\\\\Users\\\\rahul krishnan\\\\AppData\\\\Local\\\\Temp\\\\tmp4b8jazbb\\\\pn9rzlpm.json', 'output', 'file=C:\\\\Users\\\\rahul krishnan\\\\AppData\\\\Local\\\\Temp\\\\tmp4b8jazbb\\\\prophet_modelk7ngaeo4\\\\prophet_model-20231022164859.csv', 'method=optimize', 'algorithm=lbfgs', 'iter=10000']\n",
      "16:48:59 - cmdstanpy - INFO - Chain [1] start processing\n",
      "INFO:cmdstanpy:Chain [1] start processing\n",
      "16:48:59 - cmdstanpy - INFO - Chain [1] done processing\n",
      "INFO:cmdstanpy:Chain [1] done processing\n",
      "DEBUG:cmdstanpy:cmd: where.exe tbb.dll\n",
      "cwd: None\n",
      "DEBUG:cmdstanpy:TBB already found in load path\n",
      "DEBUG:cmdstanpy:input tempfile: C:\\Users\\rahul krishnan\\AppData\\Local\\Temp\\tmp4b8jazbb\\_wc9fuci.json\n",
      "DEBUG:cmdstanpy:input tempfile: C:\\Users\\rahul krishnan\\AppData\\Local\\Temp\\tmp4b8jazbb\\w1snq1ke.json\n",
      "DEBUG:cmdstanpy:idx 0\n",
      "DEBUG:cmdstanpy:running CmdStan, num_threads: None\n",
      "DEBUG:cmdstanpy:CmdStan args: ['C:\\\\Users\\\\rahul krishnan\\\\anaconda3\\\\Lib\\\\site-packages\\\\prophet\\\\stan_model\\\\prophet_model.bin', 'random', 'seed=62966', 'data', 'file=C:\\\\Users\\\\rahul krishnan\\\\AppData\\\\Local\\\\Temp\\\\tmp4b8jazbb\\\\_wc9fuci.json', 'init=C:\\\\Users\\\\rahul krishnan\\\\AppData\\\\Local\\\\Temp\\\\tmp4b8jazbb\\\\w1snq1ke.json', 'output', 'file=C:\\\\Users\\\\rahul krishnan\\\\AppData\\\\Local\\\\Temp\\\\tmp4b8jazbb\\\\prophet_modeln_izuyoy\\\\prophet_model-20231022164900.csv', 'method=optimize', 'algorithm=lbfgs', 'iter=10000']\n",
      "16:49:00 - cmdstanpy - INFO - Chain [1] start processing\n",
      "INFO:cmdstanpy:Chain [1] start processing\n",
      "16:49:00 - cmdstanpy - INFO - Chain [1] done processing\n",
      "INFO:cmdstanpy:Chain [1] done processing\n",
      "DEBUG:cmdstanpy:cmd: where.exe tbb.dll\n",
      "cwd: None\n",
      "DEBUG:cmdstanpy:TBB already found in load path\n",
      "DEBUG:cmdstanpy:input tempfile: C:\\Users\\rahul krishnan\\AppData\\Local\\Temp\\tmp4b8jazbb\\4oze1tr3.json\n",
      "DEBUG:cmdstanpy:input tempfile: C:\\Users\\rahul krishnan\\AppData\\Local\\Temp\\tmp4b8jazbb\\6h16dvhi.json\n",
      "DEBUG:cmdstanpy:idx 0\n",
      "DEBUG:cmdstanpy:running CmdStan, num_threads: None\n",
      "DEBUG:cmdstanpy:CmdStan args: ['C:\\\\Users\\\\rahul krishnan\\\\anaconda3\\\\Lib\\\\site-packages\\\\prophet\\\\stan_model\\\\prophet_model.bin', 'random', 'seed=8404', 'data', 'file=C:\\\\Users\\\\rahul krishnan\\\\AppData\\\\Local\\\\Temp\\\\tmp4b8jazbb\\\\4oze1tr3.json', 'init=C:\\\\Users\\\\rahul krishnan\\\\AppData\\\\Local\\\\Temp\\\\tmp4b8jazbb\\\\6h16dvhi.json', 'output', 'file=C:\\\\Users\\\\rahul krishnan\\\\AppData\\\\Local\\\\Temp\\\\tmp4b8jazbb\\\\prophet_modelwahs1bc3\\\\prophet_model-20231022164900.csv', 'method=optimize', 'algorithm=lbfgs', 'iter=10000']\n",
      "16:49:00 - cmdstanpy - INFO - Chain [1] start processing\n",
      "INFO:cmdstanpy:Chain [1] start processing\n",
      "16:49:00 - cmdstanpy - INFO - Chain [1] done processing\n",
      "INFO:cmdstanpy:Chain [1] done processing\n",
      "DEBUG:cmdstanpy:cmd: where.exe tbb.dll\n",
      "cwd: None\n",
      "DEBUG:cmdstanpy:TBB already found in load path\n",
      "DEBUG:cmdstanpy:input tempfile: C:\\Users\\rahul krishnan\\AppData\\Local\\Temp\\tmp4b8jazbb\\n0a6ytdl.json\n",
      "DEBUG:cmdstanpy:input tempfile: C:\\Users\\rahul krishnan\\AppData\\Local\\Temp\\tmp4b8jazbb\\tsq9czm0.json\n",
      "DEBUG:cmdstanpy:idx 0\n",
      "DEBUG:cmdstanpy:running CmdStan, num_threads: None\n",
      "DEBUG:cmdstanpy:CmdStan args: ['C:\\\\Users\\\\rahul krishnan\\\\anaconda3\\\\Lib\\\\site-packages\\\\prophet\\\\stan_model\\\\prophet_model.bin', 'random', 'seed=23825', 'data', 'file=C:\\\\Users\\\\rahul krishnan\\\\AppData\\\\Local\\\\Temp\\\\tmp4b8jazbb\\\\n0a6ytdl.json', 'init=C:\\\\Users\\\\rahul krishnan\\\\AppData\\\\Local\\\\Temp\\\\tmp4b8jazbb\\\\tsq9czm0.json', 'output', 'file=C:\\\\Users\\\\rahul krishnan\\\\AppData\\\\Local\\\\Temp\\\\tmp4b8jazbb\\\\prophet_models1bizc58\\\\prophet_model-20231022164900.csv', 'method=optimize', 'algorithm=lbfgs', 'iter=10000']\n",
      "16:49:00 - cmdstanpy - INFO - Chain [1] start processing\n",
      "INFO:cmdstanpy:Chain [1] start processing\n",
      "16:49:00 - cmdstanpy - INFO - Chain [1] done processing\n",
      "INFO:cmdstanpy:Chain [1] done processing\n",
      "DEBUG:cmdstanpy:cmd: where.exe tbb.dll\n",
      "cwd: None\n",
      "DEBUG:cmdstanpy:TBB already found in load path\n",
      "DEBUG:cmdstanpy:input tempfile: C:\\Users\\rahul krishnan\\AppData\\Local\\Temp\\tmp4b8jazbb\\xzgkw3ts.json\n",
      "DEBUG:cmdstanpy:input tempfile: C:\\Users\\rahul krishnan\\AppData\\Local\\Temp\\tmp4b8jazbb\\als80sme.json\n",
      "DEBUG:cmdstanpy:idx 0\n",
      "DEBUG:cmdstanpy:running CmdStan, num_threads: None\n",
      "DEBUG:cmdstanpy:CmdStan args: ['C:\\\\Users\\\\rahul krishnan\\\\anaconda3\\\\Lib\\\\site-packages\\\\prophet\\\\stan_model\\\\prophet_model.bin', 'random', 'seed=99454', 'data', 'file=C:\\\\Users\\\\rahul krishnan\\\\AppData\\\\Local\\\\Temp\\\\tmp4b8jazbb\\\\xzgkw3ts.json', 'init=C:\\\\Users\\\\rahul krishnan\\\\AppData\\\\Local\\\\Temp\\\\tmp4b8jazbb\\\\als80sme.json', 'output', 'file=C:\\\\Users\\\\rahul krishnan\\\\AppData\\\\Local\\\\Temp\\\\tmp4b8jazbb\\\\prophet_model7og1sd7_\\\\prophet_model-20231022164901.csv', 'method=optimize', 'algorithm=lbfgs', 'iter=10000']\n",
      "16:49:01 - cmdstanpy - INFO - Chain [1] start processing\n",
      "INFO:cmdstanpy:Chain [1] start processing\n",
      "16:49:01 - cmdstanpy - INFO - Chain [1] done processing\n",
      "INFO:cmdstanpy:Chain [1] done processing\n",
      "DEBUG:cmdstanpy:cmd: where.exe tbb.dll\n",
      "cwd: None\n",
      "DEBUG:cmdstanpy:TBB already found in load path\n",
      "DEBUG:cmdstanpy:input tempfile: C:\\Users\\rahul krishnan\\AppData\\Local\\Temp\\tmp4b8jazbb\\ryyx4tvc.json\n",
      "DEBUG:cmdstanpy:input tempfile: C:\\Users\\rahul krishnan\\AppData\\Local\\Temp\\tmp4b8jazbb\\4az79zia.json\n",
      "DEBUG:cmdstanpy:idx 0\n",
      "DEBUG:cmdstanpy:running CmdStan, num_threads: None\n",
      "DEBUG:cmdstanpy:CmdStan args: ['C:\\\\Users\\\\rahul krishnan\\\\anaconda3\\\\Lib\\\\site-packages\\\\prophet\\\\stan_model\\\\prophet_model.bin', 'random', 'seed=30803', 'data', 'file=C:\\\\Users\\\\rahul krishnan\\\\AppData\\\\Local\\\\Temp\\\\tmp4b8jazbb\\\\ryyx4tvc.json', 'init=C:\\\\Users\\\\rahul krishnan\\\\AppData\\\\Local\\\\Temp\\\\tmp4b8jazbb\\\\4az79zia.json', 'output', 'file=C:\\\\Users\\\\rahul krishnan\\\\AppData\\\\Local\\\\Temp\\\\tmp4b8jazbb\\\\prophet_model03tary6p\\\\prophet_model-20231022164901.csv', 'method=optimize', 'algorithm=lbfgs', 'iter=10000']\n",
      "16:49:01 - cmdstanpy - INFO - Chain [1] start processing\n",
      "INFO:cmdstanpy:Chain [1] start processing\n",
      "16:49:01 - cmdstanpy - INFO - Chain [1] done processing\n",
      "INFO:cmdstanpy:Chain [1] done processing\n",
      "DEBUG:cmdstanpy:cmd: where.exe tbb.dll\n",
      "cwd: None\n",
      "DEBUG:cmdstanpy:TBB already found in load path\n",
      "DEBUG:cmdstanpy:input tempfile: C:\\Users\\rahul krishnan\\AppData\\Local\\Temp\\tmp4b8jazbb\\f2rrdpov.json\n",
      "DEBUG:cmdstanpy:input tempfile: C:\\Users\\rahul krishnan\\AppData\\Local\\Temp\\tmp4b8jazbb\\zmq5yyqp.json\n",
      "DEBUG:cmdstanpy:idx 0\n",
      "DEBUG:cmdstanpy:running CmdStan, num_threads: None\n",
      "DEBUG:cmdstanpy:CmdStan args: ['C:\\\\Users\\\\rahul krishnan\\\\anaconda3\\\\Lib\\\\site-packages\\\\prophet\\\\stan_model\\\\prophet_model.bin', 'random', 'seed=29273', 'data', 'file=C:\\\\Users\\\\rahul krishnan\\\\AppData\\\\Local\\\\Temp\\\\tmp4b8jazbb\\\\f2rrdpov.json', 'init=C:\\\\Users\\\\rahul krishnan\\\\AppData\\\\Local\\\\Temp\\\\tmp4b8jazbb\\\\zmq5yyqp.json', 'output', 'file=C:\\\\Users\\\\rahul krishnan\\\\AppData\\\\Local\\\\Temp\\\\tmp4b8jazbb\\\\prophet_modelcb428omi\\\\prophet_model-20231022164901.csv', 'method=optimize', 'algorithm=lbfgs', 'iter=10000']\n"
     ]
    },
    {
     "name": "stderr",
     "output_type": "stream",
     "text": [
      "16:49:01 - cmdstanpy - INFO - Chain [1] start processing\n",
      "INFO:cmdstanpy:Chain [1] start processing\n",
      "16:49:01 - cmdstanpy - INFO - Chain [1] done processing\n",
      "INFO:cmdstanpy:Chain [1] done processing\n",
      "DEBUG:cmdstanpy:cmd: where.exe tbb.dll\n",
      "cwd: None\n",
      "DEBUG:cmdstanpy:TBB already found in load path\n",
      "DEBUG:cmdstanpy:input tempfile: C:\\Users\\rahul krishnan\\AppData\\Local\\Temp\\tmp4b8jazbb\\kmblml1j.json\n",
      "DEBUG:cmdstanpy:input tempfile: C:\\Users\\rahul krishnan\\AppData\\Local\\Temp\\tmp4b8jazbb\\rqyweni3.json\n",
      "DEBUG:cmdstanpy:idx 0\n",
      "DEBUG:cmdstanpy:running CmdStan, num_threads: None\n",
      "DEBUG:cmdstanpy:CmdStan args: ['C:\\\\Users\\\\rahul krishnan\\\\anaconda3\\\\Lib\\\\site-packages\\\\prophet\\\\stan_model\\\\prophet_model.bin', 'random', 'seed=63061', 'data', 'file=C:\\\\Users\\\\rahul krishnan\\\\AppData\\\\Local\\\\Temp\\\\tmp4b8jazbb\\\\kmblml1j.json', 'init=C:\\\\Users\\\\rahul krishnan\\\\AppData\\\\Local\\\\Temp\\\\tmp4b8jazbb\\\\rqyweni3.json', 'output', 'file=C:\\\\Users\\\\rahul krishnan\\\\AppData\\\\Local\\\\Temp\\\\tmp4b8jazbb\\\\prophet_model3173_7ar\\\\prophet_model-20231022164901.csv', 'method=optimize', 'algorithm=lbfgs', 'iter=10000']\n",
      "16:49:01 - cmdstanpy - INFO - Chain [1] start processing\n",
      "INFO:cmdstanpy:Chain [1] start processing\n",
      "16:49:02 - cmdstanpy - INFO - Chain [1] done processing\n",
      "INFO:cmdstanpy:Chain [1] done processing\n"
     ]
    },
    {
     "name": "stdout",
     "output_type": "stream",
     "text": [
      "----------------------------------------------\n",
      "Smallest RMSE after looping is 5.237\n"
     ]
    }
   ],
   "source": [
    "#run a loop for different regularization values\n",
    "seasonality_scale = [0.1, 0.2, 0.3, 0.4, 0.5]\n",
    "changepoint_scale = [0.1, 0.2, 0.3, 0.4, 0.5]\n",
    "errors = []\n",
    "new_error_fb_diff = None\n",
    "\n",
    "for season in seasonality_scale:\n",
    "    for changepoint in changepoint_scale:\n",
    "        #instantiate\n",
    "        m = Prophet(seasonality_mode='multiplicative',\n",
    "                weekly_seasonality=True,\n",
    "                daily_seasonality = True,\n",
    "                yearly_seasonality = True,\n",
    "                interval_width=0.90,\n",
    "                seasonality_prior_scale=season,\n",
    "                changepoint_prior_scale=changepoint\n",
    "               )\n",
    "\n",
    "        #fit\n",
    "        m.fit(train)\n",
    "        \n",
    "        #forecasts - creating future dates using in built make_future_dataframe method\n",
    "        future = m.make_future_dataframe(periods=len(test),freq='W',include_history=False)\n",
    "\n",
    "        #predicting yhat \n",
    "        forecast = m.predict(future)\n",
    "\n",
    "        #getting only yhat values\n",
    "        forecast_values = forecast[['ds', 'yhat']]\n",
    "        \n",
    "        #setting the index\n",
    "        forecast_values.set_index('ds',inplace=True)\n",
    "\n",
    "        #rmse values\n",
    "        rmse = round(np.sqrt(mean_squared_error(test,forecast_values['yhat'])),3)\n",
    "        errors.append(rmse)\n",
    "        new_error_fb_diff = min(errors)\n",
    "#         print(f'seasonality_scale:{season}, changepoint_scale:{changepoint}, rmse:{rmse}')\n",
    "        \n",
    "print('----------------------------------------------')\n",
    "print(f'Smallest RMSE after looping is {new_error_fb_diff}')\n",
    "# print(f'Original RMSE is {error_fb_diff}')"
   ]
  },
  {
   "cell_type": "markdown",
   "metadata": {},
   "source": [
    "This time, the improvement is only slight. "
   ]
  },
  {
   "cell_type": "markdown",
   "metadata": {},
   "source": [
    "## Model performance comparisions"
   ]
  },
  {
   "cell_type": "code",
   "execution_count": null,
   "metadata": {
    "scrolled": false
   },
   "outputs": [],
   "source": [
    "# fig,ax =plt.subplots(figsize=(10,7))\n",
    "# ax.bar(x=['ARIMA', 'SARIMAX', 'PROPHET','PROPHET_diff'],height=[error_arima,error_sarima,new_error_fb,new_error_fb_diff]);\n",
    "# ax.set_title('RMSE score comparision');\n"
   ]
  },
  {
   "cell_type": "markdown",
   "metadata": {},
   "source": [
    "From the plot, we can see the prohet model on the differenced data performs best. Hence, we will use that for making predictions for our chose stock."
   ]
  },
  {
   "cell_type": "markdown",
   "metadata": {},
   "source": [
    "## Using Prophet to get forecast of 'AAPL' for the next year"
   ]
  },
  {
   "cell_type": "markdown",
   "metadata": {},
   "source": [
    "Now that we have a model, we can make predictions of the next year:"
   ]
  },
  {
   "cell_type": "code",
   "execution_count": 29,
   "metadata": {
    "scrolled": false
   },
   "outputs": [
    {
     "name": "stdout",
     "output_type": "stream",
     "text": [
      "\r",
      "[*********************100%***********************]  1 of 1 completed"
     ]
    },
    {
     "name": "stderr",
     "output_type": "stream",
     "text": [
      "DEBUG:cmdstanpy:cmd: where.exe tbb.dll\n",
      "cwd: None\n",
      "DEBUG:cmdstanpy:TBB already found in load path\n"
     ]
    },
    {
     "name": "stdout",
     "output_type": "stream",
     "text": [
      "\n"
     ]
    },
    {
     "name": "stderr",
     "output_type": "stream",
     "text": [
      "DEBUG:cmdstanpy:input tempfile: C:\\Users\\rahul krishnan\\AppData\\Local\\Temp\\tmp4b8jazbb\\yhuv7bv9.json\n",
      "DEBUG:cmdstanpy:input tempfile: C:\\Users\\rahul krishnan\\AppData\\Local\\Temp\\tmp4b8jazbb\\yjn5ho0k.json\n",
      "DEBUG:cmdstanpy:idx 0\n",
      "DEBUG:cmdstanpy:running CmdStan, num_threads: None\n",
      "DEBUG:cmdstanpy:CmdStan args: ['C:\\\\Users\\\\rahul krishnan\\\\anaconda3\\\\Lib\\\\site-packages\\\\prophet\\\\stan_model\\\\prophet_model.bin', 'random', 'seed=47712', 'data', 'file=C:\\\\Users\\\\rahul krishnan\\\\AppData\\\\Local\\\\Temp\\\\tmp4b8jazbb\\\\yhuv7bv9.json', 'init=C:\\\\Users\\\\rahul krishnan\\\\AppData\\\\Local\\\\Temp\\\\tmp4b8jazbb\\\\yjn5ho0k.json', 'output', 'file=C:\\\\Users\\\\rahul krishnan\\\\AppData\\\\Local\\\\Temp\\\\tmp4b8jazbb\\\\prophet_modeltvng9tnc\\\\prophet_model-20231022164908.csv', 'method=optimize', 'algorithm=lbfgs', 'iter=10000']\n",
      "16:49:08 - cmdstanpy - INFO - Chain [1] start processing\n",
      "INFO:cmdstanpy:Chain [1] start processing\n",
      "16:49:08 - cmdstanpy - INFO - Chain [1] done processing\n",
      "INFO:cmdstanpy:Chain [1] done processing\n"
     ]
    },
    {
     "data": {
      "image/png": "[encoded data removed]",
      "text/plain": [
       "<Figure size 1200x800 with 1 Axes>"
      ]
     },
     "metadata": {},
     "output_type": "display_data"
    }
   ],
   "source": [
    "#get stock data\n",
    "df = yf.download('AAPL',start=start_date,end=end_date)\n",
    "df_close = df[['Adj Close']]\n",
    "\n",
    "#resmapling by weekly\n",
    "df_weekly = df_close.resample('W').mean()\n",
    "\n",
    "df_weekly_diff = df_weekly.diff(periods=1)\n",
    "df_weekly_diff.dropna(inplace=True)\n",
    "\n",
    "\n",
    "#setting up df to be able to run Prophet\n",
    "\n",
    "#reset index\n",
    "df_weekly_diff.reset_index(inplace=True)\n",
    "\n",
    "#rename columns per prophet conventions\n",
    "df_weekly_diff.rename(columns={'Adj Close': 'y',\n",
    "                         'Date':'ds'},inplace=True)\n",
    "\n",
    "\n",
    "#instantiate\n",
    "m = Prophet(seasonality_mode='multiplicative',\n",
    "            weekly_seasonality=True,\n",
    "            daily_seasonality = True,\n",
    "            yearly_seasonality = True,\n",
    "            interval_width=0.90, \n",
    "            seasonality_prior_scale = 0.4,\n",
    "            changepoint_prior_scale = 0.3\n",
    "           )\n",
    "\n",
    "#fit\n",
    "m.fit(df_weekly_diff)\n",
    "\n",
    "#forecasts - creating future dates using in built make_future_dataframe method\n",
    "future = m.make_future_dataframe(periods=52,freq='W',include_history=False)\n",
    "\n",
    "#predicting yhat \n",
    "forecast = m.predict(future)\n",
    "\n",
    "#creating a df of predicted values\n",
    "forecast_values = forecast[['ds', 'yhat']]\n",
    "\n",
    "#set the index for the plots\n",
    "forecast_values.set_index('ds',inplace=True)\n",
    "df_weekly_diff.set_index('ds',inplace=True)\n",
    "\n",
    "\n",
    "#taking the inverse difference of the predicted values to get the original values\n",
    "# the inverse diff is the cumsum of the first value of the org series & the first differences series\n",
    "forecast_values.rename(columns={'yhat':'y'},inplace=True)\n",
    "invdiff = np.r_[df_weekly['Adj Close'].iloc[-1],forecast_values['y'][1:]].cumsum()\n",
    "invdiff_df = pd.DataFrame(data=invdiff,index = forecast_values.index,columns=['y'])\n",
    "\n",
    "#plotting results\n",
    "fig,ax=plt.subplots(figsize=(12,8))\n",
    "ax.plot(df_weekly,label='Current Price')\n",
    "ax.plot(invdiff_df['y'],label='Forecast')\n",
    "ax.set_title('Predicted performance of AAPL')\n",
    "ax.legend();"
   ]
  },
  {
   "cell_type": "markdown",
   "metadata": {},
   "source": [
    "The model predicts 'AAPL' to be to close to `$200`, 52 weeks from now, from it's current value of approx. `$165`"
   ]
  },
  {
   "cell_type": "markdown",
   "metadata": {},
   "source": [
    "# Building Portfolio"
   ]
  },
  {
   "cell_type": "markdown",
   "metadata": {},
   "source": [
    "## Predictions of chosen stock"
   ]
  },
  {
   "cell_type": "markdown",
   "metadata": {},
   "source": [
    "Now that the investor has looked at some metrics and future performance of his/her chosen stock, he/she can now look\n",
    "at building a portfolio for the future. Following are some functions that will be used in the portfolio builder"
   ]
  },
  {
   "cell_type": "markdown",
   "metadata": {},
   "source": [
    "Following function is used to plot past and forecast prices of a stock:"
   ]
  },
  {
   "cell_type": "code",
   "execution_count": 30,
   "metadata": {},
   "outputs": [],
   "source": [
    "def plot_forecast_price(ticker):\n",
    "    #get stock data\n",
    "    df = yf.download(ticker,start=start_date,end=end_date)\n",
    "    df_close = df[['Adj Close']]\n",
    "\n",
    "    #resmapling by weekly\n",
    "    df_weekly = df_close.resample('W').mean()\n",
    "    df_weekly_diff = df_weekly.diff(periods=1)\n",
    "    df_weekly_diff.dropna(inplace=True)\n",
    "\n",
    "\n",
    "    #setting up df to be able to run Prophet\n",
    "    #reset index\n",
    "    df_weekly_diff.reset_index(inplace=True)\n",
    "    #rename columns per prophet conventions\n",
    "    df_weekly_diff.rename(columns={'Adj Close': 'y',\n",
    "                             'Date':'ds'},inplace=True)\n",
    "\n",
    "\n",
    "    #instantiate\n",
    "    m = Prophet(seasonality_mode='multiplicative',\n",
    "                weekly_seasonality=True,\n",
    "                daily_seasonality = True,\n",
    "                yearly_seasonality = True,\n",
    "                interval_width=0.90, \n",
    "                seasonality_prior_scale = 0.4,\n",
    "                changepoint_prior_scale = 0.3\n",
    "               )\n",
    "\n",
    "    #fit\n",
    "    m.fit(df_weekly_diff)\n",
    "\n",
    "    #forecasts - creating future dates using in built make_future_dataframe method\n",
    "    future = m.make_future_dataframe(periods=52,freq='W',include_history=False)\n",
    "\n",
    "    #predicting yhat \n",
    "    forecast = m.predict(future)\n",
    "\n",
    "    #creating a df of predicted values\n",
    "    forecast_values = forecast[['ds', 'yhat']]\n",
    "\n",
    "    #set the index for the plots\n",
    "    forecast_values.set_index('ds',inplace=True)\n",
    "    df_weekly_diff.set_index('ds',inplace=True)\n",
    "\n",
    "\n",
    "    #taking the inverse difference of the predicted values to get the original values\n",
    "    # the inverse diff is the cumsum of the first value of the org series & the first differences series\n",
    "    forecast_values.rename(columns={'yhat':'y'},inplace=True)\n",
    "    invdiff = np.r_[df_weekly['Adj Close'].iloc[-1],forecast_values['y'][1:]].cumsum()\n",
    "    invdiff_df = pd.DataFrame(data=invdiff,index = forecast_values.index,columns=['y'])\n",
    "\n",
    "    #plotting results\n",
    "    fig,ax=plt.subplots(figsize=(12,8))\n",
    "    ax.plot(df_weekly,label='Current Price')\n",
    "    ax.plot(invdiff_df['y'],label='Forecast')\n",
    "    ax.set_title(f'Predicted values of {ticker}')\n",
    "    ax.legend();"
   ]
  },
  {
   "cell_type": "code",
   "execution_count": null,
   "metadata": {},
   "outputs": [],
   "source": [
    "# plot_forecast_price('AMZN')"
   ]
  },
  {
   "cell_type": "markdown",
   "metadata": {},
   "source": [
    "Following functions is to get the current price of a stock:"
   ]
  },
  {
   "cell_type": "code",
   "execution_count": 31,
   "metadata": {},
   "outputs": [],
   "source": [
    "def get_current_price(ticker):\n",
    "    df = yf.download(ticker,start=start_date)\n",
    "    ticker_df = df[['Adj Close']]\n",
    "    current_price = round(float(ticker_df.iloc[0]),2)\n",
    "    \n",
    "    return current_price"
   ]
  },
  {
   "cell_type": "markdown",
   "metadata": {},
   "source": [
    "Following function is to get the last forecasted price of the stock:"
   ]
  },
  {
   "cell_type": "code",
   "execution_count": 32,
   "metadata": {},
   "outputs": [
    {
     "name": "stdout",
     "output_type": "stream",
     "text": [
      "2023-10-21 16:49:21.169497\n"
     ]
    }
   ],
   "source": [
    "Previous_Date = datetime.datetime.today() - datetime.timedelta(days=1)\n",
    "print (Previous_Date)"
   ]
  },
  {
   "cell_type": "code",
   "execution_count": 33,
   "metadata": {},
   "outputs": [],
   "source": [
    "def get_future_price(ticker):\n",
    "     #get stock data\n",
    "    df = yf.download(ticker,start=start_date,end=end_date-datetime.timedelta(days=1))\n",
    "    df_close = df[['Adj Close']]\n",
    "\n",
    "    #resmapling by weekly\n",
    "    df_weekly = df_close.resample('W').mean()\n",
    "    df_weekly_diff = df_weekly.diff(periods=1)\n",
    "    df_weekly_diff.dropna(inplace=True)\n",
    "\n",
    "\n",
    "    #setting up df to be able to run Prophet\n",
    "    #reset index\n",
    "    df_weekly_diff.reset_index(inplace=True)\n",
    "    #rename columns per prophet conventions\n",
    "    df_weekly_diff.rename(columns={'Adj Close': 'y',\n",
    "                             'Date':'ds'},inplace=True)\n",
    "\n",
    "\n",
    "    #instantiate\n",
    "    m = Prophet(seasonality_mode='multiplicative',\n",
    "                weekly_seasonality=True,\n",
    "                daily_seasonality = True,\n",
    "                yearly_seasonality = True,\n",
    "                interval_width=0.90, \n",
    "                seasonality_prior_scale = 0.4,\n",
    "                changepoint_prior_scale = 0.3\n",
    "               )\n",
    "\n",
    "    #fit\n",
    "    m.fit(df_weekly_diff)\n",
    "\n",
    "    #forecasts - creating future dates using in built make_future_dataframe method\n",
    "    future = m.make_future_dataframe(periods=52,freq='W',include_history=False)\n",
    "\n",
    "    #predicting yhat \n",
    "    forecast = m.predict(future)\n",
    "\n",
    "    #creating a df of predicted values\n",
    "    forecast_values = forecast[['ds', 'yhat']]\n",
    "\n",
    "    #set the index for the plots\n",
    "    forecast_values.set_index('ds',inplace=True)\n",
    "    df_weekly_diff.set_index('ds',inplace=True)\n",
    "\n",
    "    #taking the inverse difference of the predicted values to get the original values\n",
    "    # the inverse diff is the cumsum of the first value of the org series & the first differences series\n",
    "    forecast_values.rename(columns={'yhat':'y'},inplace=True)\n",
    "    invdiff = np.r_[df_weekly['Adj Close'].iloc[-1],forecast_values['y'][1:]].cumsum()\n",
    "    invdiff_df = pd.DataFrame(data=invdiff,index = forecast_values.index,columns=['y'])\n",
    "    \n",
    "    #get the last value\n",
    "    last_price = round(float(invdiff_df.iloc[-1]),2)\n",
    "    \n",
    "    return last_price"
   ]
  },
  {
   "cell_type": "markdown",
   "metadata": {},
   "source": [
    "The `portfolio` function combines all of the above and outputs the total returns"
   ]
  },
  {
   "cell_type": "code",
   "execution_count": 82,
   "metadata": {},
   "outputs": [],
   "source": [
    "#putting it all together\n",
    "\n",
    "def portfolio(amount,stocks):\n",
    "    amount = amount\n",
    "    stocks = stocks\n",
    "    break_up = round(amount/len(stocks),2)\n",
    "    current_prices = []\n",
    "    future_prices = np.array([])\n",
    "    n_shares = np.array([])\n",
    "    return_pct = np.array([])\n",
    "\n",
    "    for st in stocks:\n",
    "\n",
    "        cp = get_current_price(st)\n",
    "        fp = get_future_price(st)\n",
    "        current_prices.append(cp)\n",
    "        future_prices = np.append(future_prices,fp)\n",
    "\n",
    "        print(f'Current price of {st} is {cp}')\n",
    "        print(f'Forecast price of {st} is {fp}') \n",
    "\n",
    "        def check(): \n",
    "            for i in current_prices:\n",
    "                if i < break_up:\n",
    "                       continue # there is nothing below continue to ignore. so nothing happens and continue moves the loop forward       \n",
    "                else: # once the outer loop reaches the value of nflx and the condition is true, what is below is executed\n",
    "                    return ('Invest amount per stock is too low. Please adjust')\n",
    "                    break #breaks the inner loop\n",
    "                break #this break is to ignore the outer loop as well as there is no point in moving forward\n",
    "\n",
    "    check()\n",
    "\n",
    "    if check() == None:\n",
    "        for i in current_prices:\n",
    "            share_buy = round(break_up/i)\n",
    "            n_shares = np.append(n_shares,share_buy)\n",
    "        sell_amounts = n_shares*future_prices\n",
    "        returns = sell_amounts/break_up - 1 \n",
    "        invest_amt = round(break_up/amount,2)\n",
    "        return_pct = np.append(return_pct,returns*invest_amt)\n",
    "        cum_returns = round(np.sum(return_pct) * 100,2)\n",
    "        print('\\n')\n",
    "        print(f'Amount invested in each stock: ${break_up}')\n",
    "        print(f'Cumulative returns: {cum_returns}%')\n",
    "\n",
    "    else:    \n",
    "        print('\\n')\n",
    "        print(f'Amount invested in each stock: ${break_up}')\n",
    "        print('Investment is too low')\n",
    "        print('Please pick a different stock or increase investment')"
   ]
  },
  {
   "cell_type": "markdown",
   "metadata": {},
   "source": [
    "As outlined earlier, following is an example of how diversification works"
   ]
  },
  {
   "cell_type": "markdown",
   "metadata": {},
   "source": [
    "If an investor is chooses to invest only in the automotive companies, here's what that would look like:"
   ]
  },
  {
   "cell_type": "code",
   "execution_count": 83,
   "metadata": {
    "scrolled": true
   },
   "outputs": [
    {
     "name": "stdout",
     "output_type": "stream",
     "text": [
      "[*********************100%***********************]  1 of 1 completed\n",
      "[*********************100%***********************]  1 of 1 completed"
     ]
    },
    {
     "name": "stderr",
     "output_type": "stream",
     "text": [
      "DEBUG:cmdstanpy:cmd: where.exe tbb.dll\n",
      "cwd: None\n"
     ]
    },
    {
     "name": "stdout",
     "output_type": "stream",
     "text": [
      "\n"
     ]
    },
    {
     "name": "stderr",
     "output_type": "stream",
     "text": [
      "DEBUG:cmdstanpy:TBB already found in load path\n",
      "DEBUG:cmdstanpy:input tempfile: C:\\Users\\rahul krishnan\\AppData\\Local\\Temp\\tmp4b8jazbb\\4gazln8b.json\n",
      "DEBUG:cmdstanpy:input tempfile: C:\\Users\\rahul krishnan\\AppData\\Local\\Temp\\tmp4b8jazbb\\zrl3m3r9.json\n",
      "DEBUG:cmdstanpy:idx 0\n",
      "DEBUG:cmdstanpy:running CmdStan, num_threads: None\n",
      "DEBUG:cmdstanpy:CmdStan args: ['C:\\\\Users\\\\rahul krishnan\\\\anaconda3\\\\Lib\\\\site-packages\\\\prophet\\\\stan_model\\\\prophet_model.bin', 'random', 'seed=7533', 'data', 'file=C:\\\\Users\\\\rahul krishnan\\\\AppData\\\\Local\\\\Temp\\\\tmp4b8jazbb\\\\4gazln8b.json', 'init=C:\\\\Users\\\\rahul krishnan\\\\AppData\\\\Local\\\\Temp\\\\tmp4b8jazbb\\\\zrl3m3r9.json', 'output', 'file=C:\\\\Users\\\\rahul krishnan\\\\AppData\\\\Local\\\\Temp\\\\tmp4b8jazbb\\\\prophet_modelof1eb5vp\\\\prophet_model-20231022172735.csv', 'method=optimize', 'algorithm=lbfgs', 'iter=10000']\n",
      "17:27:35 - cmdstanpy - INFO - Chain [1] start processing\n",
      "INFO:cmdstanpy:Chain [1] start processing\n",
      "17:27:35 - cmdstanpy - INFO - Chain [1] done processing\n",
      "INFO:cmdstanpy:Chain [1] done processing\n"
     ]
    },
    {
     "name": "stdout",
     "output_type": "stream",
     "text": [
      "Current price of TSLA is 20.67\n",
      "Forecast price of TSLA is 267.39\n",
      "[*********************100%***********************]  1 of 1 completed\n",
      "[*********************100%***********************]  1 of 1 completed"
     ]
    },
    {
     "name": "stderr",
     "output_type": "stream",
     "text": [
      "DEBUG:cmdstanpy:cmd: where.exe tbb.dll\n",
      "cwd: None\n",
      "DEBUG:cmdstanpy:TBB already found in load path\n",
      "DEBUG:cmdstanpy:input tempfile: C:\\Users\\rahul krishnan\\AppData\\Local\\Temp\\tmp4b8jazbb\\o53sl9__.json\n",
      "DEBUG:cmdstanpy:input tempfile: C:\\Users\\rahul krishnan\\AppData\\Local\\Temp\\tmp4b8jazbb\\gdfhpur7.json\n"
     ]
    },
    {
     "name": "stdout",
     "output_type": "stream",
     "text": [
      "\n"
     ]
    },
    {
     "name": "stderr",
     "output_type": "stream",
     "text": [
      "DEBUG:cmdstanpy:idx 0\n",
      "DEBUG:cmdstanpy:running CmdStan, num_threads: None\n",
      "DEBUG:cmdstanpy:CmdStan args: ['C:\\\\Users\\\\rahul krishnan\\\\anaconda3\\\\Lib\\\\site-packages\\\\prophet\\\\stan_model\\\\prophet_model.bin', 'random', 'seed=71465', 'data', 'file=C:\\\\Users\\\\rahul krishnan\\\\AppData\\\\Local\\\\Temp\\\\tmp4b8jazbb\\\\o53sl9__.json', 'init=C:\\\\Users\\\\rahul krishnan\\\\AppData\\\\Local\\\\Temp\\\\tmp4b8jazbb\\\\gdfhpur7.json', 'output', 'file=C:\\\\Users\\\\rahul krishnan\\\\AppData\\\\Local\\\\Temp\\\\tmp4b8jazbb\\\\prophet_modelteked17d\\\\prophet_model-20231022172736.csv', 'method=optimize', 'algorithm=lbfgs', 'iter=10000']\n",
      "17:27:36 - cmdstanpy - INFO - Chain [1] start processing\n",
      "INFO:cmdstanpy:Chain [1] start processing\n",
      "17:27:36 - cmdstanpy - INFO - Chain [1] done processing\n",
      "INFO:cmdstanpy:Chain [1] done processing\n"
     ]
    },
    {
     "name": "stdout",
     "output_type": "stream",
     "text": [
      "Current price of GM is 31.5\n",
      "Forecast price of GM is 26.62\n",
      "[*********************100%***********************]  1 of 1 completed\n",
      "[*********************100%***********************]  1 of 1 completed"
     ]
    },
    {
     "name": "stderr",
     "output_type": "stream",
     "text": [
      "DEBUG:cmdstanpy:cmd: where.exe tbb.dll\n",
      "cwd: None\n",
      "DEBUG:cmdstanpy:TBB already found in load path\n",
      "DEBUG:cmdstanpy:input tempfile: C:\\Users\\rahul krishnan\\AppData\\Local\\Temp\\tmp4b8jazbb\\86pizekb.json\n"
     ]
    },
    {
     "name": "stdout",
     "output_type": "stream",
     "text": [
      "\n"
     ]
    },
    {
     "name": "stderr",
     "output_type": "stream",
     "text": [
      "DEBUG:cmdstanpy:input tempfile: C:\\Users\\rahul krishnan\\AppData\\Local\\Temp\\tmp4b8jazbb\\qua9gwyd.json\n",
      "DEBUG:cmdstanpy:idx 0\n",
      "DEBUG:cmdstanpy:running CmdStan, num_threads: None\n",
      "DEBUG:cmdstanpy:CmdStan args: ['C:\\\\Users\\\\rahul krishnan\\\\anaconda3\\\\Lib\\\\site-packages\\\\prophet\\\\stan_model\\\\prophet_model.bin', 'random', 'seed=30957', 'data', 'file=C:\\\\Users\\\\rahul krishnan\\\\AppData\\\\Local\\\\Temp\\\\tmp4b8jazbb\\\\86pizekb.json', 'init=C:\\\\Users\\\\rahul krishnan\\\\AppData\\\\Local\\\\Temp\\\\tmp4b8jazbb\\\\qua9gwyd.json', 'output', 'file=C:\\\\Users\\\\rahul krishnan\\\\AppData\\\\Local\\\\Temp\\\\tmp4b8jazbb\\\\prophet_modeljstmfa3x\\\\prophet_model-20231022172737.csv', 'method=optimize', 'algorithm=lbfgs', 'iter=10000']\n",
      "17:27:37 - cmdstanpy - INFO - Chain [1] start processing\n",
      "INFO:cmdstanpy:Chain [1] start processing\n",
      "17:27:37 - cmdstanpy - INFO - Chain [1] done processing\n",
      "INFO:cmdstanpy:Chain [1] done processing\n"
     ]
    },
    {
     "name": "stdout",
     "output_type": "stream",
     "text": [
      "Current price of F is 6.45\n",
      "Forecast price of F is 12.24\n",
      "\n",
      "\n",
      "Amount invested in each stock: $333.33\n",
      "Cumulative returns: 416.55%\n"
     ]
    }
   ],
   "source": [
    "# Tesla,General Motors and Ford\n",
    "portfolio(1000,['TSLA','GM','F'])"
   ]
  },
  {
   "cell_type": "markdown",
   "metadata": {},
   "source": [
    "The investor can expect to lose money if he/she were to invest $1000 in Tesla,GM and Ford in the next year."
   ]
  },
  {
   "cell_type": "markdown",
   "metadata": {},
   "source": [
    "Now, let's diversify and choose companies from different sectors:automotive,tech and health care"
   ]
  },
  {
   "cell_type": "code",
   "execution_count": 84,
   "metadata": {
    "scrolled": true
   },
   "outputs": [
    {
     "name": "stdout",
     "output_type": "stream",
     "text": [
      "[*********************100%***********************]  1 of 1 completed\n",
      "[*********************100%***********************]  1 of 1 completed"
     ]
    },
    {
     "name": "stderr",
     "output_type": "stream",
     "text": [
      "DEBUG:cmdstanpy:cmd: where.exe tbb.dll\n",
      "cwd: None\n",
      "DEBUG:cmdstanpy:TBB already found in load path\n"
     ]
    },
    {
     "name": "stdout",
     "output_type": "stream",
     "text": [
      "\n"
     ]
    },
    {
     "name": "stderr",
     "output_type": "stream",
     "text": [
      "DEBUG:cmdstanpy:input tempfile: C:\\Users\\rahul krishnan\\AppData\\Local\\Temp\\tmp4b8jazbb\\vv9r2llo.json\n",
      "DEBUG:cmdstanpy:input tempfile: C:\\Users\\rahul krishnan\\AppData\\Local\\Temp\\tmp4b8jazbb\\i8fq3ye3.json\n",
      "DEBUG:cmdstanpy:idx 0\n",
      "DEBUG:cmdstanpy:running CmdStan, num_threads: None\n",
      "DEBUG:cmdstanpy:CmdStan args: ['C:\\\\Users\\\\rahul krishnan\\\\anaconda3\\\\Lib\\\\site-packages\\\\prophet\\\\stan_model\\\\prophet_model.bin', 'random', 'seed=44412', 'data', 'file=C:\\\\Users\\\\rahul krishnan\\\\AppData\\\\Local\\\\Temp\\\\tmp4b8jazbb\\\\vv9r2llo.json', 'init=C:\\\\Users\\\\rahul krishnan\\\\AppData\\\\Local\\\\Temp\\\\tmp4b8jazbb\\\\i8fq3ye3.json', 'output', 'file=C:\\\\Users\\\\rahul krishnan\\\\AppData\\\\Local\\\\Temp\\\\tmp4b8jazbb\\\\prophet_modelwzborj0w\\\\prophet_model-20231022172750.csv', 'method=optimize', 'algorithm=lbfgs', 'iter=10000']\n",
      "17:27:50 - cmdstanpy - INFO - Chain [1] start processing\n",
      "INFO:cmdstanpy:Chain [1] start processing\n",
      "17:27:50 - cmdstanpy - INFO - Chain [1] done processing\n",
      "INFO:cmdstanpy:Chain [1] done processing\n"
     ]
    },
    {
     "name": "stdout",
     "output_type": "stream",
     "text": [
      "Current price of GM is 31.5\n",
      "Forecast price of GM is 26.66\n",
      "[*********************100%***********************]  1 of 1 completed\n",
      "[*********************100%***********************]  1 of 1 completed"
     ]
    },
    {
     "name": "stderr",
     "output_type": "stream",
     "text": [
      "DEBUG:cmdstanpy:cmd: where.exe tbb.dll\n",
      "cwd: None\n",
      "DEBUG:cmdstanpy:TBB already found in load path\n",
      "DEBUG:cmdstanpy:input tempfile: C:\\Users\\rahul krishnan\\AppData\\Local\\Temp\\tmp4b8jazbb\\a1aqzaru.json\n"
     ]
    },
    {
     "name": "stdout",
     "output_type": "stream",
     "text": [
      "\n"
     ]
    },
    {
     "name": "stderr",
     "output_type": "stream",
     "text": [
      "DEBUG:cmdstanpy:input tempfile: C:\\Users\\rahul krishnan\\AppData\\Local\\Temp\\tmp4b8jazbb\\kpmyr41g.json\n",
      "DEBUG:cmdstanpy:idx 0\n",
      "DEBUG:cmdstanpy:running CmdStan, num_threads: None\n",
      "DEBUG:cmdstanpy:CmdStan args: ['C:\\\\Users\\\\rahul krishnan\\\\anaconda3\\\\Lib\\\\site-packages\\\\prophet\\\\stan_model\\\\prophet_model.bin', 'random', 'seed=64440', 'data', 'file=C:\\\\Users\\\\rahul krishnan\\\\AppData\\\\Local\\\\Temp\\\\tmp4b8jazbb\\\\a1aqzaru.json', 'init=C:\\\\Users\\\\rahul krishnan\\\\AppData\\\\Local\\\\Temp\\\\tmp4b8jazbb\\\\kpmyr41g.json', 'output', 'file=C:\\\\Users\\\\rahul krishnan\\\\AppData\\\\Local\\\\Temp\\\\tmp4b8jazbb\\\\prophet_modeloovg105v\\\\prophet_model-20231022172751.csv', 'method=optimize', 'algorithm=lbfgs', 'iter=10000']\n",
      "17:27:51 - cmdstanpy - INFO - Chain [1] start processing\n",
      "INFO:cmdstanpy:Chain [1] start processing\n",
      "17:27:51 - cmdstanpy - INFO - Chain [1] done processing\n",
      "INFO:cmdstanpy:Chain [1] done processing\n"
     ]
    },
    {
     "name": "stdout",
     "output_type": "stream",
     "text": [
      "Current price of AAPL is 37.94\n",
      "Forecast price of AAPL is 216.25\n",
      "[*********************100%***********************]  1 of 1 completed\n",
      "[*********************100%***********************]  1 of 1 completed"
     ]
    },
    {
     "name": "stderr",
     "output_type": "stream",
     "text": [
      "DEBUG:cmdstanpy:cmd: where.exe tbb.dll\n",
      "cwd: None\n",
      "DEBUG:cmdstanpy:TBB already found in load path\n",
      "DEBUG:cmdstanpy:input tempfile: C:\\Users\\rahul krishnan\\AppData\\Local\\Temp\\tmp4b8jazbb\\f6jj0_5g.json\n"
     ]
    },
    {
     "name": "stdout",
     "output_type": "stream",
     "text": [
      "\n"
     ]
    },
    {
     "name": "stderr",
     "output_type": "stream",
     "text": [
      "DEBUG:cmdstanpy:input tempfile: C:\\Users\\rahul krishnan\\AppData\\Local\\Temp\\tmp4b8jazbb\\v5ue8sdv.json\n",
      "DEBUG:cmdstanpy:idx 0\n",
      "DEBUG:cmdstanpy:running CmdStan, num_threads: None\n",
      "DEBUG:cmdstanpy:CmdStan args: ['C:\\\\Users\\\\rahul krishnan\\\\anaconda3\\\\Lib\\\\site-packages\\\\prophet\\\\stan_model\\\\prophet_model.bin', 'random', 'seed=6901', 'data', 'file=C:\\\\Users\\\\rahul krishnan\\\\AppData\\\\Local\\\\Temp\\\\tmp4b8jazbb\\\\f6jj0_5g.json', 'init=C:\\\\Users\\\\rahul krishnan\\\\AppData\\\\Local\\\\Temp\\\\tmp4b8jazbb\\\\v5ue8sdv.json', 'output', 'file=C:\\\\Users\\\\rahul krishnan\\\\AppData\\\\Local\\\\Temp\\\\tmp4b8jazbb\\\\prophet_modelxjp7gc20\\\\prophet_model-20231022172752.csv', 'method=optimize', 'algorithm=lbfgs', 'iter=10000']\n",
      "17:27:52 - cmdstanpy - INFO - Chain [1] start processing\n",
      "INFO:cmdstanpy:Chain [1] start processing\n",
      "17:27:52 - cmdstanpy - INFO - Chain [1] done processing\n",
      "INFO:cmdstanpy:Chain [1] done processing\n"
     ]
    },
    {
     "name": "stdout",
     "output_type": "stream",
     "text": [
      "Current price of PFE is 34.35\n",
      "Forecast price of PFE is 34.04\n",
      "\n",
      "\n",
      "Amount invested in each stock: $333.33\n",
      "Cumulative returns: 156.41%\n"
     ]
    }
   ],
   "source": [
    "#General Motors, Apple, Pfizer\n",
    "portfolio(1000,['GM','AAPL','PFE'])"
   ]
  },
  {
   "cell_type": "markdown",
   "metadata": {},
   "source": [
    "From the above examples, it is quiet clear to see the benefit of diversifying. "
   ]
  },
  {
   "cell_type": "code",
   "execution_count": 37,
   "metadata": {
    "scrolled": false
   },
   "outputs": [
    {
     "name": "stdout",
     "output_type": "stream",
     "text": [
      "[*********************100%***********************]  1 of 1 completed\n",
      "[*********************100%***********************]  1 of 1 completed"
     ]
    },
    {
     "name": "stderr",
     "output_type": "stream",
     "text": [
      "DEBUG:cmdstanpy:cmd: where.exe tbb.dll\n",
      "cwd: None\n",
      "DEBUG:cmdstanpy:TBB already found in load path\n"
     ]
    },
    {
     "name": "stdout",
     "output_type": "stream",
     "text": [
      "\n"
     ]
    },
    {
     "name": "stderr",
     "output_type": "stream",
     "text": [
      "DEBUG:cmdstanpy:input tempfile: C:\\Users\\rahul krishnan\\AppData\\Local\\Temp\\tmp4b8jazbb\\cb_ulh52.json\n",
      "DEBUG:cmdstanpy:input tempfile: C:\\Users\\rahul krishnan\\AppData\\Local\\Temp\\tmp4b8jazbb\\f6cpgg1e.json\n",
      "DEBUG:cmdstanpy:idx 0\n",
      "DEBUG:cmdstanpy:running CmdStan, num_threads: None\n",
      "DEBUG:cmdstanpy:CmdStan args: ['C:\\\\Users\\\\rahul krishnan\\\\anaconda3\\\\Lib\\\\site-packages\\\\prophet\\\\stan_model\\\\prophet_model.bin', 'random', 'seed=29242', 'data', 'file=C:\\\\Users\\\\rahul krishnan\\\\AppData\\\\Local\\\\Temp\\\\tmp4b8jazbb\\\\cb_ulh52.json', 'init=C:\\\\Users\\\\rahul krishnan\\\\AppData\\\\Local\\\\Temp\\\\tmp4b8jazbb\\\\f6cpgg1e.json', 'output', 'file=C:\\\\Users\\\\rahul krishnan\\\\AppData\\\\Local\\\\Temp\\\\tmp4b8jazbb\\\\prophet_modelefv4x9cj\\\\prophet_model-20231022164940.csv', 'method=optimize', 'algorithm=lbfgs', 'iter=10000']\n",
      "16:49:40 - cmdstanpy - INFO - Chain [1] start processing\n",
      "INFO:cmdstanpy:Chain [1] start processing\n",
      "16:49:40 - cmdstanpy - INFO - Chain [1] done processing\n",
      "INFO:cmdstanpy:Chain [1] done processing\n"
     ]
    },
    {
     "name": "stdout",
     "output_type": "stream",
     "text": [
      "Current price of GM is 31.5\n",
      "Forecast price of GM is 26.96\n",
      "[*********************100%***********************]  1 of 1 completed\n",
      "[*********************100%***********************]  1 of 1 completed"
     ]
    },
    {
     "name": "stderr",
     "output_type": "stream",
     "text": [
      "DEBUG:cmdstanpy:cmd: where.exe tbb.dll\n",
      "cwd: None\n",
      "DEBUG:cmdstanpy:TBB already found in load path\n"
     ]
    },
    {
     "name": "stdout",
     "output_type": "stream",
     "text": [
      "\n"
     ]
    },
    {
     "name": "stderr",
     "output_type": "stream",
     "text": [
      "DEBUG:cmdstanpy:input tempfile: C:\\Users\\rahul krishnan\\AppData\\Local\\Temp\\tmp4b8jazbb\\_rilox6f.json\n",
      "DEBUG:cmdstanpy:input tempfile: C:\\Users\\rahul krishnan\\AppData\\Local\\Temp\\tmp4b8jazbb\\b4dgtgt2.json\n",
      "DEBUG:cmdstanpy:idx 0\n",
      "DEBUG:cmdstanpy:running CmdStan, num_threads: None\n",
      "DEBUG:cmdstanpy:CmdStan args: ['C:\\\\Users\\\\rahul krishnan\\\\anaconda3\\\\Lib\\\\site-packages\\\\prophet\\\\stan_model\\\\prophet_model.bin', 'random', 'seed=52811', 'data', 'file=C:\\\\Users\\\\rahul krishnan\\\\AppData\\\\Local\\\\Temp\\\\tmp4b8jazbb\\\\_rilox6f.json', 'init=C:\\\\Users\\\\rahul krishnan\\\\AppData\\\\Local\\\\Temp\\\\tmp4b8jazbb\\\\b4dgtgt2.json', 'output', 'file=C:\\\\Users\\\\rahul krishnan\\\\AppData\\\\Local\\\\Temp\\\\tmp4b8jazbb\\\\prophet_model84outcdc\\\\prophet_model-20231022164941.csv', 'method=optimize', 'algorithm=lbfgs', 'iter=10000']\n",
      "16:49:41 - cmdstanpy - INFO - Chain [1] start processing\n",
      "INFO:cmdstanpy:Chain [1] start processing\n",
      "16:49:41 - cmdstanpy - INFO - Chain [1] done processing\n",
      "INFO:cmdstanpy:Chain [1] done processing\n"
     ]
    },
    {
     "name": "stdout",
     "output_type": "stream",
     "text": [
      "Current price of AAPL is 37.94\n",
      "Forecast price of AAPL is 216.12\n",
      "[*********************100%***********************]  1 of 1 completed\n",
      "[*********************100%***********************]  1 of 1 completed"
     ]
    },
    {
     "name": "stderr",
     "output_type": "stream",
     "text": [
      "DEBUG:cmdstanpy:cmd: where.exe tbb.dll\n",
      "cwd: None\n",
      "DEBUG:cmdstanpy:TBB already found in load path\n",
      "DEBUG:cmdstanpy:input tempfile: C:\\Users\\rahul krishnan\\AppData\\Local\\Temp\\tmp4b8jazbb\\wjb3mvro.json\n"
     ]
    },
    {
     "name": "stdout",
     "output_type": "stream",
     "text": [
      "\n"
     ]
    },
    {
     "name": "stderr",
     "output_type": "stream",
     "text": [
      "DEBUG:cmdstanpy:input tempfile: C:\\Users\\rahul krishnan\\AppData\\Local\\Temp\\tmp4b8jazbb\\u2gd6617.json\n",
      "DEBUG:cmdstanpy:idx 0\n",
      "DEBUG:cmdstanpy:running CmdStan, num_threads: None\n",
      "DEBUG:cmdstanpy:CmdStan args: ['C:\\\\Users\\\\rahul krishnan\\\\anaconda3\\\\Lib\\\\site-packages\\\\prophet\\\\stan_model\\\\prophet_model.bin', 'random', 'seed=50819', 'data', 'file=C:\\\\Users\\\\rahul krishnan\\\\AppData\\\\Local\\\\Temp\\\\tmp4b8jazbb\\\\wjb3mvro.json', 'init=C:\\\\Users\\\\rahul krishnan\\\\AppData\\\\Local\\\\Temp\\\\tmp4b8jazbb\\\\u2gd6617.json', 'output', 'file=C:\\\\Users\\\\rahul krishnan\\\\AppData\\\\Local\\\\Temp\\\\tmp4b8jazbb\\\\prophet_modelgcu8ppps\\\\prophet_model-20231022164941.csv', 'method=optimize', 'algorithm=lbfgs', 'iter=10000']\n",
      "16:49:41 - cmdstanpy - INFO - Chain [1] start processing\n",
      "INFO:cmdstanpy:Chain [1] start processing\n",
      "16:49:41 - cmdstanpy - INFO - Chain [1] done processing\n",
      "INFO:cmdstanpy:Chain [1] done processing\n"
     ]
    },
    {
     "name": "stdout",
     "output_type": "stream",
     "text": [
      "Current price of PFE is 34.35\n",
      "Forecast price of PFE is 34.03\n",
      "\n",
      "\n",
      "Amount invested in each stock: $16.67\n",
      "Investment is too low\n",
      "Please pick a different stock or increase investment\n"
     ]
    }
   ],
   "source": [
    "# very little investment\n",
    "portfolio(50,['GM','AAPL','PFE'])"
   ]
  },
  {
   "cell_type": "markdown",
   "metadata": {},
   "source": [
    "# Conclusions"
   ]
  },
  {
   "cell_type": "markdown",
   "metadata": {},
   "source": [
    "## Limitations"
   ]
  },
  {
   "cell_type": "markdown",
   "metadata": {},
   "source": [
    "1. All the models are purely mathematical models and cannot take into account black swan events.\n",
    "2. More sophisticated models using Deep Learning can be built to get more accurate forecasts.\n",
    "3. Dividend data is not incorporated while calculating overall returns.\n",
    "4. Currently, the invested amount is distributed equally amongst all the stocks.\n",
    "   The amounts can be tuned based on the investor's appetite for risk."
   ]
  },
  {
   "cell_type": "markdown",
   "metadata": {},
   "source": [
    "## Recommendations"
   ]
  },
  {
   "cell_type": "markdown",
   "metadata": {},
   "source": [
    "1. By plugging in amounts and companies in the model, the investor can play around and maximize his/her returns.\n",
    "\n",
    "2. Looking at the stock market in general, there was a drastic spike around 2020.\n",
    "   There has not been a decline to pre-2020 levels and hence, it might be prudent to collect past data only\n",
    "   from 2020 onwards rather than from all the way back to 2017.\n"
   ]
  },
  {
   "cell_type": "markdown",
   "metadata": {},
   "source": [
    "# Portfolio Analysis"
   ]
  },
  {
   "cell_type": "markdown",
   "metadata": {},
   "source": [
    "## performace using mean daily returns"
   ]
  },
  {
   "cell_type": "markdown",
   "metadata": {},
   "source": [
    "this just gives you a snapshot of the returns at a given moment in time"
   ]
  },
  {
   "cell_type": "code",
   "execution_count": 100,
   "metadata": {},
   "outputs": [
    {
     "data": {
      "text/plain": [
       "'2019-01-01'"
      ]
     },
     "execution_count": 100,
     "metadata": {},
     "output_type": "execute_result"
    }
   ],
   "source": [
    "start_date"
   ]
  },
  {
   "cell_type": "code",
   "execution_count": 101,
   "metadata": {},
   "outputs": [
    {
     "data": {
      "text/plain": [
       "datetime.date(2023, 10, 22)"
      ]
     },
     "execution_count": 101,
     "metadata": {},
     "output_type": "execute_result"
    }
   ],
   "source": [
    "end_date"
   ]
  },
  {
   "cell_type": "code",
   "execution_count": 111,
   "metadata": {
    "scrolled": true
   },
   "outputs": [
    {
     "name": "stdout",
     "output_type": "stream",
     "text": [
      "[*********************100%***********************]  3 of 3 completed\n"
     ]
    },
    {
     "data": {
      "text/html": [
       "<div>\n",
       "<style scoped>\n",
       "    .dataframe tbody tr th:only-of-type {\n",
       "        vertical-align: middle;\n",
       "    }\n",
       "\n",
       "    .dataframe tbody tr th {\n",
       "        vertical-align: top;\n",
       "    }\n",
       "\n",
       "    .dataframe thead tr th {\n",
       "        text-align: left;\n",
       "    }\n",
       "\n",
       "    .dataframe thead tr:last-of-type th {\n",
       "        text-align: right;\n",
       "    }\n",
       "</style>\n",
       "<table border=\"1\" class=\"dataframe\">\n",
       "  <thead>\n",
       "    <tr>\n",
       "      <th></th>\n",
       "      <th colspan=\"3\" halign=\"left\">Adj Close</th>\n",
       "      <th colspan=\"3\" halign=\"left\">Close</th>\n",
       "      <th colspan=\"3\" halign=\"left\">High</th>\n",
       "      <th colspan=\"3\" halign=\"left\">Low</th>\n",
       "      <th colspan=\"3\" halign=\"left\">Open</th>\n",
       "      <th colspan=\"3\" halign=\"left\">Volume</th>\n",
       "    </tr>\n",
       "    <tr>\n",
       "      <th></th>\n",
       "      <th>AAPL</th>\n",
       "      <th>F</th>\n",
       "      <th>GM</th>\n",
       "      <th>AAPL</th>\n",
       "      <th>F</th>\n",
       "      <th>GM</th>\n",
       "      <th>AAPL</th>\n",
       "      <th>F</th>\n",
       "      <th>GM</th>\n",
       "      <th>AAPL</th>\n",
       "      <th>F</th>\n",
       "      <th>GM</th>\n",
       "      <th>AAPL</th>\n",
       "      <th>F</th>\n",
       "      <th>GM</th>\n",
       "      <th>AAPL</th>\n",
       "      <th>F</th>\n",
       "      <th>GM</th>\n",
       "    </tr>\n",
       "    <tr>\n",
       "      <th>Date</th>\n",
       "      <th></th>\n",
       "      <th></th>\n",
       "      <th></th>\n",
       "      <th></th>\n",
       "      <th></th>\n",
       "      <th></th>\n",
       "      <th></th>\n",
       "      <th></th>\n",
       "      <th></th>\n",
       "      <th></th>\n",
       "      <th></th>\n",
       "      <th></th>\n",
       "      <th></th>\n",
       "      <th></th>\n",
       "      <th></th>\n",
       "      <th></th>\n",
       "      <th></th>\n",
       "      <th></th>\n",
       "    </tr>\n",
       "  </thead>\n",
       "  <tbody>\n",
       "    <tr>\n",
       "      <th>2019-01-02</th>\n",
       "      <td>37.943260</td>\n",
       "      <td>6.451036</td>\n",
       "      <td>31.503195</td>\n",
       "      <td>39.480000</td>\n",
       "      <td>7.90</td>\n",
       "      <td>33.639999</td>\n",
       "      <td>39.712502</td>\n",
       "      <td>8.02</td>\n",
       "      <td>33.810001</td>\n",
       "      <td>38.557499</td>\n",
       "      <td>7.48</td>\n",
       "      <td>32.410000</td>\n",
       "      <td>38.722500</td>\n",
       "      <td>7.53</td>\n",
       "      <td>32.849998</td>\n",
       "      <td>148158800</td>\n",
       "      <td>47494400</td>\n",
       "      <td>7662300</td>\n",
       "    </tr>\n",
       "    <tr>\n",
       "      <th>2019-01-03</th>\n",
       "      <td>34.163826</td>\n",
       "      <td>6.353045</td>\n",
       "      <td>30.201487</td>\n",
       "      <td>35.547501</td>\n",
       "      <td>7.78</td>\n",
       "      <td>32.250000</td>\n",
       "      <td>36.430000</td>\n",
       "      <td>7.99</td>\n",
       "      <td>33.680000</td>\n",
       "      <td>35.500000</td>\n",
       "      <td>7.78</td>\n",
       "      <td>32.200001</td>\n",
       "      <td>35.994999</td>\n",
       "      <td>7.97</td>\n",
       "      <td>33.340000</td>\n",
       "      <td>365248800</td>\n",
       "      <td>39172400</td>\n",
       "      <td>11618300</td>\n",
       "    </tr>\n",
       "    <tr>\n",
       "      <th>2019-01-04</th>\n",
       "      <td>35.622257</td>\n",
       "      <td>6.598022</td>\n",
       "      <td>31.212889</td>\n",
       "      <td>37.064999</td>\n",
       "      <td>8.08</td>\n",
       "      <td>33.330002</td>\n",
       "      <td>37.137501</td>\n",
       "      <td>8.12</td>\n",
       "      <td>33.570000</td>\n",
       "      <td>35.950001</td>\n",
       "      <td>7.85</td>\n",
       "      <td>32.430000</td>\n",
       "      <td>36.132500</td>\n",
       "      <td>7.91</td>\n",
       "      <td>32.799999</td>\n",
       "      <td>234428400</td>\n",
       "      <td>43039800</td>\n",
       "      <td>10784000</td>\n",
       "    </tr>\n",
       "    <tr>\n",
       "      <th>2019-01-07</th>\n",
       "      <td>35.542969</td>\n",
       "      <td>6.769505</td>\n",
       "      <td>32.177464</td>\n",
       "      <td>36.982498</td>\n",
       "      <td>8.29</td>\n",
       "      <td>34.360001</td>\n",
       "      <td>37.207500</td>\n",
       "      <td>8.37</td>\n",
       "      <td>34.970001</td>\n",
       "      <td>36.474998</td>\n",
       "      <td>8.03</td>\n",
       "      <td>33.480000</td>\n",
       "      <td>37.174999</td>\n",
       "      <td>8.11</td>\n",
       "      <td>33.709999</td>\n",
       "      <td>219111200</td>\n",
       "      <td>40729400</td>\n",
       "      <td>10722300</td>\n",
       "    </tr>\n",
       "    <tr>\n",
       "      <th>2019-01-08</th>\n",
       "      <td>36.220535</td>\n",
       "      <td>6.834832</td>\n",
       "      <td>32.598873</td>\n",
       "      <td>37.687500</td>\n",
       "      <td>8.37</td>\n",
       "      <td>34.810001</td>\n",
       "      <td>37.955002</td>\n",
       "      <td>8.54</td>\n",
       "      <td>35.680000</td>\n",
       "      <td>37.130001</td>\n",
       "      <td>8.35</td>\n",
       "      <td>34.490002</td>\n",
       "      <td>37.389999</td>\n",
       "      <td>8.42</td>\n",
       "      <td>35.000000</td>\n",
       "      <td>164101200</td>\n",
       "      <td>45644000</td>\n",
       "      <td>10532900</td>\n",
       "    </tr>\n",
       "  </tbody>\n",
       "</table>\n",
       "</div>"
      ],
      "text/plain": [
       "            Adj Close                           Close                   \\\n",
       "                 AAPL         F         GM       AAPL     F         GM   \n",
       "Date                                                                     \n",
       "2019-01-02  37.943260  6.451036  31.503195  39.480000  7.90  33.639999   \n",
       "2019-01-03  34.163826  6.353045  30.201487  35.547501  7.78  32.250000   \n",
       "2019-01-04  35.622257  6.598022  31.212889  37.064999  8.08  33.330002   \n",
       "2019-01-07  35.542969  6.769505  32.177464  36.982498  8.29  34.360001   \n",
       "2019-01-08  36.220535  6.834832  32.598873  37.687500  8.37  34.810001   \n",
       "\n",
       "                 High                         Low                        Open  \\\n",
       "                 AAPL     F         GM       AAPL     F         GM       AAPL   \n",
       "Date                                                                            \n",
       "2019-01-02  39.712502  8.02  33.810001  38.557499  7.48  32.410000  38.722500   \n",
       "2019-01-03  36.430000  7.99  33.680000  35.500000  7.78  32.200001  35.994999   \n",
       "2019-01-04  37.137501  8.12  33.570000  35.950001  7.85  32.430000  36.132500   \n",
       "2019-01-07  37.207500  8.37  34.970001  36.474998  8.03  33.480000  37.174999   \n",
       "2019-01-08  37.955002  8.54  35.680000  37.130001  8.35  34.490002  37.389999   \n",
       "\n",
       "                                Volume                      \n",
       "               F         GM       AAPL         F        GM  \n",
       "Date                                                        \n",
       "2019-01-02  7.53  32.849998  148158800  47494400   7662300  \n",
       "2019-01-03  7.97  33.340000  365248800  39172400  11618300  \n",
       "2019-01-04  7.91  32.799999  234428400  43039800  10784000  \n",
       "2019-01-07  8.11  33.709999  219111200  40729400  10722300  \n",
       "2019-01-08  8.42  35.000000  164101200  45644000  10532900  "
      ]
     },
     "execution_count": 111,
     "metadata": {},
     "output_type": "execute_result"
    }
   ],
   "source": [
    "#qyite wonderful. you can dload a bunch of tickrs using yfinance\n",
    "\n",
    "portfolio = ['AAPL', 'GM', 'F']\n",
    "df = yf.download(portfolio,start=start_date,end=end_date)    \n",
    "df.head()"
   ]
  },
  {
   "cell_type": "code",
   "execution_count": 112,
   "metadata": {},
   "outputs": [
    {
     "data": {
      "text/html": [
       "<div>\n",
       "<style scoped>\n",
       "    .dataframe tbody tr th:only-of-type {\n",
       "        vertical-align: middle;\n",
       "    }\n",
       "\n",
       "    .dataframe tbody tr th {\n",
       "        vertical-align: top;\n",
       "    }\n",
       "\n",
       "    .dataframe thead tr th {\n",
       "        text-align: left;\n",
       "    }\n",
       "\n",
       "    .dataframe thead tr:last-of-type th {\n",
       "        text-align: right;\n",
       "    }\n",
       "</style>\n",
       "<table border=\"1\" class=\"dataframe\">\n",
       "  <thead>\n",
       "    <tr>\n",
       "      <th></th>\n",
       "      <th colspan=\"3\" halign=\"left\">Adj Close</th>\n",
       "      <th colspan=\"3\" halign=\"left\">Close</th>\n",
       "      <th colspan=\"3\" halign=\"left\">High</th>\n",
       "      <th colspan=\"3\" halign=\"left\">Low</th>\n",
       "      <th colspan=\"3\" halign=\"left\">Open</th>\n",
       "      <th colspan=\"3\" halign=\"left\">Volume</th>\n",
       "    </tr>\n",
       "    <tr>\n",
       "      <th></th>\n",
       "      <th>AAPL</th>\n",
       "      <th>F</th>\n",
       "      <th>GM</th>\n",
       "      <th>AAPL</th>\n",
       "      <th>F</th>\n",
       "      <th>GM</th>\n",
       "      <th>AAPL</th>\n",
       "      <th>F</th>\n",
       "      <th>GM</th>\n",
       "      <th>AAPL</th>\n",
       "      <th>F</th>\n",
       "      <th>GM</th>\n",
       "      <th>AAPL</th>\n",
       "      <th>F</th>\n",
       "      <th>GM</th>\n",
       "      <th>AAPL</th>\n",
       "      <th>F</th>\n",
       "      <th>GM</th>\n",
       "    </tr>\n",
       "    <tr>\n",
       "      <th>Date</th>\n",
       "      <th></th>\n",
       "      <th></th>\n",
       "      <th></th>\n",
       "      <th></th>\n",
       "      <th></th>\n",
       "      <th></th>\n",
       "      <th></th>\n",
       "      <th></th>\n",
       "      <th></th>\n",
       "      <th></th>\n",
       "      <th></th>\n",
       "      <th></th>\n",
       "      <th></th>\n",
       "      <th></th>\n",
       "      <th></th>\n",
       "      <th></th>\n",
       "      <th></th>\n",
       "      <th></th>\n",
       "    </tr>\n",
       "  </thead>\n",
       "  <tbody>\n",
       "    <tr>\n",
       "      <th>2023-10-16</th>\n",
       "      <td>178.720001</td>\n",
       "      <td>11.93</td>\n",
       "      <td>30.059999</td>\n",
       "      <td>178.720001</td>\n",
       "      <td>11.93</td>\n",
       "      <td>30.059999</td>\n",
       "      <td>179.080002</td>\n",
       "      <td>11.96</td>\n",
       "      <td>30.180000</td>\n",
       "      <td>176.509995</td>\n",
       "      <td>11.82</td>\n",
       "      <td>29.650000</td>\n",
       "      <td>176.750000</td>\n",
       "      <td>11.91</td>\n",
       "      <td>29.910000</td>\n",
       "      <td>52517000</td>\n",
       "      <td>29183000</td>\n",
       "      <td>14711500</td>\n",
       "    </tr>\n",
       "    <tr>\n",
       "      <th>2023-10-17</th>\n",
       "      <td>177.149994</td>\n",
       "      <td>12.04</td>\n",
       "      <td>30.330000</td>\n",
       "      <td>177.149994</td>\n",
       "      <td>12.04</td>\n",
       "      <td>30.330000</td>\n",
       "      <td>178.419998</td>\n",
       "      <td>12.17</td>\n",
       "      <td>30.610001</td>\n",
       "      <td>174.800003</td>\n",
       "      <td>11.85</td>\n",
       "      <td>29.780001</td>\n",
       "      <td>176.649994</td>\n",
       "      <td>11.85</td>\n",
       "      <td>29.799999</td>\n",
       "      <td>57549400</td>\n",
       "      <td>40516500</td>\n",
       "      <td>19812300</td>\n",
       "    </tr>\n",
       "    <tr>\n",
       "      <th>2023-10-18</th>\n",
       "      <td>175.839996</td>\n",
       "      <td>11.75</td>\n",
       "      <td>29.480000</td>\n",
       "      <td>175.839996</td>\n",
       "      <td>11.75</td>\n",
       "      <td>29.480000</td>\n",
       "      <td>177.580002</td>\n",
       "      <td>11.93</td>\n",
       "      <td>29.990000</td>\n",
       "      <td>175.110001</td>\n",
       "      <td>11.75</td>\n",
       "      <td>29.459999</td>\n",
       "      <td>175.580002</td>\n",
       "      <td>11.93</td>\n",
       "      <td>29.840000</td>\n",
       "      <td>54764400</td>\n",
       "      <td>44840100</td>\n",
       "      <td>14318900</td>\n",
       "    </tr>\n",
       "    <tr>\n",
       "      <th>2023-10-19</th>\n",
       "      <td>175.460007</td>\n",
       "      <td>11.53</td>\n",
       "      <td>29.330000</td>\n",
       "      <td>175.460007</td>\n",
       "      <td>11.53</td>\n",
       "      <td>29.330000</td>\n",
       "      <td>177.839996</td>\n",
       "      <td>11.76</td>\n",
       "      <td>29.959999</td>\n",
       "      <td>175.190002</td>\n",
       "      <td>11.51</td>\n",
       "      <td>29.059999</td>\n",
       "      <td>176.039993</td>\n",
       "      <td>11.59</td>\n",
       "      <td>29.100000</td>\n",
       "      <td>59302900</td>\n",
       "      <td>49057500</td>\n",
       "      <td>18053800</td>\n",
       "    </tr>\n",
       "    <tr>\n",
       "      <th>2023-10-20</th>\n",
       "      <td>172.880005</td>\n",
       "      <td>11.64</td>\n",
       "      <td>29.660000</td>\n",
       "      <td>172.880005</td>\n",
       "      <td>11.64</td>\n",
       "      <td>29.660000</td>\n",
       "      <td>175.419998</td>\n",
       "      <td>11.76</td>\n",
       "      <td>30.250000</td>\n",
       "      <td>172.639999</td>\n",
       "      <td>11.54</td>\n",
       "      <td>29.450001</td>\n",
       "      <td>175.309998</td>\n",
       "      <td>11.58</td>\n",
       "      <td>29.879999</td>\n",
       "      <td>64189300</td>\n",
       "      <td>53275400</td>\n",
       "      <td>21633500</td>\n",
       "    </tr>\n",
       "  </tbody>\n",
       "</table>\n",
       "</div>"
      ],
      "text/plain": [
       "             Adj Close                         Close                    \\\n",
       "                  AAPL      F         GM        AAPL      F         GM   \n",
       "Date                                                                     \n",
       "2023-10-16  178.720001  11.93  30.059999  178.720001  11.93  30.059999   \n",
       "2023-10-17  177.149994  12.04  30.330000  177.149994  12.04  30.330000   \n",
       "2023-10-18  175.839996  11.75  29.480000  175.839996  11.75  29.480000   \n",
       "2023-10-19  175.460007  11.53  29.330000  175.460007  11.53  29.330000   \n",
       "2023-10-20  172.880005  11.64  29.660000  172.880005  11.64  29.660000   \n",
       "\n",
       "                  High                           Low                    \\\n",
       "                  AAPL      F         GM        AAPL      F         GM   \n",
       "Date                                                                     \n",
       "2023-10-16  179.080002  11.96  30.180000  176.509995  11.82  29.650000   \n",
       "2023-10-17  178.419998  12.17  30.610001  174.800003  11.85  29.780001   \n",
       "2023-10-18  177.580002  11.93  29.990000  175.110001  11.75  29.459999   \n",
       "2023-10-19  177.839996  11.76  29.959999  175.190002  11.51  29.059999   \n",
       "2023-10-20  175.419998  11.76  30.250000  172.639999  11.54  29.450001   \n",
       "\n",
       "                  Open                      Volume                      \n",
       "                  AAPL      F         GM      AAPL         F        GM  \n",
       "Date                                                                    \n",
       "2023-10-16  176.750000  11.91  29.910000  52517000  29183000  14711500  \n",
       "2023-10-17  176.649994  11.85  29.799999  57549400  40516500  19812300  \n",
       "2023-10-18  175.580002  11.93  29.840000  54764400  44840100  14318900  \n",
       "2023-10-19  176.039993  11.59  29.100000  59302900  49057500  18053800  \n",
       "2023-10-20  175.309998  11.58  29.879999  64189300  53275400  21633500  "
      ]
     },
     "execution_count": 112,
     "metadata": {},
     "output_type": "execute_result"
    }
   ],
   "source": [
    "df.tail()"
   ]
  },
  {
   "cell_type": "code",
   "execution_count": 113,
   "metadata": {},
   "outputs": [
    {
     "data": {
      "text/html": [
       "<div>\n",
       "<style scoped>\n",
       "    .dataframe tbody tr th:only-of-type {\n",
       "        vertical-align: middle;\n",
       "    }\n",
       "\n",
       "    .dataframe tbody tr th {\n",
       "        vertical-align: top;\n",
       "    }\n",
       "\n",
       "    .dataframe thead th {\n",
       "        text-align: right;\n",
       "    }\n",
       "</style>\n",
       "<table border=\"1\" class=\"dataframe\">\n",
       "  <thead>\n",
       "    <tr style=\"text-align: right;\">\n",
       "      <th></th>\n",
       "      <th>AAPL</th>\n",
       "      <th>F</th>\n",
       "      <th>GM</th>\n",
       "    </tr>\n",
       "  </thead>\n",
       "  <tbody>\n",
       "    <tr>\n",
       "      <th>count</th>\n",
       "      <td>1210.000000</td>\n",
       "      <td>1210.000000</td>\n",
       "      <td>1210.000000</td>\n",
       "    </tr>\n",
       "    <tr>\n",
       "      <th>mean</th>\n",
       "      <td>119.126456</td>\n",
       "      <td>10.414605</td>\n",
       "      <td>39.402474</td>\n",
       "    </tr>\n",
       "    <tr>\n",
       "      <th>std</th>\n",
       "      <td>45.871616</td>\n",
       "      <td>3.475635</td>\n",
       "      <td>10.034897</td>\n",
       "    </tr>\n",
       "    <tr>\n",
       "      <th>min</th>\n",
       "      <td>34.163826</td>\n",
       "      <td>3.551299</td>\n",
       "      <td>16.594477</td>\n",
       "    </tr>\n",
       "    <tr>\n",
       "      <th>25%</th>\n",
       "      <td>72.930902</td>\n",
       "      <td>7.742300</td>\n",
       "      <td>33.474521</td>\n",
       "    </tr>\n",
       "    <tr>\n",
       "      <th>50%</th>\n",
       "      <td>131.273315</td>\n",
       "      <td>10.777882</td>\n",
       "      <td>36.672915</td>\n",
       "    </tr>\n",
       "    <tr>\n",
       "      <th>75%</th>\n",
       "      <td>154.162975</td>\n",
       "      <td>12.539006</td>\n",
       "      <td>43.745712</td>\n",
       "    </tr>\n",
       "    <tr>\n",
       "      <th>max</th>\n",
       "      <td>196.185074</td>\n",
       "      <td>22.420858</td>\n",
       "      <td>64.935768</td>\n",
       "    </tr>\n",
       "  </tbody>\n",
       "</table>\n",
       "</div>"
      ],
      "text/plain": [
       "              AAPL            F           GM\n",
       "count  1210.000000  1210.000000  1210.000000\n",
       "mean    119.126456    10.414605    39.402474\n",
       "std      45.871616     3.475635    10.034897\n",
       "min      34.163826     3.551299    16.594477\n",
       "25%      72.930902     7.742300    33.474521\n",
       "50%     131.273315    10.777882    36.672915\n",
       "75%     154.162975    12.539006    43.745712\n",
       "max     196.185074    22.420858    64.935768"
      ]
     },
     "execution_count": 113,
     "metadata": {},
     "output_type": "execute_result"
    }
   ],
   "source": [
    "df['Adj Close'].describe()"
   ]
  },
  {
   "cell_type": "code",
   "execution_count": 114,
   "metadata": {},
   "outputs": [
    {
     "data": {
      "text/html": [
       "<div>\n",
       "<style scoped>\n",
       "    .dataframe tbody tr th:only-of-type {\n",
       "        vertical-align: middle;\n",
       "    }\n",
       "\n",
       "    .dataframe tbody tr th {\n",
       "        vertical-align: top;\n",
       "    }\n",
       "\n",
       "    .dataframe thead tr th {\n",
       "        text-align: left;\n",
       "    }\n",
       "\n",
       "    .dataframe thead tr:last-of-type th {\n",
       "        text-align: right;\n",
       "    }\n",
       "</style>\n",
       "<table border=\"1\" class=\"dataframe\">\n",
       "  <thead>\n",
       "    <tr>\n",
       "      <th></th>\n",
       "      <th colspan=\"3\" halign=\"left\">Adj Close</th>\n",
       "    </tr>\n",
       "    <tr>\n",
       "      <th></th>\n",
       "      <th>AAPL</th>\n",
       "      <th>F</th>\n",
       "      <th>GM</th>\n",
       "    </tr>\n",
       "    <tr>\n",
       "      <th>Date</th>\n",
       "      <th></th>\n",
       "      <th></th>\n",
       "      <th></th>\n",
       "    </tr>\n",
       "  </thead>\n",
       "  <tbody>\n",
       "    <tr>\n",
       "      <th>2019-01-02</th>\n",
       "      <td>37.943260</td>\n",
       "      <td>6.451036</td>\n",
       "      <td>31.503195</td>\n",
       "    </tr>\n",
       "    <tr>\n",
       "      <th>2019-01-03</th>\n",
       "      <td>34.163826</td>\n",
       "      <td>6.353045</td>\n",
       "      <td>30.201487</td>\n",
       "    </tr>\n",
       "    <tr>\n",
       "      <th>2019-01-04</th>\n",
       "      <td>35.622257</td>\n",
       "      <td>6.598022</td>\n",
       "      <td>31.212889</td>\n",
       "    </tr>\n",
       "    <tr>\n",
       "      <th>2019-01-07</th>\n",
       "      <td>35.542969</td>\n",
       "      <td>6.769505</td>\n",
       "      <td>32.177464</td>\n",
       "    </tr>\n",
       "    <tr>\n",
       "      <th>2019-01-08</th>\n",
       "      <td>36.220535</td>\n",
       "      <td>6.834832</td>\n",
       "      <td>32.598873</td>\n",
       "    </tr>\n",
       "  </tbody>\n",
       "</table>\n",
       "</div>"
      ],
      "text/plain": [
       "            Adj Close                     \n",
       "                 AAPL         F         GM\n",
       "Date                                      \n",
       "2019-01-02  37.943260  6.451036  31.503195\n",
       "2019-01-03  34.163826  6.353045  30.201487\n",
       "2019-01-04  35.622257  6.598022  31.212889\n",
       "2019-01-07  35.542969  6.769505  32.177464\n",
       "2019-01-08  36.220535  6.834832  32.598873"
      ]
     },
     "execution_count": 114,
     "metadata": {},
     "output_type": "execute_result"
    }
   ],
   "source": [
    "#using only adj close\n",
    "df = df[['Adj Close']]\n",
    "df.head()"
   ]
  },
  {
   "cell_type": "code",
   "execution_count": 115,
   "metadata": {},
   "outputs": [
    {
     "data": {
      "text/html": [
       "<div>\n",
       "<style scoped>\n",
       "    .dataframe tbody tr th:only-of-type {\n",
       "        vertical-align: middle;\n",
       "    }\n",
       "\n",
       "    .dataframe tbody tr th {\n",
       "        vertical-align: top;\n",
       "    }\n",
       "\n",
       "    .dataframe thead tr th {\n",
       "        text-align: left;\n",
       "    }\n",
       "\n",
       "    .dataframe thead tr:last-of-type th {\n",
       "        text-align: right;\n",
       "    }\n",
       "</style>\n",
       "<table border=\"1\" class=\"dataframe\">\n",
       "  <thead>\n",
       "    <tr>\n",
       "      <th></th>\n",
       "      <th colspan=\"3\" halign=\"left\">Adj Close</th>\n",
       "    </tr>\n",
       "    <tr>\n",
       "      <th></th>\n",
       "      <th>AAPL</th>\n",
       "      <th>F</th>\n",
       "      <th>GM</th>\n",
       "    </tr>\n",
       "    <tr>\n",
       "      <th>Date</th>\n",
       "      <th></th>\n",
       "      <th></th>\n",
       "      <th></th>\n",
       "    </tr>\n",
       "  </thead>\n",
       "  <tbody>\n",
       "    <tr>\n",
       "      <th>2019-01-02</th>\n",
       "      <td>NaN</td>\n",
       "      <td>NaN</td>\n",
       "      <td>NaN</td>\n",
       "    </tr>\n",
       "    <tr>\n",
       "      <th>2019-01-03</th>\n",
       "      <td>-0.099608</td>\n",
       "      <td>-0.01519</td>\n",
       "      <td>-0.041320</td>\n",
       "    </tr>\n",
       "    <tr>\n",
       "      <th>2019-01-04</th>\n",
       "      <td>0.042689</td>\n",
       "      <td>0.03856</td>\n",
       "      <td>0.033488</td>\n",
       "    </tr>\n",
       "    <tr>\n",
       "      <th>2019-01-07</th>\n",
       "      <td>-0.002226</td>\n",
       "      <td>0.02599</td>\n",
       "      <td>0.030903</td>\n",
       "    </tr>\n",
       "    <tr>\n",
       "      <th>2019-01-08</th>\n",
       "      <td>0.019063</td>\n",
       "      <td>0.00965</td>\n",
       "      <td>0.013096</td>\n",
       "    </tr>\n",
       "  </tbody>\n",
       "</table>\n",
       "</div>"
      ],
      "text/plain": [
       "           Adj Close                   \n",
       "                AAPL        F        GM\n",
       "Date                                   \n",
       "2019-01-02       NaN      NaN       NaN\n",
       "2019-01-03 -0.099608 -0.01519 -0.041320\n",
       "2019-01-04  0.042689  0.03856  0.033488\n",
       "2019-01-07 -0.002226  0.02599  0.030903\n",
       "2019-01-08  0.019063  0.00965  0.013096"
      ]
     },
     "execution_count": 115,
     "metadata": {},
     "output_type": "execute_result"
    }
   ],
   "source": [
    "#getting the  retuns using pct_change\n",
    "returns = df.pct_change()\n",
    "returns.head()"
   ]
  },
  {
   "cell_type": "code",
   "execution_count": 116,
   "metadata": {},
   "outputs": [
    {
     "data": {
      "text/plain": [
       "Adj Close  AAPL    0.001467\n",
       "           F       0.000855\n",
       "           GM      0.000306\n",
       "dtype: float64"
      ]
     },
     "execution_count": 116,
     "metadata": {},
     "output_type": "execute_result"
    }
   ],
   "source": [
    "#mean of the daily returns\n",
    "meanDailyReturns=returns.mean()\n",
    "meanDailyReturns"
   ]
  },
  {
   "cell_type": "code",
   "execution_count": 117,
   "metadata": {},
   "outputs": [
    {
     "data": {
      "text/plain": [
       "0.0007337908795939978"
      ]
     },
     "execution_count": 117,
     "metadata": {},
     "output_type": "execute_result"
    }
   ],
   "source": [
    "#assuming for 1000 you invest, you divvy them up in the following pctages among the 3 companies \n",
    "weights = [0.25,0.25,0.5]\n",
    "\n",
    "portReturn = np.sum(meanDailyReturns*weights)\n",
    "portReturn"
   ]
  },
  {
   "cell_type": "markdown",
   "metadata": {},
   "source": [
    "## cumulative returns"
   ]
  },
  {
   "cell_type": "markdown",
   "metadata": {},
   "source": [
    "allows you to track portfolio performance over time"
   ]
  },
  {
   "cell_type": "code",
   "execution_count": 118,
   "metadata": {},
   "outputs": [
    {
     "data": {
      "text/html": [
       "<div>\n",
       "<style scoped>\n",
       "    .dataframe tbody tr th:only-of-type {\n",
       "        vertical-align: middle;\n",
       "    }\n",
       "\n",
       "    .dataframe tbody tr th {\n",
       "        vertical-align: top;\n",
       "    }\n",
       "\n",
       "    .dataframe thead tr th {\n",
       "        text-align: left;\n",
       "    }\n",
       "\n",
       "    .dataframe thead tr:last-of-type th {\n",
       "        text-align: right;\n",
       "    }\n",
       "</style>\n",
       "<table border=\"1\" class=\"dataframe\">\n",
       "  <thead>\n",
       "    <tr>\n",
       "      <th></th>\n",
       "      <th colspan=\"3\" halign=\"left\">Adj Close</th>\n",
       "      <th>portfolio</th>\n",
       "    </tr>\n",
       "    <tr>\n",
       "      <th></th>\n",
       "      <th>AAPL</th>\n",
       "      <th>F</th>\n",
       "      <th>GM</th>\n",
       "      <th></th>\n",
       "    </tr>\n",
       "    <tr>\n",
       "      <th>Date</th>\n",
       "      <th></th>\n",
       "      <th></th>\n",
       "      <th></th>\n",
       "      <th></th>\n",
       "    </tr>\n",
       "  </thead>\n",
       "  <tbody>\n",
       "    <tr>\n",
       "      <th>2019-01-02</th>\n",
       "      <td>NaN</td>\n",
       "      <td>NaN</td>\n",
       "      <td>NaN</td>\n",
       "      <td>NaN</td>\n",
       "    </tr>\n",
       "    <tr>\n",
       "      <th>2019-01-03</th>\n",
       "      <td>-0.099608</td>\n",
       "      <td>-0.015190</td>\n",
       "      <td>-0.041320</td>\n",
       "      <td>-0.049359</td>\n",
       "    </tr>\n",
       "    <tr>\n",
       "      <th>2019-01-04</th>\n",
       "      <td>0.042689</td>\n",
       "      <td>0.038560</td>\n",
       "      <td>0.033488</td>\n",
       "      <td>0.037057</td>\n",
       "    </tr>\n",
       "    <tr>\n",
       "      <th>2019-01-07</th>\n",
       "      <td>-0.002226</td>\n",
       "      <td>0.025990</td>\n",
       "      <td>0.030903</td>\n",
       "      <td>0.021393</td>\n",
       "    </tr>\n",
       "    <tr>\n",
       "      <th>2019-01-08</th>\n",
       "      <td>0.019063</td>\n",
       "      <td>0.009650</td>\n",
       "      <td>0.013096</td>\n",
       "      <td>0.013727</td>\n",
       "    </tr>\n",
       "    <tr>\n",
       "      <th>...</th>\n",
       "      <td>...</td>\n",
       "      <td>...</td>\n",
       "      <td>...</td>\n",
       "      <td>...</td>\n",
       "    </tr>\n",
       "    <tr>\n",
       "      <th>2023-10-16</th>\n",
       "      <td>-0.000727</td>\n",
       "      <td>0.010161</td>\n",
       "      <td>0.013486</td>\n",
       "      <td>0.009102</td>\n",
       "    </tr>\n",
       "    <tr>\n",
       "      <th>2023-10-17</th>\n",
       "      <td>-0.008785</td>\n",
       "      <td>0.009220</td>\n",
       "      <td>0.008982</td>\n",
       "      <td>0.004600</td>\n",
       "    </tr>\n",
       "    <tr>\n",
       "      <th>2023-10-18</th>\n",
       "      <td>-0.007395</td>\n",
       "      <td>-0.024086</td>\n",
       "      <td>-0.028025</td>\n",
       "      <td>-0.021883</td>\n",
       "    </tr>\n",
       "    <tr>\n",
       "      <th>2023-10-19</th>\n",
       "      <td>-0.002161</td>\n",
       "      <td>-0.018723</td>\n",
       "      <td>-0.005088</td>\n",
       "      <td>-0.007765</td>\n",
       "    </tr>\n",
       "    <tr>\n",
       "      <th>2023-10-20</th>\n",
       "      <td>-0.014704</td>\n",
       "      <td>0.009540</td>\n",
       "      <td>0.011251</td>\n",
       "      <td>0.004335</td>\n",
       "    </tr>\n",
       "  </tbody>\n",
       "</table>\n",
       "<p>1210 rows × 4 columns</p>\n",
       "</div>"
      ],
      "text/plain": [
       "           Adj Close                     portfolio\n",
       "                AAPL         F        GM          \n",
       "Date                                              \n",
       "2019-01-02       NaN       NaN       NaN       NaN\n",
       "2019-01-03 -0.099608 -0.015190 -0.041320 -0.049359\n",
       "2019-01-04  0.042689  0.038560  0.033488  0.037057\n",
       "2019-01-07 -0.002226  0.025990  0.030903  0.021393\n",
       "2019-01-08  0.019063  0.009650  0.013096  0.013727\n",
       "...              ...       ...       ...       ...\n",
       "2023-10-16 -0.000727  0.010161  0.013486  0.009102\n",
       "2023-10-17 -0.008785  0.009220  0.008982  0.004600\n",
       "2023-10-18 -0.007395 -0.024086 -0.028025 -0.021883\n",
       "2023-10-19 -0.002161 -0.018723 -0.005088 -0.007765\n",
       "2023-10-20 -0.014704  0.009540  0.011251  0.004335\n",
       "\n",
       "[1210 rows x 4 columns]"
      ]
     },
     "execution_count": 118,
     "metadata": {},
     "output_type": "execute_result"
    }
   ],
   "source": [
    "returns['portfolio'] = returns.dot(weights)\n",
    "returns"
   ]
  },
  {
   "cell_type": "code",
   "execution_count": 119,
   "metadata": {
    "scrolled": true
   },
   "outputs": [
    {
     "data": {
      "text/html": [
       "<div>\n",
       "<style scoped>\n",
       "    .dataframe tbody tr th:only-of-type {\n",
       "        vertical-align: middle;\n",
       "    }\n",
       "\n",
       "    .dataframe tbody tr th {\n",
       "        vertical-align: top;\n",
       "    }\n",
       "\n",
       "    .dataframe thead tr th {\n",
       "        text-align: left;\n",
       "    }\n",
       "\n",
       "    .dataframe thead tr:last-of-type th {\n",
       "        text-align: right;\n",
       "    }\n",
       "</style>\n",
       "<table border=\"1\" class=\"dataframe\">\n",
       "  <thead>\n",
       "    <tr>\n",
       "      <th></th>\n",
       "      <th colspan=\"3\" halign=\"left\">Adj Close</th>\n",
       "      <th>portfolio</th>\n",
       "    </tr>\n",
       "    <tr>\n",
       "      <th></th>\n",
       "      <th>AAPL</th>\n",
       "      <th>F</th>\n",
       "      <th>GM</th>\n",
       "      <th></th>\n",
       "    </tr>\n",
       "    <tr>\n",
       "      <th>Date</th>\n",
       "      <th></th>\n",
       "      <th></th>\n",
       "      <th></th>\n",
       "      <th></th>\n",
       "    </tr>\n",
       "  </thead>\n",
       "  <tbody>\n",
       "    <tr>\n",
       "      <th>2019-01-02</th>\n",
       "      <td>NaN</td>\n",
       "      <td>NaN</td>\n",
       "      <td>NaN</td>\n",
       "      <td>NaN</td>\n",
       "    </tr>\n",
       "    <tr>\n",
       "      <th>2019-01-03</th>\n",
       "      <td>0.900392</td>\n",
       "      <td>0.984810</td>\n",
       "      <td>0.958680</td>\n",
       "      <td>0.950641</td>\n",
       "    </tr>\n",
       "    <tr>\n",
       "      <th>2019-01-04</th>\n",
       "      <td>0.938830</td>\n",
       "      <td>1.022785</td>\n",
       "      <td>0.990785</td>\n",
       "      <td>0.985868</td>\n",
       "    </tr>\n",
       "    <tr>\n",
       "      <th>2019-01-07</th>\n",
       "      <td>0.936740</td>\n",
       "      <td>1.049367</td>\n",
       "      <td>1.021403</td>\n",
       "      <td>1.006959</td>\n",
       "    </tr>\n",
       "    <tr>\n",
       "      <th>2019-01-08</th>\n",
       "      <td>0.954597</td>\n",
       "      <td>1.059494</td>\n",
       "      <td>1.034780</td>\n",
       "      <td>1.020781</td>\n",
       "    </tr>\n",
       "    <tr>\n",
       "      <th>...</th>\n",
       "      <td>...</td>\n",
       "      <td>...</td>\n",
       "      <td>...</td>\n",
       "      <td>...</td>\n",
       "    </tr>\n",
       "    <tr>\n",
       "      <th>2023-10-16</th>\n",
       "      <td>4.710191</td>\n",
       "      <td>1.849315</td>\n",
       "      <td>0.954189</td>\n",
       "      <td>1.853976</td>\n",
       "    </tr>\n",
       "    <tr>\n",
       "      <th>2023-10-17</th>\n",
       "      <td>4.668813</td>\n",
       "      <td>1.866367</td>\n",
       "      <td>0.962759</td>\n",
       "      <td>1.862504</td>\n",
       "    </tr>\n",
       "    <tr>\n",
       "      <th>2023-10-18</th>\n",
       "      <td>4.634288</td>\n",
       "      <td>1.821413</td>\n",
       "      <td>0.935778</td>\n",
       "      <td>1.821747</td>\n",
       "    </tr>\n",
       "    <tr>\n",
       "      <th>2023-10-19</th>\n",
       "      <td>4.624273</td>\n",
       "      <td>1.787310</td>\n",
       "      <td>0.931017</td>\n",
       "      <td>1.807601</td>\n",
       "    </tr>\n",
       "    <tr>\n",
       "      <th>2023-10-20</th>\n",
       "      <td>4.556277</td>\n",
       "      <td>1.804361</td>\n",
       "      <td>0.941492</td>\n",
       "      <td>1.815436</td>\n",
       "    </tr>\n",
       "  </tbody>\n",
       "</table>\n",
       "<p>1210 rows × 4 columns</p>\n",
       "</div>"
      ],
      "text/plain": [
       "           Adj Close                     portfolio\n",
       "                AAPL         F        GM          \n",
       "Date                                              \n",
       "2019-01-02       NaN       NaN       NaN       NaN\n",
       "2019-01-03  0.900392  0.984810  0.958680  0.950641\n",
       "2019-01-04  0.938830  1.022785  0.990785  0.985868\n",
       "2019-01-07  0.936740  1.049367  1.021403  1.006959\n",
       "2019-01-08  0.954597  1.059494  1.034780  1.020781\n",
       "...              ...       ...       ...       ...\n",
       "2023-10-16  4.710191  1.849315  0.954189  1.853976\n",
       "2023-10-17  4.668813  1.866367  0.962759  1.862504\n",
       "2023-10-18  4.634288  1.821413  0.935778  1.821747\n",
       "2023-10-19  4.624273  1.787310  0.931017  1.807601\n",
       "2023-10-20  4.556277  1.804361  0.941492  1.815436\n",
       "\n",
       "[1210 rows x 4 columns]"
      ]
     },
     "execution_count": 119,
     "metadata": {},
     "output_type": "execute_result"
    }
   ],
   "source": [
    "# Calculate cumulative returns\n",
    "daily_cum_ret=(1+returns).cumprod()\n",
    "daily_cum_ret"
   ]
  },
  {
   "cell_type": "code",
   "execution_count": 135,
   "metadata": {},
   "outputs": [
    {
     "name": "stdout",
     "output_type": "stream",
     "text": [
      "[*********************100%***********************]  1 of 1 completed\n"
     ]
    }
   ],
   "source": [
    "#comparing portfolio performace with overall market performance\n",
    "#using SPY to capture the S&P 500 and calculating cumulative returns similarly\n",
    "spy = yf.download('SPY',start=start_date,end=end_date)\n",
    "spy = spy[['Adj Close']]\n",
    "\n",
    "spy['daily_returns'] = spy['Adj Close'].pct_change()\n",
    "spy.head()\n",
    "spy['cum_returns'] = (1+spy['daily_returns']).cumprod()"
   ]
  },
  {
   "cell_type": "code",
   "execution_count": 138,
   "metadata": {
    "scrolled": false
   },
   "outputs": [
    {
     "data": {
      "image/png": "[encoded data removed]",
      "text/plain": [
       "<Figure size 640x480 with 1 Axes>"
      ]
     },
     "metadata": {},
     "output_type": "display_data"
    }
   ],
   "source": [
    "#plotting returns\n",
    "fig,ax = plt.subplots()\n",
    "ax.plot(daily_cum_ret.index, daily_cum_ret.portfolio,label='portfolio')\n",
    "ax.plot(spy.index,spy['cum_returns'], label = 'SPY')\n",
    "ax.set_title('Portfolio Performance vs S&P 500');\n",
    "ax.legend();\n"
   ]
  },
  {
   "cell_type": "code",
   "execution_count": null,
   "metadata": {},
   "outputs": [],
   "source": []
  }
 ],
 "metadata": {
  "kernelspec": {
   "display_name": "Python 3 (ipykernel)",
   "language": "python",
   "name": "python3"
  },
  "language_info": {
   "codemirror_mode": {
    "name": "ipython",
    "version": 3
   },
   "file_extension": ".py",
   "mimetype": "text/x-python",
   "name": "python",
   "nbconvert_exporter": "python",
   "pygments_lexer": "ipython3",
   "version": "3.10.9"
  },
  "toc": {
   "base_numbering": 1,
   "nav_menu": {
    "height": "348px",
    "width": "369px"
   },
   "number_sections": true,
   "sideBar": true,
   "skip_h1_title": false,
   "title_cell": "Table of Contents",
   "title_sidebar": "Contents",
   "toc_cell": true,
   "toc_position": {
    "height": "1011px",
    "left": "0px",
    "top": "111.125px",
    "width": "227.854px"
   },
   "toc_section_display": true,
   "toc_window_display": true
  },
  "varInspector": {
   "cols": {
    "lenName": 16,
    "lenType": 16,
    "lenVar": 40
   },
   "kernels_config": {
    "python": {
     "delete_cmd_postfix": "",
     "delete_cmd_prefix": "del ",
     "library": "var_list.py",
     "varRefreshCmd": "print(var_dic_list())"
    },
    "r": {
     "delete_cmd_postfix": ") ",
     "delete_cmd_prefix": "rm(",
     "library": "var_list.r",
     "varRefreshCmd": "cat(var_dic_list()) "
    }
   },
   "types_to_exclude": [
    "module",
    "function",
    "builtin_function_or_method",
    "instance",
    "_Feature"
   ],
   "window_display": false
  }
 },
 "nbformat": 4,
 "nbformat_minor": 4
}
