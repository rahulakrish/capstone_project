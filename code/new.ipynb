{
 "cells": [
  {
   "cell_type": "markdown",
   "metadata": {
    "id": "BfO8sW8t_zKN",
    "toc": true
   },
   "source": [
    "<h1>Table of Contents<span class=\"tocSkip\"></span></h1>\n",
    "<div class=\"toc\"><ul class=\"toc-item\"><li><span><a href=\"#Business-Objective\" data-toc-modified-id=\"Business-Objective-1\"><span class=\"toc-item-num\">1&nbsp;&nbsp;</span>Business Objective</a></span></li><li><span><a href=\"#Methodology\" data-toc-modified-id=\"Methodology-2\"><span class=\"toc-item-num\">2&nbsp;&nbsp;</span>Methodology</a></span></li><li><span><a href=\"#EDA\" data-toc-modified-id=\"EDA-3\"><span class=\"toc-item-num\">3&nbsp;&nbsp;</span>EDA</a></span><ul class=\"toc-item\"><li><span><a href=\"#Stock-performance\" data-toc-modified-id=\"Stock-performance-3.1\"><span class=\"toc-item-num\">3.1&nbsp;&nbsp;</span>Stock performance</a></span></li><li><span><a href=\"#Stock-Returns\" data-toc-modified-id=\"Stock-Returns-3.2\"><span class=\"toc-item-num\">3.2&nbsp;&nbsp;</span>Stock Returns</a></span></li><li><span><a href=\"#Beta-value\" data-toc-modified-id=\"Beta-value-3.3\"><span class=\"toc-item-num\">3.3&nbsp;&nbsp;</span>Beta value</a></span></li><li><span><a href=\"#P/E-ratio\" data-toc-modified-id=\"P/E-ratio-3.4\"><span class=\"toc-item-num\">3.4&nbsp;&nbsp;</span>P/E ratio</a></span></li><li><span><a href=\"#Dividend-History\" data-toc-modified-id=\"Dividend-History-3.5\"><span class=\"toc-item-num\">3.5&nbsp;&nbsp;</span>Dividend History</a></span></li></ul></li><li><span><a href=\"#Summing-up-performance...\" data-toc-modified-id=\"Summing-up-performance...-4\"><span class=\"toc-item-num\">4&nbsp;&nbsp;</span>Summing up performance...</a></span></li><li><span><a href=\"#Time-Series-Modelling\" data-toc-modified-id=\"Time-Series-Modelling-5\"><span class=\"toc-item-num\">5&nbsp;&nbsp;</span>Time Series Modelling</a></span><ul class=\"toc-item\"><li><span><a href=\"#Stationarity-Check\" data-toc-modified-id=\"Stationarity-Check-5.1\"><span class=\"toc-item-num\">5.1&nbsp;&nbsp;</span>Stationarity Check</a></span></li><li><span><a href=\"#Convert-non-stationary-to-stationary\" data-toc-modified-id=\"Convert-non-stationary-to-stationary-5.2\"><span class=\"toc-item-num\">5.2&nbsp;&nbsp;</span>Convert non-stationary to stationary</a></span></li><li><span><a href=\"#ACF-and-PACF\" data-toc-modified-id=\"ACF-and-PACF-5.3\"><span class=\"toc-item-num\">5.3&nbsp;&nbsp;</span>ACF and PACF</a></span></li><li><span><a href=\"#ARIMA-model\" data-toc-modified-id=\"ARIMA-model-5.4\"><span class=\"toc-item-num\">5.4&nbsp;&nbsp;</span>ARIMA model</a></span></li><li><span><a href=\"#SARIMA-model\" data-toc-modified-id=\"SARIMA-model-5.5\"><span class=\"toc-item-num\">5.5&nbsp;&nbsp;</span>SARIMA model</a></span></li><li><span><a href=\"#Facebook-Prophet\" data-toc-modified-id=\"Facebook-Prophet-5.6\"><span class=\"toc-item-num\">5.6&nbsp;&nbsp;</span>Facebook Prophet</a></span><ul class=\"toc-item\"><li><span><a href=\"#Prophet-with-differencing---comparing-with-test\" data-toc-modified-id=\"Prophet-with-differencing---comparing-with-test-5.6.1\"><span class=\"toc-item-num\">5.6.1&nbsp;&nbsp;</span>Prophet with differencing - comparing with test</a></span></li><li><span><a href=\"#regularization-on-differenced-data\" data-toc-modified-id=\"regularization-on-differenced-data-5.6.2\"><span class=\"toc-item-num\">5.6.2&nbsp;&nbsp;</span>regularization on differenced data</a></span></li></ul></li><li><span><a href=\"#Model-performance-comparisions\" data-toc-modified-id=\"Model-performance-comparisions-5.7\"><span class=\"toc-item-num\">5.7&nbsp;&nbsp;</span>Model performance comparisions</a></span></li><li><span><a href=\"#Using-Prophet-to-get-forecast-of-'AAPL'-for-the-next-year\" data-toc-modified-id=\"Using-Prophet-to-get-forecast-of-'AAPL'-for-the-next-year-5.8\"><span class=\"toc-item-num\">5.8&nbsp;&nbsp;</span>Using Prophet to get forecast of 'AAPL' for the next year</a></span></li></ul></li><li><span><a href=\"#Building-Portfolio\" data-toc-modified-id=\"Building-Portfolio-6\"><span class=\"toc-item-num\">6&nbsp;&nbsp;</span>Building Portfolio</a></span><ul class=\"toc-item\"><li><span><a href=\"#Predictions-of-chosen-stock\" data-toc-modified-id=\"Predictions-of-chosen-stock-6.1\"><span class=\"toc-item-num\">6.1&nbsp;&nbsp;</span>Predictions of chosen stock</a></span></li></ul></li><li><span><a href=\"#Conclusions\" data-toc-modified-id=\"Conclusions-7\"><span class=\"toc-item-num\">7&nbsp;&nbsp;</span>Conclusions</a></span><ul class=\"toc-item\"><li><span><a href=\"#Limitations\" data-toc-modified-id=\"Limitations-7.1\"><span class=\"toc-item-num\">7.1&nbsp;&nbsp;</span>Limitations</a></span></li><li><span><a href=\"#Recommendations\" data-toc-modified-id=\"Recommendations-7.2\"><span class=\"toc-item-num\">7.2&nbsp;&nbsp;</span>Recommendations</a></span></li></ul></li><li><span><a href=\"#Portfolio-Analysis\" data-toc-modified-id=\"Portfolio-Analysis-8\"><span class=\"toc-item-num\">8&nbsp;&nbsp;</span>Portfolio Analysis</a></span><ul class=\"toc-item\"><li><span><a href=\"#Average-returns\" data-toc-modified-id=\"Average-returns-8.1\"><span class=\"toc-item-num\">8.1&nbsp;&nbsp;</span>Average returns</a></span><ul class=\"toc-item\"><li><span><a href=\"#Interpretation-of-Average-Return\" data-toc-modified-id=\"Interpretation-of-Average-Return-8.1.1\"><span class=\"toc-item-num\">8.1.1&nbsp;&nbsp;</span>Interpretation of Average Return</a></span></li></ul></li><li><span><a href=\"#Cumulative-returns\" data-toc-modified-id=\"Cumulative-returns-8.2\"><span class=\"toc-item-num\">8.2&nbsp;&nbsp;</span>Cumulative returns</a></span><ul class=\"toc-item\"><li><span><a href=\"#Interpreting-Cumulative-Returns\" data-toc-modified-id=\"Interpreting-Cumulative-Returns-8.2.1\"><span class=\"toc-item-num\">8.2.1&nbsp;&nbsp;</span>Interpreting Cumulative Returns</a></span></li></ul></li><li><span><a href=\"#Difference-between-arithmetic-mean-(Average)-and-geometric-mean-(Annualized)\" data-toc-modified-id=\"Difference-between-arithmetic-mean-(Average)-and-geometric-mean-(Annualized)-8.3\"><span class=\"toc-item-num\">8.3&nbsp;&nbsp;</span>Difference between arithmetic mean (Average) and geometric mean (Annualized)</a></span></li><li><span><a href=\"#Portfolio-risk\" data-toc-modified-id=\"Portfolio-risk-8.4\"><span class=\"toc-item-num\">8.4&nbsp;&nbsp;</span>Portfolio risk</a></span><ul class=\"toc-item\"><li><span><a href=\"#Interpreting-risk\" data-toc-modified-id=\"Interpreting-risk-8.4.1\"><span class=\"toc-item-num\">8.4.1&nbsp;&nbsp;</span>Interpreting risk</a></span></li><li><span><a href=\"#Skewness-and-Kurtosis\" data-toc-modified-id=\"Skewness-and-Kurtosis-8.4.2\"><span class=\"toc-item-num\">8.4.2&nbsp;&nbsp;</span>Skewness and Kurtosis</a></span></li><li><span><a href=\"#Sharpe-Ratio\" data-toc-modified-id=\"Sharpe-Ratio-8.4.3\"><span class=\"toc-item-num\">8.4.3&nbsp;&nbsp;</span>Sharpe Ratio</a></span></li></ul></li></ul></li></ul></div>"
   ]
  },
  {
   "cell_type": "markdown",
   "metadata": {
    "id": "FjvV3Ipr_zKR"
   },
   "source": [
    "# Business Objective"
   ]
  },
  {
   "cell_type": "markdown",
   "metadata": {
    "id": "NuwBfAw5_zKS"
   },
   "source": [
    "To help the average investor build a portfolio of stock and ensure maximum returns."
   ]
  },
  {
   "cell_type": "markdown",
   "metadata": {
    "id": "n1DZXVI__zKS"
   },
   "source": [
    "The assumption here is that the investor already has an idea companies they want to invest in. The aim here is to  provide the investor an overview of the company performance and make predictions on future thereby helping them decide it it's worth their investment. Since the model is purely mathematical and cannot take into account black swan events, the onus still lies on the investor to look at a company holistically before taking the plunge."
   ]
  },
  {
   "cell_type": "markdown",
   "metadata": {
    "id": "Epj2p9Im_zKT"
   },
   "source": [
    "I will also focus on diversification, a core tenet of a good investment strategy i.e by investing in companies across different sectors, the investor can minimize their risk and maximize returns."
   ]
  },
  {
   "cell_type": "markdown",
   "metadata": {
    "id": "tbwdoAv5_zKT"
   },
   "source": [
    "# Methodology"
   ]
  },
  {
   "cell_type": "markdown",
   "metadata": {
    "id": "f862zL8F_zKT"
   },
   "source": [
    "1. Data of the chosen stock from 2017-2022 will be scraped from [Yahoo Finance](https://finance.yahoo.com/)  using python's  `yfinance`(documentation can be found [here](https://aroussi.com/post/python-yahoo-finance)) and `YahooFinancials` (documentation can be found [here](https://pypi.org/project/yahoofinancials/)).\n",
    "\n",
    "2. Using the data, 4 commonly used metrics to evaluate a stock will be plotted: ***returns, beta ratio, p/e ratio and dividend***\n",
    "\n",
    "3. Different machine learning models will then be built to predict future stock price. Their errors will be compared and the model with the least error will be used gage future stock performance.\n",
    "\n",
    "4. Combined with stock performance and forecast information, then by feeding the chosen stock into the portfolio builder, the investor can look at combined returns and decide which portfolio is best-aligned with his/her goals.\n",
    "\n"
   ]
  },
  {
   "cell_type": "markdown",
   "metadata": {
    "id": "D1AV_0D9_zKT"
   },
   "source": [
    "# EDA"
   ]
  },
  {
   "cell_type": "code",
   "execution_count": 1,
   "metadata": {
    "id": "LWjUdtia_zKT",
    "scrolled": true
   },
   "outputs": [],
   "source": [
    "#importing libraries\n",
    "\n",
    "import yfinance as yf\n",
    "# from yahoofinancials import YahooFinancials\n",
    "import matplotlib.pyplot as plt\n",
    "import seaborn as sns\n",
    "sns.set_style('darkgrid')\n",
    "%matplotlib inline\n",
    "import numpy as np\n",
    "import pandas as pd\n",
    "import itertools\n",
    "from datetime import datetime\n",
    "from datetime import date\n",
    "from dateutil import relativedelta\n",
    "from sklearn.metrics import mean_squared_error\n",
    "from sklearn.linear_model import LinearRegression\n",
    "from sklearn.model_selection import train_test_split\n",
    "from sklearn.model_selection import TimeSeriesSplit\n",
    "from statsmodels.tsa.stattools import adfuller\n",
    "from scipy.signal._signaltools import _centered\n",
    "from statsmodels.tsa.seasonal import seasonal_decompose\n",
    "from statsmodels.graphics.tsaplots import plot_acf, plot_pacf\n",
    "from statsmodels.tsa.arima.model import ARIMA\n",
    "from statsmodels.tsa.statespace.sarimax import SARIMAX\n",
    "from prophet import Prophet\n",
    "import warnings\n",
    "warnings.filterwarnings('ignore')\n",
    "import logging\n",
    "logging.basicConfig(level='INFO')\n",
    "mlogger = logging.getLogger('matplotlib')\n",
    "mlogger.setLevel(logging.WARNING)\n",
    "logging.getLogger(\"cmdstanpy\").setLevel(logging.DEBUG)"
   ]
  },
  {
   "cell_type": "markdown",
   "metadata": {
    "id": "z7p8gv6O_zKV"
   },
   "source": [
    "## Stock performance"
   ]
  },
  {
   "cell_type": "markdown",
   "metadata": {
    "id": "Cj80Co8b_zKV"
   },
   "source": [
    "Following is a function that will plot stock prices of a chosen stock from 2017 till date:"
   ]
  },
  {
   "cell_type": "code",
   "execution_count": 2,
   "metadata": {
    "id": "BsIMxa1h_zKV"
   },
   "outputs": [],
   "source": [
    "#function to get stock data of a company\n",
    "start_date = '2019-01-01'\n",
    "end_date = date.today()\n",
    "\n",
    "def stock_info(ticker):\n",
    "    #get stock prices for the specified date ranges\n",
    "    df = yf.download(ticker,start=start_date,end=end_date)\n",
    "    #plot the stock price over the years\n",
    "    fig,ax = plt.subplots(figsize=(10,5))\n",
    "    ax.plot(df['Adj Close']);\n",
    "    ax.set_title(f'Stock Price of {ticker} from 2019 till date')"
   ]
  },
  {
   "cell_type": "markdown",
   "metadata": {
    "id": "SRIEyfMY_zKW"
   },
   "source": [
    "## Stock Returns"
   ]
  },
  {
   "cell_type": "code",
   "execution_count": 3,
   "metadata": {
    "id": "7GY0MMFA_zKW"
   },
   "outputs": [],
   "source": [
    "#function to calculate stock return\n",
    "\n",
    "def stock_return(ticker):\n",
    "    #get stock prices for the specified date ranges\n",
    "    df = yf.download(ticker,start=start_date,end=end_date)\n",
    "    df_return = df[['Adj Close']]\n",
    "    df_return['pct_change'] = df_return['Adj Close'].pct_change(14) # use pct change to calculate the diff\n",
    "\n",
    "    #plot the returns over 5 years\n",
    "    fig,ax = plt.subplots(figsize=(10,5))\n",
    "    ax.plot(df_return['pct_change'],label= 'AAPL');\n",
    "    ax.legend(loc='best');\n",
    "    ax.set_title('14 day percent change')\n"
   ]
  },
  {
   "cell_type": "markdown",
   "metadata": {
    "id": "Hev7G6dl_zKW"
   },
   "source": [
    "## Beta value"
   ]
  },
  {
   "cell_type": "markdown",
   "metadata": {
    "id": "FOh2cfGr_zKW"
   },
   "source": [
    "Beta value of a stock is used to signify risk i.e. if a stock is risky or not. By comparing the stock movement\n",
    "relative to the overall market such as the S&P 500, the stock can be classified as risky or not. By definition, the market\n",
    "has a beta value of 1.0. If the beta value of the stock is greater than 1.0, then it is classified as risky and less so if the\n",
    "value is less than 1.0."
   ]
  },
  {
   "cell_type": "code",
   "execution_count": 4,
   "metadata": {
    "id": "Jphth6Xd_zKW"
   },
   "outputs": [],
   "source": [
    "#function to calculate beta value of stock\n",
    "\n",
    "def calculate_beta(ticker):\n",
    "\n",
    "    #get data for ticker and SPY whih serves as the market index\n",
    "    symbols = [ticker,'SPY']\n",
    "    data = yf.download(symbols, start = start_date,end = end_date)['Adj Close']\n",
    "    price_change = data.pct_change()\n",
    "    price_change.drop(price_change.index[0],inplace=True)\n",
    "\n",
    "    #reshape for linear regression\n",
    "    X = np.array(price_change[ticker]).reshape((-1,1))\n",
    "    y = np.array(price_change['SPY'])\n",
    "\n",
    "    #create splits\n",
    "    X_train,X_test,y_train,y_test = train_test_split(X,y)\n",
    "    lr = LinearRegression()\n",
    "    lr.fit(X_train,y_train)\n",
    "\n",
    "    #predictions\n",
    "    y_preds = lr.predict(X_test)\n",
    "\n",
    "    #plot\n",
    "    fig,ax = plt.subplots(figsize=(5,5));\n",
    "    ax.plot(X_test,y_preds,linestyle=':',color='orange')\n",
    "    ax.scatter(y_test,y_preds,alpha=0.5)\n",
    "    ax.set_title(f' Beta value {lr.coef_}')\n",
    "    ax.set_xlabel('Market Index:SPY')\n",
    "    ax.set_ylabel(f'{ticker} value')"
   ]
  },
  {
   "cell_type": "markdown",
   "metadata": {
    "id": "OV-hxDop_zKX"
   },
   "source": [
    "## P/E ratio"
   ]
  },
  {
   "cell_type": "markdown",
   "metadata": {
    "id": "R0X0FwJH_zKX"
   },
   "source": [
    "Price-to-Earnings(P/E) ratio is a metric that compares a company's share price to it's earnings per share. It helps an investor\n",
    "determine whether a stock is undervalued or overvalued. Hence, if a stock is overvalued, then the investor is paying more for the stock and betting on future growth and vice-versa."
   ]
  },
  {
   "cell_type": "code",
   "execution_count": 5,
   "metadata": {
    "id": "bx3ZEjpD_zKX"
   },
   "outputs": [],
   "source": [
    "#function to get historical PE ratios\n",
    "\n",
    "def get_pe_ratio(ticker):\n",
    "\n",
    "    #get financial statement of ticker using yahoofinancials\n",
    "    financials = YahooFinancials(ticker)\n",
    "    statement = financials.get_financial_stmts('annual', 'income', reformat=True)\n",
    "\n",
    "    #create a dict of the income statement alone\n",
    "    dicts ={}\n",
    "    for i in statement['incomeStatementHistory'][ticker]:\n",
    "        dicts.update(i)\n",
    "\n",
    "    #create a dataframe for easy use\n",
    "    df = pd.DataFrame(dicts)\n",
    "    df = df.T\n",
    "    df['dilutedAverageShares'].fillna(df['dilutedAverageShares'].median(),inplace=True)\n",
    "\n",
    "    #calculate pe ratio\n",
    "    eps = df['netIncomeContinuousOperations']/df['dilutedAverageShares'] #calc earnings per share\n",
    "    eps_df = pd.DataFrame(eps,index=df.index,columns=['EPS'])\n",
    "    eps_df['PE ratio'] = financials.get_current_price()/eps_df['EPS']#get current price and calc pe ratio\n",
    "\n",
    "    #plot result\n",
    "    fig,ax=plt.subplots(figsize=(5,5));\n",
    "    ax.plot(eps_df['PE ratio'],marker = '*', markerfacecolor = 'black')\n",
    "    ax.set_title(f'Historical PE ratio: {ticker}')\n",
    "    ax.set_ylabel('PE ratio')"
   ]
  },
  {
   "cell_type": "markdown",
   "metadata": {
    "id": "VW8JVnuZ_zKX"
   },
   "source": [
    "## Dividend History"
   ]
  },
  {
   "cell_type": "markdown",
   "metadata": {
    "id": "rfIn6BV-_zKX"
   },
   "source": [
    "A Dividend is the distirbution's of the company's profit to it's shareholders. Not every company pays dividends. Companies can also choose to re-invest their profits for future growth than reward shareholders. For an investor, investing in a company that pays dividends is an easy way to earn extra income on top of their initial investment."
   ]
  },
  {
   "cell_type": "code",
   "execution_count": 6,
   "metadata": {
    "id": "frrjYmtB_zKX"
   },
   "outputs": [],
   "source": [
    "#function to get historical dividend data\n",
    "\n",
    "def get_dividend(ticker):\n",
    "\n",
    "    #get dividend data\n",
    "    financials = YahooFinancials(ticker)\n",
    "    div = financials.get_daily_dividend_data(start_date=start_date,end_date='2022-12-31')\n",
    "\n",
    "    #check if the company pays dividends\n",
    "    if div[ticker] == None:\n",
    "        fig,ax = plt.subplots(figsize=(5,5))\n",
    "        ax.annotate(f'Sorry, {ticker} does not offer dividends',xy=(0.3,0.5),fontsize=20);\n",
    "        ax.axis('off')\n",
    "        return fig,ax\n",
    "\n",
    "    else:#if company does pay dividends,then convert to a df and create a plot\n",
    "        df = pd.DataFrame(div[ticker])\n",
    "        df.drop('date',axis=1,inplace=True)\n",
    "        df.rename(columns={'formatted_date':'date'},inplace=True)\n",
    "        df['date'] = pd.to_datetime(df['date'])\n",
    "        df.set_index('date',inplace=True)\n",
    "        fig,ax=plt.subplots(figsize=(8,8))\n",
    "        ax.plot(df['amount']);\n",
    "        ax.set_title(f'Dividend rate: {ticker}');"
   ]
  },
  {
   "cell_type": "markdown",
   "metadata": {
    "id": "tsMi1bLl_zKX"
   },
   "source": [
    "# Summing up performance..."
   ]
  },
  {
   "cell_type": "markdown",
   "metadata": {
    "id": "f3ZUMsRV_zKX"
   },
   "source": [
    "By combining all of the above into one function called `summary_info`, the investor can get a cohesive view of the performance his/her chosen stock. Below is an example of stock perfromance of **AAPL(tickr:'AAPL')**"
   ]
  },
  {
   "cell_type": "code",
   "execution_count": 7,
   "metadata": {
    "id": "aS1AFgEy_zKX"
   },
   "outputs": [],
   "source": [
    "# def summary_info(ticker):\n",
    "#     return stock_info(ticker),stock_return(ticker),calculate_beta(ticker),get_dividend(ticker)"
   ]
  },
  {
   "cell_type": "code",
   "execution_count": 8,
   "metadata": {
    "id": "RUooPD78_zKY",
    "scrolled": false
   },
   "outputs": [],
   "source": [
    "# summary_info('AAPL')"
   ]
  },
  {
   "cell_type": "markdown",
   "metadata": {
    "id": "j5RwD4ez_zKY"
   },
   "source": [
    "1. Stock Performance: Stock is generally on an upward trend.\n",
    "2. Beta Value : Less than 1.0 signifying that it is low-risk.\n",
    "3. P/E ratio : Around 30 highlighting that it is over valued. Perhaps it would be better to wait for the p/e to come down.\n",
    "4. Dividend: Like the stock price, is on an upward trend. A nice boost to the shareholders for investing in the company."
   ]
  },
  {
   "cell_type": "markdown",
   "metadata": {
    "id": "SmzurPpG_zKY"
   },
   "source": [
    "# Time Series Modelling"
   ]
  },
  {
   "cell_type": "markdown",
   "metadata": {
    "id": "QBLcpBGg_zKY"
   },
   "source": [
    "Again, we will  use data of **Apple** as an example."
   ]
  },
  {
   "cell_type": "markdown",
   "metadata": {
    "id": "Fcq_2HSx_zKZ"
   },
   "source": [
    "## Stationarity Check"
   ]
  },
  {
   "cell_type": "markdown",
   "metadata": {
    "id": "t2r_hdpk_zKZ"
   },
   "source": [
    "Time series models are usually built on the premise that models are stationary i.e there are patters to the data and by analyzing these patterns, future performance can be predicted with a degree of certainity. However, this rarely happens in real life. There is always some trend or seasonality or a combination of both in the data.Hence the first step is to check for stationarity."
   ]
  },
  {
   "cell_type": "markdown",
   "metadata": {
    "id": "NQ8ypXtI_zKZ"
   },
   "source": [
    "The function below plots rolling-statistics and the ouptut of the Dickey-Fuller test"
   ]
  },
  {
   "cell_type": "code",
   "execution_count": 9,
   "metadata": {
    "id": "YbhkS5nA_zKZ"
   },
   "outputs": [],
   "source": [
    "# def plot_trends(ticker):\n",
    "#     df = yf.download(ticker,start=start_date,end=end_date)\n",
    "#     close = df.loc[:,['Adj Close']]\n",
    "\n",
    "# #compute rolling mean and std to see if they are constant\n",
    "#     roll_mean = close.rolling(window=30,center=False).mean()\n",
    "#     roll_std = close.rolling(window=30,center=False).std()\n",
    "\n",
    "# #plot the data\n",
    "#     fig,ax=plt.subplots(figsize=(15,5))\n",
    "#     ax.plot(close,color='blue',label='Original')\n",
    "#     ax.plot(roll_mean,color='red',label='Rolling Mean')\n",
    "#     ax.plot(roll_std,color='green',label='Rolling StdDev')\n",
    "#     ax.legend(loc='best')\n",
    "#     ax.set_title(f'Rolling Statistics of {ticker}');\n",
    "\n",
    "# #dickey Fuller Test\n",
    "#     dftest = adfuller(close['Adj Close'])\n",
    "#     dfoutput = pd.DataFrame(dftest[0:4], index=['Test Statistic', 'p-value', '#Lags Used', 'Number of Observations Used'],columns=['Values'])\n",
    "\n",
    "#     return dfoutput"
   ]
  },
  {
   "cell_type": "code",
   "execution_count": 10,
   "metadata": {
    "id": "RN37--Mu_zKZ",
    "scrolled": true
   },
   "outputs": [],
   "source": [
    "# plot_trends('AAPL')"
   ]
  },
  {
   "cell_type": "markdown",
   "metadata": {
    "id": "4AUxj1Fd_zKZ"
   },
   "source": [
    "By computing the rolling mean we can see that there is an upward trend in the data. Since, the rolling stddev is fairly straight, we can conclude that there is not much seasonality in the data. Also shown is the results of the **Dickey-Fuller** test, a statistical method to check for stationarity. The large p-value points to a non-stationary dataset"
   ]
  },
  {
   "cell_type": "markdown",
   "metadata": {
    "id": "sjClplyR_zKZ"
   },
   "source": [
    "## Convert non-stationary to stationary"
   ]
  },
  {
   "cell_type": "code",
   "execution_count": 11,
   "metadata": {
    "id": "s2M3d0hK_zKZ"
   },
   "outputs": [],
   "source": [
    "# def differencing(ticker):\n",
    "#     df = yf.download(ticker,start=start_date,end=end_date)\n",
    "#     df_return = df[['Adj Close']]\n",
    "#     df_diff =df_return.diff(periods=1)\n",
    "#     df_diff.dropna(inplace=True)\n",
    "\n",
    "#     #plot the results\n",
    "#     fig,ax = plt.subplots(figsize = (12,5));\n",
    "#     ax.plot(df_diff, label = 'Differenced');\n",
    "#     ax.plot(df_diff.rolling(30).mean(),label = 'Rolling Mean')\n",
    "#     ax.plot(df_diff.rolling(30).std(),label = 'Rolling StdDev')\n",
    "#     ax.set_title(f'Differenced plot of {ticker}')\n",
    "#     ax.legend(loc=2);\n",
    "\n",
    "#     #dickey fuller test\n",
    "#     dftest = adfuller(df_diff['Adj Close'])\n",
    "#     dfoutput = pd.DataFrame(dftest[0:4], index=['Test Statistic', 'p-value', '#Lags Used', 'Number of Observations Used'],columns=['Values'])\n",
    "\n",
    "#     return dfoutput"
   ]
  },
  {
   "cell_type": "code",
   "execution_count": 12,
   "metadata": {
    "id": "EbO6bTsD_zKZ"
   },
   "outputs": [],
   "source": [
    "# differencing('AAPL')"
   ]
  },
  {
   "cell_type": "markdown",
   "metadata": {
    "id": "Syju1BVl_zKa"
   },
   "source": [
    "We can from the above plot that the mean though not perfectly flat is fairly linear signifying that we have removed the trend.\n",
    "The miniscule p-value from the Dicley-Fuller test also points towards a stationary dataset"
   ]
  },
  {
   "cell_type": "markdown",
   "metadata": {
    "id": "UHk7COaE_zKa"
   },
   "source": [
    "##  ACF and PACF"
   ]
  },
  {
   "cell_type": "markdown",
   "metadata": {
    "id": "r1Z8N1BX_zKa"
   },
   "source": [
    "Since the ARIMA and SARIMA modelss are linear regression models, we need to decide on how many regression terms we will use for the model. The Auto-Correlation and Partial Auto Correlation plot(for the AR and MA models respectively) will show the number of lag terms that have the most effect on future price."
   ]
  },
  {
   "cell_type": "code",
   "execution_count": 13,
   "metadata": {
    "id": "kivXH1v9_zKa",
    "scrolled": false
   },
   "outputs": [],
   "source": [
    "# #get stock data\n",
    "# df = yf.download('AAPL',start=start_date,end=end_date)\n",
    "# df_close = df[['Adj Close']]\n",
    "# df_diff =df_close.diff(periods=1)\n",
    "# df_diff.dropna(inplace=True)\n",
    "\n",
    "# #plot ACF and PACF values\n",
    "# fig,(ax1,ax2)=plt.subplots(nrows=2,figsize=(12,8))\n",
    "# acf = plot_acf(df_diff,ax=ax1)\n",
    "# pacf = plot_pacf(df_diff,ax=ax2)"
   ]
  },
  {
   "cell_type": "markdown",
   "metadata": {
    "id": "TWN4wbnK_zKa"
   },
   "source": [
    "From both the plots, we can see that the 1st lag term i.e the previous day's stock price, will have the most effect on the next day's price. There are other terms that have an effect as well, but for the sake of simplicity we will use only one term for the model."
   ]
  },
  {
   "cell_type": "markdown",
   "metadata": {
    "id": "am_Qh0nB_zKb"
   },
   "source": [
    "## ARIMA model"
   ]
  },
  {
   "cell_type": "markdown",
   "metadata": {
    "id": "lA8xp0fG_zKb"
   },
   "source": [
    "We will first build and integrated AR and MA model known as ARIMA."
   ]
  },
  {
   "cell_type": "code",
   "execution_count": 14,
   "metadata": {
    "id": "t4PAanI2_zKb"
   },
   "outputs": [],
   "source": [
    "# #defining train and test sets\n",
    "# cutoff= int(df_close.shape[0]*0.75)\n",
    "# train = df_close[:cutoff]\n",
    "# test = df_close[cutoff:]"
   ]
  },
  {
   "cell_type": "markdown",
   "metadata": {
    "id": "IMi7HjuQ_zKb"
   },
   "source": [
    "Parameters for the model: **(p,d,q)=(1,1,1)** for the model based on the plots\n",
    "1. p = number of terms for the AR model\n",
    "2. d = order of differencing\n",
    "3. q = numer of the terms for the MA model"
   ]
  },
  {
   "cell_type": "code",
   "execution_count": 15,
   "metadata": {
    "id": "7MOIwgSq_zKb",
    "scrolled": false
   },
   "outputs": [],
   "source": [
    "# # (1,1,1) ARIMA(p,d,q) based on ACF and PACF plots\n",
    "# #instantiate\n",
    "# model = ARIMA(train,\n",
    "#               order=(1,1,1))\n",
    "\n",
    "# #fit\n",
    "# model_fit = model.fit()\n",
    "# # print(model_fit.summary())\n",
    "\n",
    "# #getting predictions using get_prediction method\n",
    "# arima_predictions = model_fit.get_prediction(start = len(train)+1 , end = len(df_close),dynamic=True)\n",
    "# #predicted_mean gives lists the values\n",
    "# arima_pred_price=arima_predictions.predicted_mean\n",
    "# #converting into a df\n",
    "# arima_pred_price_df = pd.DataFrame(data=arima_pred_price)\n",
    "# #seetting the index to the test dates\n",
    "# arima_pred_price_df.index= test.index\n",
    "\n",
    "# # arima_pred_price_df.head()\n",
    "\n",
    "# #confidence intervals of predictions\n",
    "# arima_conf_int = arima_predictions.conf_int()\n",
    "# arima_conf_int.set_index(test.index,inplace=True)\n",
    "\n",
    "# # arima_conf_int.head()\n",
    "\n",
    "# #plotting predictions with confidence intervals\n",
    "# fig,ax =plt.subplots(figsize=(12,8))\n",
    "# # ax.plot(train,label='Train');\n",
    "# ax.plot(test,label='Test');\n",
    "# ax.plot(arima_pred_price_df,label='Predictions');\n",
    "# # ax.plot(arima_conf_int,label='Confidence Intervals')\n",
    "# ax.fill_between(arima_conf_int.index,arima_conf_int.iloc[:,0],arima_conf_int.iloc[:,1],color='k',alpha=0.1);\n",
    "# ax.legend(loc=2);"
   ]
  },
  {
   "cell_type": "code",
   "execution_count": 16,
   "metadata": {
    "id": "2Ph9UfSJ_zKb",
    "scrolled": true
   },
   "outputs": [],
   "source": [
    "# #RMSE and AIC\n",
    "# error_arima = round(np.sqrt(mean_squared_error(test,arima_pred_price_df)),2)\n",
    "# aic_arima = round(model_fit.aic,2)\n",
    "# print(f'AIC score of the ARIMA model is {aic_arima}')\n",
    "# print(f'RMSE of the model is ${error_arima}')\n"
   ]
  },
  {
   "cell_type": "markdown",
   "metadata": {
    "id": "5wpTFOrY_zKb"
   },
   "source": [
    "As we can tell, the model does not perform very well when compared to the test values"
   ]
  },
  {
   "cell_type": "markdown",
   "metadata": {
    "id": "9QoTzJQS_zKb"
   },
   "source": [
    "## SARIMA model"
   ]
  },
  {
   "cell_type": "markdown",
   "metadata": {
    "id": "IZFFhw7m_zKb"
   },
   "source": [
    "Next, we will build a SARIMA model. Like the ARIMA models, SARIMA model also depends on past values but has an extra seasonality component to take into account any seasonality patterns"
   ]
  },
  {
   "cell_type": "markdown",
   "metadata": {
    "id": "B-nHKUr9_zKb"
   },
   "source": [
    "the the p,d,q values from the ARIMA models as a guide, we can run different combinations to check for the most optimal paramenters. The model that outputs the lowest AIC score , will be used as our model"
   ]
  },
  {
   "cell_type": "code",
   "execution_count": 17,
   "metadata": {
    "id": "qNjoSxVn_zKb"
   },
   "outputs": [],
   "source": [
    "# #defining a range for the p,d,q values\n",
    "# p=d=q=range(0,2)\n",
    "# pdq = list(itertools.product(p,d,q))\n",
    "# pdqs = [(x[0], x[1], x[2], 12) for x in list(itertools.product(p, d, q))]"
   ]
  },
  {
   "cell_type": "code",
   "execution_count": 18,
   "metadata": {
    "id": "PfaWCobO_zKb",
    "scrolled": false
   },
   "outputs": [],
   "source": [
    "# # Run a grid with pdq and seasonal pdq parameters calculated above and get the best AIC value\n",
    "# ans = []\n",
    "# for comb in pdq:\n",
    "#     for combs in pdqs:\n",
    "#         try:\n",
    "#             mod = SARIMAX(train,\n",
    "#                           order=comb,\n",
    "#                           seasonal_order=combs,\n",
    "#                           enforce_stationarity=False,\n",
    "#                           enforce_invertibility=False)\n",
    "\n",
    "#             output = mod.fit()\n",
    "#             ans.append([comb, combs, output.aic])\n",
    "#             print('SARIMA {} x {}: AIC Calculated={}'.format(comb, combs, output.aic))\n",
    "#         except:\n",
    "#             continue"
   ]
  },
  {
   "cell_type": "code",
   "execution_count": 19,
   "metadata": {
    "id": "ZXifoX3n_zKb",
    "scrolled": true
   },
   "outputs": [],
   "source": [
    "# sari_df = pd.DataFrame(ans,columns=['(p,d,q)','seasonal_combo', 'AIC'])\n",
    "# sari_df"
   ]
  },
  {
   "cell_type": "code",
   "execution_count": 20,
   "metadata": {
    "id": "F81fbbPo_zKc",
    "scrolled": false
   },
   "outputs": [],
   "source": [
    "# # Plug the optimal parameter values into a new SARIMAX model\n",
    "# sarimax = SARIMAX(train,\n",
    "#                   order=(0,1,1),\n",
    "#                   seasonal_order=(0,1,1,12),\n",
    "#                   enforce_stationarity=False,\n",
    "#                   enforce_invertibility=False)\n",
    "\n",
    "# # Fit the model and print results\n",
    "# output = sarimax.fit()\n",
    "\n",
    "# #get predictions\n",
    "# sarimax_predictions = output.get_prediction(start=len(train)+1,end=len(df_close),dynamic=True)\n",
    "# sarimax_price=sarimax_predictions.predicted_mean\n",
    "# sarimax_predictions_df = pd.DataFrame(data=sarimax_price)\n",
    "# sarimax_predictions_df.index= test.index\n",
    "\n",
    "# #get confidence intervals\n",
    "# sarimax_conf_int = sarimax_predictions.conf_int()\n",
    "# sarimax_conf_int.set_index(test.index,inplace=True)\n",
    "\n",
    "# #plot results\n",
    "# fig,ax =plt.subplots(figsize=(20,8))\n",
    "# # ax.plot(train,label='Train');\n",
    "# ax.plot(test,label='Test');\n",
    "# ax.plot(sarimax_predictions_df,label='Predictions');\n",
    "# # ax.plot(sarimax_conf_int,label='Confidence Intervals')\n",
    "# ax.fill_between(sarimax_conf_int.index,sarimax_conf_int.iloc[:,0],sarimax_conf_int.iloc[:,1],color='g',alpha=0.1);\n",
    "# ax.legend(loc=2);"
   ]
  },
  {
   "cell_type": "code",
   "execution_count": 21,
   "metadata": {
    "id": "TYstXW03_zKc",
    "scrolled": true
   },
   "outputs": [],
   "source": [
    "# #RMSE\n",
    "# error_sarima = round(np.sqrt(mean_squared_error(test,sarimax_predictions_df)),2)\n",
    "# print(f'RMSE of the model is ${error_sarima}')"
   ]
  },
  {
   "cell_type": "markdown",
   "metadata": {
    "id": "3IPWHbIj_zKc"
   },
   "source": [
    "Compared to the ARIMA model, the SARIMA model performance is much worse."
   ]
  },
  {
   "cell_type": "markdown",
   "metadata": {
    "id": "Qu-tBtxl_zKc"
   },
   "source": [
    "## Facebook Prophet"
   ]
  },
  {
   "cell_type": "markdown",
   "metadata": {
    "id": "sAZVLoea_zKc"
   },
   "source": [
    "The Prophet model is an additive model for time series predicting that was open sourced by Meta. in 2017.According to the official documentation, it works best with time series that have strong seasonal effects and several seasons of historical data  Prophet is robust to missing data and shifts in the trend and typically handles outliers well."
   ]
  },
  {
   "cell_type": "markdown",
   "metadata": {
    "id": "HtcjFtXH_zKc"
   },
   "source": [
    "First, we will use the default parameters and the undifferenced data to to build and evaluate the model:"
   ]
  },
  {
   "cell_type": "code",
   "execution_count": 22,
   "metadata": {
    "id": "iIhz6AJM_zKc",
    "scrolled": true
   },
   "outputs": [],
   "source": [
    "# #get stock data\n",
    "# df = yf.download('AAPL',start=start_date,end=end_date)\n",
    "# df_close = df[['Adj Close']]\n",
    "\n",
    "# #resmapling by weekly\n",
    "# df_weekly = df_close.resample('W').mean()\n",
    "\n",
    "# #setting up df to be able to run Prophet\n",
    "\n",
    "# #reset index\n",
    "# df_weekly.reset_index(inplace=True)\n",
    "\n",
    "# #rename columns per prophet conventions\n",
    "# df_weekly.rename(columns={'Adj Close': 'y',\n",
    "#                          'Date':'ds'},inplace=True)\n",
    "\n",
    "# #set the date as the index\n",
    "# # df_close.set_index('ds',inplace=True)\n",
    "# # df_weekly.head()\n",
    "\n",
    "# #defining train and test sets\n",
    "# cutoff= int(df_weekly.shape[0]*0.75)\n",
    "# train = df_weekly[:cutoff]\n",
    "# test = df_weekly[cutoff:]\n",
    "\n",
    "# #instantiate\n",
    "# m = Prophet(seasonality_mode='multiplicative',\n",
    "#             weekly_seasonality=True,\n",
    "#             daily_seasonality = True,\n",
    "#             yearly_seasonality = True,\n",
    "#             interval_width=0.90,\n",
    "#            )\n",
    "\n",
    "# #fit\n",
    "# m.fit(train)\n",
    "\n",
    "# #forecasts - creating future dates using in built make_future_dataframe method\n",
    "# future = m.make_future_dataframe(periods=len(test),freq='W',include_history=False)\n",
    "\n",
    "# #predicting yhat\n",
    "# forecast = m.predict(future)\n",
    "\n",
    "# #creating a df of predicted values\n",
    "# forecast_values = forecast[['ds', 'yhat', 'yhat_lower', 'yhat_upper']]\n",
    "\n",
    "# #set the index for the plots\n",
    "# forecast_values.set_index('ds',inplace=True)\n",
    "# test.set_index('ds',inplace=True)\n",
    "\n",
    "# #plotting results\n",
    "# fig,ax=plt.subplots(figsize=(12,8))\n",
    "# # ax.plot(train,label='Train')\n",
    "# ax.plot(test,label='Test')\n",
    "# # ax.plot(df_weekly,label='Current Price')\n",
    "# ax.plot(forecast_values['yhat'],label='Forecast')\n",
    "# # ax.fill_between(test.index,forecast_values['yhat_lower'],forecast_values['yhat_upper'],color='g',alpha=0.1);\n",
    "# ax.legend();\n",
    "\n"
   ]
  },
  {
   "cell_type": "code",
   "execution_count": 23,
   "metadata": {
    "id": "1oJ9hAIV_zKc"
   },
   "outputs": [],
   "source": [
    "# #RMSE\n",
    "# error_fb = round(np.sqrt(mean_squared_error(test,forecast_values['yhat'])),2)\n",
    "# print(f'RMSE of the model is ${error_fb}')"
   ]
  },
  {
   "cell_type": "markdown",
   "metadata": {
    "id": "0E_QzRZM_zKc"
   },
   "source": [
    "We can try to optimize the model by running a loop for the seasonality and changepoint values. These are deciding how much to penalize seasonality and changepoints changes in the data i.e if the values are small for the seasonality changes, then the effect of seasonal changes in the data is dampened and vice versa."
   ]
  },
  {
   "cell_type": "code",
   "execution_count": 24,
   "metadata": {
    "id": "9duQE3dL_zKc",
    "scrolled": false
   },
   "outputs": [],
   "source": [
    "# #run a loop for different regularization values\n",
    "\n",
    "# seasonality_scale = [0.1, 0.2, 0.3, 0.4, 0.5]\n",
    "# changepoint_scale = [0.1, 0.2, 0.3, 0.4, 0.5]\n",
    "# errors = []\n",
    "# new_error_fb = None\n",
    "\n",
    "# for season in seasonality_scale:\n",
    "#     for changepoint in changepoint_scale:\n",
    "#         #instantiate\n",
    "#         m = Prophet(seasonality_mode='multiplicative',\n",
    "#                 weekly_seasonality=True,\n",
    "#                 daily_seasonality = True,\n",
    "#                 yearly_seasonality = True,\n",
    "#                 interval_width=0.90,\n",
    "#                 seasonality_prior_scale=season,\n",
    "#                 changepoint_prior_scale=changepoint\n",
    "#                )\n",
    "\n",
    "#         #fit\n",
    "#         m.fit(train)\n",
    "\n",
    "#         #forecasts - creating future dates using in built make_future_dataframe method\n",
    "#         future = m.make_future_dataframe(periods=len(test),freq='W',include_history=False)\n",
    "\n",
    "#         #predicting yhat\n",
    "#         forecast = m.predict(future)\n",
    "\n",
    "#         #getting only yhat values\n",
    "#         forecast_values = forecast[['ds', 'yhat']]\n",
    "\n",
    "#         #setting the index\n",
    "#         forecast_values.set_index('ds',inplace=True)\n",
    "\n",
    "#         #rmse values\n",
    "#         rmse = round(np.sqrt(mean_squared_error(test,forecast_values['yhat'])),3)\n",
    "#         errors.append(rmse)\n",
    "#         new_error_fb = min(errors)\n",
    "# #         print(f'seasonality_scale:{season}, changepoint_scale:{changepoint}, rmse:{rmse}')\n",
    "\n",
    "# print('----------------------------------------------')\n",
    "# print(f'Smallest RMSE after looping is ${new_error_fb}')\n",
    "# print(f'Original RMSE is ${error_fb}')"
   ]
  },
  {
   "cell_type": "markdown",
   "metadata": {
    "id": "ETua1zrw_zKc"
   },
   "source": [
    "We can see a decent jump in performance. Let's see if we can improve further"
   ]
  },
  {
   "cell_type": "markdown",
   "metadata": {
    "id": "DoO6NzFt_zKc"
   },
   "source": [
    "### Prophet with differencing - comparing with test"
   ]
  },
  {
   "cell_type": "markdown",
   "metadata": {
    "id": "6hKqHmNN_zKc"
   },
   "source": [
    "Like the other models, we can try and run the prophet model on stationary data to see if there is an improvement. We accomplish this by diffenreceing the data by an order of 1."
   ]
  },
  {
   "cell_type": "code",
   "execution_count": 25,
   "metadata": {
    "colab": {
     "base_uri": "https://localhost:8080/",
     "height": 881
    },
    "id": "M1neD4YN_zKc",
    "outputId": "1783e206-0609-4cb9-dbf5-7abd588cd5fc",
    "scrolled": false
   },
   "outputs": [
    {
     "name": "stdout",
     "output_type": "stream",
     "text": [
      "[*********************100%***********************]  1 of 1 completed\n"
     ]
    },
    {
     "name": "stderr",
     "output_type": "stream",
     "text": [
      "DEBUG:cmdstanpy:cmd: where.exe tbb.dll\n",
      "cwd: None\n",
      "DEBUG:cmdstanpy:Adding TBB (C:\\Users\\rahul krishnan\\anaconda3\\lib\\site-packages\\prophet\\stan_model\\cmdstan-2.26.1\\stan\\lib\\stan_math\\lib\\tbb) to PATH\n",
      "DEBUG:cmdstanpy:input tempfile: C:\\Users\\rahul krishnan\\AppData\\Local\\Temp\\tmpvpk_va5k\\kzdmdi2a.json\n",
      "DEBUG:cmdstanpy:input tempfile: C:\\Users\\rahul krishnan\\AppData\\Local\\Temp\\tmpvpk_va5k\\zwq4fwn6.json\n",
      "DEBUG:cmdstanpy:idx 0\n",
      "DEBUG:cmdstanpy:running CmdStan, num_threads: None\n",
      "DEBUG:cmdstanpy:CmdStan args: ['C:\\\\Users\\\\rahul krishnan\\\\anaconda3\\\\Lib\\\\site-packages\\\\prophet\\\\stan_model\\\\prophet_model.bin', 'random', 'seed=95758', 'data', 'file=C:\\\\Users\\\\rahul krishnan\\\\AppData\\\\Local\\\\Temp\\\\tmpvpk_va5k\\\\kzdmdi2a.json', 'init=C:\\\\Users\\\\rahul krishnan\\\\AppData\\\\Local\\\\Temp\\\\tmpvpk_va5k\\\\zwq4fwn6.json', 'output', 'file=C:\\\\Users\\\\rahul krishnan\\\\AppData\\\\Local\\\\Temp\\\\tmpvpk_va5k\\\\prophet_model_pc52hmr\\\\prophet_model-20231029133417.csv', 'method=optimize', 'algorithm=lbfgs', 'iter=10000']\n",
      "13:34:17 - cmdstanpy - INFO - Chain [1] start processing\n",
      "INFO:cmdstanpy:Chain [1] start processing\n",
      "13:34:17 - cmdstanpy - INFO - Chain [1] done processing\n",
      "INFO:cmdstanpy:Chain [1] done processing\n"
     ]
    },
    {
     "data": {
      "image/png": "[encoded data removed]",
      "text/plain": [
       "<Figure size 1200x800 with 1 Axes>"
      ]
     },
     "metadata": {},
     "output_type": "display_data"
    }
   ],
   "source": [
    "#get stock data\n",
    "df = yf.download('AAPL',start=start_date,end=end_date)\n",
    "df_close = df[['Adj Close']]\n",
    "\n",
    "#resmapling by weekly\n",
    "df_weekly = df_close.resample('W').mean()\n",
    "\n",
    "df_weekly = df_weekly.diff(periods=1)\n",
    "df_weekly.dropna(inplace=True)\n",
    "\n",
    "#setting up df to be able to run Prophet\n",
    "#reset index\n",
    "df_weekly.reset_index(inplace=True)\n",
    "#rename columns per prophet conventions\n",
    "df_weekly.rename(columns={'Adj Close': 'y',\n",
    "                         'Date':'ds'},inplace=True)\n",
    "\n",
    "#defining train and test sets\n",
    "cutoff= int(df_weekly.shape[0]*0.75)\n",
    "train = df_weekly[:cutoff]\n",
    "test = df_weekly[cutoff:]\n",
    "\n",
    "#instantiate\n",
    "m = Prophet(seasonality_mode='multiplicative',\n",
    "            weekly_seasonality=True,\n",
    "            daily_seasonality = True,\n",
    "            yearly_seasonality = True,\n",
    "            interval_width=0.90,\n",
    "           )\n",
    "\n",
    "#fit\n",
    "m.fit(train)\n",
    "\n",
    "#forecasts - creating future dates using in built make_future_dataframe method\n",
    "future = m.make_future_dataframe(periods=len(test),freq='W',include_history=False)\n",
    "\n",
    "#predicting yhat\n",
    "forecast = m.predict(future)\n",
    "\n",
    "#creating a df of predicted values\n",
    "forecast_values = forecast[['ds', 'yhat']]\n",
    "\n",
    "#set the index for the plots\n",
    "forecast_values.set_index('ds',inplace=True)\n",
    "test.set_index('ds',inplace=True)\n",
    "\n",
    "#plotting results\n",
    "fig,ax=plt.subplots(figsize=(12,8))\n",
    "# ax.plot(train,label='Train')\n",
    "ax.plot(test,label='Test')\n",
    "# ax.plot(df_weekly,label='Current Price')\n",
    "ax.plot(forecast_values['yhat'],label='Forecast')\n",
    "# ax.fill_between(test.index,forecast_values['yhat_lower'],forecast_values['yhat_upper'],color='g',alpha=0.1);\n",
    "ax.legend();\n"
   ]
  },
  {
   "cell_type": "code",
   "execution_count": 26,
   "metadata": {
    "id": "l7s9OR5h_zKd"
   },
   "outputs": [],
   "source": [
    "# #RMSE\n",
    "# error_fb_diff = round(np.sqrt(mean_squared_error(test,forecast_values['yhat'])),2)\n",
    "# print(f'RMSE of the model is ${error_fb_diff}')"
   ]
  },
  {
   "cell_type": "markdown",
   "metadata": {
    "id": "p6_Zwt9l_zKd"
   },
   "source": [
    "Here, we can see a vast improvement in model performance compared to before."
   ]
  },
  {
   "cell_type": "markdown",
   "metadata": {
    "id": "ATmztxNb_zKd"
   },
   "source": [
    "### regularization on differenced data"
   ]
  },
  {
   "cell_type": "markdown",
   "metadata": {
    "id": "xZuBaDmZ_zKd"
   },
   "source": [
    "We will same optimization loop as earlier for the differenced data to see if it impacts performance."
   ]
  },
  {
   "cell_type": "code",
   "execution_count": 27,
   "metadata": {
    "id": "i3TqCFme_zKd",
    "scrolled": false
   },
   "outputs": [],
   "source": [
    "# #run a loop for different regularization values\n",
    "# seasonality_scale = [0.1, 0.2, 0.3, 0.4, 0.5]\n",
    "# changepoint_scale = [0.1, 0.2, 0.3, 0.4, 0.5]\n",
    "# errors = []\n",
    "# new_error_fb_diff = None\n",
    "\n",
    "# for season in seasonality_scale:\n",
    "#     for changepoint in changepoint_scale:\n",
    "#         #instantiate\n",
    "#         m = Prophet(seasonality_mode='multiplicative',\n",
    "#                 weekly_seasonality=True,\n",
    "#                 daily_seasonality = True,\n",
    "#                 yearly_seasonality = True,\n",
    "#                 interval_width=0.90,\n",
    "#                 seasonality_prior_scale=season,\n",
    "#                 changepoint_prior_scale=changepoint\n",
    "#                )\n",
    "\n",
    "#         #fit\n",
    "#         m.fit(train)\n",
    "\n",
    "#         #forecasts - creating future dates using in built make_future_dataframe method\n",
    "#         future = m.make_future_dataframe(periods=len(test),freq='W',include_history=False)\n",
    "\n",
    "#         #predicting yhat\n",
    "#         forecast = m.predict(future)\n",
    "\n",
    "#         #getting only yhat values\n",
    "#         forecast_values = forecast[['ds', 'yhat']]\n",
    "\n",
    "#         #setting the index\n",
    "#         forecast_values.set_index('ds',inplace=True)\n",
    "\n",
    "#         #rmse values\n",
    "#         rmse = round(np.sqrt(mean_squared_error(test,forecast_values['yhat'])),3)\n",
    "#         errors.append(rmse)\n",
    "#         new_error_fb_diff = min(errors)\n",
    "# #         print(f'seasonality_scale:{season}, changepoint_scale:{changepoint}, rmse:{rmse}')\n",
    "\n",
    "# print('----------------------------------------------')\n",
    "# print(f'Smallest RMSE after looping is {new_error_fb_diff}')\n",
    "# # print(f'Original RMSE is {error_fb_diff}')"
   ]
  },
  {
   "cell_type": "markdown",
   "metadata": {
    "id": "exj5C_WU_zKd"
   },
   "source": [
    "This time, the improvement is only slight."
   ]
  },
  {
   "cell_type": "markdown",
   "metadata": {
    "id": "2HyLWe4G_zKd"
   },
   "source": [
    "## Model performance comparisions"
   ]
  },
  {
   "cell_type": "code",
   "execution_count": 28,
   "metadata": {
    "id": "GgUbu1u5_zKd",
    "scrolled": false
   },
   "outputs": [],
   "source": [
    "# fig,ax =plt.subplots(figsize=(10,7))\n",
    "# ax.bar(x=['ARIMA', 'SARIMAX', 'PROPHET','PROPHET_diff'],height=[error_arima,error_sarima,new_error_fb,new_error_fb_diff]);\n",
    "# ax.set_title('RMSE score comparision');\n"
   ]
  },
  {
   "cell_type": "markdown",
   "metadata": {
    "id": "bUkfNPta_zKd"
   },
   "source": [
    "From the plot, we can see the prohet model on the differenced data performs best. Hence, we will use that for making predictions for our chose stock."
   ]
  },
  {
   "cell_type": "markdown",
   "metadata": {
    "id": "ATCU8c8K_zKd"
   },
   "source": [
    "## Using Prophet to get forecast of 'AAPL' for the next year"
   ]
  },
  {
   "cell_type": "markdown",
   "metadata": {
    "id": "Y5L-zCmx_zKd"
   },
   "source": [
    "Now that we have a model, we can make predictions of the next year:"
   ]
  },
  {
   "cell_type": "code",
   "execution_count": 29,
   "metadata": {
    "id": "5no5jkzg_zKd",
    "scrolled": false
   },
   "outputs": [],
   "source": [
    "# #get stock data\n",
    "# df = yf.download('AAPL',start=start_date,end=end_date)\n",
    "# df_close = df[['Adj Close']]\n",
    "\n",
    "# #resmapling by weekly\n",
    "# df_weekly = df_close.resample('W').mean()\n",
    "\n",
    "# df_weekly_diff = df_weekly.diff(periods=1)\n",
    "# df_weekly_diff.dropna(inplace=True)\n",
    "\n",
    "\n",
    "# #setting up df to be able to run Prophet\n",
    "\n",
    "# #reset index\n",
    "# df_weekly_diff.reset_index(inplace=True)\n",
    "\n",
    "# #rename columns per prophet conventions\n",
    "# df_weekly_diff.rename(columns={'Adj Close': 'y',\n",
    "#                          'Date':'ds'},inplace=True)\n",
    "\n",
    "\n",
    "# #instantiate\n",
    "# m = Prophet(seasonality_mode='multiplicative',\n",
    "#             weekly_seasonality=True,\n",
    "#             daily_seasonality = True,\n",
    "#             yearly_seasonality = True,\n",
    "#             interval_width=0.90,\n",
    "#             seasonality_prior_scale = 0.4,\n",
    "#             changepoint_prior_scale = 0.3\n",
    "#            )\n",
    "\n",
    "# #fit\n",
    "# m.fit(df_weekly_diff)\n",
    "\n",
    "# #forecasts - creating future dates using in built make_future_dataframe method\n",
    "# future = m.make_future_dataframe(periods=52,freq='W',include_history=False)\n",
    "\n",
    "# #predicting yhat\n",
    "# forecast = m.predict(future)\n",
    "\n",
    "# #creating a df of predicted values\n",
    "# forecast_values = forecast[['ds', 'yhat']]\n",
    "\n",
    "# #set the index for the plots\n",
    "# forecast_values.set_index('ds',inplace=True)\n",
    "# df_weekly_diff.set_index('ds',inplace=True)\n",
    "\n",
    "\n",
    "# #taking the inverse difference of the predicted values to get the original values\n",
    "# # the inverse diff is the cumsum of the first value of the org series & the first differences series\n",
    "# forecast_values.rename(columns={'yhat':'y'},inplace=True)\n",
    "# invdiff = np.r_[df_weekly['Adj Close'].iloc[-1],forecast_values['y'][1:]].cumsum()\n",
    "# invdiff_df = pd.DataFrame(data=invdiff,index = forecast_values.index,columns=['y'])\n",
    "\n",
    "# #plotting results\n",
    "# fig,ax=plt.subplots(figsize=(12,8))\n",
    "# ax.plot(df_weekly,label='Current Price')\n",
    "# ax.plot(invdiff_df['y'],label='Forecast')\n",
    "# ax.set_title('Predicted performance of AAPL')\n",
    "# ax.legend();"
   ]
  },
  {
   "cell_type": "markdown",
   "metadata": {
    "id": "MxkZjLac_zKd"
   },
   "source": [
    "The model predicts 'AAPL' to be to close to `$200`, 52 weeks from now, from it's current value of approx. `$165`"
   ]
  },
  {
   "cell_type": "markdown",
   "metadata": {
    "id": "JJ3jxM9G_zKe"
   },
   "source": [
    "# Building Portfolio"
   ]
  },
  {
   "cell_type": "markdown",
   "metadata": {
    "id": "u49DLNoR_zKe"
   },
   "source": [
    "## Predictions of chosen stock"
   ]
  },
  {
   "cell_type": "markdown",
   "metadata": {
    "id": "hrC_MCPy_zKe"
   },
   "source": [
    "Now that the investor has looked at some metrics and future performance of his/her chosen stock, he/she can now look\n",
    "at building a portfolio for the future. Following are some functions that will be used in the portfolio builder"
   ]
  },
  {
   "cell_type": "markdown",
   "metadata": {
    "id": "UoWG5MmA_zKe"
   },
   "source": [
    "Following function is used to plot past and forecast prices of a stock:"
   ]
  },
  {
   "cell_type": "code",
   "execution_count": 30,
   "metadata": {
    "id": "l07_tc-p_zKe"
   },
   "outputs": [],
   "source": [
    "# def plot_forecast_price(ticker):\n",
    "#     #get stock data\n",
    "#     df = yf.download(ticker,start=start_date,end=end_date)\n",
    "#     df_close = df[['Adj Close']]\n",
    "\n",
    "#     #resmapling by weekly\n",
    "#     df_weekly = df_close.resample('W').mean()\n",
    "#     df_weekly_diff = df_weekly.diff(periods=1)\n",
    "#     df_weekly_diff.dropna(inplace=True)\n",
    "\n",
    "\n",
    "#     #setting up df to be able to run Prophet\n",
    "#     #reset index\n",
    "#     df_weekly_diff.reset_index(inplace=True)\n",
    "#     #rename columns per prophet conventions\n",
    "#     df_weekly_diff.rename(columns={'Adj Close': 'y',\n",
    "#                              'Date':'ds'},inplace=True)\n",
    "\n",
    "\n",
    "#     #instantiate\n",
    "#     m = Prophet(seasonality_mode='multiplicative',\n",
    "#                 weekly_seasonality=True,\n",
    "#                 daily_seasonality = True,\n",
    "#                 yearly_seasonality = True,\n",
    "#                 interval_width=0.90,\n",
    "#                 seasonality_prior_scale = 0.4,\n",
    "#                 changepoint_prior_scale = 0.3\n",
    "#                )\n",
    "\n",
    "#     #fit\n",
    "#     m.fit(df_weekly_diff)\n",
    "\n",
    "#     #forecasts - creating future dates using in built make_future_dataframe method\n",
    "#     future = m.make_future_dataframe(periods=52,freq='W',include_history=False)\n",
    "\n",
    "#     #predicting yhat\n",
    "#     forecast = m.predict(future)\n",
    "\n",
    "#     #creating a df of predicted values\n",
    "#     forecast_values = forecast[['ds', 'yhat']]\n",
    "\n",
    "#     #set the index for the plots\n",
    "#     forecast_values.set_index('ds',inplace=True)\n",
    "#     df_weekly_diff.set_index('ds',inplace=True)\n",
    "\n",
    "\n",
    "#     #taking the inverse difference of the predicted values to get the original values\n",
    "#     # the inverse diff is the cumsum of the first value of the org series & the first differences series\n",
    "#     forecast_values.rename(columns={'yhat':'y'},inplace=True)\n",
    "#     invdiff = np.r_[df_weekly['Adj Close'].iloc[-1],forecast_values['y'][1:]].cumsum()\n",
    "#     invdiff_df = pd.DataFrame(data=invdiff,index = forecast_values.index,columns=['y'])\n",
    "\n",
    "#     #plotting results\n",
    "#     fig,ax=plt.subplots(figsize=(12,8))\n",
    "#     ax.plot(df_weekly,label='Current Price')\n",
    "#     ax.plot(invdiff_df['y'],label='Forecast')\n",
    "#     ax.set_title(f'Predicted values of {ticker}')\n",
    "#     ax.legend();"
   ]
  },
  {
   "cell_type": "code",
   "execution_count": 31,
   "metadata": {
    "id": "FRlL_o3p_zKe"
   },
   "outputs": [],
   "source": [
    "# plot_forecast_price('AMZN')"
   ]
  },
  {
   "cell_type": "markdown",
   "metadata": {
    "id": "ppGQWrJU_zKe"
   },
   "source": [
    "Following functions is to get the current price of a stock:"
   ]
  },
  {
   "cell_type": "code",
   "execution_count": 32,
   "metadata": {
    "id": "TgvesFUl_zKe"
   },
   "outputs": [],
   "source": [
    "# def get_current_price(ticker):\n",
    "#     df = yf.download(ticker,start=start_date)\n",
    "#     ticker_df = df[['Adj Close']]\n",
    "#     current_price = round(float(ticker_df.iloc[0]),2)\n",
    "\n",
    "#     return current_price"
   ]
  },
  {
   "cell_type": "markdown",
   "metadata": {
    "id": "i_ELUBAB_zKe"
   },
   "source": [
    "Following function is to get the last forecasted price of the stock:"
   ]
  },
  {
   "cell_type": "code",
   "execution_count": 33,
   "metadata": {
    "id": "aKcsJQ7u_zKe"
   },
   "outputs": [],
   "source": [
    "# Previous_Date = datetime.datetime.today() - datetime.timedelta(days=1)\n",
    "# print (Previous_Date)"
   ]
  },
  {
   "cell_type": "code",
   "execution_count": 34,
   "metadata": {
    "id": "37i3-E4D_zKe"
   },
   "outputs": [],
   "source": [
    "# def get_future_price(ticker):\n",
    "#      #get stock data\n",
    "#     df = yf.download(ticker,start=start_date,end=end_date-datetime.timedelta(days=1))\n",
    "#     df_close = df[['Adj Close']]\n",
    "\n",
    "#     #resmapling by weekly\n",
    "#     df_weekly = df_close.resample('W').mean()\n",
    "#     df_weekly_diff = df_weekly.diff(periods=1)\n",
    "#     df_weekly_diff.dropna(inplace=True)\n",
    "\n",
    "\n",
    "#     #setting up df to be able to run Prophet\n",
    "#     #reset index\n",
    "#     df_weekly_diff.reset_index(inplace=True)\n",
    "#     #rename columns per prophet conventions\n",
    "#     df_weekly_diff.rename(columns={'Adj Close': 'y',\n",
    "#                              'Date':'ds'},inplace=True)\n",
    "\n",
    "\n",
    "#     #instantiate\n",
    "#     m = Prophet(seasonality_mode='multiplicative',\n",
    "#                 weekly_seasonality=True,\n",
    "#                 daily_seasonality = True,\n",
    "#                 yearly_seasonality = True,\n",
    "#                 interval_width=0.90,\n",
    "#                 seasonality_prior_scale = 0.4,\n",
    "#                 changepoint_prior_scale = 0.3\n",
    "#                )\n",
    "\n",
    "#     #fit\n",
    "#     m.fit(df_weekly_diff)\n",
    "\n",
    "#     #forecasts - creating future dates using in built make_future_dataframe method\n",
    "#     future = m.make_future_dataframe(periods=52,freq='W',include_history=False)\n",
    "\n",
    "#     #predicting yhat\n",
    "#     forecast = m.predict(future)\n",
    "\n",
    "#     #creating a df of predicted values\n",
    "#     forecast_values = forecast[['ds', 'yhat']]\n",
    "\n",
    "#     #set the index for the plots\n",
    "#     forecast_values.set_index('ds',inplace=True)\n",
    "#     df_weekly_diff.set_index('ds',inplace=True)\n",
    "\n",
    "#     #taking the inverse difference of the predicted values to get the original values\n",
    "#     # the inverse diff is the cumsum of the first value of the org series & the first differences series\n",
    "#     forecast_values.rename(columns={'yhat':'y'},inplace=True)\n",
    "#     invdiff = np.r_[df_weekly['Adj Close'].iloc[-1],forecast_values['y'][1:]].cumsum()\n",
    "#     invdiff_df = pd.DataFrame(data=invdiff,index = forecast_values.index,columns=['y'])\n",
    "\n",
    "#     #get the last value\n",
    "#     last_price = round(float(invdiff_df.iloc[-1]),2)\n",
    "\n",
    "#     return last_price"
   ]
  },
  {
   "cell_type": "markdown",
   "metadata": {
    "id": "o5jZ2pSS_zKe"
   },
   "source": [
    "The `portfolio` function combines all of the above and outputs the total returns"
   ]
  },
  {
   "cell_type": "code",
   "execution_count": 35,
   "metadata": {
    "id": "sSDbuvPv_zKe"
   },
   "outputs": [],
   "source": [
    "# #putting it all together\n",
    "\n",
    "# def portfolio(amount,stocks):\n",
    "#     amount = amount\n",
    "#     stocks = stocks\n",
    "#     break_up = round(amount/len(stocks),2)\n",
    "#     current_prices = []\n",
    "#     future_prices = np.array([])\n",
    "#     n_shares = np.array([])\n",
    "#     return_pct = np.array([])\n",
    "\n",
    "#     for st in stocks:\n",
    "\n",
    "#         cp = get_current_price(st)\n",
    "#         fp = get_future_price(st)\n",
    "#         current_prices.append(cp)\n",
    "#         future_prices = np.append(future_prices,fp)\n",
    "\n",
    "#         print(f'Current price of {st} is {cp}')\n",
    "#         print(f'Forecast price of {st} is {fp}')\n",
    "\n",
    "#         def check():\n",
    "#             for i in current_prices:\n",
    "#                 if i < break_up:\n",
    "#                        continue # there is nothing below continue to ignore. so nothing happens and continue moves the loop forward\n",
    "#                 else: # once the outer loop reaches the value of nflx and the condition is true, what is below is executed\n",
    "#                     return ('Invest amount per stock is too low. Please adjust')\n",
    "#                     break #breaks the inner loop\n",
    "#                 break #this break is to ignore the outer loop as well as there is no point in moving forward\n",
    "\n",
    "#     check()\n",
    "\n",
    "#     if check() == None:\n",
    "#         for i in current_prices:\n",
    "#             share_buy = round(break_up/i)\n",
    "#             n_shares = np.append(n_shares,share_buy)\n",
    "#         sell_amounts = n_shares*future_prices\n",
    "#         returns = sell_amounts/break_up - 1\n",
    "#         invest_amt = round(break_up/amount,2)\n",
    "#         return_pct = np.append(return_pct,returns*invest_amt)\n",
    "#         cum_returns = round(np.sum(return_pct) * 100,2)\n",
    "#         print('\\n')\n",
    "#         print(f'Amount invested in each stock: ${break_up}')\n",
    "#         print(f'Cumulative returns: {cum_returns}%')\n",
    "\n",
    "#     else:\n",
    "#         print('\\n')\n",
    "#         print(f'Amount invested in each stock: ${break_up}')\n",
    "#         print('Investment is too low')\n",
    "#         print('Please pick a different stock or increase investment')"
   ]
  },
  {
   "cell_type": "markdown",
   "metadata": {
    "id": "dxbjR4F3_zKe"
   },
   "source": [
    "As outlined earlier, following is an example of how diversification works"
   ]
  },
  {
   "cell_type": "markdown",
   "metadata": {
    "id": "t7D37z5M_zKf"
   },
   "source": [
    "If an investor is chooses to invest only in the automotive companies, here's what that would look like:"
   ]
  },
  {
   "cell_type": "code",
   "execution_count": 36,
   "metadata": {
    "id": "Bse8CIlb_zKf",
    "scrolled": true
   },
   "outputs": [],
   "source": [
    "# # Tesla,General Motors and Ford\n",
    "# portfolio(1000,['TSLA','GM','F'])"
   ]
  },
  {
   "cell_type": "markdown",
   "metadata": {
    "id": "boxYgaYI_zKf"
   },
   "source": [
    "The investor can expect to lose money if he/she were to invest $1000 in Tesla,GM and Ford in the next year."
   ]
  },
  {
   "cell_type": "markdown",
   "metadata": {
    "id": "nb8VuT2M_zKf"
   },
   "source": [
    "Now, let's diversify and choose companies from different sectors:automotive,tech and health care"
   ]
  },
  {
   "cell_type": "code",
   "execution_count": 37,
   "metadata": {
    "id": "TeeiC0qP_zKf",
    "scrolled": true
   },
   "outputs": [],
   "source": [
    "# #General Motors, Apple, Pfizer\n",
    "# portfolio(1000,['GM','AAPL','PFE'])"
   ]
  },
  {
   "cell_type": "markdown",
   "metadata": {
    "id": "BnJpr90g_zKf"
   },
   "source": [
    "From the above examples, it is quiet clear to see the benefit of diversifying."
   ]
  },
  {
   "cell_type": "code",
   "execution_count": 38,
   "metadata": {
    "id": "nmkK0Wvj_zKf",
    "scrolled": false
   },
   "outputs": [],
   "source": [
    "# # very little investment\n",
    "# portfolio(50,['GM','AAPL','PFE'])"
   ]
  },
  {
   "cell_type": "markdown",
   "metadata": {
    "id": "gSnmyFzE_zKf"
   },
   "source": [
    "# Conclusions"
   ]
  },
  {
   "cell_type": "markdown",
   "metadata": {
    "id": "hOmAzw2b_zKf"
   },
   "source": [
    "## Limitations"
   ]
  },
  {
   "cell_type": "markdown",
   "metadata": {
    "id": "WYklOvmU_zKf"
   },
   "source": [
    "1. All the models are purely mathematical models and cannot take into account black swan events.\n",
    "2. More sophisticated models using Deep Learning can be built to get more accurate forecasts.\n",
    "3. Dividend data is not incorporated while calculating overall returns.\n",
    "4. Currently, the invested amount is distributed equally amongst all the stocks.\n",
    "   The amounts can be tuned based on the investor's appetite for risk."
   ]
  },
  {
   "cell_type": "markdown",
   "metadata": {
    "id": "y9HwbUB7_zKf"
   },
   "source": [
    "## Recommendations"
   ]
  },
  {
   "cell_type": "markdown",
   "metadata": {
    "id": "qoIt_IaH_zKf"
   },
   "source": [
    "1. By plugging in amounts and companies in the model, the investor can play around and maximize his/her returns.\n",
    "\n",
    "2. Looking at the stock market in general, there was a drastic spike around 2020.\n",
    "   There has not been a decline to pre-2020 levels and hence, it might be prudent to collect past data only\n",
    "   from 2020 onwards rather than from all the way back to 2017.\n"
   ]
  },
  {
   "cell_type": "markdown",
   "metadata": {
    "id": "ob5HRhZ0_zKf"
   },
   "source": [
    "# Portfolio Analysis"
   ]
  },
  {
   "cell_type": "markdown",
   "metadata": {
    "id": "fD1DEmlO_zKf"
   },
   "source": [
    "## Average returns"
   ]
  },
  {
   "cell_type": "markdown",
   "metadata": {
    "id": "NOaQlMk0TU9v"
   },
   "source": [
    "1. This gives you the mean performance over a period of time.\n",
    "\n",
    "2. The average return is the simple mathematical average of a series of returns generated over a specified period of time. An average return is calculated the same way that a simple average is calculated for any set of numbers.\n",
    "\n",
    "3. So, just by taking the mean of the pct change, we can calculate the average return.\n"
   ]
  },
  {
   "cell_type": "code",
   "execution_count": 39,
   "metadata": {
    "colab": {
     "base_uri": "https://localhost:8080/"
    },
    "id": "bFiREUA-_zKg",
    "outputId": "0c1064c1-9204-46c5-b187-d47c1b4d8039",
    "scrolled": true
   },
   "outputs": [
    {
     "name": "stdout",
     "output_type": "stream",
     "text": [
      "[*********************100%***********************]  4 of 4 completed\n",
      "[*********************100%***********************]  1 of 1 completed\n",
      "Average Return of portfolio calculated daily: 0.08 %\n",
      "Average Return of the S&P 500 calulated daily: 0.05%\n"
     ]
    }
   ],
   "source": [
    "#quite wonderful. you can dload a bunch of tickrs using yfinance\n",
    "\n",
    "portfolio = ['GE', 'JPM', 'MSFT', 'PG']\n",
    "df = yf.download(portfolio,start=start_date,end=end_date)\n",
    "\n",
    "#comparing portfolio performace with overall market performance\n",
    "#using ^GSPC to capture the S&P 500 and calculating cumulative returns similarly\n",
    "sp_500 = yf.download('^GSPC',start=start_date,end=end_date)\n",
    "sp_500 = sp_500[['Adj Close']]\n",
    "sp_500['daily_returns'] = sp_500['Adj Close'].pct_change()\n",
    "\n",
    "#using only adj close\n",
    "df = df[['Adj Close']]\n",
    "df.head()\n",
    "\n",
    "#getting the  retuns using pct_change\n",
    "returns = df.pct_change()\n",
    "\n",
    "#mean of the daily returns\n",
    "meanDailyReturns=returns.mean()\n",
    "\n",
    "#sample weights\n",
    "weights = np.array([0.05,0.4,0.3,0.25])\n",
    "\n",
    "#to get the average return of the portfolio, multiply the mean of daily returns by the weights and take the sum\n",
    "portReturn = round(np.sum(meanDailyReturns*weights) *100,2)\n",
    "print(f'Average Return of portfolio calculated daily: {portReturn} %')\n",
    "\n",
    "sp_500_meanDailyReturns = round(sp_500['daily_returns'].mean(),4)*100\n",
    "print(f'Average Return of the S&P 500 calulated daily: {sp_500_meanDailyReturns}%')"
   ]
  },
  {
   "cell_type": "markdown",
   "metadata": {},
   "source": [
    "### Interpretation of Average Return"
   ]
  },
  {
   "cell_type": "markdown",
   "metadata": {},
   "source": [
    "A 0.08% average return means that, on average, the portfolio has grown by 0.08% for each unit of time, in this case, per day from 2019 till date.\n",
    "Compared to the average return of the S&P 500 which has grown 0.05% per day over the same time period."
   ]
  },
  {
   "cell_type": "markdown",
   "metadata": {
    "id": "Bt6hafR6_zKh"
   },
   "source": [
    "## Cumulative returns"
   ]
  },
  {
   "cell_type": "markdown",
   "metadata": {
    "id": "xZOjC0lH_zKh"
   },
   "source": [
    "1. Allows you to track portfolio performance over time\n",
    "2. Just like with interest in your bank account, the cumulative performance gives you the compounded return at each date in your dataset. It tells you; \"up until today, this is what the total return has been since the start of my data.\""
   ]
  },
  {
   "cell_type": "code",
   "execution_count": 40,
   "metadata": {
    "colab": {
     "base_uri": "https://localhost:8080/",
     "height": 470
    },
    "id": "DHH5wB5T_zKh",
    "outputId": "480c33b5-c291-499a-e2e0-12e737c60704"
   },
   "outputs": [
    {
     "data": {
      "image/png": "[encoded data removed]",
      "text/plain": [
       "<Figure size 640x480 with 1 Axes>"
      ]
     },
     "metadata": {},
     "output_type": "display_data"
    }
   ],
   "source": [
    "returns['portfolio'] = returns.dot(weights)\n",
    "returns.head()\n",
    "\n",
    "# return.dot(weights)\n",
    "# for eg: first row: (0.099*0.25) + (0.01519*0.25) + (-0.041*0.5) = -0.0493\n",
    "#this way you calulate daily cumulative return\n",
    "\n",
    "# from the daily cumulative returns, you calculate total cumulative return\n",
    "daily_cum_ret=(1+returns).cumprod()\n",
    "# this is the formula. don't know how it works, but let's move on\n",
    "# daily_cum_ret['portfolio'][-1]*100)\n",
    "\n",
    "sp_500.head()\n",
    "sp_500['cum_returns'] = (1+sp_500['daily_returns']).cumprod()\n",
    "\n",
    "#plotting returns\n",
    "fig,ax = plt.subplots()\n",
    "ax.plot(daily_cum_ret.index, daily_cum_ret.portfolio,label='portfolio')\n",
    "ax.plot(sp_500.index,sp_500['cum_returns'], label = 'S&P 500')\n",
    "ax.set_title('Portfolio Performance vs S&P 500');\n",
    "ax.legend();\n"
   ]
  },
  {
   "cell_type": "markdown",
   "metadata": {},
   "source": [
    "### Interpreting Cumulative Returns"
   ]
  },
  {
   "cell_type": "markdown",
   "metadata": {},
   "source": [
    "From the graph, we can see that the cumulative return of the portfolio is approx. 2.35. \n",
    "This means an initial investment of $$1000 would've grown to $2350. In terms of percentage, that equates to 135%.\n",
    "The S&P 500 in comparison has grown only 80%."
   ]
  },
  {
   "cell_type": "markdown",
   "metadata": {
    "id": "u9CFRts8ZM_I"
   },
   "source": [
    "## Difference between arithmetic mean (Average) and geometric mean (Annualized)\n",
    "\n",
    "\n",
    "\n",
    "The arithmetic mean is calculated by adding all the numbers and dividing by the count of that series of numbers.\n",
    "\n",
    "The geometric mean is calculated by taking the product of these numbers and raising it to the inverse series length of the series.\n",
    "\n",
    "For example, if x and y are two numbers, the arithmetic mean is (x+y)/2 and the geometric mean is (xy)^(1/2).\n",
    "\n",
    "The geometric mean is used when you're interested in:\n",
    "- One investment over many years\n",
    "- Multi-period returns, with compounding\n",
    "\n",
    "The arithmetic mean is used when you're interested in:\n",
    "- Many investments over one year\n",
    "- Single period forecasts"
   ]
  },
  {
   "cell_type": "markdown",
   "metadata": {
    "id": "OU1jz3We_zKi"
   },
   "source": [
    "## Portfolio risk"
   ]
  },
  {
   "cell_type": "markdown",
   "metadata": {
    "id": "3sWLcIdT_zKi"
   },
   "source": [
    "Portfolio variance takes into account individual variance, weights and their correlation"
   ]
  },
  {
   "cell_type": "markdown",
   "metadata": {
    "id": "nzyC3trn_zKi"
   },
   "source": [
    "The risk of a portfolio is not simply the weighted variance of the individual assets. Since the stocks are correlated,\n",
    "it becomes more complicated. The correlation between assets tell us how they move related to each other.Hence, the risk calculated should also account for the correlation."
   ]
  },
  {
   "cell_type": "markdown",
   "metadata": {
    "id": "iidbypSD_zKi"
   },
   "source": [
    "Portfolio risk can be calculated using the covariance matrix"
   ]
  },
  {
   "cell_type": "code",
   "execution_count": 41,
   "metadata": {
    "colab": {
     "base_uri": "https://localhost:8080/",
     "height": 206
    },
    "id": "qJ4SwrUD_zKj",
    "outputId": "5fbbab1f-8a12-4968-c7cc-35b45031c767"
   },
   "outputs": [
    {
     "data": {
      "text/html": [
       "<div>\n",
       "<style scoped>\n",
       "    .dataframe tbody tr th:only-of-type {\n",
       "        vertical-align: middle;\n",
       "    }\n",
       "\n",
       "    .dataframe tbody tr th {\n",
       "        vertical-align: top;\n",
       "    }\n",
       "\n",
       "    .dataframe thead tr th {\n",
       "        text-align: left;\n",
       "    }\n",
       "</style>\n",
       "<table border=\"1\" class=\"dataframe\">\n",
       "  <thead>\n",
       "    <tr>\n",
       "      <th></th>\n",
       "      <th></th>\n",
       "      <th colspan=\"4\" halign=\"left\">Adj Close</th>\n",
       "    </tr>\n",
       "    <tr>\n",
       "      <th></th>\n",
       "      <th></th>\n",
       "      <th>GE</th>\n",
       "      <th>JPM</th>\n",
       "      <th>MSFT</th>\n",
       "      <th>PG</th>\n",
       "    </tr>\n",
       "  </thead>\n",
       "  <tbody>\n",
       "    <tr>\n",
       "      <th rowspan=\"4\" valign=\"top\">Adj Close</th>\n",
       "      <th>GE</th>\n",
       "      <td>0.173197</td>\n",
       "      <td>0.083088</td>\n",
       "      <td>0.044560</td>\n",
       "      <td>0.024458</td>\n",
       "    </tr>\n",
       "    <tr>\n",
       "      <th>JPM</th>\n",
       "      <td>0.083088</td>\n",
       "      <td>0.103921</td>\n",
       "      <td>0.044756</td>\n",
       "      <td>0.027103</td>\n",
       "    </tr>\n",
       "    <tr>\n",
       "      <th>MSFT</th>\n",
       "      <td>0.044560</td>\n",
       "      <td>0.044756</td>\n",
       "      <td>0.094411</td>\n",
       "      <td>0.031834</td>\n",
       "    </tr>\n",
       "    <tr>\n",
       "      <th>PG</th>\n",
       "      <td>0.024458</td>\n",
       "      <td>0.027103</td>\n",
       "      <td>0.031834</td>\n",
       "      <td>0.045094</td>\n",
       "    </tr>\n",
       "  </tbody>\n",
       "</table>\n",
       "</div>"
      ],
      "text/plain": [
       "               Adj Close                              \n",
       "                      GE       JPM      MSFT        PG\n",
       "Adj Close GE    0.173197  0.083088  0.044560  0.024458\n",
       "          JPM   0.083088  0.103921  0.044756  0.027103\n",
       "          MSFT  0.044560  0.044756  0.094411  0.031834\n",
       "          PG    0.024458  0.027103  0.031834  0.045094"
      ]
     },
     "execution_count": 41,
     "metadata": {},
     "output_type": "execute_result"
    }
   ],
   "source": [
    "#covariance matrix\n",
    "#get daily_returns\n",
    "daily_returns = df.pct_change()\n",
    "\n",
    "#annulaize volatility by x'ing it with 250 which is the number of trading days in a year\n",
    "cov_matrix = daily_returns.cov() * 250\n",
    "cov_matrix"
   ]
  },
  {
   "cell_type": "markdown",
   "metadata": {
    "id": "o_PtPavQ_zKj"
   },
   "source": [
    "1. Variance for each asset is the diagonal term\n",
    "2. Correaltion cocfts are the off-diagonal terms"
   ]
  },
  {
   "cell_type": "markdown",
   "metadata": {
    "id": "5chndNE4ZipU"
   },
   "source": [
    "From, the matrix it is clear to see that GE (17.3%) is the most volatile stock compared to the others."
   ]
  },
  {
   "cell_type": "code",
   "execution_count": 42,
   "metadata": {
    "colab": {
     "base_uri": "https://localhost:8080/"
    },
    "id": "ub7-uByj_zKj",
    "outputId": "b7064545-1f7b-4be1-9612-c25247d50bef",
    "scrolled": true
   },
   "outputs": [
    {
     "name": "stdout",
     "output_type": "stream",
     "text": [
      "5.5%\n"
     ]
    }
   ],
   "source": [
    "#calculate the portfolio variance\n",
    "#use predefined weights\n",
    "port_variance = np.dot(weights.T, np.dot(cov_matrix, weights)) #formula\n",
    "port_variance = round(port_variance*100,1)\n",
    "print(str(port_variance) +\"%\")"
   ]
  },
  {
   "cell_type": "markdown",
   "metadata": {
    "id": "sev94NGL_zKj"
   },
   "source": [
    "For the variance calculation, we square the weights and the variances. Because of this squaring, the variance is no longer in the same unit of measurement as the original data. Taking the root of the variance means the standard deviation is restored to the original unit of measure and therefore much easier to interpret."
   ]
  },
  {
   "cell_type": "markdown",
   "metadata": {},
   "source": [
    "The standard deviation of a portfolio is a measure of its risk or volatility. It quantifies how much the returns of the portfolio tend to deviate from the average (mean) return over a specific time period. A higher standard deviation indicates greater volatility, while a lower standard deviation suggests lower volatility."
   ]
  },
  {
   "cell_type": "code",
   "execution_count": 43,
   "metadata": {
    "colab": {
     "base_uri": "https://localhost:8080/"
    },
    "id": "bbWL2Nlp_zKj",
    "outputId": "af5bf427-8bc5-49b3-d92e-5809b0c2ab16"
   },
   "outputs": [
    {
     "name": "stdout",
     "output_type": "stream",
     "text": [
      "23.4%\n"
     ]
    }
   ],
   "source": [
    "#calculate portfolio std dev\n",
    "port_stdev = np.sqrt(np.dot(weights.T, np.dot(cov_matrix, weights)))\n",
    "# print(str(round(port_stdev,1)*100) +\"%\")\n",
    "port_stdev = round(port_stdev*100,1)\n",
    "print(str(port_stdev) +\"%\")"
   ]
  },
  {
   "cell_type": "markdown",
   "metadata": {},
   "source": [
    "### Interpreting risk"
   ]
  },
  {
   "cell_type": "markdown",
   "metadata": {},
   "source": [
    "The high standard deviation of 23.4% signifies that the portfolio has experienced significant price or return fluctuations. These fluctuations can be both positive and negative, and they can be substantial. Investors with a lower risk tolerance may find such volatility concerning.\n",
    "\n",
    "On the flip side, despite the high-risk profile, the portfolio has generated an impressive return of 135% over the 5 year period. \n",
    "\n",
    "Hence, the interpretation of the portfolio's risk depends upon the investor.  Investors with a higher risk tolerance may be more comfortable with the portfolio's volatility if it leads to higher returns, while those with lower risk tolerance may find the risk level less acceptable. \n",
    "\n",
    "A key factor in this is the investor's time horizon. If the investment horizon is long-term, such as for retirement planning, the portfolio's performance over 5 years, with its associated risk, might be acceptable. However, for short-term goals, the high volatility may pose a greater risk.\n",
    "\n"
   ]
  },
  {
   "cell_type": "markdown",
   "metadata": {},
   "source": [
    "In summary, a portfolio standard deviation of 23.4% indicates significant volatility and risk, while the cumulative return of 135% over 5 years indicates strong performance. The interpretation of this data depends on your individual investment goals, risk tolerance, and time horizon. It's essential to carefully consider the risk-return tradeoff and whether the portfolio aligns with your financial objectives and risk comfort level."
   ]
  },
  {
   "cell_type": "markdown",
   "metadata": {},
   "source": [
    "### Skewness and Kurtosis"
   ]
  },
  {
   "cell_type": "markdown",
   "metadata": {},
   "source": [
    "Mean and standard deviation are only useful when the distribution is symmetrical. But often in the real world, distributions are often asymmetrical. In such cases, skewness and kurtosis are measures that can help shed more light about the nature of the distribution."
   ]
  },
  {
   "cell_type": "markdown",
   "metadata": {},
   "source": [
    "Skewness describes whether the distribution is asymmetrical i.e. if it leans towards the left(positive) or the right(negative). In this case, if the we plot the daily returns of the portfolio and find that it is positive, it the means the most of the returns are the lesser than the mean.  "
   ]
  },
  {
   "cell_type": "markdown",
   "metadata": {},
   "source": [
    "- Skewness between -0.5 and 0.5 means that the data are pretty symmetrical\n",
    "- Skewness between -1 and -0.5 (negatively skewed) or between 0.5 and 1 (positively skewed) means that the data are moderately skewed.\n",
    "- Skewness smaller than -1 (negatively skewed) or bigger than 1 (positively skewed) means that the data are highly skewed."
   ]
  },
  {
   "cell_type": "markdown",
   "metadata": {},
   "source": [
    "Kurtosis deals with the lengths of tails in the distribution or measures of outliers present in the distribution. In this case, if the distribution of the returns has high kurtosis, it means that most of the returns are at the extreme ends thus implying high fluctuations."
   ]
  },
  {
   "cell_type": "markdown",
   "metadata": {},
   "source": [
    "- A normal distribution has a kurtosis of 3.\n",
    "- A distribution with kurtosis < 3 means that the tails are shorter and thinner than a normal distribution and the presence of fewer ouliers in the data.\n",
    "- When the kurtosis > 3 , it implies the opposite."
   ]
  },
  {
   "cell_type": "markdown",
   "metadata": {},
   "source": [
    "Let's plot a histogram of the returns of the S&P 500 and compare them with the returns of the portfolio:"
   ]
  },
  {
   "cell_type": "code",
   "execution_count": 63,
   "metadata": {},
   "outputs": [
    {
     "data": {
      "image/png": "[encoded data removed]",
      "text/plain": [
       "<Figure size 640x480 with 2 Axes>"
      ]
     },
     "metadata": {},
     "output_type": "display_data"
    }
   ],
   "source": [
    "# plotting histogram of returns \n",
    "fig,(ax1,ax2) = plt.subplots(nrows=2,ncols=1)\n",
    "ax1.hist(sp_500['daily_returns'],bins=50);\n",
    "ax2.hist(returns['portfolio'],bins=50);\n",
    "ax1.set_title('Returns of S&P 500');\n",
    "ax2.set_title('Returns of Portfolio');\n",
    "fig.tight_layout(pad=1.0)"
   ]
  },
  {
   "cell_type": "markdown",
   "metadata": {},
   "source": [
    "Skewness and Kurtosis can be easily calculates using pandas in built function:"
   ]
  },
  {
   "cell_type": "code",
   "execution_count": 70,
   "metadata": {},
   "outputs": [
    {
     "name": "stdout",
     "output_type": "stream",
     "text": [
      "S&P 500 skewness and kurtosis:\n",
      "-0.51\n",
      "12.94\n"
     ]
    }
   ],
   "source": [
    "print('S&P 500 skewness and kurtosis:')\n",
    "print(round(sp_500['daily_returns'].skew(),2))\n",
    "print(round(sp_500['daily_returns'].kurtosis(),2))"
   ]
  },
  {
   "cell_type": "code",
   "execution_count": 71,
   "metadata": {},
   "outputs": [
    {
     "name": "stdout",
     "output_type": "stream",
     "text": [
      "Portfolio skewness and kurtosis:\n",
      "0.25\n",
      "17.67\n"
     ]
    }
   ],
   "source": [
    "print('Portfolio skewness and kurtosis:')\n",
    "print(round(returns['portfolio'].skew(),2))\n",
    "print(round(returns['portfolio'].kurtosis(),2))"
   ]
  },
  {
   "cell_type": "markdown",
   "metadata": {},
   "source": [
    "### Sharpe Ratio"
   ]
  },
  {
   "cell_type": "code",
   "execution_count": 84,
   "metadata": {},
   "outputs": [
    {
     "data": {
      "text/plain": [
       "-3.221761488719642"
      ]
     },
     "execution_count": 84,
     "metadata": {},
     "output_type": "execute_result"
    }
   ],
   "source": [
    "portfolio_returns = returns['portfolio']\n",
    "risk_free_rate = 0.0484\n",
    "excess_return = portfolio_returns - risk_free_rate\n",
    "sharpe_ratio = excess_return.mean()/excess_return.std()\n",
    "sharpe_ratio"
   ]
  },
  {
   "cell_type": "code",
   "execution_count": 85,
   "metadata": {},
   "outputs": [
    {
     "data": {
      "text/plain": [
       "-3.521293385417182"
      ]
     },
     "execution_count": 85,
     "metadata": {},
     "output_type": "execute_result"
    }
   ],
   "source": [
    "sp_500_returns = sp_500['daily_returns']\n",
    "excess_return = sp_500_returns - risk_free_rate\n",
    "sharpe_ratio = excess_return.mean()/excess_return.std()\n",
    "sharpe_ratio"
   ]
  },
  {
   "cell_type": "code",
   "execution_count": null,
   "metadata": {},
   "outputs": [],
   "source": []
  }
 ],
 "metadata": {
  "colab": {
   "provenance": [],
   "toc_visible": true
  },
  "kernelspec": {
   "display_name": "Python 3 (ipykernel)",
   "language": "python",
   "name": "python3"
  },
  "language_info": {
   "codemirror_mode": {
    "name": "ipython",
    "version": 3
   },
   "file_extension": ".py",
   "mimetype": "text/x-python",
   "name": "python",
   "nbconvert_exporter": "python",
   "pygments_lexer": "ipython3",
   "version": "3.10.9"
  },
  "toc": {
   "base_numbering": 1,
   "nav_menu": {
    "height": "348px",
    "width": "369px"
   },
   "number_sections": true,
   "sideBar": true,
   "skip_h1_title": false,
   "title_cell": "Table of Contents",
   "title_sidebar": "Contents",
   "toc_cell": true,
   "toc_position": {
    "height": "1011px",
    "left": "0px",
    "top": "111.125px",
    "width": "379.844px"
   },
   "toc_section_display": true,
   "toc_window_display": true
  },
  "varInspector": {
   "cols": {
    "lenName": 16,
    "lenType": 16,
    "lenVar": 40
   },
   "kernels_config": {
    "python": {
     "delete_cmd_postfix": "",
     "delete_cmd_prefix": "del ",
     "library": "var_list.py",
     "varRefreshCmd": "print(var_dic_list())"
    },
    "r": {
     "delete_cmd_postfix": ") ",
     "delete_cmd_prefix": "rm(",
     "library": "var_list.r",
     "varRefreshCmd": "cat(var_dic_list()) "
    }
   },
   "types_to_exclude": [
    "module",
    "function",
    "builtin_function_or_method",
    "instance",
    "_Feature"
   ],
   "window_display": false
  }
 },
 "nbformat": 4,
 "nbformat_minor": 1
}
