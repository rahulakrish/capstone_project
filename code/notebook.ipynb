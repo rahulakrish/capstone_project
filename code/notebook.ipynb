{
 "cells": [
  {
   "cell_type": "markdown",
   "metadata": {
    "toc": true
   },
   "source": [
    "<h1>Table of Contents<span class=\"tocSkip\"></span></h1>\n",
    "<div class=\"toc\"><ul class=\"toc-item\"><li><span><a href=\"#Business-Objective\" data-toc-modified-id=\"Business-Objective-1\"><span class=\"toc-item-num\">1&nbsp;&nbsp;</span>Business Objective</a></span></li><li><span><a href=\"#Methodology\" data-toc-modified-id=\"Methodology-2\"><span class=\"toc-item-num\">2&nbsp;&nbsp;</span>Methodology</a></span></li><li><span><a href=\"#EDA\" data-toc-modified-id=\"EDA-3\"><span class=\"toc-item-num\">3&nbsp;&nbsp;</span>EDA</a></span><ul class=\"toc-item\"><li><span><a href=\"#Stock-performance\" data-toc-modified-id=\"Stock-performance-3.1\"><span class=\"toc-item-num\">3.1&nbsp;&nbsp;</span>Stock performance</a></span></li><li><span><a href=\"#Returns\" data-toc-modified-id=\"Returns-3.2\"><span class=\"toc-item-num\">3.2&nbsp;&nbsp;</span>Returns</a></span></li><li><span><a href=\"#Beta-value\" data-toc-modified-id=\"Beta-value-3.3\"><span class=\"toc-item-num\">3.3&nbsp;&nbsp;</span>Beta value</a></span></li><li><span><a href=\"#P/E-ratio\" data-toc-modified-id=\"P/E-ratio-3.4\"><span class=\"toc-item-num\">3.4&nbsp;&nbsp;</span>P/E ratio</a></span></li><li><span><a href=\"#Dividend-History\" data-toc-modified-id=\"Dividend-History-3.5\"><span class=\"toc-item-num\">3.5&nbsp;&nbsp;</span>Dividend History</a></span></li></ul></li><li><span><a href=\"#Summing-up-performance...\" data-toc-modified-id=\"Summing-up-performance...-4\"><span class=\"toc-item-num\">4&nbsp;&nbsp;</span>Summing up performance...</a></span></li><li><span><a href=\"#Time-Series-Modelling\" data-toc-modified-id=\"Time-Series-Modelling-5\"><span class=\"toc-item-num\">5&nbsp;&nbsp;</span>Time Series Modelling</a></span><ul class=\"toc-item\"><li><span><a href=\"#Stationarity-Check\" data-toc-modified-id=\"Stationarity-Check-5.1\"><span class=\"toc-item-num\">5.1&nbsp;&nbsp;</span>Stationarity Check</a></span></li><li><span><a href=\"#Convert-non-stationary-to-stationary\" data-toc-modified-id=\"Convert-non-stationary-to-stationary-5.2\"><span class=\"toc-item-num\">5.2&nbsp;&nbsp;</span>Convert non-stationary to stationary</a></span></li><li><span><a href=\"#ACF-and-PACF\" data-toc-modified-id=\"ACF-and-PACF-5.3\"><span class=\"toc-item-num\">5.3&nbsp;&nbsp;</span>ACF and PACF</a></span></li><li><span><a href=\"#ARIMA-model\" data-toc-modified-id=\"ARIMA-model-5.4\"><span class=\"toc-item-num\">5.4&nbsp;&nbsp;</span>ARIMA model</a></span></li><li><span><a href=\"#SARIMA-model\" data-toc-modified-id=\"SARIMA-model-5.5\"><span class=\"toc-item-num\">5.5&nbsp;&nbsp;</span>SARIMA model</a></span></li><li><span><a href=\"#Facebook-Prophet\" data-toc-modified-id=\"Facebook-Prophet-5.6\"><span class=\"toc-item-num\">5.6&nbsp;&nbsp;</span>Facebook Prophet</a></span><ul class=\"toc-item\"><li><span><a href=\"#Prophet-with-differencing---comparing-with-test\" data-toc-modified-id=\"Prophet-with-differencing---comparing-with-test-5.6.1\"><span class=\"toc-item-num\">5.6.1&nbsp;&nbsp;</span>Prophet with differencing - comparing with test</a></span></li><li><span><a href=\"#regularization-on-differenced-data\" data-toc-modified-id=\"regularization-on-differenced-data-5.6.2\"><span class=\"toc-item-num\">5.6.2&nbsp;&nbsp;</span>regularization on differenced data</a></span></li></ul></li><li><span><a href=\"#Model-performance-comparisions\" data-toc-modified-id=\"Model-performance-comparisions-5.7\"><span class=\"toc-item-num\">5.7&nbsp;&nbsp;</span>Model performance comparisions</a></span></li><li><span><a href=\"#Using-Prophet-to-get-forecast-of-'AAPL'-for-the-next-year\" data-toc-modified-id=\"Using-Prophet-to-get-forecast-of-'AAPL'-for-the-next-year-5.8\"><span class=\"toc-item-num\">5.8&nbsp;&nbsp;</span>Using Prophet to get forecast of 'AAPL' for the next year</a></span></li></ul></li><li><span><a href=\"#Building-Portfolio\" data-toc-modified-id=\"Building-Portfolio-6\"><span class=\"toc-item-num\">6&nbsp;&nbsp;</span>Building Portfolio</a></span><ul class=\"toc-item\"><li><span><a href=\"#Predictions-of-chosen-stock\" data-toc-modified-id=\"Predictions-of-chosen-stock-6.1\"><span class=\"toc-item-num\">6.1&nbsp;&nbsp;</span>Predictions of chosen stock</a></span></li></ul></li><li><span><a href=\"#Conclusions\" data-toc-modified-id=\"Conclusions-7\"><span class=\"toc-item-num\">7&nbsp;&nbsp;</span>Conclusions</a></span><ul class=\"toc-item\"><li><span><a href=\"#Limitations\" data-toc-modified-id=\"Limitations-7.1\"><span class=\"toc-item-num\">7.1&nbsp;&nbsp;</span>Limitations</a></span></li><li><span><a href=\"#Recommendations\" data-toc-modified-id=\"Recommendations-7.2\"><span class=\"toc-item-num\">7.2&nbsp;&nbsp;</span>Recommendations</a></span></li></ul></li></ul></div>"
   ]
  },
  {
   "cell_type": "markdown",
   "metadata": {},
   "source": [
    "# Business Objective"
   ]
  },
  {
   "cell_type": "markdown",
   "metadata": {},
   "source": [
    "To help the average investor build a portfolio of stock and ensure maximum returns to achieve his/her short term goals. Examples of short term goals are saving for a dream vacation, down payment of a home or car etc. \n",
    "The assumption here is that the investor already has an idea companies they want to invest in. The aim here is to  provide the investor an overview of the company performance and make predictions on future thereby helping them make an informed decision. "
   ]
  },
  {
   "cell_type": "markdown",
   "metadata": {},
   "source": [
    "Since the model is purely mathematical and data limited, the onus still lies on the investor to be cognizant of prevailing economic conditions before deciding to take the plunge. As with any investment, there is an element of risk and returns can never be guaranteed."
   ]
  },
  {
   "cell_type": "markdown",
   "metadata": {},
   "source": [
    "Focus will also be on diversification, a core tenet of a good investment strategy i.e by spreading investments across different sectors, overall risk can be mitigated."
   ]
  },
  {
   "cell_type": "markdown",
   "metadata": {},
   "source": [
    "# Methodology"
   ]
  },
  {
   "cell_type": "markdown",
   "metadata": {},
   "source": [
    "1. Data of the chosen stock from 2017-2022 will be scraped from [Yahoo Finance](https://finance.yahoo.com/)  using python's  `yfinance`(documentation can be found [here](https://aroussi.com/post/python-yahoo-finance)) and `YahooFinancials` (documentation can be found [here](https://pypi.org/project/yahoofinancials/)).\n",
    "\n",
    "2. Using the data, 4 commonly used metrics to evaluate a stock will be plotted: ***returns, beta ratio, p/e ratio and dividend***\n",
    "\n",
    "3. Different machine learning models will then be built to predict future stock price. Their errors will be compared and the model with the least error will be used gage future stock performance. \n",
    "\n",
    "4. Combined with stock performance and forecast information, then by feeding the chosen stock into the portfolio builder, the investor can look at combined returns and decide which portfolio is best-aligned with his/her goals.\n",
    "\n"
   ]
  },
  {
   "cell_type": "markdown",
   "metadata": {},
   "source": [
    "# EDA"
   ]
  },
  {
   "cell_type": "code",
   "execution_count": 1,
   "metadata": {
    "scrolled": true
   },
   "outputs": [
    {
     "name": "stderr",
     "output_type": "stream",
     "text": [
      "C:\\Users\\rahul krishnan\\AppData\\Local\\Temp\\ipykernel_41024\\2970703512.py:6: MatplotlibDeprecationWarning: The seaborn styles shipped by Matplotlib are deprecated since 3.6, as they no longer correspond to the styles shipped by seaborn. However, they will remain available as 'seaborn-v0_8-<style>'. Alternatively, directly use the seaborn API instead.\n",
      "  plt.style.use('seaborn-darkgrid')\n"
     ]
    }
   ],
   "source": [
    "#importing libraries\n",
    "\n",
    "import yfinance as yf \n",
    "from yahoofinancials import YahooFinancials\n",
    "import matplotlib.pyplot as plt\n",
    "plt.style.use('seaborn-darkgrid')\n",
    "%matplotlib inline\n",
    "import numpy as np\n",
    "import pandas as pd\n",
    "import itertools\n",
    "from datetime import date\n",
    "from sklearn.metrics import mean_squared_error\n",
    "from sklearn.linear_model import LinearRegression\n",
    "from sklearn.model_selection import train_test_split\n",
    "from sklearn.model_selection import TimeSeriesSplit\n",
    "from statsmodels.tsa.stattools import adfuller\n",
    "from scipy.signal._signaltools import _centered\n",
    "from statsmodels.tsa.seasonal import seasonal_decompose\n",
    "from statsmodels.graphics.tsaplots import plot_acf, plot_pacf\n",
    "from statsmodels.tsa.arima.model import ARIMA\n",
    "from statsmodels.tsa.statespace.sarimax import SARIMAX\n",
    "from prophet import Prophet\n",
    "import warnings\n",
    "warnings.filterwarnings('ignore')\n",
    "import logging\n",
    "logging.basicConfig(level='INFO')\n",
    "mlogger = logging.getLogger('matplotlib')\n",
    "mlogger.setLevel(logging.WARNING)"
   ]
  },
  {
   "cell_type": "markdown",
   "metadata": {},
   "source": [
    "## Stock performance"
   ]
  },
  {
   "cell_type": "markdown",
   "metadata": {},
   "source": [
    "Following is a function that will plot stock prices of a chosen stock from 2017 till date:"
   ]
  },
  {
   "cell_type": "code",
   "execution_count": 2,
   "metadata": {},
   "outputs": [],
   "source": [
    "#function to get stock data of a company\n",
    "start_date = '2017-01-01'\n",
    "end_date = date.today()\n",
    "\n",
    "def stock_info(ticker):\n",
    "    #get stock prices for the specified date ranges\n",
    "    df = yf.download(ticker,start=start_date,end=end_date)\n",
    "    #plot the stock price over the years\n",
    "    fig,ax = plt.subplots(figsize=(15,5))\n",
    "    ax.plot(df['Adj Close']);\n",
    "    ax.set_title(f'Stock Price of {ticker} from 2017 till date')"
   ]
  },
  {
   "cell_type": "code",
   "execution_count": 3,
   "metadata": {
    "scrolled": true
   },
   "outputs": [
    {
     "name": "stdout",
     "output_type": "stream",
     "text": [
      "[*********************100%***********************]  1 of 1 completed\n"
     ]
    },
    {
     "data": {
      "image/png": "[encoded data removed]",
      "text/plain": [
       "<Figure size 1500x500 with 1 Axes>"
      ]
     },
     "metadata": {},
     "output_type": "display_data"
    }
   ],
   "source": [
    "stock_info('AAPL')"
   ]
  },
  {
   "cell_type": "markdown",
   "metadata": {},
   "source": [
    "## Returns"
   ]
  },
  {
   "cell_type": "markdown",
   "metadata": {},
   "source": [
    "Following is a function that plots returns from a chosen stock from 2017 till date:"
   ]
  },
  {
   "cell_type": "code",
   "execution_count": 4,
   "metadata": {},
   "outputs": [],
   "source": [
    "#function to calculate stock return\n",
    "\n",
    "def stock_return(ticker):\n",
    "    #get stock prices for the specified date ranges\n",
    "    df = yf.download(ticker,start=start_date,end=end_date)\n",
    "    df_return = df[['Adj Close']]\n",
    "    df_return['pct_change'] = df_return['Adj Close'].pct_change() # use pct change to calculate the diff \n",
    "    df_return.drop(df_return.index[0],inplace=True) # drop the Nan value from the first row\n",
    "    \n",
    "    #plot the returns over 5 years\n",
    "    fig,ax=plt.subplots(figsize=(15,5))\n",
    "    ax.plot(df_return['pct_change']);\n",
    "    ax.set_title('Stock Return Pct from 2017 till date:' +' ' + ticker)\n"
   ]
  },
  {
   "cell_type": "code",
   "execution_count": 5,
   "metadata": {},
   "outputs": [
    {
     "name": "stdout",
     "output_type": "stream",
     "text": [
      "[*********************100%***********************]  1 of 1 completed\n"
     ]
    },
    {
     "data": {
      "image/png": "[encoded data removed]",
      "text/plain": [
       "<Figure size 1500x500 with 1 Axes>"
      ]
     },
     "metadata": {},
     "output_type": "display_data"
    }
   ],
   "source": [
    "stock_return('AAPL')"
   ]
  },
  {
   "cell_type": "markdown",
   "metadata": {},
   "source": [
    "## Beta value "
   ]
  },
  {
   "cell_type": "markdown",
   "metadata": {},
   "source": [
    "Beta value of a stock is used to signify risk i.e. if a stock is risky or not. By comparing the stock movement\n",
    "relative to the overall market such as the S&P 500, the stock can be classified as risky or not. By definition, the market \n",
    "has a beta value of 1.0. If the beta value of the stock is greater than 1.0, then it is classified as risky and less so if the \n",
    "value is less than 1.0."
   ]
  },
  {
   "cell_type": "code",
   "execution_count": 6,
   "metadata": {},
   "outputs": [],
   "source": [
    "#function to calculate beta value of stock\n",
    "\n",
    "def beta_value(ticker):\n",
    "    \n",
    "    #get data for ticker and SPY whih serves as the market index\n",
    "    symbols = [ticker,'SPY']\n",
    "    data = yf.download(symbols, start = start_date,end = end_date)['Adj Close']\n",
    "    price_change = data.pct_change()\n",
    "    price_change.drop(price_change.index[0],inplace=True)\n",
    "    \n",
    "    #reshape for linear regression\n",
    "    X = np.array(price_change[ticker]).reshape((-1,1))\n",
    "    y = np.array(price_change['SPY'])\n",
    "\n",
    "    #create splits\n",
    "    X_train,X_test,y_train,y_test = train_test_split(X,y)\n",
    "    lr = LinearRegression()\n",
    "    lr.fit(X_train,y_train)\n",
    "\n",
    "    #predictions\n",
    "    y_preds = lr.predict(X_test)\n",
    "\n",
    "    #plot \n",
    "    fig,ax = plt.subplots(figsize=(8,8));\n",
    "    ax.plot(X_test,y_preds,linestyle=':',color='orange')\n",
    "    ax.scatter(y_test,y_preds,alpha=0.5)\n",
    "    ax.set_title(f' Beta value = {lr.coef_}')\n",
    "    ax.set_xlabel('Market Index:SPY')\n",
    "    ax.set_ylabel(f'{ticker} value')"
   ]
  },
  {
   "cell_type": "code",
   "execution_count": 7,
   "metadata": {},
   "outputs": [
    {
     "name": "stdout",
     "output_type": "stream",
     "text": [
      "[*********************100%***********************]  2 of 2 completed\n"
     ]
    },
    {
     "data": {
      "image/png": "[encoded data removed]",
      "text/plain": [
       "<Figure size 800x800 with 1 Axes>"
      ]
     },
     "metadata": {},
     "output_type": "display_data"
    }
   ],
   "source": [
    "beta_value('AAPL')"
   ]
  },
  {
   "cell_type": "markdown",
   "metadata": {},
   "source": [
    "## P/E ratio"
   ]
  },
  {
   "cell_type": "markdown",
   "metadata": {},
   "source": [
    "Price-to-Earnings(P/E) ratio is a metric that compares a company's share price to it's earnings per share. It helps an investor\n",
    "determine whether a stock is undervalued or overvalued. Hence, if a stock is overvalued, then the investor is paying more for the stock and betting on future growth and vice-versa."
   ]
  },
  {
   "cell_type": "code",
   "execution_count": 21,
   "metadata": {},
   "outputs": [],
   "source": [
    "#function to get historical PE ratios\n",
    "\n",
    "def get_pe_ratio(ticker):\n",
    "    \n",
    "    #get financial statement of ticker using yahoofinancials\n",
    "    financials = YahooFinancials(ticker)\n",
    "    statement = financials.get_financial_stmts('annual', 'income', reformat=True)    \n",
    "    \n",
    "    #create a dict of the income statement alone\n",
    "    dicts ={}\n",
    "    for i in statement['incomeStatementHistory'][ticker]:\n",
    "        dicts.update(i)\n",
    "    \n",
    "    #create a dataframe for easy use\n",
    "    df = pd.DataFrame(dicts)\n",
    "    df = df.T\n",
    "    df['dilutedAverageShares'].fillna(df['dilutedAverageShares'].median(),inplace=True)\n",
    "    \n",
    "    #calculate pe ratio\n",
    "    eps = df['netIncomeContinuousOperations']/df['dilutedAverageShares'] #calc earnings per share\n",
    "    eps_df = pd.DataFrame(eps,index=df.index,columns=['EPS'])\n",
    "    eps_df['PE ratio'] = financials.get_current_price()/eps_df['EPS']#get current price and calc pe ratio\n",
    "    \n",
    "    #plot result\n",
    "    fig,ax=plt.subplots(figsize=(8,8));\n",
    "    ax.plot(eps_df['PE ratio'],marker = '*', markerfacecolor = 'black')\n",
    "    ax.set_title(f'Historical PE ratio: {ticker}')\n",
    "    ax.set_ylabel('PE ratio')"
   ]
  },
  {
   "cell_type": "code",
   "execution_count": 10,
   "metadata": {
    "scrolled": true
   },
   "outputs": [
    {
     "data": {
      "text/plain": [
       "{'incomeStatementHistoryQuarterly': {'AAPL': [{'2022-12-31': {'totalOperatingIncomeAsReported': 36016000000.0,\n",
       "     'reconciledCostOfRevenue': 220666000000.0,\n",
       "     'interestExpense': 3240000000.0,\n",
       "     'netIncomeFromContinuingOperationNetMinorityInterest': 29998000000.0,\n",
       "     'taxEffectOfUnusualItems': 0.0,\n",
       "     'operatingIncome': 113965000000.0,\n",
       "     'totalRevenue': 387537000000.0,\n",
       "     'grossProfit': 166871000000.0,\n",
       "     'netIncomeCommonStockholders': 95171000000.0,\n",
       "     'otherIncomeExpense': -283000000.0,\n",
       "     'reconciledDepreciation': 2916000000.0,\n",
       "     'netIncome': 95171000000.0,\n",
       "     'basicAverageShares': 15892723000.0,\n",
       "     'netIncomeFromContinuingAndDiscontinuedOperation': 95171000000.0,\n",
       "     'normalizedEBITDA': 38932000000.0,\n",
       "     'operatingRevenue': 117154000000.0,\n",
       "     'netIncomeIncludingNoncontrollingInterests': 29998000000.0,\n",
       "     'sellingGeneralAndAdministration': 6607000000.0,\n",
       "     'otherNonOperatingIncomeExpenses': -393000000.0,\n",
       "     'interestIncome': 868000000.0,\n",
       "     'researchAndDevelopment': 7709000000.0,\n",
       "     'costOfRevenue': 66822000000.0,\n",
       "     'dilutedNIAvailtoComStockholders': 95171000000.0,\n",
       "     'taxProvision': 18314000000.0,\n",
       "     'pretaxIncome': 113485000000.0,\n",
       "     'dilutedAverageShares': 15955718000.0,\n",
       "     'netNonOperatingInterestIncomeExpense': -197000000.0,\n",
       "     'ebit': 36016000000.0,\n",
       "     'operatingExpense': 14316000000.0,\n",
       "     'netInterestIncome': -197000000.0,\n",
       "     'netIncomeContinuousOperations': 29998000000.0,\n",
       "     'normalizedIncome': 29998000000.0,\n",
       "     'taxRateForCalcs': 0.161378,\n",
       "     'totalExpenses': 81138000000.0,\n",
       "     'interestIncomeNonOperating': 3043000000.0,\n",
       "     'basicEPS': 1.89,\n",
       "     'eBITDA': 128048000000.0,\n",
       "     'interestExpenseNonOperating': 3240000000.0,\n",
       "     'dilutedEPS': 1.88}},\n",
       "   {'2023-03-31': {'totalOperatingIncomeAsReported': 28318000000.0,\n",
       "     'reconciledCostOfRevenue': 218807000000.0,\n",
       "     'interestExpense': 3479000000.0,\n",
       "     'netIncomeFromContinuingOperationNetMinorityInterest': 24160000000.0,\n",
       "     'taxEffectOfUnusualItems': 0.0,\n",
       "     'operatingIncome': 112304000000.0,\n",
       "     'totalRevenue': 385095000000.0,\n",
       "     'grossProfit': 166288000000.0,\n",
       "     'netIncomeCommonStockholders': 94321000000.0,\n",
       "     'otherIncomeExpense': -358000000.0,\n",
       "     'reconciledDepreciation': 2898000000.0,\n",
       "     'netIncome': 94321000000.0,\n",
       "     'basicAverageShares': 15787154000.0,\n",
       "     'netIncomeFromContinuingAndDiscontinuedOperation': 94321000000.0,\n",
       "     'normalizedEBITDA': 31216000000.0,\n",
       "     'operatingRevenue': 94836000000.0,\n",
       "     'netIncomeIncludingNoncontrollingInterests': 24160000000.0,\n",
       "     'sellingGeneralAndAdministration': 6201000000.0,\n",
       "     'otherNonOperatingIncomeExpenses': 64000000.0,\n",
       "     'interestIncome': 918000000.0,\n",
       "     'researchAndDevelopment': 7457000000.0,\n",
       "     'costOfRevenue': 52860000000.0,\n",
       "     'dilutedNIAvailtoComStockholders': 94321000000.0,\n",
       "     'taxProvision': 17407000000.0,\n",
       "     'pretaxIncome': 111728000000.0,\n",
       "     'dilutedAverageShares': 15847050000.0,\n",
       "     'netNonOperatingInterestIncomeExpense': -218000000.0,\n",
       "     'ebit': 28318000000.0,\n",
       "     'operatingExpense': 13658000000.0,\n",
       "     'netInterestIncome': -218000000.0,\n",
       "     'netIncomeContinuousOperations': 24160000000.0,\n",
       "     'normalizedIncome': 24160000000.0,\n",
       "     'taxRateForCalcs': 0.155798,\n",
       "     'totalExpenses': 66518000000.0,\n",
       "     'interestIncomeNonOperating': 3261000000.0,\n",
       "     'basicEPS': 1.53,\n",
       "     'eBITDA': 126691000000.0,\n",
       "     'interestExpenseNonOperating': 3479000000.0,\n",
       "     'dilutedEPS': 1.52}},\n",
       "   {'2023-06-30': {'totalOperatingIncomeAsReported': 22998000000.0,\n",
       "     'reconciledCostOfRevenue': 217117000000.0,\n",
       "     'interestExpense': 3758000000.0,\n",
       "     'netIncomeFromContinuingOperationNetMinorityInterest': 19881000000.0,\n",
       "     'taxEffectOfUnusualItems': 0.0,\n",
       "     'operatingIncome': 112226000000.0,\n",
       "     'totalRevenue': 383933000000.0,\n",
       "     'grossProfit': 166816000000.0,\n",
       "     'netIncomeCommonStockholders': 94760000000.0,\n",
       "     'otherIncomeExpense': -592000000.0,\n",
       "     'reconciledDepreciation': 3052000000.0,\n",
       "     'netIncome': 94760000000.0,\n",
       "     'basicAverageShares': 15697614000.0,\n",
       "     'netIncomeFromContinuingAndDiscontinuedOperation': 94760000000.0,\n",
       "     'normalizedEBITDA': 26050000000.0,\n",
       "     'operatingRevenue': 81797000000.0,\n",
       "     'netIncomeIncludingNoncontrollingInterests': 19881000000.0,\n",
       "     'sellingGeneralAndAdministration': 5973000000.0,\n",
       "     'otherNonOperatingIncomeExpenses': -265000000.0,\n",
       "     'interestIncome': 980000000.0,\n",
       "     'researchAndDevelopment': 7442000000.0,\n",
       "     'costOfRevenue': 45384000000.0,\n",
       "     'dilutedNIAvailtoComStockholders': 94760000000.0,\n",
       "     'taxProvision': 16635000000.0,\n",
       "     'pretaxIncome': 111395000000.0,\n",
       "     'dilutedAverageShares': 15775021000.0,\n",
       "     'netNonOperatingInterestIncomeExpense': -239000000.0,\n",
       "     'ebit': 22998000000.0,\n",
       "     'operatingExpense': 13415000000.0,\n",
       "     'netInterestIncome': -239000000.0,\n",
       "     'netIncomeContinuousOperations': 19881000000.0,\n",
       "     'normalizedIncome': 19881000000.0,\n",
       "     'taxRateForCalcs': 0.149333,\n",
       "     'totalExpenses': 58799000000.0,\n",
       "     'interestIncomeNonOperating': 3519000000.0,\n",
       "     'basicEPS': 1.27,\n",
       "     'eBITDA': 126884000000.0,\n",
       "     'interestExpenseNonOperating': 3758000000.0,\n",
       "     'dilutedEPS': 1.26}},\n",
       "   {'2022-06-30': {'reconciledCostOfRevenue': 47074000000.0,\n",
       "     'interestExpense': 719000000.0,\n",
       "     'operatingIncome': 23076000000.0,\n",
       "     'totalRevenue': 82959000000.0,\n",
       "     'grossProfit': 35885000000.0,\n",
       "     'netIncomeCommonStockholders': 19442000000.0,\n",
       "     'otherIncomeExpense': -10000000.0,\n",
       "     'netIncome': 19442000000.0,\n",
       "     'taxEffectOfUnusualItems': 0.0,\n",
       "     'basicAverageShares': 16162945000.0,\n",
       "     'netIncomeFromContinuingAndDiscontinuedOperation': 19442000000.0,\n",
       "     'dilutedNIAvailtoComStockholders': 19442000000.0,\n",
       "     'operatingRevenue': 82959000000.0,\n",
       "     'taxProvision': 3624000000.0,\n",
       "     'pretaxIncome': 23066000000.0,\n",
       "     'dilutedAverageShares': 16262203000.0,\n",
       "     'netNonOperatingInterestIncomeExpense': 3000000.0,\n",
       "     'researchAndDevelopment': 6797000000.0,\n",
       "     'netInterestIncome': 3000000.0,\n",
       "     'taxRateForCalcs': 0.157114,\n",
       "     'ebit': 23076000000.0,\n",
       "     'interestIncomeNonOperating': 722000000.0,\n",
       "     'otherNonOperatingIncomeExpenses': -10000000.0,\n",
       "     'costOfRevenue': 47074000000.0,\n",
       "     'basicEPS': 1.2,\n",
       "     'totalExpenses': 59883000000.0,\n",
       "     'reconciledDepreciation': 2805000000.0,\n",
       "     'operatingExpense': 12809000000.0,\n",
       "     'interestExpenseNonOperating': 719000000.0,\n",
       "     'sellingGeneralAndAdministration': 6012000000.0,\n",
       "     'dilutedEPS': 1.2,\n",
       "     'netIncomeContinuousOperations': 19442000000.0,\n",
       "     'normalizedIncome': 19442000000.0,\n",
       "     'interestIncome': 722000000.0,\n",
       "     'netIncomeIncludingNoncontrollingInterests': 19442000000.0,\n",
       "     'netIncomeFromContinuingOperationNetMinorityInterest': 19442000000.0,\n",
       "     'totalOperatingIncomeAsReported': 23076000000.0,\n",
       "     'normalizedEBITDA': 25881000000.0}},\n",
       "   {'2022-09-30': {'reconciledCostOfRevenue': 52051000000.0,\n",
       "     'interestExpense': 827000000.0,\n",
       "     'operatingIncome': 24894000000.0,\n",
       "     'totalRevenue': 90146000000.0,\n",
       "     'grossProfit': 38095000000.0,\n",
       "     'netIncomeCommonStockholders': 20721000000.0,\n",
       "     'otherIncomeExpense': -237000000.0,\n",
       "     'netIncome': 20721000000.0,\n",
       "     'taxEffectOfUnusualItems': 0.0,\n",
       "     'basicAverageShares': 16030382000.0,\n",
       "     'netIncomeFromContinuingAndDiscontinuedOperation': 20721000000.0,\n",
       "     'dilutedNIAvailtoComStockholders': 20721000000.0,\n",
       "     'operatingRevenue': 90146000000.0,\n",
       "     'taxProvision': 3936000000.0,\n",
       "     'pretaxIncome': 24657000000.0,\n",
       "     'dilutedAverageShares': 16118465000.0,\n",
       "     'netNonOperatingInterestIncomeExpense': -74000000.0,\n",
       "     'researchAndDevelopment': 6761000000.0,\n",
       "     'netInterestIncome': -74000000.0,\n",
       "     'taxRateForCalcs': 0.15963,\n",
       "     'ebit': 24894000000.0,\n",
       "     'interestIncomeNonOperating': 753000000.0,\n",
       "     'otherNonOperatingIncomeExpenses': -237000000.0,\n",
       "     'costOfRevenue': 52051000000.0,\n",
       "     'basicEPS': 1.29,\n",
       "     'totalExpenses': 65252000000.0,\n",
       "     'reconciledDepreciation': 2865000000.0,\n",
       "     'operatingExpense': 13201000000.0,\n",
       "     'interestExpenseNonOperating': 827000000.0,\n",
       "     'sellingGeneralAndAdministration': 6440000000.0,\n",
       "     'dilutedEPS': 1.29,\n",
       "     'netIncomeContinuousOperations': 20721000000.0,\n",
       "     'normalizedIncome': 20721000000.0,\n",
       "     'interestIncome': 753000000.0,\n",
       "     'netIncomeIncludingNoncontrollingInterests': 20721000000.0,\n",
       "     'netIncomeFromContinuingOperationNetMinorityInterest': 20721000000.0,\n",
       "     'totalOperatingIncomeAsReported': 24894000000.0,\n",
       "     'normalizedEBITDA': 27759000000.0}}]}}"
      ]
     },
     "execution_count": 10,
     "metadata": {},
     "output_type": "execute_result"
    }
   ],
   "source": [
    "yahoo_financials = YahooFinancials('AAPL')\n",
    "m = yahoo_financials.get_financial_stmts('quarterly', 'income')\n",
    "m"
   ]
  },
  {
   "cell_type": "code",
   "execution_count": 19,
   "metadata": {
    "scrolled": false
   },
   "outputs": [
    {
     "name": "stdout",
     "output_type": "stream",
     "text": [
      "[*********************100%***********************]  1 of 1 completed\n"
     ]
    },
    {
     "data": {
      "text/plain": [
       "182.91000366210938"
      ]
     },
     "execution_count": 19,
     "metadata": {},
     "output_type": "execute_result"
    }
   ],
   "source": [
    "#function to get stock data of a company\n",
    "start_date = date.today()\n",
    "\n",
    "latest= yf.download('AAPL',start=start_date)\n",
    "latest_price = float(latest['Adj Close'])\n",
    "latest_price"
   ]
  },
  {
   "cell_type": "code",
   "execution_count": 51,
   "metadata": {
    "scrolled": true
   },
   "outputs": [
    {
     "data": {
      "text/html": [
       "<div>\n",
       "<style scoped>\n",
       "    .dataframe tbody tr th:only-of-type {\n",
       "        vertical-align: middle;\n",
       "    }\n",
       "\n",
       "    .dataframe tbody tr th {\n",
       "        vertical-align: top;\n",
       "    }\n",
       "\n",
       "    .dataframe thead th {\n",
       "        text-align: right;\n",
       "    }\n",
       "</style>\n",
       "<table border=\"1\" class=\"dataframe\">\n",
       "  <thead>\n",
       "    <tr style=\"text-align: right;\">\n",
       "      <th></th>\n",
       "      <th>totalOperatingIncomeAsReported</th>\n",
       "      <th>reconciledCostOfRevenue</th>\n",
       "      <th>interestExpense</th>\n",
       "      <th>netIncomeFromContinuingOperationNetMinorityInterest</th>\n",
       "      <th>taxEffectOfUnusualItems</th>\n",
       "      <th>operatingIncome</th>\n",
       "      <th>totalRevenue</th>\n",
       "      <th>grossProfit</th>\n",
       "      <th>netIncomeCommonStockholders</th>\n",
       "      <th>otherIncomeExpense</th>\n",
       "      <th>...</th>\n",
       "      <th>netInterestIncome</th>\n",
       "      <th>netIncomeContinuousOperations</th>\n",
       "      <th>normalizedIncome</th>\n",
       "      <th>taxRateForCalcs</th>\n",
       "      <th>totalExpenses</th>\n",
       "      <th>interestIncomeNonOperating</th>\n",
       "      <th>basicEPS</th>\n",
       "      <th>eBITDA</th>\n",
       "      <th>interestExpenseNonOperating</th>\n",
       "      <th>dilutedEPS</th>\n",
       "    </tr>\n",
       "  </thead>\n",
       "  <tbody>\n",
       "    <tr>\n",
       "      <th>2022-06-30</th>\n",
       "      <td>2.307600e+10</td>\n",
       "      <td>4.707400e+10</td>\n",
       "      <td>7.190000e+08</td>\n",
       "      <td>1.944200e+10</td>\n",
       "      <td>0.0</td>\n",
       "      <td>2.307600e+10</td>\n",
       "      <td>8.295900e+10</td>\n",
       "      <td>3.588500e+10</td>\n",
       "      <td>1.944200e+10</td>\n",
       "      <td>-10000000.0</td>\n",
       "      <td>...</td>\n",
       "      <td>3000000.0</td>\n",
       "      <td>1.944200e+10</td>\n",
       "      <td>1.944200e+10</td>\n",
       "      <td>0.157114</td>\n",
       "      <td>5.988300e+10</td>\n",
       "      <td>7.220000e+08</td>\n",
       "      <td>1.20</td>\n",
       "      <td>NaN</td>\n",
       "      <td>7.190000e+08</td>\n",
       "      <td>1.20</td>\n",
       "    </tr>\n",
       "    <tr>\n",
       "      <th>2022-09-30</th>\n",
       "      <td>2.489400e+10</td>\n",
       "      <td>5.205100e+10</td>\n",
       "      <td>8.270000e+08</td>\n",
       "      <td>2.072100e+10</td>\n",
       "      <td>0.0</td>\n",
       "      <td>2.489400e+10</td>\n",
       "      <td>9.014600e+10</td>\n",
       "      <td>3.809500e+10</td>\n",
       "      <td>2.072100e+10</td>\n",
       "      <td>-237000000.0</td>\n",
       "      <td>...</td>\n",
       "      <td>-74000000.0</td>\n",
       "      <td>2.072100e+10</td>\n",
       "      <td>2.072100e+10</td>\n",
       "      <td>0.159630</td>\n",
       "      <td>6.525200e+10</td>\n",
       "      <td>7.530000e+08</td>\n",
       "      <td>1.29</td>\n",
       "      <td>NaN</td>\n",
       "      <td>8.270000e+08</td>\n",
       "      <td>1.29</td>\n",
       "    </tr>\n",
       "    <tr>\n",
       "      <th>2022-12-31</th>\n",
       "      <td>3.601600e+10</td>\n",
       "      <td>2.206660e+11</td>\n",
       "      <td>3.240000e+09</td>\n",
       "      <td>2.999800e+10</td>\n",
       "      <td>0.0</td>\n",
       "      <td>1.139650e+11</td>\n",
       "      <td>3.875370e+11</td>\n",
       "      <td>1.668710e+11</td>\n",
       "      <td>9.517100e+10</td>\n",
       "      <td>-283000000.0</td>\n",
       "      <td>...</td>\n",
       "      <td>-197000000.0</td>\n",
       "      <td>2.999800e+10</td>\n",
       "      <td>2.999800e+10</td>\n",
       "      <td>0.161378</td>\n",
       "      <td>8.113800e+10</td>\n",
       "      <td>3.043000e+09</td>\n",
       "      <td>1.89</td>\n",
       "      <td>1.280480e+11</td>\n",
       "      <td>3.240000e+09</td>\n",
       "      <td>1.88</td>\n",
       "    </tr>\n",
       "    <tr>\n",
       "      <th>2023-03-31</th>\n",
       "      <td>2.831800e+10</td>\n",
       "      <td>2.188070e+11</td>\n",
       "      <td>3.479000e+09</td>\n",
       "      <td>2.416000e+10</td>\n",
       "      <td>0.0</td>\n",
       "      <td>1.123040e+11</td>\n",
       "      <td>3.850950e+11</td>\n",
       "      <td>1.662880e+11</td>\n",
       "      <td>9.432100e+10</td>\n",
       "      <td>-358000000.0</td>\n",
       "      <td>...</td>\n",
       "      <td>-218000000.0</td>\n",
       "      <td>2.416000e+10</td>\n",
       "      <td>2.416000e+10</td>\n",
       "      <td>0.155798</td>\n",
       "      <td>6.651800e+10</td>\n",
       "      <td>3.261000e+09</td>\n",
       "      <td>1.53</td>\n",
       "      <td>1.266910e+11</td>\n",
       "      <td>3.479000e+09</td>\n",
       "      <td>1.52</td>\n",
       "    </tr>\n",
       "    <tr>\n",
       "      <th>2023-06-30</th>\n",
       "      <td>2.299800e+10</td>\n",
       "      <td>2.171170e+11</td>\n",
       "      <td>3.758000e+09</td>\n",
       "      <td>1.988100e+10</td>\n",
       "      <td>0.0</td>\n",
       "      <td>1.122260e+11</td>\n",
       "      <td>3.839330e+11</td>\n",
       "      <td>1.668160e+11</td>\n",
       "      <td>9.476000e+10</td>\n",
       "      <td>-592000000.0</td>\n",
       "      <td>...</td>\n",
       "      <td>-239000000.0</td>\n",
       "      <td>1.988100e+10</td>\n",
       "      <td>1.988100e+10</td>\n",
       "      <td>0.149333</td>\n",
       "      <td>5.879900e+10</td>\n",
       "      <td>3.519000e+09</td>\n",
       "      <td>1.27</td>\n",
       "      <td>1.268840e+11</td>\n",
       "      <td>3.758000e+09</td>\n",
       "      <td>1.26</td>\n",
       "    </tr>\n",
       "  </tbody>\n",
       "</table>\n",
       "<p>5 rows × 39 columns</p>\n",
       "</div>"
      ],
      "text/plain": [
       "            totalOperatingIncomeAsReported  reconciledCostOfRevenue  \\\n",
       "2022-06-30                    2.307600e+10             4.707400e+10   \n",
       "2022-09-30                    2.489400e+10             5.205100e+10   \n",
       "2022-12-31                    3.601600e+10             2.206660e+11   \n",
       "2023-03-31                    2.831800e+10             2.188070e+11   \n",
       "2023-06-30                    2.299800e+10             2.171170e+11   \n",
       "\n",
       "            interestExpense  \\\n",
       "2022-06-30     7.190000e+08   \n",
       "2022-09-30     8.270000e+08   \n",
       "2022-12-31     3.240000e+09   \n",
       "2023-03-31     3.479000e+09   \n",
       "2023-06-30     3.758000e+09   \n",
       "\n",
       "            netIncomeFromContinuingOperationNetMinorityInterest  \\\n",
       "2022-06-30                                       1.944200e+10     \n",
       "2022-09-30                                       2.072100e+10     \n",
       "2022-12-31                                       2.999800e+10     \n",
       "2023-03-31                                       2.416000e+10     \n",
       "2023-06-30                                       1.988100e+10     \n",
       "\n",
       "            taxEffectOfUnusualItems  operatingIncome  totalRevenue  \\\n",
       "2022-06-30                      0.0     2.307600e+10  8.295900e+10   \n",
       "2022-09-30                      0.0     2.489400e+10  9.014600e+10   \n",
       "2022-12-31                      0.0     1.139650e+11  3.875370e+11   \n",
       "2023-03-31                      0.0     1.123040e+11  3.850950e+11   \n",
       "2023-06-30                      0.0     1.122260e+11  3.839330e+11   \n",
       "\n",
       "             grossProfit  netIncomeCommonStockholders  otherIncomeExpense  \\\n",
       "2022-06-30  3.588500e+10                 1.944200e+10         -10000000.0   \n",
       "2022-09-30  3.809500e+10                 2.072100e+10        -237000000.0   \n",
       "2022-12-31  1.668710e+11                 9.517100e+10        -283000000.0   \n",
       "2023-03-31  1.662880e+11                 9.432100e+10        -358000000.0   \n",
       "2023-06-30  1.668160e+11                 9.476000e+10        -592000000.0   \n",
       "\n",
       "            ...  netInterestIncome  netIncomeContinuousOperations  \\\n",
       "2022-06-30  ...          3000000.0                   1.944200e+10   \n",
       "2022-09-30  ...        -74000000.0                   2.072100e+10   \n",
       "2022-12-31  ...       -197000000.0                   2.999800e+10   \n",
       "2023-03-31  ...       -218000000.0                   2.416000e+10   \n",
       "2023-06-30  ...       -239000000.0                   1.988100e+10   \n",
       "\n",
       "            normalizedIncome  taxRateForCalcs  totalExpenses  \\\n",
       "2022-06-30      1.944200e+10         0.157114   5.988300e+10   \n",
       "2022-09-30      2.072100e+10         0.159630   6.525200e+10   \n",
       "2022-12-31      2.999800e+10         0.161378   8.113800e+10   \n",
       "2023-03-31      2.416000e+10         0.155798   6.651800e+10   \n",
       "2023-06-30      1.988100e+10         0.149333   5.879900e+10   \n",
       "\n",
       "            interestIncomeNonOperating  basicEPS        eBITDA  \\\n",
       "2022-06-30                7.220000e+08      1.20           NaN   \n",
       "2022-09-30                7.530000e+08      1.29           NaN   \n",
       "2022-12-31                3.043000e+09      1.89  1.280480e+11   \n",
       "2023-03-31                3.261000e+09      1.53  1.266910e+11   \n",
       "2023-06-30                3.519000e+09      1.27  1.268840e+11   \n",
       "\n",
       "            interestExpenseNonOperating  dilutedEPS  \n",
       "2022-06-30                 7.190000e+08        1.20  \n",
       "2022-09-30                 8.270000e+08        1.29  \n",
       "2022-12-31                 3.240000e+09        1.88  \n",
       "2023-03-31                 3.479000e+09        1.52  \n",
       "2023-06-30                 3.758000e+09        1.26  \n",
       "\n",
       "[5 rows x 39 columns]"
      ]
     },
     "execution_count": 51,
     "metadata": {},
     "output_type": "execute_result"
    }
   ],
   "source": [
    "#isolating the dict \n",
    "income = m['incomeStatementHistoryQuarterly']['AAPL']\n",
    "\n",
    "#creating a nested dict from the list of nested dict i.e. removing the list \n",
    "income_dict = {}\n",
    "for i in income:\n",
    "    income_dict.update(i)\n",
    "  \n",
    "# creating a df from the resulting nested dict \n",
    "df= pd.DataFrame(income_dict)\n",
    "df = df.T\n",
    "df.sort_index(ascending=True,inplace=True)\n",
    "df"
   ]
  },
  {
   "cell_type": "code",
   "execution_count": 52,
   "metadata": {
    "scrolled": true
   },
   "outputs": [
    {
     "data": {
      "text/plain": [
       "2022-06-30    1.944200e+10\n",
       "2022-09-30    2.072100e+10\n",
       "2022-12-31    9.517100e+10\n",
       "2023-03-31    9.432100e+10\n",
       "2023-06-30    9.476000e+10\n",
       "Name: netIncomeCommonStockholders, dtype: float64"
      ]
     },
     "execution_count": 52,
     "metadata": {},
     "output_type": "execute_result"
    }
   ],
   "source": [
    "df['netIncomeCommonStockholders']"
   ]
  },
  {
   "cell_type": "code",
   "execution_count": 53,
   "metadata": {},
   "outputs": [
    {
     "data": {
      "text/plain": [
       "2022-06-30    152.994528\n",
       "2022-09-30    142.282153\n",
       "2022-12-31     30.665438\n",
       "2023-03-31     30.731056\n",
       "2023-06-30     30.449653\n",
       "dtype: float64"
      ]
     },
     "execution_count": 53,
     "metadata": {},
     "output_type": "execute_result"
    }
   ],
   "source": [
    "# the sudden jump in net income is causing the anomalies in the p/e ratios \n",
    "price/(df['netIncomeCommonStockholders']/df['dilutedAverageShares']) #price/EPS"
   ]
  },
  {
   "cell_type": "markdown",
   "metadata": {},
   "source": [
    "## Dividend History"
   ]
  },
  {
   "cell_type": "markdown",
   "metadata": {},
   "source": [
    "A Dividend is the distirbution's of the company's profit to it's shareholders. Not every company pays dividends. Companies can also choose to re-invest their profits for future growth than reward shareholders. For an investor, investing in a company that pays dividends is an easy way to earn extra income on top of their initial investment."
   ]
  },
  {
   "cell_type": "code",
   "execution_count": 8,
   "metadata": {},
   "outputs": [],
   "source": [
    "#function to get historical dividend data\n",
    "\n",
    "def get_dividend(ticker):\n",
    "    \n",
    "    #get dividend data\n",
    "    financials = YahooFinancials(ticker)\n",
    "    div = financials.get_daily_dividend_data(start_date=start_date,end_date='2022-12-31')\n",
    "    \n",
    "    #check if the company pays dividends\n",
    "    if div[ticker] == None:\n",
    "        fig,ax = plt.subplots(figsize=(5,5))\n",
    "        ax.annotate(f'Sorry, {ticker} does not offer dividends',xy=(0.3,0.5),fontsize=20);\n",
    "        ax.axis('off')\n",
    "        return fig,ax\n",
    "    \n",
    "    else:#if company does pay dividends,then convert to a df and create a plot\n",
    "        df = pd.DataFrame(div[ticker])\n",
    "        df.drop('date',axis=1,inplace=True)\n",
    "        df.rename(columns={'formatted_date':'date'},inplace=True)\n",
    "        df['date'] = pd.to_datetime(df['date'])\n",
    "        df.set_index('date',inplace=True)\n",
    "        fig,ax=plt.subplots(figsize=(8,8))\n",
    "        ax.plot(df['amount']);\n",
    "        ax.set_title(f'Dividend rate: {ticker}');"
   ]
  },
  {
   "cell_type": "code",
   "execution_count": 9,
   "metadata": {},
   "outputs": [
    {
     "data": {
      "image/png": "[encoded data removed]",
      "text/plain": [
       "<Figure size 800x800 with 1 Axes>"
      ]
     },
     "metadata": {},
     "output_type": "display_data"
    }
   ],
   "source": [
    "get_dividend('AAPL')"
   ]
  },
  {
   "cell_type": "markdown",
   "metadata": {},
   "source": [
    "# Summing up performance..."
   ]
  },
  {
   "cell_type": "markdown",
   "metadata": {},
   "source": [
    "By combining all of the above into one function called `summary_info`, the investor can get a cohesive view of the performance his/her chosen stock. Below is an example of stock perfromance of **AAPL(tickr:'AAPL')**"
   ]
  },
  {
   "cell_type": "code",
   "execution_count": null,
   "metadata": {},
   "outputs": [],
   "source": [
    "def summary_info(ticker):\n",
    "    return stock_info(ticker),stock_return(ticker),beta_value(ticker),get_pe_ratio(ticker),get_dividend(ticker)"
   ]
  },
  {
   "cell_type": "code",
   "execution_count": null,
   "metadata": {
    "scrolled": true
   },
   "outputs": [],
   "source": [
    "# summary_info('AAPL')"
   ]
  },
  {
   "cell_type": "markdown",
   "metadata": {},
   "source": [
    "1. Stock Performance: Stock is generally on an upward trend.\n",
    "2. Beta Value : Less than 1.0 signifying that it is low-risk.\n",
    "3. P/E ration : Around 30 highlighting that it is over valued. Perhaps it would be better to wait for the p/e to come down.\n",
    "4. Dividend: Like the stock price, is on an upward trend. A nice boost to the shareholders for investing in the company."
   ]
  },
  {
   "cell_type": "markdown",
   "metadata": {},
   "source": [
    "# Time Series Modelling"
   ]
  },
  {
   "cell_type": "markdown",
   "metadata": {},
   "source": [
    "Again, we will  use data of **Apple** as an example. "
   ]
  },
  {
   "cell_type": "markdown",
   "metadata": {},
   "source": [
    "## Stationarity Check"
   ]
  },
  {
   "cell_type": "markdown",
   "metadata": {},
   "source": [
    "Time series models are usually built on the premise that models are stationary i.e there are patters to the data and by analyzing these patterns, future performance can be predicted with a degree of certainity. However, this rarely happens in real life. There is always some trend or seasonality or a combination of both in the data.Hence the first step is to check for stationarity. "
   ]
  },
  {
   "cell_type": "markdown",
   "metadata": {},
   "source": [
    "The function below plots rolling-statistics and the ouptut of the Dickey-Fuller test"
   ]
  },
  {
   "cell_type": "code",
   "execution_count": null,
   "metadata": {},
   "outputs": [],
   "source": [
    "def plot_trends(ticker):\n",
    "    df = yf.download(ticker,start=start_date,end=end_date)\n",
    "    close = df.loc[:,['Adj Close']]\n",
    "\n",
    "#compute rolling mean and std to see if they are constant\n",
    "    roll_mean = close.rolling(window=30,center=False).mean()\n",
    "    roll_std = close.rolling(window=30,center=False).std()\n",
    "\n",
    "#plot the data\n",
    "    fig,ax=plt.subplots(figsize=(15,5))\n",
    "    ax.plot(close,color='blue',label='Original')\n",
    "    ax.plot(roll_mean,color='red',label='Rolling Mean')\n",
    "    ax.plot(roll_std,color='green',label='Rolling StdDev')\n",
    "    ax.legend(loc='best')\n",
    "    ax.set_title(f'Rolling Statistics of {ticker}');\n",
    "\n",
    "#dickey Fuller Test\n",
    "    dftest = adfuller(close['Adj Close'])\n",
    "    dfoutput = pd.DataFrame(dftest[0:4], index=['Test Statistic', 'p-value', '#Lags Used', 'Number of Observations Used'],columns=['Values'])\n",
    "    \n",
    "    return dfoutput"
   ]
  },
  {
   "cell_type": "code",
   "execution_count": null,
   "metadata": {
    "scrolled": false
   },
   "outputs": [],
   "source": [
    "plot_trends('AAPL')"
   ]
  },
  {
   "cell_type": "markdown",
   "metadata": {},
   "source": [
    "By computing the rolling mean we can see that there is an upward trend in the data. Since, the rolling stddev is fairly straight, we can conclude that there is not much seasonality in the data. Also shown is the results of the **Dickey-Fuller** test, a statistical method to check for stationarity. The large p-value points to a non-stationary dataset"
   ]
  },
  {
   "cell_type": "markdown",
   "metadata": {},
   "source": [
    "## Convert non-stationary to stationary "
   ]
  },
  {
   "cell_type": "code",
   "execution_count": null,
   "metadata": {},
   "outputs": [],
   "source": [
    "def differencing(ticker):\n",
    "    df = yf.download(ticker,start=start_date,end=end_date)\n",
    "    df_return = df[['Adj Close']]\n",
    "    df_diff =df_return.diff(periods=1)\n",
    "    df_diff.dropna(inplace=True)\n",
    "    \n",
    "    #plot the results\n",
    "    fig,ax = plt.subplots(figsize = (12,8));\n",
    "    ax.plot(df_diff, label = 'Differenced');\n",
    "    ax.plot(df_diff.rolling(30).mean(),label = 'Rolling Mean')\n",
    "    ax.plot(df_diff.rolling(30).std(),label = 'Rolling StdDev')\n",
    "    ax.set_title(f'Differenced plot of {ticker}')\n",
    "    ax.legend(loc=2);\n",
    "    \n",
    "    #dickey fuller test\n",
    "    dftest = adfuller(df_diff['Adj Close'])\n",
    "    dfoutput = pd.DataFrame(dftest[0:4], index=['Test Statistic', 'p-value', '#Lags Used', 'Number of Observations Used'],columns=['Values'])\n",
    "    \n",
    "    return dfoutput"
   ]
  },
  {
   "cell_type": "code",
   "execution_count": null,
   "metadata": {},
   "outputs": [],
   "source": [
    "differencing('AAPL')"
   ]
  },
  {
   "cell_type": "markdown",
   "metadata": {},
   "source": [
    "We can from the above plot that the mean though not perfectly flat is fairly linear signifying that we have removed the trend.\n",
    "The miniscule p-value from the Dicley-Fuller test also points towards a stationary dataset"
   ]
  },
  {
   "cell_type": "markdown",
   "metadata": {},
   "source": [
    "##  ACF and PACF"
   ]
  },
  {
   "cell_type": "markdown",
   "metadata": {},
   "source": [
    "Since the ARIMA and SARIMA modelss are linear regression models, we need to decide on how many regression terms we will use for the model. The Auto-Correlation and Partial Auto Correlation plot(for the AR and MA models respectively) will show the number of lag terms that have the most effect on future price."
   ]
  },
  {
   "cell_type": "code",
   "execution_count": null,
   "metadata": {
    "scrolled": false
   },
   "outputs": [],
   "source": [
    "#get stock data\n",
    "df = yf.download('AAPL',start=start_date,end=end_date)\n",
    "df_close = df[['Adj Close']]\n",
    "df_diff =df_close.diff(periods=1)\n",
    "df_diff.dropna(inplace=True)\n",
    "\n",
    "#plot ACF and PACF values\n",
    "fig,(ax1,ax2)=plt.subplots(nrows=2,figsize=(12,8))\n",
    "acf = plot_acf(df_diff,ax=ax1)\n",
    "pacf = plot_pacf(df_diff,ax=ax2)"
   ]
  },
  {
   "cell_type": "markdown",
   "metadata": {},
   "source": [
    "From both the plots, we can see that the 1st lag term i.e the previous day's stock price, will have the most effect on the next day's price. There are other terms that have an effect as well, but for the sake of simplicity we will use only one term for the model."
   ]
  },
  {
   "cell_type": "markdown",
   "metadata": {},
   "source": [
    "## ARIMA model"
   ]
  },
  {
   "cell_type": "markdown",
   "metadata": {},
   "source": [
    "We will first build and integrated AR and MA model known as ARIMA."
   ]
  },
  {
   "cell_type": "code",
   "execution_count": null,
   "metadata": {},
   "outputs": [],
   "source": [
    "#defining train and test sets\n",
    "cutoff= int(df_close.shape[0]*0.75)\n",
    "train = df_close[:cutoff]\n",
    "test = df_close[cutoff:]"
   ]
  },
  {
   "cell_type": "markdown",
   "metadata": {},
   "source": [
    "Parameters for the model: **(p,d,q)=(1,1,1)** for the model based on the plots\n",
    "1. p = number of terms for the AR model\n",
    "2. d = order of differencing\n",
    "3. q = numer of the terms for the MA model"
   ]
  },
  {
   "cell_type": "code",
   "execution_count": null,
   "metadata": {
    "scrolled": false
   },
   "outputs": [],
   "source": [
    "# (1,1,1) ARIMA(p,d,q) based on ACF and PACF plots\n",
    "#instantiate\n",
    "model = ARIMA(train,order=(1,1,1))\n",
    "\n",
    "#fit\n",
    "model_fit = model.fit()\n",
    "# print(model_fit.summary())\n",
    "\n",
    "#getting predictions using get_prediction method\n",
    "arima_predictions = model_fit.get_prediction(start = len(train)+1 , end = len(df_close),dynamic=True)\n",
    "#predicted_mean gives lists the values\n",
    "arima_pred_price=arima_predictions.predicted_mean\n",
    "#converting into a df\n",
    "arima_pred_price_df = pd.DataFrame(data=arima_pred_price)\n",
    "#seetting the index to the test dates\n",
    "arima_pred_price_df.index= test.index\n",
    "\n",
    "# arima_pred_price_df.head()\n",
    "\n",
    "#confidence intervals of predictions\n",
    "arima_conf_int = arima_predictions.conf_int()\n",
    "arima_conf_int.set_index(test.index,inplace=True)\n",
    "\n",
    "# arima_conf_int.head()\n",
    "\n",
    "#plotting predictions with confidence intervals\n",
    "fig,ax =plt.subplots(figsize=(12,8))\n",
    "# ax.plot(train,label='Train');\n",
    "ax.plot(test,label='Test');\n",
    "ax.plot(arima_pred_price_df,label='Predictions');\n",
    "# ax.plot(arima_conf_int,label='Confidence Intervals')\n",
    "ax.fill_between(arima_conf_int.index,arima_conf_int.iloc[:,0],arima_conf_int.iloc[:,1],color='k',alpha=0.1);\n",
    "ax.legend(loc=2);"
   ]
  },
  {
   "cell_type": "code",
   "execution_count": null,
   "metadata": {
    "scrolled": true
   },
   "outputs": [],
   "source": [
    "#RMSE and AIC\n",
    "error_arima = round(np.sqrt(mean_squared_error(test,arima_pred_price_df)),2)\n",
    "aic_arima = round(model_fit.aic,2)\n",
    "print(f'AIC score of the ARIMA model is {aic_arima}')\n",
    "print(f'RMSE of the model is ${error_arima}')\n"
   ]
  },
  {
   "cell_type": "markdown",
   "metadata": {},
   "source": [
    "As we can tell, the model does not perform very well when compared to the test values"
   ]
  },
  {
   "cell_type": "markdown",
   "metadata": {},
   "source": [
    "## SARIMA model"
   ]
  },
  {
   "cell_type": "markdown",
   "metadata": {},
   "source": [
    "Next, we will build a SARIMA model. Like the ARIMA models, SARIMA model also depends on past values but has an extra seasonality component to take into account any seasonality patterns"
   ]
  },
  {
   "cell_type": "markdown",
   "metadata": {},
   "source": [
    "the the p,d,q values from the ARIMA models as a guide, we can run different combinations to check for the most optimal paramenters. The model that outputs the lowest AIC score , will be used as our model"
   ]
  },
  {
   "cell_type": "code",
   "execution_count": null,
   "metadata": {},
   "outputs": [],
   "source": [
    "#defining a range for the p,d,q values\n",
    "p=d=q=range(0,2)\n",
    "pdq = list(itertools.product(p,d,q))\n",
    "pdqs = [(x[0], x[1], x[2], 12) for x in list(itertools.product(p, d, q))]"
   ]
  },
  {
   "cell_type": "code",
   "execution_count": null,
   "metadata": {
    "scrolled": false
   },
   "outputs": [],
   "source": [
    "# Run a grid with pdq and seasonal pdq parameters calculated above and get the best AIC value\n",
    "ans = []\n",
    "for comb in pdq:\n",
    "    for combs in pdqs:\n",
    "        try:\n",
    "            mod = SARIMAX(train,\n",
    "                          order=comb,\n",
    "                          seasonal_order=combs,\n",
    "                          enforce_stationarity=False,\n",
    "                          enforce_invertibility=False)\n",
    "\n",
    "            output = mod.fit()\n",
    "            ans.append([comb, combs, output.aic])\n",
    "            print('SARIMA {} x {}: AIC Calculated={}'.format(comb, combs, output.aic))\n",
    "        except:\n",
    "            continue"
   ]
  },
  {
   "cell_type": "code",
   "execution_count": null,
   "metadata": {
    "scrolled": false
   },
   "outputs": [],
   "source": [
    "# Plug the optimal parameter values into a new SARIMAX model\n",
    "sarimax = SARIMAX(train, \n",
    "                  order=(1,1,1), \n",
    "                  seasonal_order=(1 ,1, 1, 12), \n",
    "                  enforce_stationarity=False, \n",
    "                  enforce_invertibility=False)\n",
    "\n",
    "# Fit the model and print results\n",
    "output = sarimax.fit()\n",
    "\n",
    "#get predictions\n",
    "sarimax_predictions = output.get_prediction(start=len(train)+1,end=len(df_close),dynamic=True)\n",
    "sarimax_price=sarimax_predictions.predicted_mean\n",
    "sarimax_predictions_df = pd.DataFrame(data=sarimax_price)\n",
    "sarimax_predictions_df.index= test.index\n",
    "\n",
    "#get confidence intervals\n",
    "sarimax_conf_int = sarimax_predictions.conf_int()\n",
    "sarimax_conf_int.set_index(test.index,inplace=True)\n",
    "\n",
    "#plot results\n",
    "fig,ax =plt.subplots(figsize=(20,8))\n",
    "# ax.plot(train,label='Train');\n",
    "ax.plot(test,label='Test');\n",
    "ax.plot(sarimax_predictions_df,label='Predictions');\n",
    "# ax.plot(sarimax_conf_int,label='Confidence Intervals')\n",
    "ax.fill_between(sarimax_conf_int.index,sarimax_conf_int.iloc[:,0],sarimax_conf_int.iloc[:,1],color='g',alpha=0.1);\n",
    "ax.legend(loc=2);"
   ]
  },
  {
   "cell_type": "code",
   "execution_count": null,
   "metadata": {
    "scrolled": true
   },
   "outputs": [],
   "source": [
    "#RMSE\n",
    "error_sarima = round(np.sqrt(mean_squared_error(test,sarimax_predictions_df)),2)\n",
    "print(f'RMSE of the model is ${error_sarima}')"
   ]
  },
  {
   "cell_type": "markdown",
   "metadata": {},
   "source": [
    "Compared to the ARIMA model, the SARIMA model performance is much worse."
   ]
  },
  {
   "cell_type": "markdown",
   "metadata": {},
   "source": [
    "## Facebook Prophet"
   ]
  },
  {
   "cell_type": "markdown",
   "metadata": {},
   "source": [
    "The Prophet model is an additive model for time series predicting that was open sourced by Meta. in 2017.According to the official documentation, it works best with time series that have strong seasonal effects and several seasons of historical data  Prophet is robust to missing data and shifts in the trend and typically handles outliers well. "
   ]
  },
  {
   "cell_type": "markdown",
   "metadata": {},
   "source": [
    "First, we will use the default parameters and the undifferenced data to to build and evaluate the model:"
   ]
  },
  {
   "cell_type": "code",
   "execution_count": null,
   "metadata": {
    "scrolled": false
   },
   "outputs": [],
   "source": [
    "#get stock data\n",
    "df = yf.download('AAPL',start=start_date,end=end_date)\n",
    "df_close = df[['Adj Close']]\n",
    "\n",
    "#resmapling by weekly\n",
    "df_weekly = df_close.resample('W').mean()\n",
    "\n",
    "#setting up df to be able to run Prophet\n",
    "\n",
    "#reset index\n",
    "df_weekly.reset_index(inplace=True)\n",
    "\n",
    "#rename columns per prophet conventions\n",
    "df_weekly.rename(columns={'Adj Close': 'y',\n",
    "                         'Date':'ds'},inplace=True)\n",
    "\n",
    "#set the date as the index\n",
    "# df_close.set_index('ds',inplace=True)\n",
    "# df_weekly.head()\n",
    "\n",
    "#defining train and test sets\n",
    "cutoff= int(df_weekly.shape[0]*0.75)\n",
    "train = df_weekly[:cutoff]\n",
    "test = df_weekly[cutoff:]\n",
    "\n",
    "#instantiate\n",
    "m = Prophet(seasonality_mode='multiplicative',\n",
    "            weekly_seasonality=True,\n",
    "            daily_seasonality = True,\n",
    "            yearly_seasonality = True,\n",
    "            interval_width=0.90, \n",
    "           )\n",
    "\n",
    "#fit\n",
    "m.fit(train)\n",
    "\n",
    "#forecasts - creating future dates using in built make_future_dataframe method\n",
    "future = m.make_future_dataframe(periods=len(test),freq='W',include_history=False)\n",
    "\n",
    "#predicting yhat \n",
    "forecast = m.predict(future)\n",
    "\n",
    "#creating a df of predicted values\n",
    "forecast_values = forecast[['ds', 'yhat', 'yhat_lower', 'yhat_upper']]\n",
    "\n",
    "#set the index for the plots\n",
    "forecast_values.set_index('ds',inplace=True)\n",
    "test.set_index('ds',inplace=True)\n",
    "\n",
    "#plotting results\n",
    "fig,ax=plt.subplots(figsize=(12,8))\n",
    "# ax.plot(train,label='Train')\n",
    "ax.plot(test,label='Test')\n",
    "# ax.plot(df_weekly,label='Current Price')\n",
    "ax.plot(forecast_values['yhat'],label='Forecast')\n",
    "# ax.fill_between(test.index,forecast_values['yhat_lower'],forecast_values['yhat_upper'],color='g',alpha=0.1);\n",
    "ax.legend();\n",
    "\n"
   ]
  },
  {
   "cell_type": "code",
   "execution_count": null,
   "metadata": {},
   "outputs": [],
   "source": [
    "#RMSE\n",
    "error_fb = round(np.sqrt(mean_squared_error(test,forecast_values['yhat'])),2)\n",
    "print(f'RMSE of the model is ${error_fb}')"
   ]
  },
  {
   "cell_type": "markdown",
   "metadata": {},
   "source": [
    "We can try to optimize the model by running a loop for the seasonality and changepoint values. These are deciding how much to penalize seasonality and changepoints changes in the data i.e if the values are small for the seasonality changes, then the effect of seasonal changes in the data is dampened and vice versa."
   ]
  },
  {
   "cell_type": "code",
   "execution_count": null,
   "metadata": {
    "scrolled": false
   },
   "outputs": [],
   "source": [
    "#run a loop for different regularization values\n",
    "\n",
    "seasonality_scale = [0.1, 0.2, 0.3, 0.4, 0.5]\n",
    "changepoint_scale = [0.1, 0.2, 0.3, 0.4, 0.5]\n",
    "errors = []\n",
    "new_error_fb = None\n",
    "\n",
    "for season in seasonality_scale:\n",
    "    for changepoint in changepoint_scale:\n",
    "        #instantiate\n",
    "        m = Prophet(seasonality_mode='multiplicative',\n",
    "                weekly_seasonality=True,\n",
    "                daily_seasonality = True,\n",
    "                yearly_seasonality = True,\n",
    "                interval_width=0.90,\n",
    "                seasonality_prior_scale=season,\n",
    "                changepoint_prior_scale=changepoint\n",
    "               )\n",
    "\n",
    "        #fit\n",
    "        m.fit(train)\n",
    "        \n",
    "        #forecasts - creating future dates using in built make_future_dataframe method\n",
    "        future = m.make_future_dataframe(periods=len(test),freq='W',include_history=False)\n",
    "\n",
    "        #predicting yhat \n",
    "        forecast = m.predict(future)\n",
    "\n",
    "        #getting only yhat values\n",
    "        forecast_values = forecast[['ds', 'yhat']]\n",
    "        \n",
    "        #setting the index\n",
    "        forecast_values.set_index('ds',inplace=True)\n",
    "\n",
    "        #rmse values\n",
    "        rmse = round(np.sqrt(mean_squared_error(test,forecast_values['yhat'])),3)\n",
    "        errors.append(rmse)\n",
    "        new_error_fb = min(errors)\n",
    "        print(f'seasonality_scale:{season}, changepoint_scale:{changepoint}, rmse:{rmse}')\n",
    "        \n",
    "print('----------------------------------------------')\n",
    "print(f'Smallest RMSE after looping is ${new_error_fb}')\n",
    "print(f'Original RMSE is ${error_fb}')"
   ]
  },
  {
   "cell_type": "markdown",
   "metadata": {},
   "source": [
    "We can see a decent jump in performance. Let's see if we can improve further"
   ]
  },
  {
   "cell_type": "markdown",
   "metadata": {},
   "source": [
    "### Prophet with differencing - comparing with test"
   ]
  },
  {
   "cell_type": "markdown",
   "metadata": {},
   "source": [
    "Like the other models, we can try and run the prophet model on stationary data to see if there is an improvement. We accomplish this by diffenreceing the data by an order of 1."
   ]
  },
  {
   "cell_type": "code",
   "execution_count": null,
   "metadata": {
    "scrolled": false
   },
   "outputs": [],
   "source": [
    "#get stock data\n",
    "df = yf.download('AAPL',start=start_date,end=end_date)\n",
    "df_close = df[['Adj Close']]\n",
    "\n",
    "#resmapling by weekly\n",
    "df_weekly = df_close.resample('W').mean()\n",
    "\n",
    "df_weekly = df_weekly.diff(periods=1)\n",
    "df_weekly.dropna(inplace=True)\n",
    "\n",
    "#setting up df to be able to run Prophet\n",
    "#reset index\n",
    "df_weekly.reset_index(inplace=True)\n",
    "#rename columns per prophet conventions\n",
    "df_weekly.rename(columns={'Adj Close': 'y',\n",
    "                         'Date':'ds'},inplace=True)\n",
    "\n",
    "#defining train and test sets\n",
    "cutoff= int(df_weekly.shape[0]*0.75)\n",
    "train = df_weekly[:cutoff]\n",
    "test = df_weekly[cutoff:]\n",
    "\n",
    "#instantiate\n",
    "m = Prophet(seasonality_mode='multiplicative',\n",
    "            weekly_seasonality=True,\n",
    "            daily_seasonality = True,\n",
    "            yearly_seasonality = True,\n",
    "            interval_width=0.90, \n",
    "           )\n",
    "\n",
    "#fit\n",
    "m.fit(train)\n",
    "\n",
    "#forecasts - creating future dates using in built make_future_dataframe method\n",
    "future = m.make_future_dataframe(periods=len(test),freq='W',include_history=False)\n",
    "\n",
    "#predicting yhat \n",
    "forecast = m.predict(future)\n",
    "\n",
    "#creating a df of predicted values\n",
    "forecast_values = forecast[['ds', 'yhat']]\n",
    "\n",
    "#set the index for the plots\n",
    "forecast_values.set_index('ds',inplace=True)\n",
    "test.set_index('ds',inplace=True)\n",
    "\n",
    "#plotting results\n",
    "fig,ax=plt.subplots(figsize=(12,8))\n",
    "# ax.plot(train,label='Train')\n",
    "ax.plot(test,label='Test')\n",
    "# ax.plot(df_weekly,label='Current Price')\n",
    "ax.plot(forecast_values['yhat'],label='Forecast')\n",
    "# ax.fill_between(test.index,forecast_values['yhat_lower'],forecast_values['yhat_upper'],color='g',alpha=0.1);\n",
    "ax.legend();\n"
   ]
  },
  {
   "cell_type": "code",
   "execution_count": null,
   "metadata": {},
   "outputs": [],
   "source": [
    "#RMSE\n",
    "error_fb_diff = round(np.sqrt(mean_squared_error(test,forecast_values['yhat'])),2)\n",
    "print(f'RMSE of the model is ${error_fb_diff}')"
   ]
  },
  {
   "cell_type": "markdown",
   "metadata": {},
   "source": [
    "Here, we can see a vast improvement in model performance compared to before."
   ]
  },
  {
   "cell_type": "markdown",
   "metadata": {},
   "source": [
    "### regularization on differenced data"
   ]
  },
  {
   "cell_type": "markdown",
   "metadata": {},
   "source": [
    "We will same optimization loop as earlier for the differenced data to see if it impacts performance."
   ]
  },
  {
   "cell_type": "code",
   "execution_count": null,
   "metadata": {
    "scrolled": false
   },
   "outputs": [],
   "source": [
    "#run a loop for different regularization values\n",
    "seasonality_scale = [0.1, 0.2, 0.3, 0.4, 0.5]\n",
    "changepoint_scale = [0.1, 0.2, 0.3, 0.4, 0.5]\n",
    "errors = []\n",
    "new_error_fb_diff = None\n",
    "\n",
    "for season in seasonality_scale:\n",
    "    for changepoint in changepoint_scale:\n",
    "        #instantiate\n",
    "        m = Prophet(seasonality_mode='multiplicative',\n",
    "                weekly_seasonality=True,\n",
    "                daily_seasonality = True,\n",
    "                yearly_seasonality = True,\n",
    "                interval_width=0.90,\n",
    "                seasonality_prior_scale=season,\n",
    "                changepoint_prior_scale=changepoint\n",
    "               )\n",
    "\n",
    "        #fit\n",
    "        m.fit(train)\n",
    "        \n",
    "        #forecasts - creating future dates using in built make_future_dataframe method\n",
    "        future = m.make_future_dataframe(periods=len(test),freq='W',include_history=False)\n",
    "\n",
    "        #predicting yhat \n",
    "        forecast = m.predict(future)\n",
    "\n",
    "        #getting only yhat values\n",
    "        forecast_values = forecast[['ds', 'yhat']]\n",
    "        \n",
    "        #setting the index\n",
    "        forecast_values.set_index('ds',inplace=True)\n",
    "\n",
    "        #rmse values\n",
    "        rmse = round(np.sqrt(mean_squared_error(test,forecast_values['yhat'])),3)\n",
    "        errors.append(rmse)\n",
    "        new_error_fb_diff = min(errors)\n",
    "        print(f'seasonality_scale:{season}, changepoint_scale:{changepoint}, rmse:{rmse}')\n",
    "        \n",
    "print('----------------------------------------------')\n",
    "print(f'Smallest RMSE after looping is {new_error_fb_diff}')\n",
    "print(f'Original RMSE is {error_fb_diff}')"
   ]
  },
  {
   "cell_type": "markdown",
   "metadata": {},
   "source": [
    "This time, the improvement is only slight. "
   ]
  },
  {
   "cell_type": "markdown",
   "metadata": {},
   "source": [
    "## Model performance comparisions"
   ]
  },
  {
   "cell_type": "code",
   "execution_count": null,
   "metadata": {
    "scrolled": false
   },
   "outputs": [],
   "source": [
    "fig,ax =plt.subplots(figsize=(10,7))\n",
    "ax.bar(x=['ARIMA', 'SARIMAX', 'PROPHET','PROPHET_diff'],height=[error_arima,error_sarima,new_error_fb,new_error_fb_diff]);\n",
    "ax.set_title('RMSE score comparision');\n"
   ]
  },
  {
   "cell_type": "markdown",
   "metadata": {},
   "source": [
    "From the plot, we can see the prohet model on the differenced data performs best. Hence, we will use that for making predictions for our chose stock."
   ]
  },
  {
   "cell_type": "markdown",
   "metadata": {},
   "source": [
    "## Using Prophet to get forecast of 'AAPL' for the next year"
   ]
  },
  {
   "cell_type": "markdown",
   "metadata": {},
   "source": [
    "Now that we have a model, we can make predictions of the next year:"
   ]
  },
  {
   "cell_type": "code",
   "execution_count": null,
   "metadata": {
    "scrolled": false
   },
   "outputs": [],
   "source": [
    "#get stock data\n",
    "df = yf.download('AAPL',start=start_date,end=end_date)\n",
    "df_close = df[['Adj Close']]\n",
    "\n",
    "#resmapling by weekly\n",
    "df_weekly = df_close.resample('W').mean()\n",
    "\n",
    "df_weekly_diff = df_weekly.diff(periods=1)\n",
    "df_weekly_diff.dropna(inplace=True)\n",
    "\n",
    "\n",
    "#setting up df to be able to run Prophet\n",
    "\n",
    "#reset index\n",
    "df_weekly_diff.reset_index(inplace=True)\n",
    "\n",
    "#rename columns per prophet conventions\n",
    "df_weekly_diff.rename(columns={'Adj Close': 'y',\n",
    "                         'Date':'ds'},inplace=True)\n",
    "\n",
    "\n",
    "#instantiate\n",
    "m = Prophet(seasonality_mode='multiplicative',\n",
    "            weekly_seasonality=True,\n",
    "            daily_seasonality = True,\n",
    "            yearly_seasonality = True,\n",
    "            interval_width=0.90, \n",
    "            seasonality_prior_scale = 0.4,\n",
    "            changepoint_prior_scale = 0.3\n",
    "           )\n",
    "\n",
    "#fit\n",
    "m.fit(df_weekly_diff)\n",
    "\n",
    "#forecasts - creating future dates using in built make_future_dataframe method\n",
    "future = m.make_future_dataframe(periods=52,freq='W',include_history=False)\n",
    "\n",
    "#predicting yhat \n",
    "forecast = m.predict(future)\n",
    "\n",
    "#creating a df of predicted values\n",
    "forecast_values = forecast[['ds', 'yhat']]\n",
    "\n",
    "#set the index for the plots\n",
    "forecast_values.set_index('ds',inplace=True)\n",
    "df_weekly_diff.set_index('ds',inplace=True)\n",
    "\n",
    "\n",
    "#taking the inverse difference of the predicted values to get the original values\n",
    "# the inverse diff is the cumsum of the first value of the org series & the first differences series\n",
    "forecast_values.rename(columns={'yhat':'y'},inplace=True)\n",
    "invdiff = np.r_[df_weekly['Adj Close'].iloc[-1],forecast_values['y'][1:]].cumsum()\n",
    "invdiff_df = pd.DataFrame(data=invdiff,index = forecast_values.index,columns=['y'])\n",
    "\n",
    "#plotting results\n",
    "fig,ax=plt.subplots(figsize=(12,8))\n",
    "ax.plot(df_weekly,label='Current Price')\n",
    "ax.plot(invdiff_df['y'],label='Forecast')\n",
    "ax.set_title('Predicted performance of AAPL')\n",
    "ax.legend();"
   ]
  },
  {
   "cell_type": "markdown",
   "metadata": {},
   "source": [
    "The model predicts 'AAPL' to be to close to `$200`, 52 weeks from now, from it's current value of approx. `$165`"
   ]
  },
  {
   "cell_type": "markdown",
   "metadata": {},
   "source": [
    "# Building Portfolio"
   ]
  },
  {
   "cell_type": "markdown",
   "metadata": {},
   "source": [
    "## Predictions of chosen stock"
   ]
  },
  {
   "cell_type": "markdown",
   "metadata": {},
   "source": [
    "Now that the investor has looked at some metrics and future performance of his/her chosen stock, he/she can now look\n",
    "at building a portfolio for the future. Following are some functions that will be used in the portfolio builder"
   ]
  },
  {
   "cell_type": "markdown",
   "metadata": {},
   "source": [
    "Following function is used to plot past and forecast prices of a stock:"
   ]
  },
  {
   "cell_type": "code",
   "execution_count": null,
   "metadata": {},
   "outputs": [],
   "source": [
    "def plot_forecast_price(ticker):\n",
    "    #get stock data\n",
    "    df = yf.download(ticker,start=start_date,end=end_date)\n",
    "    df_close = df[['Adj Close']]\n",
    "\n",
    "    #resmapling by weekly\n",
    "    df_weekly = df_close.resample('W').mean()\n",
    "    df_weekly_diff = df_weekly.diff(periods=1)\n",
    "    df_weekly_diff.dropna(inplace=True)\n",
    "\n",
    "\n",
    "    #setting up df to be able to run Prophet\n",
    "    #reset index\n",
    "    df_weekly_diff.reset_index(inplace=True)\n",
    "    #rename columns per prophet conventions\n",
    "    df_weekly_diff.rename(columns={'Adj Close': 'y',\n",
    "                             'Date':'ds'},inplace=True)\n",
    "\n",
    "\n",
    "    #instantiate\n",
    "    m = Prophet(seasonality_mode='multiplicative',\n",
    "                weekly_seasonality=True,\n",
    "                daily_seasonality = True,\n",
    "                yearly_seasonality = True,\n",
    "                interval_width=0.90, \n",
    "                seasonality_prior_scale = 0.4,\n",
    "                changepoint_prior_scale = 0.3\n",
    "               )\n",
    "\n",
    "    #fit\n",
    "    m.fit(df_weekly_diff)\n",
    "\n",
    "    #forecasts - creating future dates using in built make_future_dataframe method\n",
    "    future = m.make_future_dataframe(periods=52,freq='W',include_history=False)\n",
    "\n",
    "    #predicting yhat \n",
    "    forecast = m.predict(future)\n",
    "\n",
    "    #creating a df of predicted values\n",
    "    forecast_values = forecast[['ds', 'yhat']]\n",
    "\n",
    "    #set the index for the plots\n",
    "    forecast_values.set_index('ds',inplace=True)\n",
    "    df_weekly_diff.set_index('ds',inplace=True)\n",
    "\n",
    "\n",
    "    #taking the inverse difference of the predicted values to get the original values\n",
    "    # the inverse diff is the cumsum of the first value of the org series & the first differences series\n",
    "    forecast_values.rename(columns={'yhat':'y'},inplace=True)\n",
    "    invdiff = np.r_[df_weekly['Adj Close'].iloc[-1],forecast_values['y'][1:]].cumsum()\n",
    "    invdiff_df = pd.DataFrame(data=invdiff,index = forecast_values.index,columns=['y'])\n",
    "\n",
    "    #plotting results\n",
    "n    fig,ax=plt.subplots(figsize=(12,8))\n",
    "    ax.plot(df_weekly,label='Current Price')\n",
    "    ax.plot(invdiff_df['y'],label='Forecast')\n",
    "    ax.set_title(f'Predicted values of {ticker}')\n",
    "    ax.legend();"
   ]
  },
  {
   "cell_type": "code",
   "execution_count": null,
   "metadata": {},
   "outputs": [],
   "source": [
    "plot_forecast_price('AMZN')"
   ]
  },
  {
   "cell_type": "markdown",
   "metadata": {},
   "source": [
    "Following functions is to get the current price of a stock:"
   ]
  },
  {
   "cell_type": "code",
   "execution_count": null,
   "metadata": {},
   "outputs": [],
   "source": [
    "def get_current_price(ticker):\n",
    "    df = yf.download(ticker,start=date.today())\n",
    "    ticker_df = df[['Adj Close']]\n",
    "    current_price = round(float(ticker_df.iloc[0]),2)\n",
    "    \n",
    "    return current_price"
   ]
  },
  {
   "cell_type": "markdown",
   "metadata": {},
   "source": [
    "Following function is to get the last forecasted price of the stock:"
   ]
  },
  {
   "cell_type": "code",
   "execution_count": null,
   "metadata": {},
   "outputs": [],
   "source": [
    "def get_future_price(ticker):\n",
    "     #get stock data\n",
    "    df = yf.download(ticker,start=start_date,end=end_date)\n",
    "    df_close = df[['Adj Close']]\n",
    "\n",
    "    #resmapling by weekly\n",
    "    df_weekly = df_close.resample('W').mean()\n",
    "    df_weekly_diff = df_weekly.diff(periods=1)\n",
    "    df_weekly_diff.dropna(inplace=True)\n",
    "\n",
    "\n",
    "    #setting up df to be able to run Prophet\n",
    "    #reset index\n",
    "    df_weekly_diff.reset_index(inplace=True)\n",
    "    #rename columns per prophet conventions\n",
    "    df_weekly_diff.rename(columns={'Adj Close': 'y',\n",
    "                             'Date':'ds'},inplace=True)\n",
    "\n",
    "\n",
    "    #instantiate\n",
    "    m = Prophet(seasonality_mode='multiplicative',\n",
    "                weekly_seasonality=True,\n",
    "                daily_seasonality = True,\n",
    "                yearly_seasonality = True,\n",
    "                interval_width=0.90, \n",
    "                seasonality_prior_scale = 0.4,\n",
    "                changepoint_prior_scale = 0.3\n",
    "               )\n",
    "\n",
    "    #fit\n",
    "    m.fit(df_weekly_diff)\n",
    "\n",
    "    #forecasts - creating future dates using in built make_future_dataframe method\n",
    "    future = m.make_future_dataframe(periods=52,freq='W',include_history=False)\n",
    "\n",
    "    #predicting yhat \n",
    "    forecast = m.predict(future)\n",
    "\n",
    "    #creating a df of predicted values\n",
    "    forecast_values = forecast[['ds', 'yhat']]\n",
    "\n",
    "    #set the index for the plots\n",
    "    forecast_values.set_index('ds',inplace=True)\n",
    "    df_weekly_diff.set_index('ds',inplace=True)\n",
    "\n",
    "    #taking the inverse difference of the predicted values to get the original values\n",
    "    # the inverse diff is the cumsum of the first value of the org series & the first differences series\n",
    "    forecast_values.rename(columns={'yhat':'y'},inplace=True)\n",
    "    invdiff = np.r_[df_weekly['Adj Close'].iloc[-1],forecast_values['y'][1:]].cumsum()\n",
    "    invdiff_df = pd.DataFrame(data=invdiff,index = forecast_values.index,columns=['y'])\n",
    "    \n",
    "    #get the last value\n",
    "    last_price = round(float(invdiff_df.iloc[-1]),2)\n",
    "    \n",
    "    return last_price"
   ]
  },
  {
   "cell_type": "markdown",
   "metadata": {},
   "source": [
    "The `portfolio` function combines all of the above and outputs the total returns"
   ]
  },
  {
   "cell_type": "code",
   "execution_count": null,
   "metadata": {},
   "outputs": [],
   "source": [
    "#putting it all together\n",
    "\n",
    "def portfolio(amount,stocks):\n",
    "    amount = amount\n",
    "    stocks = stocks\n",
    "    break_up = round(amount/len(stocks),2)\n",
    "    current_prices = []\n",
    "    future_prices = np.array([])\n",
    "    n_shares = np.array([])\n",
    "    return_pct = np.array([])\n",
    "\n",
    "    for st in stocks:\n",
    "\n",
    "        cp = get_current_price(st)\n",
    "        fp = get_future_price(st)\n",
    "        current_prices.append(cp)\n",
    "        future_prices = np.append(future_prices,fp)\n",
    "\n",
    "        print(f'Current price of {st} is {cp}')\n",
    "        print(f'Forecast price of {st} is {fp}') \n",
    "\n",
    "        def check(): \n",
    "            for i in current_prices:\n",
    "                if i < break_up:\n",
    "                       continue # there is nothing below continue to ignore. so nothing happens and continue moves the loop forward       \n",
    "                else: # once the outer loop reaches the value of nflx and the condition is true, what is below is executed\n",
    "                    return ('Invest amount per stock is too low. Please adjust')\n",
    "                    break #breaks the inner loop\n",
    "                break #this break is to ignore the outer loop as well as there is no point in moving forward\n",
    "\n",
    "    check()\n",
    "\n",
    "    if check() == None:\n",
    "        for i in current_prices:\n",
    "            share_buy = round(break_up/i)\n",
    "            n_shares = np.append(n_shares,share_buy)\n",
    "        sell_amounts = n_shares*future_prices\n",
    "        returns = sell_amounts/break_up - 1 \n",
    "        invest_amt = round(break_up/amount,2)\n",
    "        return_pct = np.append(return_pct,returns*invest_amt)\n",
    "        cum_returns = round(np.sum(return_pct) * 100,2)\n",
    "        print('\\n')\n",
    "        print(f'Amount invested in each stock: ${break_up}')\n",
    "        print(f'Cumulative returns: {cum_returns}%')\n",
    "\n",
    "    else:    \n",
    "        print('\\n')\n",
    "        print(f'Amount invested in each stock: ${break_up}')\n",
    "        print('Investment is too low')\n",
    "        print('Please pick a different stock or increase investment')"
   ]
  },
  {
   "cell_type": "markdown",
   "metadata": {},
   "source": [
    "As outlined earlier, following is an example of how diversification works"
   ]
  },
  {
   "cell_type": "markdown",
   "metadata": {},
   "source": [
    "If an investor is chooses to invest only in the automotive companies, here's what that would look like:"
   ]
  },
  {
   "cell_type": "code",
   "execution_count": null,
   "metadata": {
    "scrolled": false
   },
   "outputs": [],
   "source": [
    "# Tesla,General Motors and Ford\n",
    "portfolio(1000,['TSLA','GM','F'])"
   ]
  },
  {
   "cell_type": "markdown",
   "metadata": {},
   "source": [
    "The investor can expect to lose money if he/she were to invest $1000 in Tesla,GM and Ford in the next year."
   ]
  },
  {
   "cell_type": "markdown",
   "metadata": {},
   "source": [
    "Now, let's diversify and choose companies from different sectors:automotive,tech and health care"
   ]
  },
  {
   "cell_type": "code",
   "execution_count": null,
   "metadata": {
    "scrolled": true
   },
   "outputs": [],
   "source": [
    "#General Motors, Apple, Pfizer\n",
    "portfolio(1000,['GM','AAPL','PFE'])"
   ]
  },
  {
   "cell_type": "markdown",
   "metadata": {},
   "source": [
    "From the above examples, it is quiet clear to see the benefit of diversifying. "
   ]
  },
  {
   "cell_type": "code",
   "execution_count": null,
   "metadata": {
    "scrolled": true
   },
   "outputs": [],
   "source": [
    "# very little investment\n",
    "portfolio(50,['GM','AAPL','PFE'])"
   ]
  },
  {
   "cell_type": "markdown",
   "metadata": {},
   "source": [
    "# Conclusions"
   ]
  },
  {
   "cell_type": "markdown",
   "metadata": {},
   "source": [
    "## Limitations"
   ]
  },
  {
   "cell_type": "markdown",
   "metadata": {},
   "source": [
    "1. All the models are purely mathematical models and cannot take into account black swan events.\n",
    "2. More sophisticated models using Deep Learning can be built to get more accurate forecasts.\n",
    "3. Dividend data is not incorporated while calculating overall returns.\n",
    "4. Currently, the invested amount is distributed equally amongst all the stocks.\n",
    "   The amounts can be tuned based on the investor's appetite for risk."
   ]
  },
  {
   "cell_type": "markdown",
   "metadata": {},
   "source": [
    "## Recommendations"
   ]
  },
  {
   "cell_type": "markdown",
   "metadata": {},
   "source": [
    "1. By plugging in amounts and companies in the model, the investor can play around and maximize his/her returns.\n",
    "\n",
    "2. Looking at the stock market in general, there was a drastic spike around 2020.\n",
    "   There has not been a decline to pre-2020 levels and hence, it might be prudent to collect past data only\n",
    "   from 2020 onwards rather than from all the way back to 2017.\n"
   ]
  }
 ],
 "metadata": {
  "kernelspec": {
   "display_name": "Python 3 (ipykernel)",
   "language": "python",
   "name": "python3"
  },
  "language_info": {
   "codemirror_mode": {
    "name": "ipython",
    "version": 3
   },
   "file_extension": ".py",
   "mimetype": "text/x-python",
   "name": "python",
   "nbconvert_exporter": "python",
   "pygments_lexer": "ipython3",
   "version": "3.10.9"
  },
  "toc": {
   "base_numbering": 1,
   "nav_menu": {
    "height": "348px",
    "width": "369px"
   },
   "number_sections": true,
   "sideBar": true,
   "skip_h1_title": false,
   "title_cell": "Table of Contents",
   "title_sidebar": "Contents",
   "toc_cell": true,
   "toc_position": {
    "height": "1011px",
    "left": "0px",
    "top": "111.125px",
    "width": "334.188px"
   },
   "toc_section_display": true,
   "toc_window_display": true
  },
  "varInspector": {
   "cols": {
    "lenName": 16,
    "lenType": 16,
    "lenVar": 40
   },
   "kernels_config": {
    "python": {
     "delete_cmd_postfix": "",
     "delete_cmd_prefix": "del ",
     "library": "var_list.py",
     "varRefreshCmd": "print(var_dic_list())"
    },
    "r": {
     "delete_cmd_postfix": ") ",
     "delete_cmd_prefix": "rm(",
     "library": "var_list.r",
     "varRefreshCmd": "cat(var_dic_list()) "
    }
   },
   "types_to_exclude": [
    "module",
    "function",
    "builtin_function_or_method",
    "instance",
    "_Feature"
   ],
   "window_display": false
  }
 },
 "nbformat": 4,
 "nbformat_minor": 4
}
