{
 "cells": [
  {
   "cell_type": "code",
   "execution_count": 64,
   "metadata": {},
   "outputs": [],
   "source": [
    "#importing the requests library\n",
    "import requests\n",
    "import pandas as pd\n",
    "import json\n",
    "import matplotlib.pyplot as plt\n",
    "from sklearn.preprocessing import StandardScaler\n",
    "from sklearn.linear_model import LinearRegression\n",
    "from sklearn.model_selection import train_test_split\n",
    "import numpy as np\n",
    "import yfinance as yf #using the yahoo finance library \n",
    "import yahoo_fin.stock_info as si #using the yahoo_fin library \n",
    "import warnings\n",
    "warnings.filterwarnings('ignore')"
   ]
  },
  {
   "cell_type": "markdown",
   "metadata": {},
   "source": [
    "Getting stock data using the open source yahoo finance library. More information can be found [here](https://pypi.org/project/yfinance/)"
   ]
  },
  {
   "cell_type": "code",
   "execution_count": 2,
   "metadata": {},
   "outputs": [],
   "source": [
    "#function to get stock data of a company\n",
    "\n",
    "def stock_info(ticker):\n",
    "    #define dates for 5 years\n",
    "    start_date = '2017-01-01'\n",
    "    end_date = '2022-12-31'\n",
    "    df = yf.download(ticker,start=start_date,end=end_date)\n",
    "    \n",
    "    return df"
   ]
  },
  {
   "cell_type": "code",
   "execution_count": 3,
   "metadata": {},
   "outputs": [],
   "source": [
    "#function to calculate stock return\n",
    "\n",
    "def stock_return(ticker):\n",
    "    df = stock_info(ticker) # run the function to get the stock data\n",
    "    df_return = df[['Adj Close']]\n",
    "    df_return['pct_change'] = df_return['Adj Close'].pct_change() # use pct change to calculate the diff \n",
    "    df_return.drop(df_return.index[0],inplace=True) # drop the Nan value from the first row\n",
    "    \n",
    "    #make a plot of the return\n",
    "    fig,ax = plt.subplots(figsize=(15,8))\n",
    "    ax.plot(df_return['pct_change']);\n",
    "    ax.set_title('Stock Return Pct from 2017 to 2022:' +' ' + ticker);\n",
    "    plt.show()\n",
    "    \n",
    "    return fig,ax;\n",
    "      "
   ]
  },
  {
   "cell_type": "code",
   "execution_count": 4,
   "metadata": {},
   "outputs": [],
   "source": [
    "def calculate_beta(ticker):\n",
    "    symbols = [ticker,'SPY']\n",
    "    data = yf.download(symbols, start = '2019-01-01',end = '2022-12-31')['Adj Close']\n",
    "    price_change = data.pct_change()\n",
    "    price_change.drop(price_change.index[0],inplace=True)\n",
    "    \n",
    "    X = np.array(price_change[ticker]).reshape((-1,1))\n",
    "    y = np.array(price_change['SPY'])\n",
    "\n",
    "    X_train,X_test,y_train,y_test = train_test_split(X,y)\n",
    "    lr = LinearRegression()\n",
    "    lr.fit(X_train,y_train)\n",
    "\n",
    "    y_preds = lr.predict(X_test)\n",
    "\n",
    "    fig,ax = plt.subplots(figsize=(12,7));\n",
    "    ax.plot(X_test,y_preds,linestyle=':',color='orange');\n",
    "    ax.scatter(y_test,y_preds,alpha=0.5);\n",
    "    ax.set_title(f' Beta value = {lr.coef_}');\n",
    "    plt.show()\n",
    "    \n",
    "    return fig,ax"
   ]
  },
  {
   "cell_type": "markdown",
   "metadata": {},
   "source": [
    "## stock evaluation\n",
    "\n",
    "2. p/e ratio\n",
    "3. p/b ratio\n",
    "4. div yield"
   ]
  }
 ],
 "metadata": {
  "kernelspec": {
   "display_name": "Python (learn-env)",
   "language": "python",
   "name": "learn-env"
  },
  "language_info": {
   "codemirror_mode": {
    "name": "ipython",
    "version": 3
   },
   "file_extension": ".py",
   "mimetype": "text/x-python",
   "name": "python",
   "nbconvert_exporter": "python",
   "pygments_lexer": "ipython3",
   "version": "3.8.5"
  },
  "toc": {
   "base_numbering": 1,
   "nav_menu": {},
   "number_sections": true,
   "sideBar": true,
   "skip_h1_title": false,
   "title_cell": "Table of Contents",
   "title_sidebar": "Contents",
   "toc_cell": false,
   "toc_position": {},
   "toc_section_display": true,
   "toc_window_display": false
  }
 },
 "nbformat": 4,
 "nbformat_minor": 4
}
