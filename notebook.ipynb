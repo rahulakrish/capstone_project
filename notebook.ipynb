{
 "cells": [
  {
   "cell_type": "code",
   "execution_count": 1,
   "metadata": {},
   "outputs": [],
   "source": [
    "#importing the requests library\n",
    "import requests"
   ]
  },
  {
   "cell_type": "markdown",
   "metadata": {},
   "source": [
    "Using [marketstack](https://marketstack.com/?utm_source=Geekflare&utm_medium=LeadsAcquisition&utm_content=Listing) to make API calls to retrieve end-of-day stock price of your preferred company."
   ]
  },
  {
   "cell_type": "markdown",
   "metadata": {},
   "source": [
    "API documentations can be found [here](https://marketstack.com/documentation). Code examples for different languages can be found [here](https://marketstack.com/documentation#php)"
   ]
  },
  {
   "cell_type": "code",
   "execution_count": 78,
   "metadata": {},
   "outputs": [],
   "source": [
    "companies = ['GOOGL','APPL','FB','AMZN']\n",
    "\n",
    "for symbol in companies:\n",
    "    url = 'http://api.marketstack.com/v1/eod'\n",
    "    params = {\n",
    "        'access_key' : '038908b69357069eadcfc963cbafe6ee',\n",
    "        'symbols' : symbol,\n",
    "        'limit':1000 \n",
    "            }\n",
    "    resp = requests.get(url,params=params)\n",
    "    data = resp.json()"
   ]
  },
  {
   "cell_type": "code",
   "execution_count": 80,
   "metadata": {
    "scrolled": false
   },
   "outputs": [],
   "source": [
    "#getting the list of end of day price\n",
    "price_list = []\n",
    "for i in data['data']:\n",
    "        price_list.append(i['close'])"
   ]
  },
  {
   "cell_type": "code",
   "execution_count": 85,
   "metadata": {},
   "outputs": [
    {
     "name": "stdout",
     "output_type": "stream",
     "text": [
      "GOOGL_price_listAPPL_price_listFB_price_listAMZN\n"
     ]
    }
   ],
   "source": [
    "companies = ['GOOGL','APPL','FB','AMZN']\n",
    "print('_price_list'.join(companies))"
   ]
  },
  {
   "cell_type": "code",
   "execution_count": 86,
   "metadata": {},
   "outputs": [
    {
     "name": "stdout",
     "output_type": "stream",
     "text": [
      "Collecting quandl\n",
      "  Downloading Quandl-3.7.0-py2.py3-none-any.whl (26 kB)\n",
      "Collecting more-itertools\n",
      "  Downloading more_itertools-9.1.0-py3-none-any.whl (54 kB)\n",
      "Requirement already satisfied: numpy>=1.8 in c:\\users\\int49991\\anaconda3\\envs\\learn-env\\lib\\site-packages (from quandl) (1.23.5)\n",
      "Requirement already satisfied: requests>=2.7.0 in c:\\users\\int49991\\anaconda3\\envs\\learn-env\\lib\\site-packages (from quandl) (2.24.0)\n",
      "Requirement already satisfied: pandas>=0.14 in c:\\users\\int49991\\anaconda3\\envs\\learn-env\\lib\\site-packages (from quandl) (1.1.3)\n",
      "Collecting inflection>=0.3.1\n",
      "  Downloading inflection-0.5.1-py2.py3-none-any.whl (9.5 kB)\n",
      "Requirement already satisfied: six in c:\\users\\int49991\\anaconda3\\envs\\learn-env\\lib\\site-packages (from quandl) (1.15.0)\n",
      "Requirement already satisfied: python-dateutil in c:\\users\\int49991\\anaconda3\\envs\\learn-env\\lib\\site-packages (from quandl) (2.8.1)\n",
      "Requirement already satisfied: chardet<4,>=3.0.2 in c:\\users\\int49991\\anaconda3\\envs\\learn-env\\lib\\site-packages (from requests>=2.7.0->quandl) (3.0.4)\n",
      "Requirement already satisfied: idna<3,>=2.5 in c:\\users\\int49991\\anaconda3\\envs\\learn-env\\lib\\site-packages (from requests>=2.7.0->quandl) (2.10)\n",
      "Requirement already satisfied: certifi>=2017.4.17 in c:\\users\\int49991\\anaconda3\\envs\\learn-env\\lib\\site-packages (from requests>=2.7.0->quandl) (2020.6.20)\n",
      "Requirement already satisfied: urllib3!=1.25.0,!=1.25.1,<1.26,>=1.21.1 in c:\\users\\int49991\\anaconda3\\envs\\learn-env\\lib\\site-packages (from requests>=2.7.0->quandl) (1.25.10)\n",
      "Requirement already satisfied: pytz>=2017.2 in c:\\users\\int49991\\anaconda3\\envs\\learn-env\\lib\\site-packages (from pandas>=0.14->quandl) (2020.1)\n",
      "Installing collected packages: more-itertools, inflection, quandl\n",
      "Successfully installed inflection-0.5.1 more-itertools-9.1.0 quandl-3.7.0\n",
      "Note: you may need to restart the kernel to use updated packages.\n"
     ]
    }
   ],
   "source": [
    "pip install quandl"
   ]
  },
  {
   "cell_type": "code",
   "execution_count": null,
   "metadata": {},
   "outputs": [],
   "source": []
  }
 ],
 "metadata": {
  "kernelspec": {
   "display_name": "Python (learn-env)",
   "language": "python",
   "name": "learn-env"
  },
  "language_info": {
   "codemirror_mode": {
    "name": "ipython",
    "version": 3
   },
   "file_extension": ".py",
   "mimetype": "text/x-python",
   "name": "python",
   "nbconvert_exporter": "python",
   "pygments_lexer": "ipython3",
   "version": "3.8.5"
  },
  "toc": {
   "base_numbering": 1,
   "nav_menu": {},
   "number_sections": true,
   "sideBar": true,
   "skip_h1_title": false,
   "title_cell": "Table of Contents",
   "title_sidebar": "Contents",
   "toc_cell": false,
   "toc_position": {},
   "toc_section_display": true,
   "toc_window_display": false
  }
 },
 "nbformat": 4,
 "nbformat_minor": 4
}
