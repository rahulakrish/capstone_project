{
 "cells": [
  {
   "cell_type": "code",
   "execution_count": 1,
   "metadata": {},
   "outputs": [],
   "source": [
    "#importing the requests library\n",
    "import requests\n",
    "import pandas as pd\n",
    "import json\n",
    "import matplotlib.pyplot as plt\n",
    "from sklearn.preprocessing import StandardScaler\n",
    "from sklearn.linear_model import LinearRegression\n",
    "from sklearn.model_selection import train_test_split\n",
    "import numpy as np\n",
    "import yfinance as yf #using the yahoo finance library \n",
    "import yahoo_fin.stock_info as si #using the yahoo_fin library \n",
    "import warnings\n",
    "warnings.filterwarnings('ignore')"
   ]
  },
  {
   "cell_type": "markdown",
   "metadata": {},
   "source": [
    "Getting stock data using the open source yahoo finance library. More information can be found [here](https://pypi.org/project/yfinance/)"
   ]
  },
  {
   "cell_type": "code",
   "execution_count": 34,
   "metadata": {},
   "outputs": [],
   "source": [
    "#function to get stock data of a company\n",
    "\n",
    "\n",
    "def stock_info(ticker):\n",
    "    #define dates for 5 years\n",
    "    start_date = '2017-01-01'\n",
    "    end_date = '2022-12-31'\n",
    "    df = yf.download(ticker,start=start_date,end=end_date)\n",
    "    #plot the stock price over the years\n",
    "    fig,ax=plt.subplots(figsize=(12,8))\n",
    "    df['Adj Close'].plot(ax=ax);\n",
    "    ax.set_title(f'Stock price of {ticker} from 2017 to 2022');\n",
    "    plt.show();\n",
    "   \n",
    "    return fig,ax"
   ]
  },
  {
   "cell_type": "code",
   "execution_count": 33,
   "metadata": {},
   "outputs": [],
   "source": [
    "#function to calculate stock return\n",
    "\n",
    "def stock_return(ticker):\n",
    "    start_date = '2017-01-01'\n",
    "    end_date = '2022-12-31'\n",
    "    df = yf.download(ticker,start=start_date,end=end_date)\n",
    "    df_return = df[['Adj Close']]\n",
    "    df_return['pct_change'] = df_return['Adj Close'].pct_change() # use pct change to calculate the diff \n",
    "    df_return.drop(df_return.index[0],inplace=True) # drop the Nan value from the first row\n",
    "    \n",
    "    #plot the returns over 5 years\n",
    "    fig,ax = plt.subplots(figsize=(15,8))\n",
    "    ax.plot(df_return['pct_change']);\n",
    "    ax.set_title('Stock Return Pct from 2017 to 2022:' +' ' + ticker);\n",
    "    plt.show()\n",
    "    \n",
    "    return fig,ax;\n",
    "      "
   ]
  },
  {
   "cell_type": "code",
   "execution_count": 4,
   "metadata": {},
   "outputs": [],
   "source": [
    "def calculate_beta(ticker):\n",
    "    symbols = [ticker,'SPY']\n",
    "    data = yf.download(symbols, start = '2019-01-01',end = '2022-12-31')['Adj Close']\n",
    "    price_change = data.pct_change()\n",
    "    price_change.drop(price_change.index[0],inplace=True)\n",
    "    \n",
    "    X = np.array(price_change[ticker]).reshape((-1,1))\n",
    "    y = np.array(price_change['SPY'])\n",
    "\n",
    "    X_train,X_test,y_train,y_test = train_test_split(X,y)\n",
    "    lr = LinearRegression()\n",
    "    lr.fit(X_train,y_train)\n",
    "\n",
    "    y_preds = lr.predict(X_test)\n",
    "\n",
    "    fig,ax = plt.subplots(figsize=(12,7));\n",
    "    ax.plot(X_test,y_preds,linestyle=':',color='orange');\n",
    "    ax.scatter(y_test,y_preds,alpha=0.5);\n",
    "    ax.set_title(f' Beta value = {lr.coef_}');\n",
    "    plt.show()\n",
    "    \n",
    "    return fig,ax"
   ]
  },
  {
   "cell_type": "markdown",
   "metadata": {},
   "source": [
    "## stock evaluation\n",
    "\n",
    "2. p/e ratio\n",
    "3. p/b ratio\n",
    "4. div yield"
   ]
  },
  {
   "cell_type": "code",
   "execution_count": 43,
   "metadata": {},
   "outputs": [
    {
     "data": {
      "text/plain": [
       "{'Earnings Estimate':   Earnings Estimate  Current Qtr. (Mar 2023)  Next Qtr. (Jun 2023)  \\\n",
       " 0   No. of Analysts                    27.00                 26.00   \n",
       " 1     Avg. Estimate                     1.43                  1.24   \n",
       " 2      Low Estimate                     1.37                  1.02   \n",
       " 3     High Estimate                     1.56                  1.35   \n",
       " 4      Year Ago EPS                     1.52                  1.20   \n",
       " \n",
       "    Current Year (2023)  Next Year (2024)  \n",
       " 0                38.00             36.00  \n",
       " 1                 5.97              6.60  \n",
       " 2                 5.38              5.62  \n",
       " 3                 6.60              7.16  \n",
       " 4                 6.11              5.97  ,\n",
       " 'Revenue Estimate':           Revenue Estimate Current Qtr. (Mar 2023) Next Qtr. (Jun 2023)  \\\n",
       " 0          No. of Analysts                      24                   23   \n",
       " 1            Avg. Estimate                  92.98B               85.55B   \n",
       " 2             Low Estimate                  91.81B               81.32B   \n",
       " 3            High Estimate                  98.84B               90.12B   \n",
       " 4           Year Ago Sales                  97.28B               82.96B   \n",
       " 5  Sales Growth (year/est)                  -4.40%                3.10%   \n",
       " \n",
       "   Current Year (2023) Next Year (2024)  \n",
       " 0                  37               35  \n",
       " 1             388.68B          415.48B  \n",
       " 2             375.07B          397.12B  \n",
       " 3             401.21B          434.48B  \n",
       " 4             394.33B          388.68B  \n",
       " 5              -1.40%            6.90%  ,\n",
       " 'Earnings History':   Earnings History 3/30/2022 6/29/2022 9/29/2022 12/30/2022\n",
       " 0         EPS Est.      1.43      1.16      1.27       1.94\n",
       " 1       EPS Actual      1.52       1.2      1.29       1.88\n",
       " 2       Difference      0.09      0.04      0.02      -0.06\n",
       " 3       Surprise %     6.30%     3.40%     1.60%     -3.10%,\n",
       " 'EPS Trend':           EPS Trend  Current Qtr. (Mar 2023)  Next Qtr. (Jun 2023)  \\\n",
       " 0  Current Estimate                     1.43                  1.24   \n",
       " 1        7 Days Ago                     1.43                  1.23   \n",
       " 2       30 Days Ago                     1.43                  1.24   \n",
       " 3       60 Days Ago                     1.50                  1.25   \n",
       " 4       90 Days Ago                     1.49                  1.26   \n",
       " \n",
       "    Current Year (2023)  Next Year (2024)  \n",
       " 0                 5.97              6.60  \n",
       " 1                 5.97              6.59  \n",
       " 2                 5.98              6.59  \n",
       " 3                 6.19              6.74  \n",
       " 4                 6.22              6.78  ,\n",
       " 'EPS Revisions':        EPS Revisions  Current Qtr. (Mar 2023)  Next Qtr. (Jun 2023)  \\\n",
       " 0     Up Last 7 Days                      1.0                   NaN   \n",
       " 1    Up Last 30 Days                      1.0                   NaN   \n",
       " 2   Down Last 7 Days                      NaN                   NaN   \n",
       " 3  Down Last 30 Days                      NaN                   1.0   \n",
       " \n",
       "    Current Year (2023)  Next Year (2024)  \n",
       " 0                  2.0               2.0  \n",
       " 1                  2.0               2.0  \n",
       " 2                  NaN               NaN  \n",
       " 3                  1.0               NaN  ,\n",
       " 'Growth Estimates':            Growth Estimates    AAPL  Industry  Sector(s)  S&P 500\n",
       " 0              Current Qtr.  -5.90%       NaN        NaN      NaN\n",
       " 1                 Next Qtr.   3.30%       NaN        NaN      NaN\n",
       " 2              Current Year  -2.30%       NaN        NaN      NaN\n",
       " 3                 Next Year  10.60%       NaN        NaN      NaN\n",
       " 4  Next 5 Years (per annum)   8.13%       NaN        NaN      NaN\n",
       " 5  Past 5 Years (per annum)  21.91%       NaN        NaN      NaN}"
      ]
     },
     "execution_count": 43,
     "metadata": {},
     "output_type": "execute_result"
    }
   ],
   "source": [
    "analysis = si.get_analysts_info('AAPL')\n",
    "analysis"
   ]
  },
  {
   "cell_type": "code",
   "execution_count": 44,
   "metadata": {},
   "outputs": [
    {
     "data": {
      "text/html": [
       "<div>\n",
       "<style scoped>\n",
       "    .dataframe tbody tr th:only-of-type {\n",
       "        vertical-align: middle;\n",
       "    }\n",
       "\n",
       "    .dataframe tbody tr th {\n",
       "        vertical-align: top;\n",
       "    }\n",
       "\n",
       "    .dataframe thead th {\n",
       "        text-align: right;\n",
       "    }\n",
       "</style>\n",
       "<table border=\"1\" class=\"dataframe\">\n",
       "  <thead>\n",
       "    <tr style=\"text-align: right;\">\n",
       "      <th></th>\n",
       "      <th>Earnings History</th>\n",
       "      <th>3/30/2022</th>\n",
       "      <th>6/29/2022</th>\n",
       "      <th>9/29/2022</th>\n",
       "      <th>12/30/2022</th>\n",
       "    </tr>\n",
       "  </thead>\n",
       "  <tbody>\n",
       "    <tr>\n",
       "      <th>0</th>\n",
       "      <td>EPS Est.</td>\n",
       "      <td>1.43</td>\n",
       "      <td>1.16</td>\n",
       "      <td>1.27</td>\n",
       "      <td>1.94</td>\n",
       "    </tr>\n",
       "    <tr>\n",
       "      <th>1</th>\n",
       "      <td>EPS Actual</td>\n",
       "      <td>1.52</td>\n",
       "      <td>1.2</td>\n",
       "      <td>1.29</td>\n",
       "      <td>1.88</td>\n",
       "    </tr>\n",
       "    <tr>\n",
       "      <th>2</th>\n",
       "      <td>Difference</td>\n",
       "      <td>0.09</td>\n",
       "      <td>0.04</td>\n",
       "      <td>0.02</td>\n",
       "      <td>-0.06</td>\n",
       "    </tr>\n",
       "    <tr>\n",
       "      <th>3</th>\n",
       "      <td>Surprise %</td>\n",
       "      <td>6.30%</td>\n",
       "      <td>3.40%</td>\n",
       "      <td>1.60%</td>\n",
       "      <td>-3.10%</td>\n",
       "    </tr>\n",
       "  </tbody>\n",
       "</table>\n",
       "</div>"
      ],
      "text/plain": [
       "  Earnings History 3/30/2022 6/29/2022 9/29/2022 12/30/2022\n",
       "0         EPS Est.      1.43      1.16      1.27       1.94\n",
       "1       EPS Actual      1.52       1.2      1.29       1.88\n",
       "2       Difference      0.09      0.04      0.02      -0.06\n",
       "3       Surprise %     6.30%     3.40%     1.60%     -3.10%"
      ]
     },
     "execution_count": 44,
     "metadata": {},
     "output_type": "execute_result"
    }
   ],
   "source": [
    "analysis['Earnings History']"
   ]
  },
  {
   "cell_type": "code",
   "execution_count": null,
   "metadata": {},
   "outputs": [],
   "source": []
  }
 ],
 "metadata": {
  "kernelspec": {
   "display_name": "Python (learn-env)",
   "language": "python",
   "name": "learn-env"
  },
  "language_info": {
   "codemirror_mode": {
    "name": "ipython",
    "version": 3
   },
   "file_extension": ".py",
   "mimetype": "text/x-python",
   "name": "python",
   "nbconvert_exporter": "python",
   "pygments_lexer": "ipython3",
   "version": "3.8.5"
  },
  "toc": {
   "base_numbering": 1,
   "nav_menu": {},
   "number_sections": true,
   "sideBar": true,
   "skip_h1_title": false,
   "title_cell": "Table of Contents",
   "title_sidebar": "Contents",
   "toc_cell": false,
   "toc_position": {},
   "toc_section_display": true,
   "toc_window_display": false
  }
 },
 "nbformat": 4,
 "nbformat_minor": 4
}
